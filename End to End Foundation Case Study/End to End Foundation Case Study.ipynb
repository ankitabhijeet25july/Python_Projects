{
 "cells": [
  {
   "cell_type": "markdown",
   "metadata": {},
   "source": [
    "### BUSINESS CONTEXT:\n",
    "The Cloudera Data Science Challenge is a rigorous competition in which candidates must provide a solution to a real-world big data problem that surpasses a benchmark specified by some of the world's elite data scientists.\n",
    "In the U.S., Medicare reimburses private providers for medical procedures performed for covered individuals. As such, it needs to verify that the type of procedures performed and the cost of those procedures are consistent and reasonable. Finally, it needs to detect possible errors or fraud in claims for reimbursement from providers.\n",
    "##### You have been hired to analyze a large amount of data from Medicare and try to detect abnormal data -- providers, areas, or patients with unusual procedures and/or claims.\n",
    "The objective of the Cloudera Data Science Challenge 2 was to uncover anomalous patients, procedures, providers, and regions in the United States government’s Medicare health insurance system.\n",
    "\n",
    "### PROBLEM SUMMARY:\n",
    "The Challenge was divided into the following three parts, each of which had specific requirements that pertained to identifying anomalous entities in different aspects of the Medicare system:\n",
    "\n",
    "#### Part 1: Identify providers that overcharge for certain procedures or regions where procedures are too expensive.\n",
    "#### Parts 1A: Highest Cost Variation\n",
    "#### Parts 1B: Highest-Cost Claims by Provider\n",
    "#### Parts 1C: Highest-Cost Claims by Region\n",
    "#### Parts 1D: Highest Number of Procedures and Largest Differences between Claims and Reimbursements\n",
    "#### Part 2: Identify the three providers that are least similar to other providers and the three regions that are least similar to other regions.\n",
    "#### Part 2A: Providers Least Like Others \n",
    "#### Part 2B: Regions Least Like Others\n",
    "#### Part 3: Identify 10,000 Medicare patients who are involved in anomalous activities.\n"
   ]
  },
  {
   "cell_type": "markdown",
   "metadata": {},
   "source": [
    "\n",
    "\n",
    "\n",
    "## DATA AVAILABLE:\n",
    "Completing the different parts of the Challenge required using several data sources.\n",
    "\n",
    "#### Parts 1 and 2 were based on financial summary data from 2011 that were made available by the Centers for Medicare and Medicaid Services (CMS) in both comma-separated values (CSV) formats.\n",
    "\n",
    "\tMedicare_Charge_Inpatient_DRG100_DRG_Summary_by_DRG_FY2011.csv\n",
    "\n",
    "\tMedicare_Charge_Outpatient_APC30_Summary_by_APC_CY2011.csv\n",
    "\n",
    "\tMedicare_Provider_Charge_Inpatient_DRG100_FY2011.csv\n",
    "\n",
    "\tMedicare_Provider_Charge_Outpatient_APC30_CY2011_v2.csv\n",
    "\n",
    "You can also find these details from the below links.\n",
    "Inpatient financial summary data:\n",
    "\n",
    "https://www.cms.gov/Research-Statistics-Data-and-Systems/Statistics-Trends-and- Reports/Medicare-Provider-Charge-Data/Inpatient.html\n",
    "\n",
    "Outpatient financial summary data:\n",
    "\n",
    "https://www.cms.gov/Research-Statistics-Data-and-Systems/Statistics-Trends-and- Reports/Medicare-Provider-Charge-Data/Outpatient.html\n",
    "\n",
    "#### Part 3 of the Challenge required patient demographic information and patient-procedure transaction information\n",
    "\n",
    "\tPatient_history_samp.csv\n",
    "\n",
    "\tReview_patient_history_samp.csv\n",
    "\n",
    "\tRreview_transaction_coo.csv\n",
    "\n",
    "\tTransaction_coo.csv Expectations from the trainees:\n",
    "\n",
    "Trainees should able to import the data into statistical softwares and perform variety of data preprocessing, analysis, and visualization using different techniques.\n",
    "\n",
    "[Hints:\n",
    "\n",
    "Part-1 \n",
    "##### may require performing different data manipulations and descriptive statistics to identify certain procedures or regions where procedures are too expensive. \n",
    "##### You may also use box-plots and pie-charts to visualize these analyses. \n",
    "##### Identify claimed Charges for the Three Procedures That Have the Highest Coefficient of Variation (Relative Variation).\n",
    "\n",
    "Part-2 \n",
    "##### may require performing clustering, \n",
    "##### Euclidian distances, \n",
    "##### linear regression or any other machine learning techniques to identify the three providers that are least similar to other providers \n",
    "##### and the three regions that are least similar to other regions. You may also use scatter plots to visualize.\n",
    "\n",
    "Part-3 \n",
    "##### may require performing association analysis, cluster analysis, graph presentations etc to identify Medicare patients who are involved in anomalous activities\n"
   ]
  },
  {
   "cell_type": "code",
   "execution_count": 1,
   "metadata": {},
   "outputs": [],
   "source": [
    "# import the packages\n",
    "import pandas as pd\n",
    "import numpy as np\n",
    "import seaborn as sns\n",
    "import matplotlib.pyplot as plt\n",
    "%matplotlib inline"
   ]
  },
  {
   "cell_type": "markdown",
   "metadata": {},
   "source": [
    "#### Understand the business problem statement."
   ]
  },
  {
   "cell_type": "code",
   "execution_count": 2,
   "metadata": {},
   "outputs": [],
   "source": [
    "# Inpatient service\n",
    "# “[An] inpatient service is any service you have once you’ve been formally admitted to a hospital. \n",
    "# As either a day or overnight patient. So outpatient is anything where you’re not formally admitted to hospital.”\n",
    "\n",
    "# Diagnosis-related group (DRG)\n",
    "\n",
    "# APC-30 Procedure Pack\n",
    "\n",
    "# outpatient service\n",
    "# “The most common outpatient procedures are going to hospital for tests, attending an outpatient clinic, or having \n",
    "# consultation in hospital with a specialist. It’s not until you fill out all the admission paperwork and are formally \n",
    "# admitted that you change over to inpatient services.”\n",
    "\n",
    "# In the Inpatient and Outpatient Charge Data, what is the difference between “Average Charges” and “Average Total Payments”?\n",
    "# “Average Charges” refers to what the provider bills to Medicare. \n",
    "# “Average Total Payments” refers to what Medicare actually pays to the provider as well as co-payment and deductible amounts \n",
    "# that the beneficiary is responsible for and payments by third parties for coordination of benefits"
   ]
  },
  {
   "cell_type": "markdown",
   "metadata": {},
   "source": [
    "#### Importing all the files."
   ]
  },
  {
   "cell_type": "code",
   "execution_count": 3,
   "metadata": {},
   "outputs": [],
   "source": [
    "Medi_Charge_DRG_FY2011=pd.read_csv(\"D:\\\\Python\\\\Case Study\\\\9. End to End Foundation Case Study-1\\\\9. End to End Foundation Case Study-1\\\\Medicare_Charge_Inpatient_DRG100_DRG_Summary_by_DRG_FY2011.csv\")"
   ]
  },
  {
   "cell_type": "code",
   "execution_count": 4,
   "metadata": {},
   "outputs": [
    {
     "data": {
      "text/plain": [
       "DRG Definition               0\n",
       "Total Discharges             0\n",
       "Average Covered Charges      0\n",
       "Average Total Payments       0\n",
       "Average Medicare Payments    0\n",
       "dtype: int64"
      ]
     },
     "execution_count": 4,
     "metadata": {},
     "output_type": "execute_result"
    }
   ],
   "source": [
    "Medi_Charge_DRG_FY2011.isnull().sum() #### Checking for missing values."
   ]
  },
  {
   "cell_type": "code",
   "execution_count": 5,
   "metadata": {},
   "outputs": [
    {
     "data": {
      "text/html": [
       "<div>\n",
       "<style scoped>\n",
       "    .dataframe tbody tr th:only-of-type {\n",
       "        vertical-align: middle;\n",
       "    }\n",
       "\n",
       "    .dataframe tbody tr th {\n",
       "        vertical-align: top;\n",
       "    }\n",
       "\n",
       "    .dataframe thead th {\n",
       "        text-align: right;\n",
       "    }\n",
       "</style>\n",
       "<table border=\"1\" class=\"dataframe\">\n",
       "  <thead>\n",
       "    <tr style=\"text-align: right;\">\n",
       "      <th></th>\n",
       "      <th>DRG Definition</th>\n",
       "      <th>Total Discharges</th>\n",
       "      <th>Average Covered Charges</th>\n",
       "      <th>Average Total Payments</th>\n",
       "      <th>Average Medicare Payments</th>\n",
       "    </tr>\n",
       "  </thead>\n",
       "  <tbody>\n",
       "    <tr>\n",
       "      <th>0</th>\n",
       "      <td>039 - EXTRACRANIAL PROCEDURES W/O CC/MCC</td>\n",
       "      <td>37861</td>\n",
       "      <td>29228.55368</td>\n",
       "      <td>6902.381289</td>\n",
       "      <td>5514.435910</td>\n",
       "    </tr>\n",
       "    <tr>\n",
       "      <th>1</th>\n",
       "      <td>057 - DEGENERATIVE NERVOUS SYSTEM DISORDERS W/...</td>\n",
       "      <td>37927</td>\n",
       "      <td>23924.98059</td>\n",
       "      <td>6809.799325</td>\n",
       "      <td>5791.920242</td>\n",
       "    </tr>\n",
       "    <tr>\n",
       "      <th>2</th>\n",
       "      <td>064 - INTRACRANIAL HEMORRHAGE OR CEREBRAL INFA...</td>\n",
       "      <td>68163</td>\n",
       "      <td>49186.95644</td>\n",
       "      <td>13614.616130</td>\n",
       "      <td>12415.825360</td>\n",
       "    </tr>\n",
       "    <tr>\n",
       "      <th>3</th>\n",
       "      <td>065 - INTRACRANIAL HEMORRHAGE OR CEREBRAL INFA...</td>\n",
       "      <td>110983</td>\n",
       "      <td>30371.27399</td>\n",
       "      <td>8037.269492</td>\n",
       "      <td>6858.689088</td>\n",
       "    </tr>\n",
       "    <tr>\n",
       "      <th>4</th>\n",
       "      <td>066 - INTRACRANIAL HEMORRHAGE OR CEREBRAL INFA...</td>\n",
       "      <td>62346</td>\n",
       "      <td>23300.06199</td>\n",
       "      <td>5762.881821</td>\n",
       "      <td>4508.202659</td>\n",
       "    </tr>\n",
       "  </tbody>\n",
       "</table>\n",
       "</div>"
      ],
      "text/plain": [
       "                                      DRG Definition  Total Discharges  \\\n",
       "0           039 - EXTRACRANIAL PROCEDURES W/O CC/MCC             37861   \n",
       "1  057 - DEGENERATIVE NERVOUS SYSTEM DISORDERS W/...             37927   \n",
       "2  064 - INTRACRANIAL HEMORRHAGE OR CEREBRAL INFA...             68163   \n",
       "3  065 - INTRACRANIAL HEMORRHAGE OR CEREBRAL INFA...            110983   \n",
       "4  066 - INTRACRANIAL HEMORRHAGE OR CEREBRAL INFA...             62346   \n",
       "\n",
       "   Average Covered Charges  Average Total Payments  Average Medicare Payments  \n",
       "0              29228.55368             6902.381289                5514.435910  \n",
       "1              23924.98059             6809.799325                5791.920242  \n",
       "2              49186.95644            13614.616130               12415.825360  \n",
       "3              30371.27399             8037.269492                6858.689088  \n",
       "4              23300.06199             5762.881821                4508.202659  "
      ]
     },
     "execution_count": 5,
     "metadata": {},
     "output_type": "execute_result"
    }
   ],
   "source": [
    "Medi_Charge_DRG_FY2011.head()  ####Medicare_Charge_Inpatient_DRG100_DRG_Summary_by_DRG_FY2011"
   ]
  },
  {
   "cell_type": "code",
   "execution_count": 6,
   "metadata": {},
   "outputs": [],
   "source": [
    "Medi_Charge_APC_CY2011=pd.read_csv(\"D:\\\\Python\\\\Case Study\\\\9. End to End Foundation Case Study-1\\\\9. End to End Foundation Case Study-1\\\\Medicare_Charge_Outpatient_APC30_Summary_by_APC_CY2011.csv\")"
   ]
  },
  {
   "cell_type": "code",
   "execution_count": 7,
   "metadata": {},
   "outputs": [
    {
     "data": {
      "text/plain": [
       "APC                                    0\n",
       "Outpatient Services                    0\n",
       "Average Estimated Submitted Charges    0\n",
       "Average Total Payments                 0\n",
       "dtype: int64"
      ]
     },
     "execution_count": 7,
     "metadata": {},
     "output_type": "execute_result"
    }
   ],
   "source": [
    "Medi_Charge_APC_CY2011.isnull().sum() #### Checking for missing values."
   ]
  },
  {
   "cell_type": "code",
   "execution_count": 8,
   "metadata": {},
   "outputs": [
    {
     "data": {
      "text/html": [
       "<div>\n",
       "<style scoped>\n",
       "    .dataframe tbody tr th:only-of-type {\n",
       "        vertical-align: middle;\n",
       "    }\n",
       "\n",
       "    .dataframe tbody tr th {\n",
       "        vertical-align: top;\n",
       "    }\n",
       "\n",
       "    .dataframe thead th {\n",
       "        text-align: right;\n",
       "    }\n",
       "</style>\n",
       "<table border=\"1\" class=\"dataframe\">\n",
       "  <thead>\n",
       "    <tr style=\"text-align: right;\">\n",
       "      <th></th>\n",
       "      <th>APC</th>\n",
       "      <th>Outpatient Services</th>\n",
       "      <th>Average Estimated Submitted Charges</th>\n",
       "      <th>Average Total Payments</th>\n",
       "    </tr>\n",
       "  </thead>\n",
       "  <tbody>\n",
       "    <tr>\n",
       "      <th>0</th>\n",
       "      <td>0012 - Level I Debridement &amp; Destruction</td>\n",
       "      <td>275987</td>\n",
       "      <td>74.202956</td>\n",
       "      <td>16.147079</td>\n",
       "    </tr>\n",
       "    <tr>\n",
       "      <th>1</th>\n",
       "      <td>0013 - Level II Debridement &amp; Destruction</td>\n",
       "      <td>434706</td>\n",
       "      <td>196.170070</td>\n",
       "      <td>56.133853</td>\n",
       "    </tr>\n",
       "    <tr>\n",
       "      <th>2</th>\n",
       "      <td>0015 - Level III Debridement &amp; Destruction</td>\n",
       "      <td>509576</td>\n",
       "      <td>326.503444</td>\n",
       "      <td>97.156250</td>\n",
       "    </tr>\n",
       "    <tr>\n",
       "      <th>3</th>\n",
       "      <td>0019 - Level I Excision/ Biopsy</td>\n",
       "      <td>27860</td>\n",
       "      <td>2013.181972</td>\n",
       "      <td>330.908369</td>\n",
       "    </tr>\n",
       "    <tr>\n",
       "      <th>4</th>\n",
       "      <td>0020 - Level II Excision/ Biopsy</td>\n",
       "      <td>40642</td>\n",
       "      <td>3161.457873</td>\n",
       "      <td>567.156154</td>\n",
       "    </tr>\n",
       "  </tbody>\n",
       "</table>\n",
       "</div>"
      ],
      "text/plain": [
       "                                          APC  Outpatient Services  \\\n",
       "0    0012 - Level I Debridement & Destruction               275987   \n",
       "1   0013 - Level II Debridement & Destruction               434706   \n",
       "2  0015 - Level III Debridement & Destruction               509576   \n",
       "3             0019 - Level I Excision/ Biopsy                27860   \n",
       "4            0020 - Level II Excision/ Biopsy                40642   \n",
       "\n",
       "   Average Estimated Submitted Charges  Average Total Payments  \n",
       "0                            74.202956               16.147079  \n",
       "1                           196.170070               56.133853  \n",
       "2                           326.503444               97.156250  \n",
       "3                          2013.181972              330.908369  \n",
       "4                          3161.457873              567.156154  "
      ]
     },
     "execution_count": 8,
     "metadata": {},
     "output_type": "execute_result"
    }
   ],
   "source": [
    "Medi_Charge_APC_CY2011.head() ####Medicare_Charge_Outpatient_APC30_Summary_by_APC_CY2011"
   ]
  },
  {
   "cell_type": "code",
   "execution_count": 9,
   "metadata": {},
   "outputs": [],
   "source": [
    "Medi_Charge_DRG100_FY2011=pd.read_csv(\"D:\\\\Python\\\\Case Study\\\\9. End to End Foundation Case Study-1\\\\9. End to End Foundation Case Study-1\\\\Medicare_Provider_Charge_Inpatient_DRG100_FY2011.csv\")"
   ]
  },
  {
   "cell_type": "code",
   "execution_count": 10,
   "metadata": {},
   "outputs": [
    {
     "data": {
      "text/plain": [
       "DRG Definition                                0\n",
       "Provider Id                                   0\n",
       "Provider Name                                 0\n",
       "Provider Street Address                       0\n",
       "Provider City                                 0\n",
       "Provider State                                0\n",
       "Provider Zip Code                             0\n",
       "Hospital Referral Region (HRR) Description    0\n",
       "Total Discharges                              0\n",
       "Average Covered Charges                       0\n",
       "Average Total Payments                        0\n",
       "Average Medicare Payments                     0\n",
       "dtype: int64"
      ]
     },
     "execution_count": 10,
     "metadata": {},
     "output_type": "execute_result"
    }
   ],
   "source": [
    "Medi_Charge_DRG100_FY2011.isnull().sum() #### Checking for missing values."
   ]
  },
  {
   "cell_type": "code",
   "execution_count": 11,
   "metadata": {
    "scrolled": true
   },
   "outputs": [
    {
     "data": {
      "text/html": [
       "<div>\n",
       "<style scoped>\n",
       "    .dataframe tbody tr th:only-of-type {\n",
       "        vertical-align: middle;\n",
       "    }\n",
       "\n",
       "    .dataframe tbody tr th {\n",
       "        vertical-align: top;\n",
       "    }\n",
       "\n",
       "    .dataframe thead th {\n",
       "        text-align: right;\n",
       "    }\n",
       "</style>\n",
       "<table border=\"1\" class=\"dataframe\">\n",
       "  <thead>\n",
       "    <tr style=\"text-align: right;\">\n",
       "      <th></th>\n",
       "      <th>DRG Definition</th>\n",
       "      <th>Provider Id</th>\n",
       "      <th>Provider Name</th>\n",
       "      <th>Provider Street Address</th>\n",
       "      <th>Provider City</th>\n",
       "      <th>Provider State</th>\n",
       "      <th>Provider Zip Code</th>\n",
       "      <th>Hospital Referral Region (HRR) Description</th>\n",
       "      <th>Total Discharges</th>\n",
       "      <th>Average Covered Charges</th>\n",
       "      <th>Average Total Payments</th>\n",
       "      <th>Average Medicare Payments</th>\n",
       "    </tr>\n",
       "  </thead>\n",
       "  <tbody>\n",
       "    <tr>\n",
       "      <th>0</th>\n",
       "      <td>039 - EXTRACRANIAL PROCEDURES W/O CC/MCC</td>\n",
       "      <td>10001</td>\n",
       "      <td>SOUTHEAST ALABAMA MEDICAL CENTER</td>\n",
       "      <td>1108 ROSS CLARK CIRCLE</td>\n",
       "      <td>DOTHAN</td>\n",
       "      <td>AL</td>\n",
       "      <td>36301</td>\n",
       "      <td>AL - Dothan</td>\n",
       "      <td>91</td>\n",
       "      <td>32963.07692</td>\n",
       "      <td>5777.241758</td>\n",
       "      <td>4763.736264</td>\n",
       "    </tr>\n",
       "    <tr>\n",
       "      <th>1</th>\n",
       "      <td>039 - EXTRACRANIAL PROCEDURES W/O CC/MCC</td>\n",
       "      <td>10005</td>\n",
       "      <td>MARSHALL MEDICAL CENTER SOUTH</td>\n",
       "      <td>2505 U S HIGHWAY 431 NORTH</td>\n",
       "      <td>BOAZ</td>\n",
       "      <td>AL</td>\n",
       "      <td>35957</td>\n",
       "      <td>AL - Birmingham</td>\n",
       "      <td>14</td>\n",
       "      <td>15131.85714</td>\n",
       "      <td>5787.571429</td>\n",
       "      <td>4976.714286</td>\n",
       "    </tr>\n",
       "  </tbody>\n",
       "</table>\n",
       "</div>"
      ],
      "text/plain": [
       "                             DRG Definition  Provider Id  \\\n",
       "0  039 - EXTRACRANIAL PROCEDURES W/O CC/MCC        10001   \n",
       "1  039 - EXTRACRANIAL PROCEDURES W/O CC/MCC        10005   \n",
       "\n",
       "                      Provider Name     Provider Street Address Provider City  \\\n",
       "0  SOUTHEAST ALABAMA MEDICAL CENTER      1108 ROSS CLARK CIRCLE        DOTHAN   \n",
       "1     MARSHALL MEDICAL CENTER SOUTH  2505 U S HIGHWAY 431 NORTH          BOAZ   \n",
       "\n",
       "  Provider State  Provider Zip Code  \\\n",
       "0             AL              36301   \n",
       "1             AL              35957   \n",
       "\n",
       "  Hospital Referral Region (HRR) Description  Total Discharges  \\\n",
       "0                                AL - Dothan                91   \n",
       "1                            AL - Birmingham                14   \n",
       "\n",
       "   Average Covered Charges  Average Total Payments  Average Medicare Payments  \n",
       "0              32963.07692             5777.241758                4763.736264  \n",
       "1              15131.85714             5787.571429                4976.714286  "
      ]
     },
     "execution_count": 11,
     "metadata": {},
     "output_type": "execute_result"
    }
   ],
   "source": [
    "Medi_Charge_DRG100_FY2011.head(2) ###Medicare_Provider_Charge_Inpatient_DRG100_FY2011"
   ]
  },
  {
   "cell_type": "code",
   "execution_count": 12,
   "metadata": {},
   "outputs": [],
   "source": [
    "Medi_Provider_APC30_CY2011=pd.read_csv(\"D:\\\\Python\\\\Case Study\\\\9. End to End Foundation Case Study-1\\\\9. End to End Foundation Case Study-1\\\\Medicare_Provider_Charge_Outpatient_APC30_CY2011_v2.csv\")"
   ]
  },
  {
   "cell_type": "code",
   "execution_count": 13,
   "metadata": {},
   "outputs": [
    {
     "data": {
      "text/plain": [
       "APC                                           0\n",
       "Provider Id                                   0\n",
       "Provider Name                                 0\n",
       "Provider Street Address                       0\n",
       "Provider City                                 0\n",
       "Provider State                                0\n",
       "Provider Zip Code                             0\n",
       "Hospital Referral Region (HRR) Description    0\n",
       "Outpatient Services                           0\n",
       "Average  Estimated Submitted Charges          0\n",
       "Average Total Payments                        0\n",
       "dtype: int64"
      ]
     },
     "execution_count": 13,
     "metadata": {},
     "output_type": "execute_result"
    }
   ],
   "source": [
    "Medi_Provider_APC30_CY2011.isnull().sum() #### Checking for missing values."
   ]
  },
  {
   "cell_type": "code",
   "execution_count": 14,
   "metadata": {},
   "outputs": [
    {
     "data": {
      "text/html": [
       "<div>\n",
       "<style scoped>\n",
       "    .dataframe tbody tr th:only-of-type {\n",
       "        vertical-align: middle;\n",
       "    }\n",
       "\n",
       "    .dataframe tbody tr th {\n",
       "        vertical-align: top;\n",
       "    }\n",
       "\n",
       "    .dataframe thead th {\n",
       "        text-align: right;\n",
       "    }\n",
       "</style>\n",
       "<table border=\"1\" class=\"dataframe\">\n",
       "  <thead>\n",
       "    <tr style=\"text-align: right;\">\n",
       "      <th></th>\n",
       "      <th>APC</th>\n",
       "      <th>Provider Id</th>\n",
       "      <th>Provider Name</th>\n",
       "      <th>Provider Street Address</th>\n",
       "      <th>Provider City</th>\n",
       "      <th>Provider State</th>\n",
       "      <th>Provider Zip Code</th>\n",
       "      <th>Hospital Referral Region (HRR) Description</th>\n",
       "      <th>Outpatient Services</th>\n",
       "      <th>Average  Estimated Submitted Charges</th>\n",
       "      <th>Average Total Payments</th>\n",
       "    </tr>\n",
       "  </thead>\n",
       "  <tbody>\n",
       "    <tr>\n",
       "      <th>0</th>\n",
       "      <td>0012 - Level I Debridement &amp; Destruction</td>\n",
       "      <td>10029</td>\n",
       "      <td>EAST ALABAMA MEDICAL CENTER AND SNF</td>\n",
       "      <td>2000 PEPPERELL PARKWAY</td>\n",
       "      <td>OPELIKA</td>\n",
       "      <td>AL</td>\n",
       "      <td>36801</td>\n",
       "      <td>AL - Birmingham</td>\n",
       "      <td>23</td>\n",
       "      <td>78.086957</td>\n",
       "      <td>21.910435</td>\n",
       "    </tr>\n",
       "    <tr>\n",
       "      <th>1</th>\n",
       "      <td>0012 - Level I Debridement &amp; Destruction</td>\n",
       "      <td>20024</td>\n",
       "      <td>CENTRAL PENINSULA GENERAL HOSPITAL</td>\n",
       "      <td>250 HOSPITAL PLACE</td>\n",
       "      <td>SOLDOTNA</td>\n",
       "      <td>AK</td>\n",
       "      <td>99669</td>\n",
       "      <td>AK - Anchorage</td>\n",
       "      <td>994</td>\n",
       "      <td>149.589749</td>\n",
       "      <td>36.623853</td>\n",
       "    </tr>\n",
       "  </tbody>\n",
       "</table>\n",
       "</div>"
      ],
      "text/plain": [
       "                                        APC  Provider Id  \\\n",
       "0  0012 - Level I Debridement & Destruction        10029   \n",
       "1  0012 - Level I Debridement & Destruction        20024   \n",
       "\n",
       "                         Provider Name Provider Street Address Provider City  \\\n",
       "0  EAST ALABAMA MEDICAL CENTER AND SNF  2000 PEPPERELL PARKWAY       OPELIKA   \n",
       "1   CENTRAL PENINSULA GENERAL HOSPITAL      250 HOSPITAL PLACE      SOLDOTNA   \n",
       "\n",
       "  Provider State  Provider Zip Code  \\\n",
       "0             AL              36801   \n",
       "1             AK              99669   \n",
       "\n",
       "  Hospital Referral Region (HRR) Description  Outpatient Services  \\\n",
       "0                            AL - Birmingham                   23   \n",
       "1                             AK - Anchorage                  994   \n",
       "\n",
       "   Average  Estimated Submitted Charges  Average Total Payments  \n",
       "0                             78.086957               21.910435  \n",
       "1                            149.589749               36.623853  "
      ]
     },
     "execution_count": 14,
     "metadata": {},
     "output_type": "execute_result"
    }
   ],
   "source": [
    "Medi_Provider_APC30_CY2011.head(2) ###Medicare_Provider_Charge_Outpatient_APC30_CY2011_v2"
   ]
  },
  {
   "cell_type": "code",
   "execution_count": 15,
   "metadata": {},
   "outputs": [],
   "source": [
    "Patient_history_samp=pd.read_csv(\"D:\\\\Python\\\\Case Study\\\\9. End to End Foundation Case Study-1\\\\9. End to End Foundation Case Study-1\\\\Patient_history_samp.csv\")"
   ]
  },
  {
   "cell_type": "code",
   "execution_count": 16,
   "metadata": {},
   "outputs": [
    {
     "data": {
      "text/html": [
       "<div>\n",
       "<style scoped>\n",
       "    .dataframe tbody tr th:only-of-type {\n",
       "        vertical-align: middle;\n",
       "    }\n",
       "\n",
       "    .dataframe tbody tr th {\n",
       "        vertical-align: top;\n",
       "    }\n",
       "\n",
       "    .dataframe thead th {\n",
       "        text-align: right;\n",
       "    }\n",
       "</style>\n",
       "<table border=\"1\" class=\"dataframe\">\n",
       "  <thead>\n",
       "    <tr style=\"text-align: right;\">\n",
       "      <th></th>\n",
       "      <th>id</th>\n",
       "      <th>age</th>\n",
       "      <th>gender</th>\n",
       "      <th>income</th>\n",
       "    </tr>\n",
       "  </thead>\n",
       "  <tbody>\n",
       "    <tr>\n",
       "      <th>0</th>\n",
       "      <td>306535165</td>\n",
       "      <td>65-74</td>\n",
       "      <td>F</td>\n",
       "      <td>24000-31999</td>\n",
       "    </tr>\n",
       "    <tr>\n",
       "      <th>1</th>\n",
       "      <td>742231134</td>\n",
       "      <td>65-74</td>\n",
       "      <td>F</td>\n",
       "      <td>48000+</td>\n",
       "    </tr>\n",
       "  </tbody>\n",
       "</table>\n",
       "</div>"
      ],
      "text/plain": [
       "          id    age gender       income\n",
       "0  306535165  65-74      F  24000-31999\n",
       "1  742231134  65-74      F       48000+"
      ]
     },
     "execution_count": 16,
     "metadata": {},
     "output_type": "execute_result"
    }
   ],
   "source": [
    "Patient_history_samp.head(2) ###Patient_history_samp"
   ]
  },
  {
   "cell_type": "code",
   "execution_count": 17,
   "metadata": {},
   "outputs": [],
   "source": [
    "Review_patient_history_samp=pd.read_csv(\"D:\\\\Python\\\\Case Study\\\\9. End to End Foundation Case Study-1\\\\9. End to End Foundation Case Study-1\\\\Review_patient_history_samp.csv\")"
   ]
  },
  {
   "cell_type": "code",
   "execution_count": 18,
   "metadata": {},
   "outputs": [
    {
     "data": {
      "text/html": [
       "<div>\n",
       "<style scoped>\n",
       "    .dataframe tbody tr th:only-of-type {\n",
       "        vertical-align: middle;\n",
       "    }\n",
       "\n",
       "    .dataframe tbody tr th {\n",
       "        vertical-align: top;\n",
       "    }\n",
       "\n",
       "    .dataframe thead th {\n",
       "        text-align: right;\n",
       "    }\n",
       "</style>\n",
       "<table border=\"1\" class=\"dataframe\">\n",
       "  <thead>\n",
       "    <tr style=\"text-align: right;\">\n",
       "      <th></th>\n",
       "      <th>id</th>\n",
       "      <th>age</th>\n",
       "      <th>gender</th>\n",
       "      <th>income</th>\n",
       "    </tr>\n",
       "  </thead>\n",
       "  <tbody>\n",
       "    <tr>\n",
       "      <th>0</th>\n",
       "      <td>381693273</td>\n",
       "      <td>65-74</td>\n",
       "      <td>F</td>\n",
       "      <td>24000-31999</td>\n",
       "    </tr>\n",
       "    <tr>\n",
       "      <th>1</th>\n",
       "      <td>444060924</td>\n",
       "      <td>65-74</td>\n",
       "      <td>M</td>\n",
       "      <td>24000-31999</td>\n",
       "    </tr>\n",
       "    <tr>\n",
       "      <th>2</th>\n",
       "      <td>3641691</td>\n",
       "      <td>65-74</td>\n",
       "      <td>F</td>\n",
       "      <td>24000-31999</td>\n",
       "    </tr>\n",
       "    <tr>\n",
       "      <th>3</th>\n",
       "      <td>672653795</td>\n",
       "      <td>65-74</td>\n",
       "      <td>M</td>\n",
       "      <td>48000+</td>\n",
       "    </tr>\n",
       "    <tr>\n",
       "      <th>4</th>\n",
       "      <td>144916176</td>\n",
       "      <td>&lt;65</td>\n",
       "      <td>F</td>\n",
       "      <td>48000+</td>\n",
       "    </tr>\n",
       "  </tbody>\n",
       "</table>\n",
       "</div>"
      ],
      "text/plain": [
       "          id    age gender       income\n",
       "0  381693273  65-74      F  24000-31999\n",
       "1  444060924  65-74      M  24000-31999\n",
       "2    3641691  65-74      F  24000-31999\n",
       "3  672653795  65-74      M       48000+\n",
       "4  144916176    <65      F       48000+"
      ]
     },
     "execution_count": 18,
     "metadata": {},
     "output_type": "execute_result"
    }
   ],
   "source": [
    "Review_patient_history_samp.head()  ###Review_patient_history_samp"
   ]
  },
  {
   "cell_type": "code",
   "execution_count": 19,
   "metadata": {},
   "outputs": [],
   "source": [
    "Rreview_transaction_coo=pd.read_csv(\"D:\\\\Python\\\\Case Study\\\\9. End to End Foundation Case Study-1\\\\9. End to End Foundation Case Study-1\\\\Rreview_transaction_coo.csv\")"
   ]
  },
  {
   "cell_type": "code",
   "execution_count": 20,
   "metadata": {},
   "outputs": [
    {
     "data": {
      "text/html": [
       "<div>\n",
       "<style scoped>\n",
       "    .dataframe tbody tr th:only-of-type {\n",
       "        vertical-align: middle;\n",
       "    }\n",
       "\n",
       "    .dataframe tbody tr th {\n",
       "        vertical-align: top;\n",
       "    }\n",
       "\n",
       "    .dataframe thead th {\n",
       "        text-align: right;\n",
       "    }\n",
       "</style>\n",
       "<table border=\"1\" class=\"dataframe\">\n",
       "  <thead>\n",
       "    <tr style=\"text-align: right;\">\n",
       "      <th></th>\n",
       "      <th>id</th>\n",
       "      <th>global_proc_id</th>\n",
       "      <th>count</th>\n",
       "    </tr>\n",
       "  </thead>\n",
       "  <tbody>\n",
       "    <tr>\n",
       "      <th>0</th>\n",
       "      <td>65822</td>\n",
       "      <td>109</td>\n",
       "      <td>1</td>\n",
       "    </tr>\n",
       "    <tr>\n",
       "      <th>1</th>\n",
       "      <td>65822</td>\n",
       "      <td>125</td>\n",
       "      <td>1</td>\n",
       "    </tr>\n",
       "    <tr>\n",
       "      <th>2</th>\n",
       "      <td>119695</td>\n",
       "      <td>70</td>\n",
       "      <td>1</td>\n",
       "    </tr>\n",
       "  </tbody>\n",
       "</table>\n",
       "</div>"
      ],
      "text/plain": [
       "       id  global_proc_id  count\n",
       "0   65822             109      1\n",
       "1   65822             125      1\n",
       "2  119695              70      1"
      ]
     },
     "execution_count": 20,
     "metadata": {},
     "output_type": "execute_result"
    }
   ],
   "source": [
    "Rreview_transaction_coo.head(3) ###Rreview_transaction_coo"
   ]
  },
  {
   "cell_type": "code",
   "execution_count": 21,
   "metadata": {},
   "outputs": [],
   "source": [
    "Transaction_coo=pd.read_csv(\"D:\\\\Python\\\\Case Study\\\\9. End to End Foundation Case Study-1\\\\9. End to End Foundation Case Study-1\\\\Transaction_coo.csv\")"
   ]
  },
  {
   "cell_type": "code",
   "execution_count": 174,
   "metadata": {},
   "outputs": [
    {
     "data": {
      "text/html": [
       "<div>\n",
       "<style scoped>\n",
       "    .dataframe tbody tr th:only-of-type {\n",
       "        vertical-align: middle;\n",
       "    }\n",
       "\n",
       "    .dataframe tbody tr th {\n",
       "        vertical-align: top;\n",
       "    }\n",
       "\n",
       "    .dataframe thead th {\n",
       "        text-align: right;\n",
       "    }\n",
       "</style>\n",
       "<table border=\"1\" class=\"dataframe\">\n",
       "  <thead>\n",
       "    <tr style=\"text-align: right;\">\n",
       "      <th></th>\n",
       "      <th>id</th>\n",
       "      <th>global_proc_id</th>\n",
       "      <th>count</th>\n",
       "    </tr>\n",
       "  </thead>\n",
       "  <tbody>\n",
       "    <tr>\n",
       "      <th>0</th>\n",
       "      <td>159125</td>\n",
       "      <td>1</td>\n",
       "      <td>1</td>\n",
       "    </tr>\n",
       "    <tr>\n",
       "      <th>1</th>\n",
       "      <td>191852</td>\n",
       "      <td>1</td>\n",
       "      <td>1</td>\n",
       "    </tr>\n",
       "    <tr>\n",
       "      <th>2</th>\n",
       "      <td>321083</td>\n",
       "      <td>1</td>\n",
       "      <td>1</td>\n",
       "    </tr>\n",
       "  </tbody>\n",
       "</table>\n",
       "</div>"
      ],
      "text/plain": [
       "       id  global_proc_id  count\n",
       "0  159125               1      1\n",
       "1  191852               1      1\n",
       "2  321083               1      1"
      ]
     },
     "execution_count": 174,
     "metadata": {},
     "output_type": "execute_result"
    }
   ],
   "source": [
    "Transaction_coo.head(3) ###Transaction_coo"
   ]
  },
  {
   "cell_type": "markdown",
   "metadata": {},
   "source": [
    "### Part 1: Identify providers that overcharge for certain procedures or regions where procedures are too expensive.\n",
    "\n",
    "##### Part 1A: Highest Cost Variation\n",
    "##### Parts 1B: Highest-Cost Claims by Provider \n",
    "##### Parts 1C: Highest-Cost Claims by Region\n",
    "##### Part 1D: Highest Number of Procedures and Largest Differences between Claims and Reimbursements\n"
   ]
  },
  {
   "cell_type": "code",
   "execution_count": 23,
   "metadata": {},
   "outputs": [
    {
     "data": {
      "text/html": [
       "<div>\n",
       "<style scoped>\n",
       "    .dataframe tbody tr th:only-of-type {\n",
       "        vertical-align: middle;\n",
       "    }\n",
       "\n",
       "    .dataframe tbody tr th {\n",
       "        vertical-align: top;\n",
       "    }\n",
       "\n",
       "    .dataframe thead th {\n",
       "        text-align: right;\n",
       "    }\n",
       "</style>\n",
       "<table border=\"1\" class=\"dataframe\">\n",
       "  <thead>\n",
       "    <tr style=\"text-align: right;\">\n",
       "      <th></th>\n",
       "      <th>APC</th>\n",
       "      <th>Provider Id</th>\n",
       "      <th>Provider Name</th>\n",
       "      <th>Provider Street Address</th>\n",
       "      <th>Provider City</th>\n",
       "      <th>Provider State</th>\n",
       "      <th>Provider Zip Code</th>\n",
       "      <th>Hospital Referral Region (HRR) Description</th>\n",
       "      <th>Outpatient Services</th>\n",
       "      <th>Average  Estimated Submitted Charges</th>\n",
       "      <th>Average Total Payments</th>\n",
       "    </tr>\n",
       "  </thead>\n",
       "  <tbody>\n",
       "    <tr>\n",
       "      <th>0</th>\n",
       "      <td>0012 - Level I Debridement &amp; Destruction</td>\n",
       "      <td>10029</td>\n",
       "      <td>EAST ALABAMA MEDICAL CENTER AND SNF</td>\n",
       "      <td>2000 PEPPERELL PARKWAY</td>\n",
       "      <td>OPELIKA</td>\n",
       "      <td>AL</td>\n",
       "      <td>36801</td>\n",
       "      <td>AL - Birmingham</td>\n",
       "      <td>23</td>\n",
       "      <td>78.086957</td>\n",
       "      <td>21.910435</td>\n",
       "    </tr>\n",
       "    <tr>\n",
       "      <th>1</th>\n",
       "      <td>0012 - Level I Debridement &amp; Destruction</td>\n",
       "      <td>20024</td>\n",
       "      <td>CENTRAL PENINSULA GENERAL HOSPITAL</td>\n",
       "      <td>250 HOSPITAL PLACE</td>\n",
       "      <td>SOLDOTNA</td>\n",
       "      <td>AK</td>\n",
       "      <td>99669</td>\n",
       "      <td>AK - Anchorage</td>\n",
       "      <td>994</td>\n",
       "      <td>149.589749</td>\n",
       "      <td>36.623853</td>\n",
       "    </tr>\n",
       "    <tr>\n",
       "      <th>2</th>\n",
       "      <td>0012 - Level I Debridement &amp; Destruction</td>\n",
       "      <td>30064</td>\n",
       "      <td>UNIVERSITY OF ARIZONA MEDICAL CTR-UNIVERSIT, THE</td>\n",
       "      <td>1501 NORTH CAMPBELL AVENUE</td>\n",
       "      <td>TUCSON</td>\n",
       "      <td>AZ</td>\n",
       "      <td>85724</td>\n",
       "      <td>AZ - Tucson</td>\n",
       "      <td>1765</td>\n",
       "      <td>50.135411</td>\n",
       "      <td>14.541841</td>\n",
       "    </tr>\n",
       "    <tr>\n",
       "      <th>3</th>\n",
       "      <td>0012 - Level I Debridement &amp; Destruction</td>\n",
       "      <td>30088</td>\n",
       "      <td>BANNER BAYWOOD MEDICAL CENTER</td>\n",
       "      <td>6644 EAST BAYWOOD AVENUE</td>\n",
       "      <td>MESA</td>\n",
       "      <td>AZ</td>\n",
       "      <td>85206</td>\n",
       "      <td>AZ - Mesa</td>\n",
       "      <td>20</td>\n",
       "      <td>112.400000</td>\n",
       "      <td>23.736000</td>\n",
       "    </tr>\n",
       "    <tr>\n",
       "      <th>4</th>\n",
       "      <td>0012 - Level I Debridement &amp; Destruction</td>\n",
       "      <td>30111</td>\n",
       "      <td>UNIVERSITY OF ARIZONA MEDICAL CTR- SOUTH CAM, THE</td>\n",
       "      <td>2800 EAST AJO WAY</td>\n",
       "      <td>TUCSON</td>\n",
       "      <td>AZ</td>\n",
       "      <td>85713</td>\n",
       "      <td>AZ - Tucson</td>\n",
       "      <td>22</td>\n",
       "      <td>152.045455</td>\n",
       "      <td>16.569091</td>\n",
       "    </tr>\n",
       "  </tbody>\n",
       "</table>\n",
       "</div>"
      ],
      "text/plain": [
       "                                        APC  Provider Id  \\\n",
       "0  0012 - Level I Debridement & Destruction        10029   \n",
       "1  0012 - Level I Debridement & Destruction        20024   \n",
       "2  0012 - Level I Debridement & Destruction        30064   \n",
       "3  0012 - Level I Debridement & Destruction        30088   \n",
       "4  0012 - Level I Debridement & Destruction        30111   \n",
       "\n",
       "                                       Provider Name  \\\n",
       "0                EAST ALABAMA MEDICAL CENTER AND SNF   \n",
       "1                 CENTRAL PENINSULA GENERAL HOSPITAL   \n",
       "2   UNIVERSITY OF ARIZONA MEDICAL CTR-UNIVERSIT, THE   \n",
       "3                      BANNER BAYWOOD MEDICAL CENTER   \n",
       "4  UNIVERSITY OF ARIZONA MEDICAL CTR- SOUTH CAM, THE   \n",
       "\n",
       "      Provider Street Address Provider City Provider State  Provider Zip Code  \\\n",
       "0      2000 PEPPERELL PARKWAY       OPELIKA             AL              36801   \n",
       "1          250 HOSPITAL PLACE      SOLDOTNA             AK              99669   \n",
       "2  1501 NORTH CAMPBELL AVENUE        TUCSON             AZ              85724   \n",
       "3    6644 EAST BAYWOOD AVENUE          MESA             AZ              85206   \n",
       "4           2800 EAST AJO WAY        TUCSON             AZ              85713   \n",
       "\n",
       "  Hospital Referral Region (HRR) Description  Outpatient Services  \\\n",
       "0                            AL - Birmingham                   23   \n",
       "1                             AK - Anchorage                  994   \n",
       "2                                AZ - Tucson                 1765   \n",
       "3                                  AZ - Mesa                   20   \n",
       "4                                AZ - Tucson                   22   \n",
       "\n",
       "   Average  Estimated Submitted Charges  Average Total Payments  \n",
       "0                             78.086957               21.910435  \n",
       "1                            149.589749               36.623853  \n",
       "2                             50.135411               14.541841  \n",
       "3                            112.400000               23.736000  \n",
       "4                            152.045455               16.569091  "
      ]
     },
     "execution_count": 23,
     "metadata": {},
     "output_type": "execute_result"
    }
   ],
   "source": [
    "### According to question dataset required in this case-\n",
    "\n",
    "Medi_Charge_DRG_FY2011.head()  ####Medicare_Charge_Inpatient_DRG100_DRG_Summary_by_DRG_FY2011\n",
    "Medi_Charge_APC_CY2011.head() ####Medicare_Charge_Outpatient_APC30_Summary_by_APC_CY2011s\n",
    "Medi_Charge_DRG100_FY2011.head() ###Medicare_Provider_Charge_Inpatient_DRG100_FY2011\n",
    "Medi_Provider_APC30_CY2011.head() ###Medicare_Provider_Charge_Outpatient_APC30_CY2011_v2"
   ]
  },
  {
   "cell_type": "code",
   "execution_count": 24,
   "metadata": {},
   "outputs": [
    {
     "name": "stdout",
     "output_type": "stream",
     "text": [
      "Medicare_Charge_Inpatient_DRG100_DRG_Summary_by_DRG_FY2011-   Size--(100, 5)\n",
      "Medicare_Charge_Outpatient_APC30_Summary_by_APC_CY2011-   Size--(30, 4)\n",
      "Medicare_Provider_Charge_Inpatient_DRG100_FY2011-   Size--(163065, 12)\n",
      "Medicare_Provider_Charge_Outpatient_APC30_CY2011-   Size--(43372, 11)\n"
     ]
    }
   ],
   "source": [
    "##Checking the size of different data-set.\n",
    "print(\"Medicare_Charge_Inpatient_DRG100_DRG_Summary_by_DRG_FY2011-   Size--\"+str(Medi_Charge_DRG_FY2011.shape))\n",
    "print(\"Medicare_Charge_Outpatient_APC30_Summary_by_APC_CY2011-   Size--\"+str(Medi_Charge_APC_CY2011.shape))\n",
    "print(\"Medicare_Provider_Charge_Inpatient_DRG100_FY2011-   Size--\"+str(Medi_Charge_DRG100_FY2011.shape))\n",
    "print(\"Medicare_Provider_Charge_Outpatient_APC30_CY2011-   Size--\"+str(Medi_Provider_APC30_CY2011.shape))"
   ]
  },
  {
   "cell_type": "markdown",
   "metadata": {},
   "source": [
    "### <a>PART1A - Highest Cost Variation"
   ]
  },
  {
   "cell_type": "markdown",
   "metadata": {},
   "source": [
    "##### Lets calculate the (Coefficient of variation) C.V=Std. Deviation/Mean within the table-- Medicare_Provider_Charge_Inpatient_DRG100_FY2011"
   ]
  },
  {
   "cell_type": "code",
   "execution_count": 25,
   "metadata": {},
   "outputs": [
    {
     "data": {
      "text/plain": [
       "mean    36133.958434\n",
       "std     35065.365905\n",
       "Name: Average Covered Charges, dtype: float64"
      ]
     },
     "execution_count": 25,
     "metadata": {},
     "output_type": "execute_result"
    }
   ],
   "source": [
    "### Determining the means and std. Deviation of the table-\n",
    "Medi_Charge_DRG100_FY2011['Average Covered Charges'].agg(['mean','std'])"
   ]
  },
  {
   "cell_type": "code",
   "execution_count": 26,
   "metadata": {},
   "outputs": [
    {
     "name": "stdout",
     "output_type": "stream",
     "text": [
      "coefficient of variation- 0.9704269176282816\n",
      "% coefficient of variation- 97.04 %\n"
     ]
    }
   ],
   "source": [
    "### Determining the Coefficient of variation of the table-\n",
    "Coeff_variation=Medi_Charge_DRG100_FY2011['Average Covered Charges'].std()/Medi_Charge_DRG100_FY2011['Average Covered Charges'].mean()\n",
    "print('coefficient of variation- '+ str(Coeff_variation))\n",
    "print('% coefficient of variation- '+ str((Coeff_variation*100).round(2)) +\" %\")"
   ]
  },
  {
   "cell_type": "code",
   "execution_count": 27,
   "metadata": {},
   "outputs": [],
   "source": [
    "# The coefficient of variation (CV) is a measure of relative variability. \n",
    "# It is the ratio of the standard deviation to the mean (average). \n",
    "\n",
    "# The CV is particularly useful when you want to compare results from two different surveys or tests\n",
    "# that have different measures or values. For example, if you are comparing the results from two tests \n",
    "# that have different scoring mechanisms. If sample A has a CV of 12% and sample B has a CV of 25%, you \n",
    "# would say that sample B has more variation, relative to its mean."
   ]
  },
  {
   "cell_type": "code",
   "execution_count": 28,
   "metadata": {},
   "outputs": [
    {
     "data": {
      "text/html": [
       "<div>\n",
       "<style scoped>\n",
       "    .dataframe tbody tr th:only-of-type {\n",
       "        vertical-align: middle;\n",
       "    }\n",
       "\n",
       "    .dataframe tbody tr th {\n",
       "        vertical-align: top;\n",
       "    }\n",
       "\n",
       "    .dataframe thead th {\n",
       "        text-align: right;\n",
       "    }\n",
       "</style>\n",
       "<table border=\"1\" class=\"dataframe\">\n",
       "  <thead>\n",
       "    <tr style=\"text-align: right;\">\n",
       "      <th></th>\n",
       "      <th>Average Covered Charges</th>\n",
       "    </tr>\n",
       "    <tr>\n",
       "      <th>DRG Definition</th>\n",
       "      <th></th>\n",
       "    </tr>\n",
       "  </thead>\n",
       "  <tbody>\n",
       "    <tr>\n",
       "      <th>039 - EXTRACRANIAL PROCEDURES W/O CC/MCC</th>\n",
       "      <td>15941.252060</td>\n",
       "    </tr>\n",
       "    <tr>\n",
       "      <th>057 - DEGENERATIVE NERVOUS SYSTEM DISORDERS W/O MCC</th>\n",
       "      <td>14085.285662</td>\n",
       "    </tr>\n",
       "    <tr>\n",
       "      <th>064 - INTRACRANIAL HEMORRHAGE OR CEREBRAL INFARCTION W MCC</th>\n",
       "      <td>29593.224554</td>\n",
       "    </tr>\n",
       "    <tr>\n",
       "      <th>065 - INTRACRANIAL HEMORRHAGE OR CEREBRAL INFARCTION W CC</th>\n",
       "      <td>16732.402730</td>\n",
       "    </tr>\n",
       "    <tr>\n",
       "      <th>066 - INTRACRANIAL HEMORRHAGE OR CEREBRAL INFARCTION W/O CC/MCC</th>\n",
       "      <td>12606.452651</td>\n",
       "    </tr>\n",
       "  </tbody>\n",
       "</table>\n",
       "</div>"
      ],
      "text/plain": [
       "                                                    Average Covered Charges\n",
       "DRG Definition                                                             \n",
       "039 - EXTRACRANIAL PROCEDURES W/O CC/MCC                       15941.252060\n",
       "057 - DEGENERATIVE NERVOUS SYSTEM DISORDERS W/O...             14085.285662\n",
       "064 - INTRACRANIAL HEMORRHAGE OR CEREBRAL INFAR...             29593.224554\n",
       "065 - INTRACRANIAL HEMORRHAGE OR CEREBRAL INFAR...             16732.402730\n",
       "066 - INTRACRANIAL HEMORRHAGE OR CEREBRAL INFAR...             12606.452651"
      ]
     },
     "execution_count": 28,
     "metadata": {},
     "output_type": "execute_result"
    }
   ],
   "source": [
    "a=Medi_Charge_DRG100_FY2011[['DRG Definition','Average Covered Charges']].groupby(['DRG Definition']).std()\n",
    "a.head(5) ###Standard Deviation of  DRG process "
   ]
  },
  {
   "cell_type": "code",
   "execution_count": 29,
   "metadata": {},
   "outputs": [
    {
     "data": {
      "text/html": [
       "<div>\n",
       "<style scoped>\n",
       "    .dataframe tbody tr th:only-of-type {\n",
       "        vertical-align: middle;\n",
       "    }\n",
       "\n",
       "    .dataframe tbody tr th {\n",
       "        vertical-align: top;\n",
       "    }\n",
       "\n",
       "    .dataframe thead th {\n",
       "        text-align: right;\n",
       "    }\n",
       "</style>\n",
       "<table border=\"1\" class=\"dataframe\">\n",
       "  <thead>\n",
       "    <tr style=\"text-align: right;\">\n",
       "      <th></th>\n",
       "      <th>Average Covered Charges</th>\n",
       "    </tr>\n",
       "    <tr>\n",
       "      <th>DRG Definition</th>\n",
       "      <th></th>\n",
       "    </tr>\n",
       "  </thead>\n",
       "  <tbody>\n",
       "    <tr>\n",
       "      <th>039 - EXTRACRANIAL PROCEDURES W/O CC/MCC</th>\n",
       "      <td>30481.989332</td>\n",
       "    </tr>\n",
       "    <tr>\n",
       "      <th>057 - DEGENERATIVE NERVOUS SYSTEM DISORDERS W/O MCC</th>\n",
       "      <td>24307.762697</td>\n",
       "    </tr>\n",
       "    <tr>\n",
       "      <th>064 - INTRACRANIAL HEMORRHAGE OR CEREBRAL INFARCTION W MCC</th>\n",
       "      <td>48552.613451</td>\n",
       "    </tr>\n",
       "    <tr>\n",
       "      <th>065 - INTRACRANIAL HEMORRHAGE OR CEREBRAL INFARCTION W CC</th>\n",
       "      <td>29492.125031</td>\n",
       "    </tr>\n",
       "    <tr>\n",
       "      <th>066 - INTRACRANIAL HEMORRHAGE OR CEREBRAL INFARCTION W/O CC/MCC</th>\n",
       "      <td>23592.928898</td>\n",
       "    </tr>\n",
       "  </tbody>\n",
       "</table>\n",
       "</div>"
      ],
      "text/plain": [
       "                                                    Average Covered Charges\n",
       "DRG Definition                                                             \n",
       "039 - EXTRACRANIAL PROCEDURES W/O CC/MCC                       30481.989332\n",
       "057 - DEGENERATIVE NERVOUS SYSTEM DISORDERS W/O...             24307.762697\n",
       "064 - INTRACRANIAL HEMORRHAGE OR CEREBRAL INFAR...             48552.613451\n",
       "065 - INTRACRANIAL HEMORRHAGE OR CEREBRAL INFAR...             29492.125031\n",
       "066 - INTRACRANIAL HEMORRHAGE OR CEREBRAL INFAR...             23592.928898"
      ]
     },
     "execution_count": 29,
     "metadata": {},
     "output_type": "execute_result"
    }
   ],
   "source": [
    "b= Medi_Charge_DRG100_FY2011[['DRG Definition','Average Covered Charges']].groupby(['DRG Definition']).mean()\n",
    "b.head(5) ###Mean of DRG process."
   ]
  },
  {
   "cell_type": "code",
   "execution_count": 30,
   "metadata": {},
   "outputs": [
    {
     "data": {
      "text/plain": [
       "DRG Definition\n",
       "039 - EXTRACRANIAL PROCEDURES W/O CC/MCC                           0.522973\n",
       "057 - DEGENERATIVE NERVOUS SYSTEM DISORDERS W/O MCC                0.579456\n",
       "064 - INTRACRANIAL HEMORRHAGE OR CEREBRAL INFARCTION W MCC         0.609508\n",
       "065 - INTRACRANIAL HEMORRHAGE OR CEREBRAL INFARCTION W CC          0.567352\n",
       "066 - INTRACRANIAL HEMORRHAGE OR CEREBRAL INFARCTION W/O CC/MCC    0.534332\n",
       "Name: Average Covered Charges, dtype: float64"
      ]
     },
     "execution_count": 30,
     "metadata": {},
     "output_type": "execute_result"
    }
   ],
   "source": [
    "c=a['Average Covered Charges']/b['Average Covered Charges']\n",
    "Medicare_Inpatient_Variation=c.copy()\n",
    "c.head() ###Cofficient of variation the DRG process."
   ]
  },
  {
   "cell_type": "code",
   "execution_count": 31,
   "metadata": {},
   "outputs": [
    {
     "data": {
      "text/html": [
       "<div>\n",
       "<style scoped>\n",
       "    .dataframe tbody tr th:only-of-type {\n",
       "        vertical-align: middle;\n",
       "    }\n",
       "\n",
       "    .dataframe tbody tr th {\n",
       "        vertical-align: top;\n",
       "    }\n",
       "\n",
       "    .dataframe thead th {\n",
       "        text-align: right;\n",
       "    }\n",
       "</style>\n",
       "<table border=\"1\" class=\"dataframe\">\n",
       "  <thead>\n",
       "    <tr style=\"text-align: right;\">\n",
       "      <th></th>\n",
       "      <th>DRG Definition</th>\n",
       "      <th>Average Covered Charges</th>\n",
       "    </tr>\n",
       "  </thead>\n",
       "  <tbody>\n",
       "    <tr>\n",
       "      <th>0</th>\n",
       "      <td>885 - PSYCHOSES</td>\n",
       "      <td>0.717796</td>\n",
       "    </tr>\n",
       "    <tr>\n",
       "      <th>1</th>\n",
       "      <td>897 - ALCOHOL/DRUG ABUSE OR DEPENDENCE W/O REH...</td>\n",
       "      <td>0.633967</td>\n",
       "    </tr>\n",
       "    <tr>\n",
       "      <th>2</th>\n",
       "      <td>917 - POISONING &amp; TOXIC EFFECTS OF DRUGS W MCC</td>\n",
       "      <td>0.613150</td>\n",
       "    </tr>\n",
       "    <tr>\n",
       "      <th>3</th>\n",
       "      <td>190 - CHRONIC OBSTRUCTIVE PULMONARY DISEASE W MCC</td>\n",
       "      <td>0.610374</td>\n",
       "    </tr>\n",
       "    <tr>\n",
       "      <th>4</th>\n",
       "      <td>189 - PULMONARY EDEMA &amp; RESPIRATORY FAILURE</td>\n",
       "      <td>0.610107</td>\n",
       "    </tr>\n",
       "  </tbody>\n",
       "</table>\n",
       "</div>"
      ],
      "text/plain": [
       "                                      DRG Definition  Average Covered Charges\n",
       "0                                    885 - PSYCHOSES                 0.717796\n",
       "1  897 - ALCOHOL/DRUG ABUSE OR DEPENDENCE W/O REH...                 0.633967\n",
       "2     917 - POISONING & TOXIC EFFECTS OF DRUGS W MCC                 0.613150\n",
       "3  190 - CHRONIC OBSTRUCTIVE PULMONARY DISEASE W MCC                 0.610374\n",
       "4        189 - PULMONARY EDEMA & RESPIRATORY FAILURE                 0.610107"
      ]
     },
     "execution_count": 31,
     "metadata": {},
     "output_type": "execute_result"
    }
   ],
   "source": [
    "Medicare_Inpatient_Variation.nlargest(5).reset_index() ###Top 5 by highest cost variations.\n",
    "\n",
    "### Highest cost variations is in the DRG--- 885 - PSYCHOSES."
   ]
  },
  {
   "cell_type": "code",
   "execution_count": 32,
   "metadata": {},
   "outputs": [
    {
     "data": {
      "text/plain": [
       "{'whiskers': [<matplotlib.lines.Line2D at 0xd0ab510>,\n",
       "  <matplotlib.lines.Line2D at 0xd0ab8d0>],\n",
       " 'caps': [<matplotlib.lines.Line2D at 0xd0abb10>,\n",
       "  <matplotlib.lines.Line2D at 0xd0abd70>],\n",
       " 'boxes': [<matplotlib.lines.Line2D at 0xd0ab650>],\n",
       " 'medians': [<matplotlib.lines.Line2D at 0xd0c32b0>],\n",
       " 'fliers': [<matplotlib.lines.Line2D at 0xd0c34d0>],\n",
       " 'means': []}"
      ]
     },
     "execution_count": 32,
     "metadata": {},
     "output_type": "execute_result"
    },
    {
     "data": {
      "image/png": "[encoded data removed]",
      "text/plain": [
       "<Figure size 432x288 with 1 Axes>"
      ]
     },
     "metadata": {
      "needs_background": "light"
     },
     "output_type": "display_data"
    }
   ],
   "source": [
    "plt.boxplot(Medicare_Inpatient_Variation) ###Box plot for showing the cost variation."
   ]
  },
  {
   "cell_type": "markdown",
   "metadata": {},
   "source": [
    "#### Lets calculate the (Coefficient of variation) C.V=Std. Deviation/Mean within the table --Medicare_Provider_Charge_Outpatient_APC30_CY2011"
   ]
  },
  {
   "cell_type": "code",
   "execution_count": 33,
   "metadata": {},
   "outputs": [
    {
     "data": {
      "text/plain": [
       "mean    1473.994047\n",
       "std     1837.530791\n",
       "Name: Average  Estimated Submitted Charges, dtype: float64"
      ]
     },
     "execution_count": 33,
     "metadata": {},
     "output_type": "execute_result"
    }
   ],
   "source": [
    "### Determining the means and std. Deviation of the table-\n",
    "Medi_Provider_APC30_CY2011['Average  Estimated Submitted Charges'].agg(['mean','std'])"
   ]
  },
  {
   "cell_type": "code",
   "execution_count": 34,
   "metadata": {},
   "outputs": [
    {
     "name": "stdout",
     "output_type": "stream",
     "text": [
      "coefficient of variation- 1.2466337938779817\n",
      "% coefficient of variation- 124.66 %\n"
     ]
    }
   ],
   "source": [
    "### Determining the Coefficient of variation of the table-\n",
    "Coeff_variation_1=Medi_Provider_APC30_CY2011['Average  Estimated Submitted Charges'].std()/Medi_Provider_APC30_CY2011['Average  Estimated Submitted Charges'].mean()\n",
    "print('coefficient of variation- '+ str(Coeff_variation_1))\n",
    "print('% coefficient of variation- '+ str((Coeff_variation_1*100).round(2)) +\" %\")"
   ]
  },
  {
   "cell_type": "code",
   "execution_count": 35,
   "metadata": {},
   "outputs": [
    {
     "data": {
      "text/html": [
       "<div>\n",
       "<style scoped>\n",
       "    .dataframe tbody tr th:only-of-type {\n",
       "        vertical-align: middle;\n",
       "    }\n",
       "\n",
       "    .dataframe tbody tr th {\n",
       "        vertical-align: top;\n",
       "    }\n",
       "\n",
       "    .dataframe thead th {\n",
       "        text-align: right;\n",
       "    }\n",
       "</style>\n",
       "<table border=\"1\" class=\"dataframe\">\n",
       "  <thead>\n",
       "    <tr style=\"text-align: right;\">\n",
       "      <th></th>\n",
       "      <th>Average  Estimated Submitted Charges</th>\n",
       "    </tr>\n",
       "    <tr>\n",
       "      <th>APC</th>\n",
       "      <th></th>\n",
       "    </tr>\n",
       "  </thead>\n",
       "  <tbody>\n",
       "    <tr>\n",
       "      <th>0012 - Level I Debridement &amp; Destruction</th>\n",
       "      <td>95.646537</td>\n",
       "    </tr>\n",
       "    <tr>\n",
       "      <th>0013 - Level II Debridement &amp; Destruction</th>\n",
       "      <td>255.987420</td>\n",
       "    </tr>\n",
       "    <tr>\n",
       "      <th>0015 - Level III Debridement &amp; Destruction</th>\n",
       "      <td>240.708776</td>\n",
       "    </tr>\n",
       "    <tr>\n",
       "      <th>0019 - Level I Excision/ Biopsy</th>\n",
       "      <td>2785.011224</td>\n",
       "    </tr>\n",
       "    <tr>\n",
       "      <th>0020 - Level II Excision/ Biopsy</th>\n",
       "      <td>2524.137505</td>\n",
       "    </tr>\n",
       "  </tbody>\n",
       "</table>\n",
       "</div>"
      ],
      "text/plain": [
       "                                            Average  Estimated Submitted Charges\n",
       "APC                                                                             \n",
       "0012 - Level I Debridement & Destruction                               95.646537\n",
       "0013 - Level II Debridement & Destruction                             255.987420\n",
       "0015 - Level III Debridement & Destruction                            240.708776\n",
       "0019 - Level I Excision/ Biopsy                                      2785.011224\n",
       "0020 - Level II Excision/ Biopsy                                     2524.137505"
      ]
     },
     "execution_count": 35,
     "metadata": {},
     "output_type": "execute_result"
    }
   ],
   "source": [
    "a1=Medi_Provider_APC30_CY2011[['APC','Average  Estimated Submitted Charges']].groupby(['APC']).std()\n",
    "a1.head(5) ###Standard Deviation of APC process "
   ]
  },
  {
   "cell_type": "code",
   "execution_count": 36,
   "metadata": {},
   "outputs": [
    {
     "data": {
      "text/html": [
       "<div>\n",
       "<style scoped>\n",
       "    .dataframe tbody tr th:only-of-type {\n",
       "        vertical-align: middle;\n",
       "    }\n",
       "\n",
       "    .dataframe tbody tr th {\n",
       "        vertical-align: top;\n",
       "    }\n",
       "\n",
       "    .dataframe thead th {\n",
       "        text-align: right;\n",
       "    }\n",
       "</style>\n",
       "<table border=\"1\" class=\"dataframe\">\n",
       "  <thead>\n",
       "    <tr style=\"text-align: right;\">\n",
       "      <th></th>\n",
       "      <th>Average  Estimated Submitted Charges</th>\n",
       "    </tr>\n",
       "    <tr>\n",
       "      <th>APC</th>\n",
       "      <th></th>\n",
       "    </tr>\n",
       "  </thead>\n",
       "  <tbody>\n",
       "    <tr>\n",
       "      <th>0012 - Level I Debridement &amp; Destruction</th>\n",
       "      <td>91.084383</td>\n",
       "    </tr>\n",
       "    <tr>\n",
       "      <th>0013 - Level II Debridement &amp; Destruction</th>\n",
       "      <td>262.557685</td>\n",
       "    </tr>\n",
       "    <tr>\n",
       "      <th>0015 - Level III Debridement &amp; Destruction</th>\n",
       "      <td>362.121980</td>\n",
       "    </tr>\n",
       "    <tr>\n",
       "      <th>0019 - Level I Excision/ Biopsy</th>\n",
       "      <td>2264.425957</td>\n",
       "    </tr>\n",
       "    <tr>\n",
       "      <th>0020 - Level II Excision/ Biopsy</th>\n",
       "      <td>3430.854940</td>\n",
       "    </tr>\n",
       "  </tbody>\n",
       "</table>\n",
       "</div>"
      ],
      "text/plain": [
       "                                            Average  Estimated Submitted Charges\n",
       "APC                                                                             \n",
       "0012 - Level I Debridement & Destruction                               91.084383\n",
       "0013 - Level II Debridement & Destruction                             262.557685\n",
       "0015 - Level III Debridement & Destruction                            362.121980\n",
       "0019 - Level I Excision/ Biopsy                                      2264.425957\n",
       "0020 - Level II Excision/ Biopsy                                     3430.854940"
      ]
     },
     "execution_count": 36,
     "metadata": {},
     "output_type": "execute_result"
    }
   ],
   "source": [
    "b1= Medi_Provider_APC30_CY2011[['APC','Average  Estimated Submitted Charges']].groupby(['APC']).mean()\n",
    "b1.head(5) ###Mean of  DRG process."
   ]
  },
  {
   "cell_type": "code",
   "execution_count": 37,
   "metadata": {},
   "outputs": [
    {
     "data": {
      "text/plain": [
       "APC\n",
       "0012 - Level I Debridement & Destruction      1.050087\n",
       "0013 - Level II Debridement & Destruction     0.974976\n",
       "0015 - Level III Debridement & Destruction    0.664717\n",
       "0019 - Level I Excision/ Biopsy               1.229897\n",
       "0020 - Level II Excision/ Biopsy              0.735717\n",
       "Name: Average  Estimated Submitted Charges, dtype: float64"
      ]
     },
     "execution_count": 37,
     "metadata": {},
     "output_type": "execute_result"
    }
   ],
   "source": [
    "c1=a1['Average  Estimated Submitted Charges']/b1['Average  Estimated Submitted Charges']\n",
    "Medicare_Outpatient_Variation=c1.copy()\n",
    "c1.head() ###Cofficient of variation the DRG process."
   ]
  },
  {
   "cell_type": "code",
   "execution_count": 38,
   "metadata": {},
   "outputs": [
    {
     "data": {
      "text/html": [
       "<div>\n",
       "<style scoped>\n",
       "    .dataframe tbody tr th:only-of-type {\n",
       "        vertical-align: middle;\n",
       "    }\n",
       "\n",
       "    .dataframe tbody tr th {\n",
       "        vertical-align: top;\n",
       "    }\n",
       "\n",
       "    .dataframe thead th {\n",
       "        text-align: right;\n",
       "    }\n",
       "</style>\n",
       "<table border=\"1\" class=\"dataframe\">\n",
       "  <thead>\n",
       "    <tr style=\"text-align: right;\">\n",
       "      <th></th>\n",
       "      <th>APC</th>\n",
       "      <th>Average  Estimated Submitted Charges</th>\n",
       "    </tr>\n",
       "  </thead>\n",
       "  <tbody>\n",
       "    <tr>\n",
       "      <th>0</th>\n",
       "      <td>0604 - Level 1 Hospital Clinic Visits</td>\n",
       "      <td>1.385150</td>\n",
       "    </tr>\n",
       "    <tr>\n",
       "      <th>1</th>\n",
       "      <td>0698 - Level II Eye Tests &amp; Treatments</td>\n",
       "      <td>1.310444</td>\n",
       "    </tr>\n",
       "    <tr>\n",
       "      <th>2</th>\n",
       "      <td>0019 - Level I Excision/ Biopsy</td>\n",
       "      <td>1.229897</td>\n",
       "    </tr>\n",
       "    <tr>\n",
       "      <th>3</th>\n",
       "      <td>0692 - Level II Electronic Analysis of Devices</td>\n",
       "      <td>1.128166</td>\n",
       "    </tr>\n",
       "    <tr>\n",
       "      <th>4</th>\n",
       "      <td>0012 - Level I Debridement &amp; Destruction</td>\n",
       "      <td>1.050087</td>\n",
       "    </tr>\n",
       "  </tbody>\n",
       "</table>\n",
       "</div>"
      ],
      "text/plain": [
       "                                              APC  \\\n",
       "0           0604 - Level 1 Hospital Clinic Visits   \n",
       "1          0698 - Level II Eye Tests & Treatments   \n",
       "2                 0019 - Level I Excision/ Biopsy   \n",
       "3  0692 - Level II Electronic Analysis of Devices   \n",
       "4        0012 - Level I Debridement & Destruction   \n",
       "\n",
       "   Average  Estimated Submitted Charges  \n",
       "0                              1.385150  \n",
       "1                              1.310444  \n",
       "2                              1.229897  \n",
       "3                              1.128166  \n",
       "4                              1.050087  "
      ]
     },
     "execution_count": 38,
     "metadata": {},
     "output_type": "execute_result"
    }
   ],
   "source": [
    "Medicare_Outpatient_Variation.nlargest(5).reset_index() ###Top 5 by highest cost variations.\n",
    "\n",
    "### Highest cost variations is in the APC--- 0604 - Level 1 Hospital Clinic Visits ."
   ]
  },
  {
   "cell_type": "code",
   "execution_count": 39,
   "metadata": {},
   "outputs": [
    {
     "data": {
      "text/plain": [
       "{'whiskers': [<matplotlib.lines.Line2D at 0xd12b0b0>,\n",
       "  <matplotlib.lines.Line2D at 0xd12b370>],\n",
       " 'caps': [<matplotlib.lines.Line2D at 0xd12b5d0>,\n",
       "  <matplotlib.lines.Line2D at 0xd12b830>],\n",
       " 'boxes': [<matplotlib.lines.Line2D at 0xd121d50>],\n",
       " 'medians': [<matplotlib.lines.Line2D at 0xd12baf0>],\n",
       " 'fliers': [<matplotlib.lines.Line2D at 0xd12bd10>],\n",
       " 'means': []}"
      ]
     },
     "execution_count": 39,
     "metadata": {},
     "output_type": "execute_result"
    },
    {
     "data": {
      "image/png": "[encoded data removed]",
      "text/plain": [
       "<Figure size 432x288 with 1 Axes>"
      ]
     },
     "metadata": {
      "needs_background": "light"
     },
     "output_type": "display_data"
    }
   ],
   "source": [
    "plt.boxplot(Medicare_Outpatient_Variation) ###Box plot for showing the cost variation."
   ]
  },
  {
   "cell_type": "code",
   "execution_count": null,
   "metadata": {},
   "outputs": [],
   "source": []
  },
  {
   "cell_type": "markdown",
   "metadata": {},
   "source": [
    "### <a>Parts 1B: Highest-Cost Claims by Provider "
   ]
  },
  {
   "cell_type": "markdown",
   "metadata": {},
   "source": [
    "#### Lets calculate the highest cost claims by Provider within the table-- Medicare_Provider_Charge_Inpatient_DRG100_FY2011"
   ]
  },
  {
   "cell_type": "code",
   "execution_count": 40,
   "metadata": {},
   "outputs": [],
   "source": [
    "### Process-\n",
    "## Finding the highest covered Charges of each DRG test.\n",
    "## Finding these highest cost claimed by provider."
   ]
  },
  {
   "cell_type": "code",
   "execution_count": 41,
   "metadata": {},
   "outputs": [
    {
     "data": {
      "text/html": [
       "<div>\n",
       "<style scoped>\n",
       "    .dataframe tbody tr th:only-of-type {\n",
       "        vertical-align: middle;\n",
       "    }\n",
       "\n",
       "    .dataframe tbody tr th {\n",
       "        vertical-align: top;\n",
       "    }\n",
       "\n",
       "    .dataframe thead th {\n",
       "        text-align: right;\n",
       "    }\n",
       "</style>\n",
       "<table border=\"1\" class=\"dataframe\">\n",
       "  <thead>\n",
       "    <tr style=\"text-align: right;\">\n",
       "      <th></th>\n",
       "      <th>DRG Definition</th>\n",
       "      <th>Provider Id</th>\n",
       "      <th>Provider Name</th>\n",
       "      <th>Provider Street Address</th>\n",
       "      <th>Provider City</th>\n",
       "      <th>Provider State</th>\n",
       "      <th>Provider Zip Code</th>\n",
       "      <th>Hospital Referral Region (HRR) Description</th>\n",
       "      <th>Total Discharges</th>\n",
       "      <th>Average Covered Charges</th>\n",
       "      <th>Average Total Payments</th>\n",
       "      <th>Average Medicare Payments</th>\n",
       "    </tr>\n",
       "  </thead>\n",
       "  <tbody>\n",
       "    <tr>\n",
       "      <th>0</th>\n",
       "      <td>039 - EXTRACRANIAL PROCEDURES W/O CC/MCC</td>\n",
       "      <td>10001</td>\n",
       "      <td>SOUTHEAST ALABAMA MEDICAL CENTER</td>\n",
       "      <td>1108 ROSS CLARK CIRCLE</td>\n",
       "      <td>DOTHAN</td>\n",
       "      <td>AL</td>\n",
       "      <td>36301</td>\n",
       "      <td>AL - Dothan</td>\n",
       "      <td>91</td>\n",
       "      <td>32963.07692</td>\n",
       "      <td>5777.241758</td>\n",
       "      <td>4763.736264</td>\n",
       "    </tr>\n",
       "    <tr>\n",
       "      <th>1</th>\n",
       "      <td>039 - EXTRACRANIAL PROCEDURES W/O CC/MCC</td>\n",
       "      <td>10005</td>\n",
       "      <td>MARSHALL MEDICAL CENTER SOUTH</td>\n",
       "      <td>2505 U S HIGHWAY 431 NORTH</td>\n",
       "      <td>BOAZ</td>\n",
       "      <td>AL</td>\n",
       "      <td>35957</td>\n",
       "      <td>AL - Birmingham</td>\n",
       "      <td>14</td>\n",
       "      <td>15131.85714</td>\n",
       "      <td>5787.571429</td>\n",
       "      <td>4976.714286</td>\n",
       "    </tr>\n",
       "  </tbody>\n",
       "</table>\n",
       "</div>"
      ],
      "text/plain": [
       "                             DRG Definition  Provider Id  \\\n",
       "0  039 - EXTRACRANIAL PROCEDURES W/O CC/MCC        10001   \n",
       "1  039 - EXTRACRANIAL PROCEDURES W/O CC/MCC        10005   \n",
       "\n",
       "                      Provider Name     Provider Street Address Provider City  \\\n",
       "0  SOUTHEAST ALABAMA MEDICAL CENTER      1108 ROSS CLARK CIRCLE        DOTHAN   \n",
       "1     MARSHALL MEDICAL CENTER SOUTH  2505 U S HIGHWAY 431 NORTH          BOAZ   \n",
       "\n",
       "  Provider State  Provider Zip Code  \\\n",
       "0             AL              36301   \n",
       "1             AL              35957   \n",
       "\n",
       "  Hospital Referral Region (HRR) Description  Total Discharges  \\\n",
       "0                                AL - Dothan                91   \n",
       "1                            AL - Birmingham                14   \n",
       "\n",
       "   Average Covered Charges  Average Total Payments  Average Medicare Payments  \n",
       "0              32963.07692             5777.241758                4763.736264  \n",
       "1              15131.85714             5787.571429                4976.714286  "
      ]
     },
     "execution_count": 41,
     "metadata": {},
     "output_type": "execute_result"
    }
   ],
   "source": [
    "Medi_Charge_DRG100_FY2011.head(2)"
   ]
  },
  {
   "cell_type": "code",
   "execution_count": 42,
   "metadata": {},
   "outputs": [
    {
     "data": {
      "text/html": [
       "<div>\n",
       "<style scoped>\n",
       "    .dataframe tbody tr th:only-of-type {\n",
       "        vertical-align: middle;\n",
       "    }\n",
       "\n",
       "    .dataframe tbody tr th {\n",
       "        vertical-align: top;\n",
       "    }\n",
       "\n",
       "    .dataframe thead th {\n",
       "        text-align: right;\n",
       "    }\n",
       "</style>\n",
       "<table border=\"1\" class=\"dataframe\">\n",
       "  <thead>\n",
       "    <tr style=\"text-align: right;\">\n",
       "      <th></th>\n",
       "      <th>DRG Definition</th>\n",
       "      <th>Maximum_Average Covered Charges</th>\n",
       "    </tr>\n",
       "  </thead>\n",
       "  <tbody>\n",
       "    <tr>\n",
       "      <th>0</th>\n",
       "      <td>039 - EXTRACRANIAL PROCEDURES W/O CC/MCC</td>\n",
       "      <td>146892.0000</td>\n",
       "    </tr>\n",
       "    <tr>\n",
       "      <th>1</th>\n",
       "      <td>057 - DEGENERATIVE NERVOUS SYSTEM DISORDERS W/...</td>\n",
       "      <td>148128.4375</td>\n",
       "    </tr>\n",
       "    <tr>\n",
       "      <th>2</th>\n",
       "      <td>064 - INTRACRANIAL HEMORRHAGE OR CEREBRAL INFA...</td>\n",
       "      <td>234912.7000</td>\n",
       "    </tr>\n",
       "    <tr>\n",
       "      <th>3</th>\n",
       "      <td>065 - INTRACRANIAL HEMORRHAGE OR CEREBRAL INFA...</td>\n",
       "      <td>162922.5000</td>\n",
       "    </tr>\n",
       "    <tr>\n",
       "      <th>4</th>\n",
       "      <td>066 - INTRACRANIAL HEMORRHAGE OR CEREBRAL INFA...</td>\n",
       "      <td>117831.1429</td>\n",
       "    </tr>\n",
       "  </tbody>\n",
       "</table>\n",
       "</div>"
      ],
      "text/plain": [
       "                                      DRG Definition  \\\n",
       "0           039 - EXTRACRANIAL PROCEDURES W/O CC/MCC   \n",
       "1  057 - DEGENERATIVE NERVOUS SYSTEM DISORDERS W/...   \n",
       "2  064 - INTRACRANIAL HEMORRHAGE OR CEREBRAL INFA...   \n",
       "3  065 - INTRACRANIAL HEMORRHAGE OR CEREBRAL INFA...   \n",
       "4  066 - INTRACRANIAL HEMORRHAGE OR CEREBRAL INFA...   \n",
       "\n",
       "   Maximum_Average Covered Charges  \n",
       "0                      146892.0000  \n",
       "1                      148128.4375  \n",
       "2                      234912.7000  \n",
       "3                      162922.5000  \n",
       "4                      117831.1429  "
      ]
     },
     "execution_count": 42,
     "metadata": {},
     "output_type": "execute_result"
    }
   ],
   "source": [
    "#Finding the maximum of Average Covered Charges in Medi_Charge_DRG100_FY2011 table.\n",
    "Maximum_cover_In = Medi_Charge_DRG100_FY2011[['DRG Definition', 'Average Covered Charges']].groupby(['DRG Definition']).max().add_prefix('Maximum_').reset_index()\n",
    "Maximum_cover_In=Maximum_cover_In.copy()\n",
    "Maximum_cover_In.head() ### Showing the maximum average covered Charges of each DRG test."
   ]
  },
  {
   "cell_type": "code",
   "execution_count": 43,
   "metadata": {},
   "outputs": [
    {
     "data": {
      "text/html": [
       "<div>\n",
       "<style scoped>\n",
       "    .dataframe tbody tr th:only-of-type {\n",
       "        vertical-align: middle;\n",
       "    }\n",
       "\n",
       "    .dataframe tbody tr th {\n",
       "        vertical-align: top;\n",
       "    }\n",
       "\n",
       "    .dataframe thead th {\n",
       "        text-align: right;\n",
       "    }\n",
       "</style>\n",
       "<table border=\"1\" class=\"dataframe\">\n",
       "  <thead>\n",
       "    <tr style=\"text-align: right;\">\n",
       "      <th></th>\n",
       "      <th>DRG Definition</th>\n",
       "      <th>Provider Id</th>\n",
       "      <th>Provider Name</th>\n",
       "      <th>Provider Street Address</th>\n",
       "      <th>Provider City</th>\n",
       "      <th>Provider State</th>\n",
       "      <th>Provider Zip Code</th>\n",
       "      <th>Hospital Referral Region (HRR) Description</th>\n",
       "      <th>Total Discharges</th>\n",
       "      <th>Average Covered Charges</th>\n",
       "      <th>Average Total Payments</th>\n",
       "      <th>Average Medicare Payments</th>\n",
       "      <th>Maximum_Average Covered Charges</th>\n",
       "    </tr>\n",
       "  </thead>\n",
       "  <tbody>\n",
       "    <tr>\n",
       "      <th>0</th>\n",
       "      <td>039 - EXTRACRANIAL PROCEDURES W/O CC/MCC</td>\n",
       "      <td>10001</td>\n",
       "      <td>SOUTHEAST ALABAMA MEDICAL CENTER</td>\n",
       "      <td>1108 ROSS CLARK CIRCLE</td>\n",
       "      <td>DOTHAN</td>\n",
       "      <td>AL</td>\n",
       "      <td>36301</td>\n",
       "      <td>AL - Dothan</td>\n",
       "      <td>91</td>\n",
       "      <td>32963.07692</td>\n",
       "      <td>5777.241758</td>\n",
       "      <td>4763.736264</td>\n",
       "      <td>146892.0</td>\n",
       "    </tr>\n",
       "    <tr>\n",
       "      <th>1</th>\n",
       "      <td>039 - EXTRACRANIAL PROCEDURES W/O CC/MCC</td>\n",
       "      <td>10005</td>\n",
       "      <td>MARSHALL MEDICAL CENTER SOUTH</td>\n",
       "      <td>2505 U S HIGHWAY 431 NORTH</td>\n",
       "      <td>BOAZ</td>\n",
       "      <td>AL</td>\n",
       "      <td>35957</td>\n",
       "      <td>AL - Birmingham</td>\n",
       "      <td>14</td>\n",
       "      <td>15131.85714</td>\n",
       "      <td>5787.571429</td>\n",
       "      <td>4976.714286</td>\n",
       "      <td>146892.0</td>\n",
       "    </tr>\n",
       "  </tbody>\n",
       "</table>\n",
       "</div>"
      ],
      "text/plain": [
       "                             DRG Definition  Provider Id  \\\n",
       "0  039 - EXTRACRANIAL PROCEDURES W/O CC/MCC        10001   \n",
       "1  039 - EXTRACRANIAL PROCEDURES W/O CC/MCC        10005   \n",
       "\n",
       "                      Provider Name     Provider Street Address Provider City  \\\n",
       "0  SOUTHEAST ALABAMA MEDICAL CENTER      1108 ROSS CLARK CIRCLE        DOTHAN   \n",
       "1     MARSHALL MEDICAL CENTER SOUTH  2505 U S HIGHWAY 431 NORTH          BOAZ   \n",
       "\n",
       "  Provider State  Provider Zip Code  \\\n",
       "0             AL              36301   \n",
       "1             AL              35957   \n",
       "\n",
       "  Hospital Referral Region (HRR) Description  Total Discharges  \\\n",
       "0                                AL - Dothan                91   \n",
       "1                            AL - Birmingham                14   \n",
       "\n",
       "   Average Covered Charges  Average Total Payments  Average Medicare Payments  \\\n",
       "0              32963.07692             5777.241758                4763.736264   \n",
       "1              15131.85714             5787.571429                4976.714286   \n",
       "\n",
       "   Maximum_Average Covered Charges  \n",
       "0                         146892.0  \n",
       "1                         146892.0  "
      ]
     },
     "execution_count": 43,
     "metadata": {},
     "output_type": "execute_result"
    }
   ],
   "source": [
    "#Joining the max value with Medi_Charge_DRG100_FY2011 table for comparing it with Average Covered Charges.\n",
    "Medicharge_DRG100_IN = Medi_Charge_DRG100_FY2011.merge(Maximum_cover_In,on='DRG Definition', how='left')\n",
    "Medicharge_DRG100_IN.head(2)"
   ]
  },
  {
   "cell_type": "code",
   "execution_count": 44,
   "metadata": {},
   "outputs": [],
   "source": [
    "##Creating a new colunm for getting the how many times the Provider claimed max Average Covered Charges.\n",
    "Medicharge_DRG100_IN['Max_Avg_In']=np.where((Medicharge_DRG100_IN['Average Covered Charges']<Medicharge_DRG100_IN['Maximum_Average Covered Charges']),\n",
    "                                            0,1)"
   ]
  },
  {
   "cell_type": "code",
   "execution_count": 45,
   "metadata": {},
   "outputs": [],
   "source": [
    "##Creating a new column for getting the sum of the Provider claimed max Average Covered Charges and Provider Average Covered Charges\n",
    "Medicharge_DRG100_IN['Tot_Amt_Max_Avg_In']=np.where((Medicharge_DRG100_IN['Average Covered Charges']<Medicharge_DRG100_IN['Maximum_Average Covered Charges']),\n",
    "                                            0,(Medicharge_DRG100_IN['Maximum_Average Covered Charges']-Medicharge_DRG100_IN['Average Covered Charges']).sum().round(2))"
   ]
  },
  {
   "cell_type": "code",
   "execution_count": 46,
   "metadata": {},
   "outputs": [
    {
     "data": {
      "text/html": [
       "<div>\n",
       "<style scoped>\n",
       "    .dataframe tbody tr th:only-of-type {\n",
       "        vertical-align: middle;\n",
       "    }\n",
       "\n",
       "    .dataframe tbody tr th {\n",
       "        vertical-align: top;\n",
       "    }\n",
       "\n",
       "    .dataframe thead th {\n",
       "        text-align: right;\n",
       "    }\n",
       "</style>\n",
       "<table border=\"1\" class=\"dataframe\">\n",
       "  <thead>\n",
       "    <tr style=\"text-align: right;\">\n",
       "      <th></th>\n",
       "      <th>DRG Definition</th>\n",
       "      <th>Provider Id</th>\n",
       "      <th>Provider Name</th>\n",
       "      <th>Provider Street Address</th>\n",
       "      <th>Provider City</th>\n",
       "      <th>Provider State</th>\n",
       "      <th>Provider Zip Code</th>\n",
       "      <th>Hospital Referral Region (HRR) Description</th>\n",
       "      <th>Total Discharges</th>\n",
       "      <th>Average Covered Charges</th>\n",
       "      <th>Average Total Payments</th>\n",
       "      <th>Average Medicare Payments</th>\n",
       "      <th>Maximum_Average Covered Charges</th>\n",
       "      <th>Max_Avg_In</th>\n",
       "      <th>Tot_Amt_Max_Avg_In</th>\n",
       "    </tr>\n",
       "  </thead>\n",
       "  <tbody>\n",
       "    <tr>\n",
       "      <th>0</th>\n",
       "      <td>039 - EXTRACRANIAL PROCEDURES W/O CC/MCC</td>\n",
       "      <td>10001</td>\n",
       "      <td>SOUTHEAST ALABAMA MEDICAL CENTER</td>\n",
       "      <td>1108 ROSS CLARK CIRCLE</td>\n",
       "      <td>DOTHAN</td>\n",
       "      <td>AL</td>\n",
       "      <td>36301</td>\n",
       "      <td>AL - Dothan</td>\n",
       "      <td>91</td>\n",
       "      <td>32963.07692</td>\n",
       "      <td>5777.241758</td>\n",
       "      <td>4763.736264</td>\n",
       "      <td>146892.0</td>\n",
       "      <td>0</td>\n",
       "      <td>0.0</td>\n",
       "    </tr>\n",
       "    <tr>\n",
       "      <th>1</th>\n",
       "      <td>039 - EXTRACRANIAL PROCEDURES W/O CC/MCC</td>\n",
       "      <td>10005</td>\n",
       "      <td>MARSHALL MEDICAL CENTER SOUTH</td>\n",
       "      <td>2505 U S HIGHWAY 431 NORTH</td>\n",
       "      <td>BOAZ</td>\n",
       "      <td>AL</td>\n",
       "      <td>35957</td>\n",
       "      <td>AL - Birmingham</td>\n",
       "      <td>14</td>\n",
       "      <td>15131.85714</td>\n",
       "      <td>5787.571429</td>\n",
       "      <td>4976.714286</td>\n",
       "      <td>146892.0</td>\n",
       "      <td>0</td>\n",
       "      <td>0.0</td>\n",
       "    </tr>\n",
       "  </tbody>\n",
       "</table>\n",
       "</div>"
      ],
      "text/plain": [
       "                             DRG Definition  Provider Id  \\\n",
       "0  039 - EXTRACRANIAL PROCEDURES W/O CC/MCC        10001   \n",
       "1  039 - EXTRACRANIAL PROCEDURES W/O CC/MCC        10005   \n",
       "\n",
       "                      Provider Name     Provider Street Address Provider City  \\\n",
       "0  SOUTHEAST ALABAMA MEDICAL CENTER      1108 ROSS CLARK CIRCLE        DOTHAN   \n",
       "1     MARSHALL MEDICAL CENTER SOUTH  2505 U S HIGHWAY 431 NORTH          BOAZ   \n",
       "\n",
       "  Provider State  Provider Zip Code  \\\n",
       "0             AL              36301   \n",
       "1             AL              35957   \n",
       "\n",
       "  Hospital Referral Region (HRR) Description  Total Discharges  \\\n",
       "0                                AL - Dothan                91   \n",
       "1                            AL - Birmingham                14   \n",
       "\n",
       "   Average Covered Charges  Average Total Payments  Average Medicare Payments  \\\n",
       "0              32963.07692             5777.241758                4763.736264   \n",
       "1              15131.85714             5787.571429                4976.714286   \n",
       "\n",
       "   Maximum_Average Covered Charges  Max_Avg_In  Tot_Amt_Max_Avg_In  \n",
       "0                         146892.0           0                 0.0  \n",
       "1                         146892.0           0                 0.0  "
      ]
     },
     "execution_count": 46,
     "metadata": {},
     "output_type": "execute_result"
    }
   ],
   "source": [
    "Medicharge_DRG100_IN.head(2)"
   ]
  },
  {
   "cell_type": "code",
   "execution_count": 47,
   "metadata": {},
   "outputs": [],
   "source": [
    "#Getting the number of times a provider has charge max value for procedure.\n",
    "Medicare_PROVIDER=Medicharge_DRG100_IN[['Provider Name','Max_Avg_In']].groupby(['Provider Name']).sum().sort_values(['Max_Avg_In'], ascending=False)"
   ]
  },
  {
   "cell_type": "code",
   "execution_count": 48,
   "metadata": {},
   "outputs": [],
   "source": [
    "#Getting the amount charge above the max value for procedure.\n",
    "Medicare_PROVIDER_1=Medicharge_DRG100_IN[['Provider Name','Tot_Amt_Max_Avg_In']].groupby(['Provider Name']).sum().sort_values(['Tot_Amt_Max_Avg_In'], ascending=False)"
   ]
  },
  {
   "cell_type": "code",
   "execution_count": 49,
   "metadata": {},
   "outputs": [
    {
     "data": {
      "text/html": [
       "<div>\n",
       "<style scoped>\n",
       "    .dataframe tbody tr th:only-of-type {\n",
       "        vertical-align: middle;\n",
       "    }\n",
       "\n",
       "    .dataframe tbody tr th {\n",
       "        vertical-align: top;\n",
       "    }\n",
       "\n",
       "    .dataframe thead th {\n",
       "        text-align: right;\n",
       "    }\n",
       "</style>\n",
       "<table border=\"1\" class=\"dataframe\">\n",
       "  <thead>\n",
       "    <tr style=\"text-align: right;\">\n",
       "      <th></th>\n",
       "      <th>Provider Name</th>\n",
       "      <th>Max_Avg_In</th>\n",
       "    </tr>\n",
       "  </thead>\n",
       "  <tbody>\n",
       "    <tr>\n",
       "      <th>0</th>\n",
       "      <td>BAYONNE HOSPITAL CENTER</td>\n",
       "      <td>23</td>\n",
       "    </tr>\n",
       "    <tr>\n",
       "      <th>1</th>\n",
       "      <td>CROZER CHESTER MEDICAL CENTER</td>\n",
       "      <td>11</td>\n",
       "    </tr>\n",
       "    <tr>\n",
       "      <th>2</th>\n",
       "      <td>STANFORD HOSPITAL</td>\n",
       "      <td>10</td>\n",
       "    </tr>\n",
       "    <tr>\n",
       "      <th>3</th>\n",
       "      <td>HAHNEMANN UNIVERSITY HOSPITAL</td>\n",
       "      <td>7</td>\n",
       "    </tr>\n",
       "    <tr>\n",
       "      <th>4</th>\n",
       "      <td>DOCTORS MEDICAL CENTER</td>\n",
       "      <td>5</td>\n",
       "    </tr>\n",
       "  </tbody>\n",
       "</table>\n",
       "</div>"
      ],
      "text/plain": [
       "                   Provider Name  Max_Avg_In\n",
       "0        BAYONNE HOSPITAL CENTER          23\n",
       "1  CROZER CHESTER MEDICAL CENTER          11\n",
       "2              STANFORD HOSPITAL          10\n",
       "3  HAHNEMANN UNIVERSITY HOSPITAL           7\n",
       "4         DOCTORS MEDICAL CENTER           5"
      ]
     },
     "execution_count": 49,
     "metadata": {},
     "output_type": "execute_result"
    }
   ],
   "source": [
    "Medicare_PROVIDER['Max_Avg_In'].head(5).reset_index() ## Top 5 highly charged Provider by no. of times.\n"
   ]
  },
  {
   "cell_type": "code",
   "execution_count": 50,
   "metadata": {},
   "outputs": [
    {
     "data": {
      "text/html": [
       "<div>\n",
       "<style scoped>\n",
       "    .dataframe tbody tr th:only-of-type {\n",
       "        vertical-align: middle;\n",
       "    }\n",
       "\n",
       "    .dataframe tbody tr th {\n",
       "        vertical-align: top;\n",
       "    }\n",
       "\n",
       "    .dataframe thead th {\n",
       "        text-align: right;\n",
       "    }\n",
       "</style>\n",
       "<table border=\"1\" class=\"dataframe\">\n",
       "  <thead>\n",
       "    <tr style=\"text-align: right;\">\n",
       "      <th></th>\n",
       "      <th>Provider Name</th>\n",
       "      <th>Tot_Amt_Max_Avg_In</th>\n",
       "    </tr>\n",
       "  </thead>\n",
       "  <tbody>\n",
       "    <tr>\n",
       "      <th>0</th>\n",
       "      <td>BAYONNE HOSPITAL CENTER</td>\n",
       "      <td>4.967923e+11</td>\n",
       "    </tr>\n",
       "    <tr>\n",
       "      <th>1</th>\n",
       "      <td>CROZER CHESTER MEDICAL CENTER</td>\n",
       "      <td>2.375963e+11</td>\n",
       "    </tr>\n",
       "    <tr>\n",
       "      <th>2</th>\n",
       "      <td>STANFORD HOSPITAL</td>\n",
       "      <td>2.159966e+11</td>\n",
       "    </tr>\n",
       "    <tr>\n",
       "      <th>3</th>\n",
       "      <td>HAHNEMANN UNIVERSITY HOSPITAL</td>\n",
       "      <td>1.511977e+11</td>\n",
       "    </tr>\n",
       "    <tr>\n",
       "      <th>4</th>\n",
       "      <td>DOCTORS MEDICAL CENTER</td>\n",
       "      <td>1.079983e+11</td>\n",
       "    </tr>\n",
       "  </tbody>\n",
       "</table>\n",
       "</div>"
      ],
      "text/plain": [
       "                   Provider Name  Tot_Amt_Max_Avg_In\n",
       "0        BAYONNE HOSPITAL CENTER        4.967923e+11\n",
       "1  CROZER CHESTER MEDICAL CENTER        2.375963e+11\n",
       "2              STANFORD HOSPITAL        2.159966e+11\n",
       "3  HAHNEMANN UNIVERSITY HOSPITAL        1.511977e+11\n",
       "4         DOCTORS MEDICAL CENTER        1.079983e+11"
      ]
     },
     "execution_count": 50,
     "metadata": {},
     "output_type": "execute_result"
    }
   ],
   "source": [
    "Medicare_PROVIDER_1['Tot_Amt_Max_Avg_In'].head(5).reset_index() ## Top 5 highly charged Provider by amount.\n"
   ]
  },
  {
   "cell_type": "markdown",
   "metadata": {},
   "source": [
    "***Presenting above computed highly charged Provider on Pie Chart***-"
   ]
  },
  {
   "cell_type": "code",
   "execution_count": 51,
   "metadata": {},
   "outputs": [],
   "source": [
    "### Data prepartion for Pie Chart.\n",
    "Medicare_PROVIDER_11=Medicare_PROVIDER_1.reset_index()\n",
    "Medicare_PROVIDER_11['Vis_Pie_Chart']=np.where((Medicare_PROVIDER_11['Tot_Amt_Max_Avg_In'].isin(Medicare_PROVIDER_11['Tot_Amt_Max_Avg_In'].head(10))),\n",
    "                                              Medicare_PROVIDER_11['Provider Name'],'OTHER')\n",
    "##Other--- are all the less than Tot_Amt_Max_Avg_In rank 10 by the Provider Name.\n",
    "For_Pie_chart= Medicare_PROVIDER_11.groupby('Vis_Pie_Chart').sum()"
   ]
  },
  {
   "cell_type": "code",
   "execution_count": 52,
   "metadata": {},
   "outputs": [
    {
     "data": {
      "text/plain": [
       "array([<matplotlib.axes._subplots.AxesSubplot object at 0x0D1692B0>],\n",
       "      dtype=object)"
      ]
     },
     "execution_count": 52,
     "metadata": {},
     "output_type": "execute_result"
    },
    {
     "data": {
      "image/png": "[encoded data removed]",
      "text/plain": [
       "<Figure size 1080x504 with 1 Axes>"
      ]
     },
     "metadata": {},
     "output_type": "display_data"
    }
   ],
   "source": [
    "For_Pie_chart.plot(kind='pie',\n",
    "            figsize=(15,7), \n",
    "            autopct='%1.0f%%', # to get percentage and round off appropriately\n",
    "            fontsize=10,legend=False, \n",
    "            subplots=True)"
   ]
  },
  {
   "cell_type": "code",
   "execution_count": 53,
   "metadata": {},
   "outputs": [],
   "source": [
    "## Top 5 provider by highly cost claimer-\n",
    "## Provider Name\t             Tot_Amt_Max_Avg_In\n",
    "# BAYONNE HOSPITAL CENTER\t        4.967923e+11\n",
    "# CROZER CHESTER MEDICAL CENTER\t    2.375963e+11\n",
    "# STANFORD HOSPITAL\t                2.159966e+11\n",
    "# HAHNEMANN UNIVERSITY HOSPITAL\t    1.511977e+11\n",
    "# DOCTORS MEDICAL CENTER\t        1.079983e+11"
   ]
  },
  {
   "cell_type": "code",
   "execution_count": null,
   "metadata": {},
   "outputs": [],
   "source": []
  },
  {
   "cell_type": "markdown",
   "metadata": {},
   "source": [
    "#### Lets calculate the highest cost claims by Provider within the table-- Medicare_Provider_Charge_Outpatient_APC30_CY2011"
   ]
  },
  {
   "cell_type": "code",
   "execution_count": 54,
   "metadata": {},
   "outputs": [],
   "source": [
    "### Process-\n",
    "## Finding the highest covered Charges of each APC test.\n",
    "## Finding these highest cost claimed by provider."
   ]
  },
  {
   "cell_type": "code",
   "execution_count": 55,
   "metadata": {},
   "outputs": [
    {
     "data": {
      "text/html": [
       "<div>\n",
       "<style scoped>\n",
       "    .dataframe tbody tr th:only-of-type {\n",
       "        vertical-align: middle;\n",
       "    }\n",
       "\n",
       "    .dataframe tbody tr th {\n",
       "        vertical-align: top;\n",
       "    }\n",
       "\n",
       "    .dataframe thead th {\n",
       "        text-align: right;\n",
       "    }\n",
       "</style>\n",
       "<table border=\"1\" class=\"dataframe\">\n",
       "  <thead>\n",
       "    <tr style=\"text-align: right;\">\n",
       "      <th></th>\n",
       "      <th>APC</th>\n",
       "      <th>Provider Id</th>\n",
       "      <th>Provider Name</th>\n",
       "      <th>Provider Street Address</th>\n",
       "      <th>Provider City</th>\n",
       "      <th>Provider State</th>\n",
       "      <th>Provider Zip Code</th>\n",
       "      <th>Hospital Referral Region (HRR) Description</th>\n",
       "      <th>Outpatient Services</th>\n",
       "      <th>Average  Estimated Submitted Charges</th>\n",
       "      <th>Average Total Payments</th>\n",
       "    </tr>\n",
       "  </thead>\n",
       "  <tbody>\n",
       "    <tr>\n",
       "      <th>0</th>\n",
       "      <td>0012 - Level I Debridement &amp; Destruction</td>\n",
       "      <td>10029</td>\n",
       "      <td>EAST ALABAMA MEDICAL CENTER AND SNF</td>\n",
       "      <td>2000 PEPPERELL PARKWAY</td>\n",
       "      <td>OPELIKA</td>\n",
       "      <td>AL</td>\n",
       "      <td>36801</td>\n",
       "      <td>AL - Birmingham</td>\n",
       "      <td>23</td>\n",
       "      <td>78.086957</td>\n",
       "      <td>21.910435</td>\n",
       "    </tr>\n",
       "    <tr>\n",
       "      <th>1</th>\n",
       "      <td>0012 - Level I Debridement &amp; Destruction</td>\n",
       "      <td>20024</td>\n",
       "      <td>CENTRAL PENINSULA GENERAL HOSPITAL</td>\n",
       "      <td>250 HOSPITAL PLACE</td>\n",
       "      <td>SOLDOTNA</td>\n",
       "      <td>AK</td>\n",
       "      <td>99669</td>\n",
       "      <td>AK - Anchorage</td>\n",
       "      <td>994</td>\n",
       "      <td>149.589749</td>\n",
       "      <td>36.623853</td>\n",
       "    </tr>\n",
       "  </tbody>\n",
       "</table>\n",
       "</div>"
      ],
      "text/plain": [
       "                                        APC  Provider Id  \\\n",
       "0  0012 - Level I Debridement & Destruction        10029   \n",
       "1  0012 - Level I Debridement & Destruction        20024   \n",
       "\n",
       "                         Provider Name Provider Street Address Provider City  \\\n",
       "0  EAST ALABAMA MEDICAL CENTER AND SNF  2000 PEPPERELL PARKWAY       OPELIKA   \n",
       "1   CENTRAL PENINSULA GENERAL HOSPITAL      250 HOSPITAL PLACE      SOLDOTNA   \n",
       "\n",
       "  Provider State  Provider Zip Code  \\\n",
       "0             AL              36801   \n",
       "1             AK              99669   \n",
       "\n",
       "  Hospital Referral Region (HRR) Description  Outpatient Services  \\\n",
       "0                            AL - Birmingham                   23   \n",
       "1                             AK - Anchorage                  994   \n",
       "\n",
       "   Average  Estimated Submitted Charges  Average Total Payments  \n",
       "0                             78.086957               21.910435  \n",
       "1                            149.589749               36.623853  "
      ]
     },
     "execution_count": 55,
     "metadata": {},
     "output_type": "execute_result"
    }
   ],
   "source": [
    "Medi_Provider_APC30_CY2011.head(2)"
   ]
  },
  {
   "cell_type": "code",
   "execution_count": 56,
   "metadata": {},
   "outputs": [
    {
     "data": {
      "text/html": [
       "<div>\n",
       "<style scoped>\n",
       "    .dataframe tbody tr th:only-of-type {\n",
       "        vertical-align: middle;\n",
       "    }\n",
       "\n",
       "    .dataframe tbody tr th {\n",
       "        vertical-align: top;\n",
       "    }\n",
       "\n",
       "    .dataframe thead th {\n",
       "        text-align: right;\n",
       "    }\n",
       "</style>\n",
       "<table border=\"1\" class=\"dataframe\">\n",
       "  <thead>\n",
       "    <tr style=\"text-align: right;\">\n",
       "      <th></th>\n",
       "      <th>APC</th>\n",
       "      <th>Maximum_Average  Estimated Submitted Charges</th>\n",
       "    </tr>\n",
       "  </thead>\n",
       "  <tbody>\n",
       "    <tr>\n",
       "      <th>0</th>\n",
       "      <td>0012 - Level I Debridement &amp; Destruction</td>\n",
       "      <td>841.90000</td>\n",
       "    </tr>\n",
       "    <tr>\n",
       "      <th>1</th>\n",
       "      <td>0013 - Level II Debridement &amp; Destruction</td>\n",
       "      <td>5231.00000</td>\n",
       "    </tr>\n",
       "    <tr>\n",
       "      <th>2</th>\n",
       "      <td>0015 - Level III Debridement &amp; Destruction</td>\n",
       "      <td>3080.84963</td>\n",
       "    </tr>\n",
       "    <tr>\n",
       "      <th>3</th>\n",
       "      <td>0019 - Level I Excision/ Biopsy</td>\n",
       "      <td>26466.64500</td>\n",
       "    </tr>\n",
       "    <tr>\n",
       "      <th>4</th>\n",
       "      <td>0020 - Level II Excision/ Biopsy</td>\n",
       "      <td>19018.40882</td>\n",
       "    </tr>\n",
       "  </tbody>\n",
       "</table>\n",
       "</div>"
      ],
      "text/plain": [
       "                                          APC  \\\n",
       "0    0012 - Level I Debridement & Destruction   \n",
       "1   0013 - Level II Debridement & Destruction   \n",
       "2  0015 - Level III Debridement & Destruction   \n",
       "3             0019 - Level I Excision/ Biopsy   \n",
       "4            0020 - Level II Excision/ Biopsy   \n",
       "\n",
       "   Maximum_Average  Estimated Submitted Charges  \n",
       "0                                     841.90000  \n",
       "1                                    5231.00000  \n",
       "2                                    3080.84963  \n",
       "3                                   26466.64500  \n",
       "4                                   19018.40882  "
      ]
     },
     "execution_count": 56,
     "metadata": {},
     "output_type": "execute_result"
    }
   ],
   "source": [
    "#Finding the maximum of Average Estimated Submitted Charges in Medicare_Provider_Charge_Outpatient_APC30_CY2011 table.\n",
    "Maximum_cover_Out = Medi_Provider_APC30_CY2011[['APC', 'Average  Estimated Submitted Charges']].groupby(['APC']).max().add_prefix('Maximum_').reset_index()\n",
    "Maximum_cover_Out=Maximum_cover_Out.copy()\n",
    "Maximum_cover_Out.head()  ### Showing the Maximum_Average Estimated Submitted Charges of each APC test."
   ]
  },
  {
   "cell_type": "code",
   "execution_count": 57,
   "metadata": {},
   "outputs": [
    {
     "data": {
      "text/html": [
       "<div>\n",
       "<style scoped>\n",
       "    .dataframe tbody tr th:only-of-type {\n",
       "        vertical-align: middle;\n",
       "    }\n",
       "\n",
       "    .dataframe tbody tr th {\n",
       "        vertical-align: top;\n",
       "    }\n",
       "\n",
       "    .dataframe thead th {\n",
       "        text-align: right;\n",
       "    }\n",
       "</style>\n",
       "<table border=\"1\" class=\"dataframe\">\n",
       "  <thead>\n",
       "    <tr style=\"text-align: right;\">\n",
       "      <th></th>\n",
       "      <th>APC</th>\n",
       "      <th>Provider Id</th>\n",
       "      <th>Provider Name</th>\n",
       "      <th>Provider Street Address</th>\n",
       "      <th>Provider City</th>\n",
       "      <th>Provider State</th>\n",
       "      <th>Provider Zip Code</th>\n",
       "      <th>Hospital Referral Region (HRR) Description</th>\n",
       "      <th>Outpatient Services</th>\n",
       "      <th>Average  Estimated Submitted Charges</th>\n",
       "      <th>Average Total Payments</th>\n",
       "      <th>Maximum_Average  Estimated Submitted Charges</th>\n",
       "    </tr>\n",
       "  </thead>\n",
       "  <tbody>\n",
       "    <tr>\n",
       "      <th>0</th>\n",
       "      <td>0012 - Level I Debridement &amp; Destruction</td>\n",
       "      <td>10029</td>\n",
       "      <td>EAST ALABAMA MEDICAL CENTER AND SNF</td>\n",
       "      <td>2000 PEPPERELL PARKWAY</td>\n",
       "      <td>OPELIKA</td>\n",
       "      <td>AL</td>\n",
       "      <td>36801</td>\n",
       "      <td>AL - Birmingham</td>\n",
       "      <td>23</td>\n",
       "      <td>78.086957</td>\n",
       "      <td>21.910435</td>\n",
       "      <td>841.9</td>\n",
       "    </tr>\n",
       "    <tr>\n",
       "      <th>1</th>\n",
       "      <td>0012 - Level I Debridement &amp; Destruction</td>\n",
       "      <td>20024</td>\n",
       "      <td>CENTRAL PENINSULA GENERAL HOSPITAL</td>\n",
       "      <td>250 HOSPITAL PLACE</td>\n",
       "      <td>SOLDOTNA</td>\n",
       "      <td>AK</td>\n",
       "      <td>99669</td>\n",
       "      <td>AK - Anchorage</td>\n",
       "      <td>994</td>\n",
       "      <td>149.589749</td>\n",
       "      <td>36.623853</td>\n",
       "      <td>841.9</td>\n",
       "    </tr>\n",
       "  </tbody>\n",
       "</table>\n",
       "</div>"
      ],
      "text/plain": [
       "                                        APC  Provider Id  \\\n",
       "0  0012 - Level I Debridement & Destruction        10029   \n",
       "1  0012 - Level I Debridement & Destruction        20024   \n",
       "\n",
       "                         Provider Name Provider Street Address Provider City  \\\n",
       "0  EAST ALABAMA MEDICAL CENTER AND SNF  2000 PEPPERELL PARKWAY       OPELIKA   \n",
       "1   CENTRAL PENINSULA GENERAL HOSPITAL      250 HOSPITAL PLACE      SOLDOTNA   \n",
       "\n",
       "  Provider State  Provider Zip Code  \\\n",
       "0             AL              36801   \n",
       "1             AK              99669   \n",
       "\n",
       "  Hospital Referral Region (HRR) Description  Outpatient Services  \\\n",
       "0                            AL - Birmingham                   23   \n",
       "1                             AK - Anchorage                  994   \n",
       "\n",
       "   Average  Estimated Submitted Charges  Average Total Payments  \\\n",
       "0                             78.086957               21.910435   \n",
       "1                            149.589749               36.623853   \n",
       "\n",
       "   Maximum_Average  Estimated Submitted Charges  \n",
       "0                                         841.9  \n",
       "1                                         841.9  "
      ]
     },
     "execution_count": 57,
     "metadata": {},
     "output_type": "execute_result"
    }
   ],
   "source": [
    "#Joining the max value with Medi_Provider_APC30_CY2011 table for comparing it with Maximum_Average Estimated Submitted Charges.\n",
    "Medicharge_APC30_Out = Medi_Provider_APC30_CY2011.merge(Maximum_cover_Out,on='APC', how='left')\n",
    "Medicharge_APC30_Out.head(2)"
   ]
  },
  {
   "cell_type": "code",
   "execution_count": 58,
   "metadata": {},
   "outputs": [],
   "source": [
    "##Creating a new colunm for getting the how many times the Provider claimed Maximum_Average Estimated Submitted Charges.\n",
    "Medicharge_APC30_Out['Max_Avg_Out']=np.where((Medicharge_APC30_Out['Average  Estimated Submitted Charges']<Medicharge_APC30_Out['Maximum_Average  Estimated Submitted Charges']),\n",
    "                                            0,1)"
   ]
  },
  {
   "cell_type": "code",
   "execution_count": 59,
   "metadata": {},
   "outputs": [],
   "source": [
    "##Creating a new column for getting the sum of the Provider claimed claimed Maximum_Average Estimated Submitted Charges and Average Estimated Submitted Charges.\n",
    "Medicharge_APC30_Out['Tot_Amt_Max_Avg_Out']=np.where((Medicharge_APC30_Out['Average  Estimated Submitted Charges']<Medicharge_APC30_Out['Maximum_Average  Estimated Submitted Charges']),\n",
    "                                            0,(Medicharge_APC30_Out['Maximum_Average  Estimated Submitted Charges']-Medicharge_APC30_Out['Average  Estimated Submitted Charges']).sum().round(2))"
   ]
  },
  {
   "cell_type": "code",
   "execution_count": 60,
   "metadata": {},
   "outputs": [
    {
     "data": {
      "text/html": [
       "<div>\n",
       "<style scoped>\n",
       "    .dataframe tbody tr th:only-of-type {\n",
       "        vertical-align: middle;\n",
       "    }\n",
       "\n",
       "    .dataframe tbody tr th {\n",
       "        vertical-align: top;\n",
       "    }\n",
       "\n",
       "    .dataframe thead th {\n",
       "        text-align: right;\n",
       "    }\n",
       "</style>\n",
       "<table border=\"1\" class=\"dataframe\">\n",
       "  <thead>\n",
       "    <tr style=\"text-align: right;\">\n",
       "      <th></th>\n",
       "      <th>APC</th>\n",
       "      <th>Provider Id</th>\n",
       "      <th>Provider Name</th>\n",
       "      <th>Provider Street Address</th>\n",
       "      <th>Provider City</th>\n",
       "      <th>Provider State</th>\n",
       "      <th>Provider Zip Code</th>\n",
       "      <th>Hospital Referral Region (HRR) Description</th>\n",
       "      <th>Outpatient Services</th>\n",
       "      <th>Average  Estimated Submitted Charges</th>\n",
       "      <th>Average Total Payments</th>\n",
       "      <th>Maximum_Average  Estimated Submitted Charges</th>\n",
       "      <th>Max_Avg_Out</th>\n",
       "      <th>Tot_Amt_Max_Avg_Out</th>\n",
       "    </tr>\n",
       "  </thead>\n",
       "  <tbody>\n",
       "    <tr>\n",
       "      <th>0</th>\n",
       "      <td>0012 - Level I Debridement &amp; Destruction</td>\n",
       "      <td>10029</td>\n",
       "      <td>EAST ALABAMA MEDICAL CENTER AND SNF</td>\n",
       "      <td>2000 PEPPERELL PARKWAY</td>\n",
       "      <td>OPELIKA</td>\n",
       "      <td>AL</td>\n",
       "      <td>36801</td>\n",
       "      <td>AL - Birmingham</td>\n",
       "      <td>23</td>\n",
       "      <td>78.086957</td>\n",
       "      <td>21.910435</td>\n",
       "      <td>841.9</td>\n",
       "      <td>0</td>\n",
       "      <td>0.0</td>\n",
       "    </tr>\n",
       "    <tr>\n",
       "      <th>1</th>\n",
       "      <td>0012 - Level I Debridement &amp; Destruction</td>\n",
       "      <td>20024</td>\n",
       "      <td>CENTRAL PENINSULA GENERAL HOSPITAL</td>\n",
       "      <td>250 HOSPITAL PLACE</td>\n",
       "      <td>SOLDOTNA</td>\n",
       "      <td>AK</td>\n",
       "      <td>99669</td>\n",
       "      <td>AK - Anchorage</td>\n",
       "      <td>994</td>\n",
       "      <td>149.589749</td>\n",
       "      <td>36.623853</td>\n",
       "      <td>841.9</td>\n",
       "      <td>0</td>\n",
       "      <td>0.0</td>\n",
       "    </tr>\n",
       "  </tbody>\n",
       "</table>\n",
       "</div>"
      ],
      "text/plain": [
       "                                        APC  Provider Id  \\\n",
       "0  0012 - Level I Debridement & Destruction        10029   \n",
       "1  0012 - Level I Debridement & Destruction        20024   \n",
       "\n",
       "                         Provider Name Provider Street Address Provider City  \\\n",
       "0  EAST ALABAMA MEDICAL CENTER AND SNF  2000 PEPPERELL PARKWAY       OPELIKA   \n",
       "1   CENTRAL PENINSULA GENERAL HOSPITAL      250 HOSPITAL PLACE      SOLDOTNA   \n",
       "\n",
       "  Provider State  Provider Zip Code  \\\n",
       "0             AL              36801   \n",
       "1             AK              99669   \n",
       "\n",
       "  Hospital Referral Region (HRR) Description  Outpatient Services  \\\n",
       "0                            AL - Birmingham                   23   \n",
       "1                             AK - Anchorage                  994   \n",
       "\n",
       "   Average  Estimated Submitted Charges  Average Total Payments  \\\n",
       "0                             78.086957               21.910435   \n",
       "1                            149.589749               36.623853   \n",
       "\n",
       "   Maximum_Average  Estimated Submitted Charges  Max_Avg_Out  \\\n",
       "0                                         841.9            0   \n",
       "1                                         841.9            0   \n",
       "\n",
       "   Tot_Amt_Max_Avg_Out  \n",
       "0                  0.0  \n",
       "1                  0.0  "
      ]
     },
     "execution_count": 60,
     "metadata": {},
     "output_type": "execute_result"
    }
   ],
   "source": [
    "Medicharge_APC30_Out.head(2)"
   ]
  },
  {
   "cell_type": "code",
   "execution_count": 61,
   "metadata": {},
   "outputs": [],
   "source": [
    "#Getting the number of times a provider has charge max value for procedure.\n",
    "Medicare_PROV=Medicharge_APC30_Out[['Provider Name','Max_Avg_Out']].groupby(['Provider Name']).sum().sort_values(['Max_Avg_Out'], ascending=False)"
   ]
  },
  {
   "cell_type": "code",
   "execution_count": 62,
   "metadata": {},
   "outputs": [],
   "source": [
    "#Getting the amount charge above the max value for procedure.\n",
    "Medicare_PROV_1=Medicharge_APC30_Out[['Provider Name','Tot_Amt_Max_Avg_Out']].groupby(['Provider Name']).sum().sort_values(['Tot_Amt_Max_Avg_Out'], ascending=False)"
   ]
  },
  {
   "cell_type": "code",
   "execution_count": 63,
   "metadata": {},
   "outputs": [
    {
     "data": {
      "text/html": [
       "<div>\n",
       "<style scoped>\n",
       "    .dataframe tbody tr th:only-of-type {\n",
       "        vertical-align: middle;\n",
       "    }\n",
       "\n",
       "    .dataframe tbody tr th {\n",
       "        vertical-align: top;\n",
       "    }\n",
       "\n",
       "    .dataframe thead th {\n",
       "        text-align: right;\n",
       "    }\n",
       "</style>\n",
       "<table border=\"1\" class=\"dataframe\">\n",
       "  <thead>\n",
       "    <tr style=\"text-align: right;\">\n",
       "      <th></th>\n",
       "      <th>Provider Name</th>\n",
       "      <th>Max_Avg_Out</th>\n",
       "    </tr>\n",
       "  </thead>\n",
       "  <tbody>\n",
       "    <tr>\n",
       "      <th>0</th>\n",
       "      <td>COLUMBIA HOSPITAL</td>\n",
       "      <td>2</td>\n",
       "    </tr>\n",
       "    <tr>\n",
       "      <th>1</th>\n",
       "      <td>FORT WALTON BEACH MEDICAL CENTER</td>\n",
       "      <td>2</td>\n",
       "    </tr>\n",
       "    <tr>\n",
       "      <th>2</th>\n",
       "      <td>CAPITAL HEALTH MEDICAL CENTER - HOPEWELL</td>\n",
       "      <td>2</td>\n",
       "    </tr>\n",
       "    <tr>\n",
       "      <th>3</th>\n",
       "      <td>FAIRVIEW DEVELOPMENTAL CENTER</td>\n",
       "      <td>1</td>\n",
       "    </tr>\n",
       "    <tr>\n",
       "      <th>4</th>\n",
       "      <td>BEVERLY HOSPITAL CORPORATION</td>\n",
       "      <td>1</td>\n",
       "    </tr>\n",
       "  </tbody>\n",
       "</table>\n",
       "</div>"
      ],
      "text/plain": [
       "                              Provider Name  Max_Avg_Out\n",
       "0                         COLUMBIA HOSPITAL            2\n",
       "1          FORT WALTON BEACH MEDICAL CENTER            2\n",
       "2  CAPITAL HEALTH MEDICAL CENTER - HOPEWELL            2\n",
       "3             FAIRVIEW DEVELOPMENTAL CENTER            1\n",
       "4              BEVERLY HOSPITAL CORPORATION            1"
      ]
     },
     "execution_count": 63,
     "metadata": {},
     "output_type": "execute_result"
    }
   ],
   "source": [
    "Medicare_PROV['Max_Avg_Out'].head(5).reset_index() ## Top 5 highly charged Provider by no. of times.\n"
   ]
  },
  {
   "cell_type": "code",
   "execution_count": 64,
   "metadata": {},
   "outputs": [
    {
     "data": {
      "text/html": [
       "<div>\n",
       "<style scoped>\n",
       "    .dataframe tbody tr th:only-of-type {\n",
       "        vertical-align: middle;\n",
       "    }\n",
       "\n",
       "    .dataframe tbody tr th {\n",
       "        vertical-align: top;\n",
       "    }\n",
       "\n",
       "    .dataframe thead th {\n",
       "        text-align: right;\n",
       "    }\n",
       "</style>\n",
       "<table border=\"1\" class=\"dataframe\">\n",
       "  <thead>\n",
       "    <tr style=\"text-align: right;\">\n",
       "      <th></th>\n",
       "      <th>Provider Name</th>\n",
       "      <th>Tot_Amt_Max_Avg_Out</th>\n",
       "    </tr>\n",
       "  </thead>\n",
       "  <tbody>\n",
       "    <tr>\n",
       "      <th>0</th>\n",
       "      <td>COLUMBIA HOSPITAL</td>\n",
       "      <td>6.490457e+08</td>\n",
       "    </tr>\n",
       "    <tr>\n",
       "      <th>1</th>\n",
       "      <td>FORT WALTON BEACH MEDICAL CENTER</td>\n",
       "      <td>6.490457e+08</td>\n",
       "    </tr>\n",
       "    <tr>\n",
       "      <th>2</th>\n",
       "      <td>CAPITAL HEALTH MEDICAL CENTER - HOPEWELL</td>\n",
       "      <td>6.490457e+08</td>\n",
       "    </tr>\n",
       "    <tr>\n",
       "      <th>3</th>\n",
       "      <td>FAIRVIEW DEVELOPMENTAL CENTER</td>\n",
       "      <td>3.245229e+08</td>\n",
       "    </tr>\n",
       "    <tr>\n",
       "      <th>4</th>\n",
       "      <td>BEVERLY HOSPITAL CORPORATION</td>\n",
       "      <td>3.245229e+08</td>\n",
       "    </tr>\n",
       "  </tbody>\n",
       "</table>\n",
       "</div>"
      ],
      "text/plain": [
       "                              Provider Name  Tot_Amt_Max_Avg_Out\n",
       "0                         COLUMBIA HOSPITAL         6.490457e+08\n",
       "1          FORT WALTON BEACH MEDICAL CENTER         6.490457e+08\n",
       "2  CAPITAL HEALTH MEDICAL CENTER - HOPEWELL         6.490457e+08\n",
       "3             FAIRVIEW DEVELOPMENTAL CENTER         3.245229e+08\n",
       "4              BEVERLY HOSPITAL CORPORATION         3.245229e+08"
      ]
     },
     "execution_count": 64,
     "metadata": {},
     "output_type": "execute_result"
    }
   ],
   "source": [
    "Medicare_PROV_1['Tot_Amt_Max_Avg_Out'].head(5).reset_index() ## Top 5 highly charged Provider by amount.\n",
    "\n",
    "## Top 5 highly charged Provider by amount."
   ]
  },
  {
   "cell_type": "code",
   "execution_count": null,
   "metadata": {},
   "outputs": [],
   "source": []
  },
  {
   "cell_type": "markdown",
   "metadata": {},
   "source": [
    "### <a>Parts 1C: Highest-Cost Claims by Region"
   ]
  },
  {
   "cell_type": "markdown",
   "metadata": {},
   "source": [
    "#### Lets calculate the highest cost claims by Region within the table-- Medicare_Provider_Charge_Inpatient_DRG100_FY2011"
   ]
  },
  {
   "cell_type": "code",
   "execution_count": 65,
   "metadata": {},
   "outputs": [],
   "source": [
    "### Process-\n",
    "## Already evaluated the highest covered Charges of each DRG test--Using the above data.\n",
    "## Finding these highest cost claimed by region."
   ]
  },
  {
   "cell_type": "code",
   "execution_count": 66,
   "metadata": {},
   "outputs": [
    {
     "data": {
      "text/html": [
       "<div>\n",
       "<style scoped>\n",
       "    .dataframe tbody tr th:only-of-type {\n",
       "        vertical-align: middle;\n",
       "    }\n",
       "\n",
       "    .dataframe tbody tr th {\n",
       "        vertical-align: top;\n",
       "    }\n",
       "\n",
       "    .dataframe thead th {\n",
       "        text-align: right;\n",
       "    }\n",
       "</style>\n",
       "<table border=\"1\" class=\"dataframe\">\n",
       "  <thead>\n",
       "    <tr style=\"text-align: right;\">\n",
       "      <th></th>\n",
       "      <th>DRG Definition</th>\n",
       "      <th>Provider Id</th>\n",
       "      <th>Provider Name</th>\n",
       "      <th>Provider Street Address</th>\n",
       "      <th>Provider City</th>\n",
       "      <th>Provider State</th>\n",
       "      <th>Provider Zip Code</th>\n",
       "      <th>Hospital Referral Region (HRR) Description</th>\n",
       "      <th>Total Discharges</th>\n",
       "      <th>Average Covered Charges</th>\n",
       "      <th>Average Total Payments</th>\n",
       "      <th>Average Medicare Payments</th>\n",
       "      <th>Maximum_Average Covered Charges</th>\n",
       "      <th>Max_Avg_In</th>\n",
       "      <th>Tot_Amt_Max_Avg_In</th>\n",
       "    </tr>\n",
       "  </thead>\n",
       "  <tbody>\n",
       "    <tr>\n",
       "      <th>0</th>\n",
       "      <td>039 - EXTRACRANIAL PROCEDURES W/O CC/MCC</td>\n",
       "      <td>10001</td>\n",
       "      <td>SOUTHEAST ALABAMA MEDICAL CENTER</td>\n",
       "      <td>1108 ROSS CLARK CIRCLE</td>\n",
       "      <td>DOTHAN</td>\n",
       "      <td>AL</td>\n",
       "      <td>36301</td>\n",
       "      <td>AL - Dothan</td>\n",
       "      <td>91</td>\n",
       "      <td>32963.07692</td>\n",
       "      <td>5777.241758</td>\n",
       "      <td>4763.736264</td>\n",
       "      <td>146892.0</td>\n",
       "      <td>0</td>\n",
       "      <td>0.0</td>\n",
       "    </tr>\n",
       "    <tr>\n",
       "      <th>1</th>\n",
       "      <td>039 - EXTRACRANIAL PROCEDURES W/O CC/MCC</td>\n",
       "      <td>10005</td>\n",
       "      <td>MARSHALL MEDICAL CENTER SOUTH</td>\n",
       "      <td>2505 U S HIGHWAY 431 NORTH</td>\n",
       "      <td>BOAZ</td>\n",
       "      <td>AL</td>\n",
       "      <td>35957</td>\n",
       "      <td>AL - Birmingham</td>\n",
       "      <td>14</td>\n",
       "      <td>15131.85714</td>\n",
       "      <td>5787.571429</td>\n",
       "      <td>4976.714286</td>\n",
       "      <td>146892.0</td>\n",
       "      <td>0</td>\n",
       "      <td>0.0</td>\n",
       "    </tr>\n",
       "  </tbody>\n",
       "</table>\n",
       "</div>"
      ],
      "text/plain": [
       "                             DRG Definition  Provider Id  \\\n",
       "0  039 - EXTRACRANIAL PROCEDURES W/O CC/MCC        10001   \n",
       "1  039 - EXTRACRANIAL PROCEDURES W/O CC/MCC        10005   \n",
       "\n",
       "                      Provider Name     Provider Street Address Provider City  \\\n",
       "0  SOUTHEAST ALABAMA MEDICAL CENTER      1108 ROSS CLARK CIRCLE        DOTHAN   \n",
       "1     MARSHALL MEDICAL CENTER SOUTH  2505 U S HIGHWAY 431 NORTH          BOAZ   \n",
       "\n",
       "  Provider State  Provider Zip Code  \\\n",
       "0             AL              36301   \n",
       "1             AL              35957   \n",
       "\n",
       "  Hospital Referral Region (HRR) Description  Total Discharges  \\\n",
       "0                                AL - Dothan                91   \n",
       "1                            AL - Birmingham                14   \n",
       "\n",
       "   Average Covered Charges  Average Total Payments  Average Medicare Payments  \\\n",
       "0              32963.07692             5777.241758                4763.736264   \n",
       "1              15131.85714             5787.571429                4976.714286   \n",
       "\n",
       "   Maximum_Average Covered Charges  Max_Avg_In  Tot_Amt_Max_Avg_In  \n",
       "0                         146892.0           0                 0.0  \n",
       "1                         146892.0           0                 0.0  "
      ]
     },
     "execution_count": 66,
     "metadata": {},
     "output_type": "execute_result"
    }
   ],
   "source": [
    "Medicharge_DRG100_IN.head(2) ### Using previously computed data."
   ]
  },
  {
   "cell_type": "code",
   "execution_count": 67,
   "metadata": {},
   "outputs": [],
   "source": [
    "#Getting the number of times a Region has charge max value for procedure.\n",
    "Medicare_PROVIDER_Region=Medicharge_DRG100_IN[['Hospital Referral Region (HRR) Description','Max_Avg_In']].groupby(['Hospital Referral Region (HRR) Description']).sum().sort_values(['Max_Avg_In'], ascending=False)"
   ]
  },
  {
   "cell_type": "code",
   "execution_count": 68,
   "metadata": {},
   "outputs": [],
   "source": [
    "#Getting the amount charge above the max value for procedure.\n",
    "Medicare_PROVIDER_1_Region=Medicharge_DRG100_IN[['Hospital Referral Region (HRR) Description','Tot_Amt_Max_Avg_In']].groupby(['Hospital Referral Region (HRR) Description']).sum().sort_values(['Tot_Amt_Max_Avg_In'], ascending=False)"
   ]
  },
  {
   "cell_type": "code",
   "execution_count": 69,
   "metadata": {},
   "outputs": [
    {
     "data": {
      "text/html": [
       "<div>\n",
       "<style scoped>\n",
       "    .dataframe tbody tr th:only-of-type {\n",
       "        vertical-align: middle;\n",
       "    }\n",
       "\n",
       "    .dataframe tbody tr th {\n",
       "        vertical-align: top;\n",
       "    }\n",
       "\n",
       "    .dataframe thead th {\n",
       "        text-align: right;\n",
       "    }\n",
       "</style>\n",
       "<table border=\"1\" class=\"dataframe\">\n",
       "  <thead>\n",
       "    <tr style=\"text-align: right;\">\n",
       "      <th></th>\n",
       "      <th>Hospital Referral Region (HRR) Description</th>\n",
       "      <th>Max_Avg_In</th>\n",
       "    </tr>\n",
       "  </thead>\n",
       "  <tbody>\n",
       "    <tr>\n",
       "      <th>0</th>\n",
       "      <td>NJ - Newark</td>\n",
       "      <td>25</td>\n",
       "    </tr>\n",
       "    <tr>\n",
       "      <th>1</th>\n",
       "      <td>PA - Philadelphia</td>\n",
       "      <td>23</td>\n",
       "    </tr>\n",
       "    <tr>\n",
       "      <th>2</th>\n",
       "      <td>CA - San Mateo County</td>\n",
       "      <td>13</td>\n",
       "    </tr>\n",
       "    <tr>\n",
       "      <th>3</th>\n",
       "      <td>CA - Contra Costa County</td>\n",
       "      <td>6</td>\n",
       "    </tr>\n",
       "    <tr>\n",
       "      <th>4</th>\n",
       "      <td>CA - Alameda County</td>\n",
       "      <td>5</td>\n",
       "    </tr>\n",
       "  </tbody>\n",
       "</table>\n",
       "</div>"
      ],
      "text/plain": [
       "  Hospital Referral Region (HRR) Description  Max_Avg_In\n",
       "0                                NJ - Newark          25\n",
       "1                          PA - Philadelphia          23\n",
       "2                      CA - San Mateo County          13\n",
       "3                   CA - Contra Costa County           6\n",
       "4                        CA - Alameda County           5"
      ]
     },
     "execution_count": 69,
     "metadata": {},
     "output_type": "execute_result"
    }
   ],
   "source": [
    "Medicare_PROVIDER_Region['Max_Avg_In'].head(5).reset_index() ## Top 5 highly charged Provider by no. of times.\n"
   ]
  },
  {
   "cell_type": "code",
   "execution_count": 70,
   "metadata": {},
   "outputs": [
    {
     "data": {
      "text/html": [
       "<div>\n",
       "<style scoped>\n",
       "    .dataframe tbody tr th:only-of-type {\n",
       "        vertical-align: middle;\n",
       "    }\n",
       "\n",
       "    .dataframe tbody tr th {\n",
       "        vertical-align: top;\n",
       "    }\n",
       "\n",
       "    .dataframe thead th {\n",
       "        text-align: right;\n",
       "    }\n",
       "</style>\n",
       "<table border=\"1\" class=\"dataframe\">\n",
       "  <thead>\n",
       "    <tr style=\"text-align: right;\">\n",
       "      <th></th>\n",
       "      <th>Hospital Referral Region (HRR) Description</th>\n",
       "      <th>Tot_Amt_Max_Avg_In</th>\n",
       "    </tr>\n",
       "  </thead>\n",
       "  <tbody>\n",
       "    <tr>\n",
       "      <th>0</th>\n",
       "      <td>NJ - Newark</td>\n",
       "      <td>5.399916e+11</td>\n",
       "    </tr>\n",
       "    <tr>\n",
       "      <th>1</th>\n",
       "      <td>PA - Philadelphia</td>\n",
       "      <td>4.967923e+11</td>\n",
       "    </tr>\n",
       "    <tr>\n",
       "      <th>2</th>\n",
       "      <td>CA - San Mateo County</td>\n",
       "      <td>2.807956e+11</td>\n",
       "    </tr>\n",
       "    <tr>\n",
       "      <th>3</th>\n",
       "      <td>CA - Contra Costa County</td>\n",
       "      <td>1.295980e+11</td>\n",
       "    </tr>\n",
       "    <tr>\n",
       "      <th>4</th>\n",
       "      <td>CA - Alameda County</td>\n",
       "      <td>1.079983e+11</td>\n",
       "    </tr>\n",
       "  </tbody>\n",
       "</table>\n",
       "</div>"
      ],
      "text/plain": [
       "  Hospital Referral Region (HRR) Description  Tot_Amt_Max_Avg_In\n",
       "0                                NJ - Newark        5.399916e+11\n",
       "1                          PA - Philadelphia        4.967923e+11\n",
       "2                      CA - San Mateo County        2.807956e+11\n",
       "3                   CA - Contra Costa County        1.295980e+11\n",
       "4                        CA - Alameda County        1.079983e+11"
      ]
     },
     "execution_count": 70,
     "metadata": {},
     "output_type": "execute_result"
    }
   ],
   "source": [
    "Medicare_PROVIDER_1_Region['Tot_Amt_Max_Avg_In'].head(5).reset_index() ## Top 5 highly charged Provider by amount.\n"
   ]
  },
  {
   "cell_type": "markdown",
   "metadata": {},
   "source": [
    "#### Presenting above computed highly charged Region on Pie Chart-"
   ]
  },
  {
   "cell_type": "code",
   "execution_count": 71,
   "metadata": {},
   "outputs": [],
   "source": [
    "### Data prepartion for Pie Chart.\n",
    "Medicare_PROVIDER_11_Region=Medicare_PROVIDER_1_Region.reset_index()\n",
    "Medicare_PROVIDER_11_Region['Vis_Pie_Chart_']=np.where((Medicare_PROVIDER_11_Region['Tot_Amt_Max_Avg_In'].isin(Medicare_PROVIDER_11_Region['Tot_Amt_Max_Avg_In'].head(10))),\n",
    "                                              Medicare_PROVIDER_11_Region['Hospital Referral Region (HRR) Description'],'OTHER')\n",
    "##Other--- are all the less than Tot_Amt_Max_Avg_In 10 by rank of the Region Name.\n",
    "For_Pie_chart_= Medicare_PROVIDER_11_Region.groupby('Vis_Pie_Chart_').sum()"
   ]
  },
  {
   "cell_type": "code",
   "execution_count": 72,
   "metadata": {},
   "outputs": [
    {
     "data": {
      "text/plain": [
       "array([<matplotlib.axes._subplots.AxesSubplot object at 0x0D140270>],\n",
       "      dtype=object)"
      ]
     },
     "execution_count": 72,
     "metadata": {},
     "output_type": "execute_result"
    },
    {
     "data": {
      "image/png": "[encoded data removed]",
      "text/plain": [
       "<Figure size 576x576 with 1 Axes>"
      ]
     },
     "metadata": {},
     "output_type": "display_data"
    }
   ],
   "source": [
    "For_Pie_chart_.plot(kind='pie',\n",
    "            figsize=(8,8), \n",
    "            autopct='%1.0f%%', # to get percentage and round off appropriately\n",
    "            fontsize=10,legend=False, \n",
    "            subplots=True)"
   ]
  },
  {
   "cell_type": "code",
   "execution_count": 73,
   "metadata": {},
   "outputs": [],
   "source": [
    "# ## Top 5 Region by highly cost claimer-\n",
    "# Hospital Referral Region (HRR) Description\t    Tot_Amt_Max_Avg_In\n",
    "# NJ - Newark\t                                      5.399916e+11\n",
    "# PA - Philadelphia\t                                  4.967923e+11\n",
    "# CA - San Mateo County\t                              2.807956e+11\n",
    "# 3\tCA - Contra Costa County\t                      1.295980e+11\n",
    "# CA - Alameda County\t                              1.079983e+11"
   ]
  },
  {
   "cell_type": "code",
   "execution_count": null,
   "metadata": {},
   "outputs": [],
   "source": []
  },
  {
   "cell_type": "markdown",
   "metadata": {},
   "source": [
    "#### Lets calculate the highest cost claims by Region within the table-- Medicare_Provider_Charge_Outpatient_APC30_CY2011"
   ]
  },
  {
   "cell_type": "code",
   "execution_count": 74,
   "metadata": {},
   "outputs": [],
   "source": [
    "### Process-\n",
    "## Already evaluated the highest covered Charges of each DRG test--Using the above data.\n",
    "## Finding these highest cost claimed by region."
   ]
  },
  {
   "cell_type": "code",
   "execution_count": 75,
   "metadata": {},
   "outputs": [],
   "source": [
    "#Getting the number of times a Region has charge max value for procedure.\n",
    "Medicare_PROV_Region=Medicharge_APC30_Out[['Hospital Referral Region (HRR) Description','Max_Avg_Out']].groupby(['Hospital Referral Region (HRR) Description']).sum().sort_values(['Max_Avg_Out'], ascending=False)"
   ]
  },
  {
   "cell_type": "code",
   "execution_count": 76,
   "metadata": {},
   "outputs": [],
   "source": [
    "#Getting the amount charge above the max value for procedure.\n",
    "Medicare_PROV_1_Region=Medicharge_APC30_Out[['Hospital Referral Region (HRR) Description','Tot_Amt_Max_Avg_Out']].groupby(['Hospital Referral Region (HRR) Description']).sum().sort_values(['Tot_Amt_Max_Avg_Out'], ascending=False)"
   ]
  },
  {
   "cell_type": "code",
   "execution_count": 77,
   "metadata": {},
   "outputs": [
    {
     "data": {
      "text/html": [
       "<div>\n",
       "<style scoped>\n",
       "    .dataframe tbody tr th:only-of-type {\n",
       "        vertical-align: middle;\n",
       "    }\n",
       "\n",
       "    .dataframe tbody tr th {\n",
       "        vertical-align: top;\n",
       "    }\n",
       "\n",
       "    .dataframe thead th {\n",
       "        text-align: right;\n",
       "    }\n",
       "</style>\n",
       "<table border=\"1\" class=\"dataframe\">\n",
       "  <thead>\n",
       "    <tr style=\"text-align: right;\">\n",
       "      <th></th>\n",
       "      <th>Hospital Referral Region (HRR) Description</th>\n",
       "      <th>Max_Avg_Out</th>\n",
       "    </tr>\n",
       "  </thead>\n",
       "  <tbody>\n",
       "    <tr>\n",
       "      <th>0</th>\n",
       "      <td>PA - Philadelphia</td>\n",
       "      <td>5</td>\n",
       "    </tr>\n",
       "    <tr>\n",
       "      <th>1</th>\n",
       "      <td>CA - Los Angeles</td>\n",
       "      <td>3</td>\n",
       "    </tr>\n",
       "    <tr>\n",
       "      <th>2</th>\n",
       "      <td>FL - Pensacola</td>\n",
       "      <td>2</td>\n",
       "    </tr>\n",
       "    <tr>\n",
       "      <th>3</th>\n",
       "      <td>CA - Orange County</td>\n",
       "      <td>2</td>\n",
       "    </tr>\n",
       "    <tr>\n",
       "      <th>4</th>\n",
       "      <td>MA - Boston</td>\n",
       "      <td>2</td>\n",
       "    </tr>\n",
       "  </tbody>\n",
       "</table>\n",
       "</div>"
      ],
      "text/plain": [
       "  Hospital Referral Region (HRR) Description  Max_Avg_Out\n",
       "0                          PA - Philadelphia            5\n",
       "1                           CA - Los Angeles            3\n",
       "2                             FL - Pensacola            2\n",
       "3                         CA - Orange County            2\n",
       "4                                MA - Boston            2"
      ]
     },
     "execution_count": 77,
     "metadata": {},
     "output_type": "execute_result"
    }
   ],
   "source": [
    "Medicare_PROV_Region['Max_Avg_Out'].head(5).reset_index() ## Top 5 highly charged Region by no. of times.\n"
   ]
  },
  {
   "cell_type": "code",
   "execution_count": 78,
   "metadata": {},
   "outputs": [
    {
     "data": {
      "text/html": [
       "<div>\n",
       "<style scoped>\n",
       "    .dataframe tbody tr th:only-of-type {\n",
       "        vertical-align: middle;\n",
       "    }\n",
       "\n",
       "    .dataframe tbody tr th {\n",
       "        vertical-align: top;\n",
       "    }\n",
       "\n",
       "    .dataframe thead th {\n",
       "        text-align: right;\n",
       "    }\n",
       "</style>\n",
       "<table border=\"1\" class=\"dataframe\">\n",
       "  <thead>\n",
       "    <tr style=\"text-align: right;\">\n",
       "      <th></th>\n",
       "      <th>Hospital Referral Region (HRR) Description</th>\n",
       "      <th>Tot_Amt_Max_Avg_Out</th>\n",
       "    </tr>\n",
       "  </thead>\n",
       "  <tbody>\n",
       "    <tr>\n",
       "      <th>0</th>\n",
       "      <td>PA - Philadelphia</td>\n",
       "      <td>1.622614e+09</td>\n",
       "    </tr>\n",
       "    <tr>\n",
       "      <th>1</th>\n",
       "      <td>CA - Los Angeles</td>\n",
       "      <td>9.735686e+08</td>\n",
       "    </tr>\n",
       "    <tr>\n",
       "      <th>2</th>\n",
       "      <td>FL - Pensacola</td>\n",
       "      <td>6.490457e+08</td>\n",
       "    </tr>\n",
       "    <tr>\n",
       "      <th>3</th>\n",
       "      <td>CA - Orange County</td>\n",
       "      <td>6.490457e+08</td>\n",
       "    </tr>\n",
       "    <tr>\n",
       "      <th>4</th>\n",
       "      <td>MA - Boston</td>\n",
       "      <td>6.490457e+08</td>\n",
       "    </tr>\n",
       "  </tbody>\n",
       "</table>\n",
       "</div>"
      ],
      "text/plain": [
       "  Hospital Referral Region (HRR) Description  Tot_Amt_Max_Avg_Out\n",
       "0                          PA - Philadelphia         1.622614e+09\n",
       "1                           CA - Los Angeles         9.735686e+08\n",
       "2                             FL - Pensacola         6.490457e+08\n",
       "3                         CA - Orange County         6.490457e+08\n",
       "4                                MA - Boston         6.490457e+08"
      ]
     },
     "execution_count": 78,
     "metadata": {},
     "output_type": "execute_result"
    }
   ],
   "source": [
    "Medicare_PROV_1_Region['Tot_Amt_Max_Avg_Out'].head(5).reset_index() ## Top 5 highly charged Region by amount.\n",
    "\n",
    "## Top 5 highly charged Region by amount."
   ]
  },
  {
   "cell_type": "code",
   "execution_count": null,
   "metadata": {},
   "outputs": [],
   "source": []
  },
  {
   "cell_type": "markdown",
   "metadata": {},
   "source": [
    "### <a>Parts 1D: Highest Number of Procedures and Largest Differences between Claims and Reimbursements"
   ]
  },
  {
   "cell_type": "code",
   "execution_count": 79,
   "metadata": {},
   "outputs": [],
   "source": [
    "## Average Covered Charges as Claims\n",
    "## Average Total Payments as Reimbursement"
   ]
  },
  {
   "cell_type": "markdown",
   "metadata": {},
   "source": [
    "####  Using the table-- Medicare_Provider_Charge_Inpatient_DRG100_FY2011"
   ]
  },
  {
   "cell_type": "code",
   "execution_count": 80,
   "metadata": {},
   "outputs": [],
   "source": [
    "Med_In_Tab=Medi_Charge_DRG100_FY2011[['DRG Definition', 'Provider Name','Average Total Payments', 'Average Covered Charges' ]]\n",
    "Med_In_Tab=Med_In_Tab.copy()"
   ]
  },
  {
   "cell_type": "code",
   "execution_count": 81,
   "metadata": {},
   "outputs": [],
   "source": [
    "#Difference of claim and reimbursement\n",
    "Med_In_Tab['CLAIM_DIFF']=Med_In_Tab['Average Covered Charges']-Med_In_Tab['Average Total Payments']"
   ]
  },
  {
   "cell_type": "code",
   "execution_count": 82,
   "metadata": {},
   "outputs": [
    {
     "data": {
      "text/html": [
       "<div>\n",
       "<style scoped>\n",
       "    .dataframe tbody tr th:only-of-type {\n",
       "        vertical-align: middle;\n",
       "    }\n",
       "\n",
       "    .dataframe tbody tr th {\n",
       "        vertical-align: top;\n",
       "    }\n",
       "\n",
       "    .dataframe thead th {\n",
       "        text-align: right;\n",
       "    }\n",
       "</style>\n",
       "<table border=\"1\" class=\"dataframe\">\n",
       "  <thead>\n",
       "    <tr style=\"text-align: right;\">\n",
       "      <th></th>\n",
       "      <th>DRG Definition</th>\n",
       "      <th>Provider Name</th>\n",
       "      <th>Average Total Payments</th>\n",
       "      <th>Average Covered Charges</th>\n",
       "      <th>CLAIM_DIFF</th>\n",
       "    </tr>\n",
       "  </thead>\n",
       "  <tbody>\n",
       "    <tr>\n",
       "      <th>0</th>\n",
       "      <td>039 - EXTRACRANIAL PROCEDURES W/O CC/MCC</td>\n",
       "      <td>SOUTHEAST ALABAMA MEDICAL CENTER</td>\n",
       "      <td>5777.241758</td>\n",
       "      <td>32963.07692</td>\n",
       "      <td>27185.835162</td>\n",
       "    </tr>\n",
       "    <tr>\n",
       "      <th>1</th>\n",
       "      <td>039 - EXTRACRANIAL PROCEDURES W/O CC/MCC</td>\n",
       "      <td>MARSHALL MEDICAL CENTER SOUTH</td>\n",
       "      <td>5787.571429</td>\n",
       "      <td>15131.85714</td>\n",
       "      <td>9344.285711</td>\n",
       "    </tr>\n",
       "  </tbody>\n",
       "</table>\n",
       "</div>"
      ],
      "text/plain": [
       "                             DRG Definition                     Provider Name  \\\n",
       "0  039 - EXTRACRANIAL PROCEDURES W/O CC/MCC  SOUTHEAST ALABAMA MEDICAL CENTER   \n",
       "1  039 - EXTRACRANIAL PROCEDURES W/O CC/MCC     MARSHALL MEDICAL CENTER SOUTH   \n",
       "\n",
       "   Average Total Payments  Average Covered Charges    CLAIM_DIFF  \n",
       "0             5777.241758              32963.07692  27185.835162  \n",
       "1             5787.571429              15131.85714   9344.285711  "
      ]
     },
     "execution_count": 82,
     "metadata": {},
     "output_type": "execute_result"
    }
   ],
   "source": [
    "Med_In_Tab.head(2)"
   ]
  },
  {
   "cell_type": "code",
   "execution_count": 83,
   "metadata": {},
   "outputs": [],
   "source": [
    "#Finding the mean of Average Covered Charges for Inpatient_DRG by DRG Defination and Provider.\n",
    "Med_In_Tab_AGG = Med_In_Tab[['DRG Definition', 'Provider Name', 'CLAIM_DIFF']].groupby(['DRG Definition', 'Provider Name']).mean().add_suffix('_avg').reset_index()"
   ]
  },
  {
   "cell_type": "code",
   "execution_count": 84,
   "metadata": {},
   "outputs": [
    {
     "data": {
      "text/html": [
       "<div>\n",
       "<style scoped>\n",
       "    .dataframe tbody tr th:only-of-type {\n",
       "        vertical-align: middle;\n",
       "    }\n",
       "\n",
       "    .dataframe tbody tr th {\n",
       "        vertical-align: top;\n",
       "    }\n",
       "\n",
       "    .dataframe thead th {\n",
       "        text-align: right;\n",
       "    }\n",
       "</style>\n",
       "<table border=\"1\" class=\"dataframe\">\n",
       "  <thead>\n",
       "    <tr style=\"text-align: right;\">\n",
       "      <th></th>\n",
       "      <th>DRG Definition</th>\n",
       "      <th>Provider Name</th>\n",
       "      <th>CLAIM_DIFF_avg</th>\n",
       "    </tr>\n",
       "  </thead>\n",
       "  <tbody>\n",
       "    <tr>\n",
       "      <th>0</th>\n",
       "      <td>039 - EXTRACRANIAL PROCEDURES W/O CC/MCC</td>\n",
       "      <td>ABBOTT NORTHWESTERN HOSPITAL</td>\n",
       "      <td>27026.166671</td>\n",
       "    </tr>\n",
       "    <tr>\n",
       "      <th>1</th>\n",
       "      <td>039 - EXTRACRANIAL PROCEDURES W/O CC/MCC</td>\n",
       "      <td>ABILENE REGIONAL MEDICAL CENTER</td>\n",
       "      <td>29293.857146</td>\n",
       "    </tr>\n",
       "    <tr>\n",
       "      <th>2</th>\n",
       "      <td>039 - EXTRACRANIAL PROCEDURES W/O CC/MCC</td>\n",
       "      <td>ABINGTON MEMORIAL HOSPITAL</td>\n",
       "      <td>33207.235299</td>\n",
       "    </tr>\n",
       "  </tbody>\n",
       "</table>\n",
       "</div>"
      ],
      "text/plain": [
       "                             DRG Definition                    Provider Name  \\\n",
       "0  039 - EXTRACRANIAL PROCEDURES W/O CC/MCC     ABBOTT NORTHWESTERN HOSPITAL   \n",
       "1  039 - EXTRACRANIAL PROCEDURES W/O CC/MCC  ABILENE REGIONAL MEDICAL CENTER   \n",
       "2  039 - EXTRACRANIAL PROCEDURES W/O CC/MCC       ABINGTON MEMORIAL HOSPITAL   \n",
       "\n",
       "   CLAIM_DIFF_avg  \n",
       "0    27026.166671  \n",
       "1    29293.857146  \n",
       "2    33207.235299  "
      ]
     },
     "execution_count": 84,
     "metadata": {},
     "output_type": "execute_result"
    }
   ],
   "source": [
    "Med_In_Tab_AGG.head(3)"
   ]
  },
  {
   "cell_type": "code",
   "execution_count": 85,
   "metadata": {},
   "outputs": [],
   "source": [
    "#Finding the max for InpatientDRG DRG Definition\n",
    "Med_In_Tab_MAX = Med_In_Tab_AGG[['DRG Definition', 'CLAIM_DIFF_avg']].groupby(['DRG Definition']).max().add_suffix('_max').reset_index()"
   ]
  },
  {
   "cell_type": "code",
   "execution_count": 86,
   "metadata": {},
   "outputs": [
    {
     "data": {
      "text/html": [
       "<div>\n",
       "<style scoped>\n",
       "    .dataframe tbody tr th:only-of-type {\n",
       "        vertical-align: middle;\n",
       "    }\n",
       "\n",
       "    .dataframe tbody tr th {\n",
       "        vertical-align: top;\n",
       "    }\n",
       "\n",
       "    .dataframe thead th {\n",
       "        text-align: right;\n",
       "    }\n",
       "</style>\n",
       "<table border=\"1\" class=\"dataframe\">\n",
       "  <thead>\n",
       "    <tr style=\"text-align: right;\">\n",
       "      <th></th>\n",
       "      <th>DRG Definition</th>\n",
       "      <th>CLAIM_DIFF_avg_max</th>\n",
       "    </tr>\n",
       "  </thead>\n",
       "  <tbody>\n",
       "    <tr>\n",
       "      <th>0</th>\n",
       "      <td>039 - EXTRACRANIAL PROCEDURES W/O CC/MCC</td>\n",
       "      <td>135377.61538</td>\n",
       "    </tr>\n",
       "    <tr>\n",
       "      <th>1</th>\n",
       "      <td>057 - DEGENERATIVE NERVOUS SYSTEM DISORDERS W/...</td>\n",
       "      <td>122609.00000</td>\n",
       "    </tr>\n",
       "  </tbody>\n",
       "</table>\n",
       "</div>"
      ],
      "text/plain": [
       "                                      DRG Definition  CLAIM_DIFF_avg_max\n",
       "0           039 - EXTRACRANIAL PROCEDURES W/O CC/MCC        135377.61538\n",
       "1  057 - DEGENERATIVE NERVOUS SYSTEM DISORDERS W/...        122609.00000"
      ]
     },
     "execution_count": 86,
     "metadata": {},
     "output_type": "execute_result"
    }
   ],
   "source": [
    "Med_In_Tab_MAX.head(2)"
   ]
  },
  {
   "cell_type": "code",
   "execution_count": 87,
   "metadata": {},
   "outputs": [],
   "source": [
    "#Merging The mean and max - will give side by side comparison of region having highest claim difference\n",
    "Med_In_Tab_Join = Med_In_Tab_AGG.merge(Med_In_Tab_MAX,on='DRG Definition', how='left')"
   ]
  },
  {
   "cell_type": "code",
   "execution_count": 88,
   "metadata": {},
   "outputs": [
    {
     "data": {
      "text/html": [
       "<div>\n",
       "<style scoped>\n",
       "    .dataframe tbody tr th:only-of-type {\n",
       "        vertical-align: middle;\n",
       "    }\n",
       "\n",
       "    .dataframe tbody tr th {\n",
       "        vertical-align: top;\n",
       "    }\n",
       "\n",
       "    .dataframe thead th {\n",
       "        text-align: right;\n",
       "    }\n",
       "</style>\n",
       "<table border=\"1\" class=\"dataframe\">\n",
       "  <thead>\n",
       "    <tr style=\"text-align: right;\">\n",
       "      <th></th>\n",
       "      <th>DRG Definition</th>\n",
       "      <th>Provider Name</th>\n",
       "      <th>CLAIM_DIFF_avg</th>\n",
       "      <th>CLAIM_DIFF_avg_max</th>\n",
       "    </tr>\n",
       "  </thead>\n",
       "  <tbody>\n",
       "    <tr>\n",
       "      <th>0</th>\n",
       "      <td>039 - EXTRACRANIAL PROCEDURES W/O CC/MCC</td>\n",
       "      <td>ABBOTT NORTHWESTERN HOSPITAL</td>\n",
       "      <td>27026.166671</td>\n",
       "      <td>135377.61538</td>\n",
       "    </tr>\n",
       "    <tr>\n",
       "      <th>1</th>\n",
       "      <td>039 - EXTRACRANIAL PROCEDURES W/O CC/MCC</td>\n",
       "      <td>ABILENE REGIONAL MEDICAL CENTER</td>\n",
       "      <td>29293.857146</td>\n",
       "      <td>135377.61538</td>\n",
       "    </tr>\n",
       "  </tbody>\n",
       "</table>\n",
       "</div>"
      ],
      "text/plain": [
       "                             DRG Definition                    Provider Name  \\\n",
       "0  039 - EXTRACRANIAL PROCEDURES W/O CC/MCC     ABBOTT NORTHWESTERN HOSPITAL   \n",
       "1  039 - EXTRACRANIAL PROCEDURES W/O CC/MCC  ABILENE REGIONAL MEDICAL CENTER   \n",
       "\n",
       "   CLAIM_DIFF_avg  CLAIM_DIFF_avg_max  \n",
       "0    27026.166671        135377.61538  \n",
       "1    29293.857146        135377.61538  "
      ]
     },
     "execution_count": 88,
     "metadata": {},
     "output_type": "execute_result"
    }
   ],
   "source": [
    "Med_In_Tab_Join.head(2)"
   ]
  },
  {
   "cell_type": "code",
   "execution_count": 89,
   "metadata": {},
   "outputs": [],
   "source": [
    "# New column created for further process-\n",
    "Med_In_Tab_Join['Comparison']=np.where((Med_In_Tab_Join['CLAIM_DIFF_avg'])>=(Med_In_Tab_Join['CLAIM_DIFF_avg_max']),1,0)"
   ]
  },
  {
   "cell_type": "code",
   "execution_count": 90,
   "metadata": {},
   "outputs": [
    {
     "data": {
      "text/html": [
       "<div>\n",
       "<style scoped>\n",
       "    .dataframe tbody tr th:only-of-type {\n",
       "        vertical-align: middle;\n",
       "    }\n",
       "\n",
       "    .dataframe tbody tr th {\n",
       "        vertical-align: top;\n",
       "    }\n",
       "\n",
       "    .dataframe thead th {\n",
       "        text-align: right;\n",
       "    }\n",
       "</style>\n",
       "<table border=\"1\" class=\"dataframe\">\n",
       "  <thead>\n",
       "    <tr style=\"text-align: right;\">\n",
       "      <th></th>\n",
       "      <th>DRG Definition</th>\n",
       "      <th>Provider Name</th>\n",
       "      <th>CLAIM_DIFF_avg</th>\n",
       "      <th>CLAIM_DIFF_avg_max</th>\n",
       "      <th>Comparison</th>\n",
       "    </tr>\n",
       "  </thead>\n",
       "  <tbody>\n",
       "    <tr>\n",
       "      <th>0</th>\n",
       "      <td>039 - EXTRACRANIAL PROCEDURES W/O CC/MCC</td>\n",
       "      <td>ABBOTT NORTHWESTERN HOSPITAL</td>\n",
       "      <td>27026.166671</td>\n",
       "      <td>135377.61538</td>\n",
       "      <td>0</td>\n",
       "    </tr>\n",
       "    <tr>\n",
       "      <th>1</th>\n",
       "      <td>039 - EXTRACRANIAL PROCEDURES W/O CC/MCC</td>\n",
       "      <td>ABILENE REGIONAL MEDICAL CENTER</td>\n",
       "      <td>29293.857146</td>\n",
       "      <td>135377.61538</td>\n",
       "      <td>0</td>\n",
       "    </tr>\n",
       "  </tbody>\n",
       "</table>\n",
       "</div>"
      ],
      "text/plain": [
       "                             DRG Definition                    Provider Name  \\\n",
       "0  039 - EXTRACRANIAL PROCEDURES W/O CC/MCC     ABBOTT NORTHWESTERN HOSPITAL   \n",
       "1  039 - EXTRACRANIAL PROCEDURES W/O CC/MCC  ABILENE REGIONAL MEDICAL CENTER   \n",
       "\n",
       "   CLAIM_DIFF_avg  CLAIM_DIFF_avg_max  Comparison  \n",
       "0    27026.166671        135377.61538           0  \n",
       "1    29293.857146        135377.61538           0  "
      ]
     },
     "execution_count": 90,
     "metadata": {},
     "output_type": "execute_result"
    }
   ],
   "source": [
    "Med_In_Tab_Join.head(2)"
   ]
  },
  {
   "cell_type": "code",
   "execution_count": 91,
   "metadata": {},
   "outputs": [],
   "source": [
    "# New column created for further process-\n",
    "Med_In_Tab_Join['Comparison_2']=np.where((Med_In_Tab_Join['CLAIM_DIFF_avg'])>=(Med_In_Tab_Join['CLAIM_DIFF_avg_max']),(Med_In_Tab_Join['CLAIM_DIFF_avg_max']),0)"
   ]
  },
  {
   "cell_type": "code",
   "execution_count": 92,
   "metadata": {},
   "outputs": [],
   "source": [
    "#Getting number of times a provider has max claim diff for max procedures\n",
    "Prov_Max_claim_diff = Med_In_Tab_Join[['Provider Name','Comparison']].groupby(['Provider Name']).sum().sort_values(['Comparison'], ascending=False)"
   ]
  },
  {
   "cell_type": "code",
   "execution_count": 93,
   "metadata": {},
   "outputs": [
    {
     "data": {
      "text/html": [
       "<div>\n",
       "<style scoped>\n",
       "    .dataframe tbody tr th:only-of-type {\n",
       "        vertical-align: middle;\n",
       "    }\n",
       "\n",
       "    .dataframe tbody tr th {\n",
       "        vertical-align: top;\n",
       "    }\n",
       "\n",
       "    .dataframe thead th {\n",
       "        text-align: right;\n",
       "    }\n",
       "</style>\n",
       "<table border=\"1\" class=\"dataframe\">\n",
       "  <thead>\n",
       "    <tr style=\"text-align: right;\">\n",
       "      <th></th>\n",
       "      <th>Comparison</th>\n",
       "    </tr>\n",
       "    <tr>\n",
       "      <th>Provider Name</th>\n",
       "      <th></th>\n",
       "    </tr>\n",
       "  </thead>\n",
       "  <tbody>\n",
       "    <tr>\n",
       "      <th>BAYONNE HOSPITAL CENTER</th>\n",
       "      <td>29</td>\n",
       "    </tr>\n",
       "    <tr>\n",
       "      <th>CROZER CHESTER MEDICAL CENTER</th>\n",
       "      <td>12</td>\n",
       "    </tr>\n",
       "    <tr>\n",
       "      <th>HAHNEMANN UNIVERSITY HOSPITAL</th>\n",
       "      <td>8</td>\n",
       "    </tr>\n",
       "    <tr>\n",
       "      <th>WASHINGTON HOSPITAL</th>\n",
       "      <td>6</td>\n",
       "    </tr>\n",
       "    <tr>\n",
       "      <th>STANFORD HOSPITAL</th>\n",
       "      <td>6</td>\n",
       "    </tr>\n",
       "  </tbody>\n",
       "</table>\n",
       "</div>"
      ],
      "text/plain": [
       "                               Comparison\n",
       "Provider Name                            \n",
       "BAYONNE HOSPITAL CENTER                29\n",
       "CROZER CHESTER MEDICAL CENTER          12\n",
       "HAHNEMANN UNIVERSITY HOSPITAL           8\n",
       "WASHINGTON HOSPITAL                     6\n",
       "STANFORD HOSPITAL                       6"
      ]
     },
     "execution_count": 93,
     "metadata": {},
     "output_type": "execute_result"
    }
   ],
   "source": [
    "Prov_Max_claim_diff.head() ##Provider Name-number of times a provider has max claim diff for max procedures"
   ]
  },
  {
   "cell_type": "code",
   "execution_count": 94,
   "metadata": {},
   "outputs": [],
   "source": [
    "### Data prepartion for Pie Chart.\n",
    "Medic_PROV11=Prov_Max_claim_diff.reset_index()\n",
    "Medic_PROV11['Vis_P_C']=np.where((Medic_PROV11['Provider Name'].isin(Medic_PROV11['Provider Name'].head(10))),\n",
    "                                              Medic_PROV11['Provider Name'],'OTHER')\n",
    "##Other--- are all the less than are rank 10 by the Provider Name.\n",
    "For_Pie_cha= Medic_PROV11.groupby('Vis_P_C').sum()"
   ]
  },
  {
   "cell_type": "code",
   "execution_count": 95,
   "metadata": {},
   "outputs": [
    {
     "data": {
      "text/plain": [
       "array([<matplotlib.axes._subplots.AxesSubplot object at 0x0D3B53D0>],\n",
       "      dtype=object)"
      ]
     },
     "execution_count": 95,
     "metadata": {},
     "output_type": "execute_result"
    },
    {
     "data": {
      "image/png": "[encoded data removed]",
      "text/plain": [
       "<Figure size 1080x504 with 1 Axes>"
      ]
     },
     "metadata": {},
     "output_type": "display_data"
    }
   ],
   "source": [
    "For_Pie_cha.plot(kind='pie',\n",
    "            figsize=(15,7), \n",
    "            autopct='%1.0f%%', # to get percentage and round off appropriately\n",
    "            fontsize=10,legend=False, \n",
    "            subplots=True)"
   ]
  },
  {
   "cell_type": "code",
   "execution_count": null,
   "metadata": {},
   "outputs": [],
   "source": []
  },
  {
   "cell_type": "markdown",
   "metadata": {},
   "source": [
    "#### Using the table--  Medicare_Provider_Charge_Outpatient_APC30_CY2011"
   ]
  },
  {
   "cell_type": "code",
   "execution_count": 96,
   "metadata": {},
   "outputs": [],
   "source": [
    "# Average Estimated Submitted Charges as Claims\n",
    "# Average Total Payments as Reimbursement"
   ]
  },
  {
   "cell_type": "code",
   "execution_count": 97,
   "metadata": {},
   "outputs": [
    {
     "data": {
      "text/html": [
       "<div>\n",
       "<style scoped>\n",
       "    .dataframe tbody tr th:only-of-type {\n",
       "        vertical-align: middle;\n",
       "    }\n",
       "\n",
       "    .dataframe tbody tr th {\n",
       "        vertical-align: top;\n",
       "    }\n",
       "\n",
       "    .dataframe thead th {\n",
       "        text-align: right;\n",
       "    }\n",
       "</style>\n",
       "<table border=\"1\" class=\"dataframe\">\n",
       "  <thead>\n",
       "    <tr style=\"text-align: right;\">\n",
       "      <th></th>\n",
       "      <th>APC</th>\n",
       "      <th>Provider Id</th>\n",
       "      <th>Provider Name</th>\n",
       "      <th>Provider Street Address</th>\n",
       "      <th>Provider City</th>\n",
       "      <th>Provider State</th>\n",
       "      <th>Provider Zip Code</th>\n",
       "      <th>Hospital Referral Region (HRR) Description</th>\n",
       "      <th>Outpatient Services</th>\n",
       "      <th>Average  Estimated Submitted Charges</th>\n",
       "      <th>Average Total Payments</th>\n",
       "    </tr>\n",
       "  </thead>\n",
       "  <tbody>\n",
       "    <tr>\n",
       "      <th>0</th>\n",
       "      <td>0012 - Level I Debridement &amp; Destruction</td>\n",
       "      <td>10029</td>\n",
       "      <td>EAST ALABAMA MEDICAL CENTER AND SNF</td>\n",
       "      <td>2000 PEPPERELL PARKWAY</td>\n",
       "      <td>OPELIKA</td>\n",
       "      <td>AL</td>\n",
       "      <td>36801</td>\n",
       "      <td>AL - Birmingham</td>\n",
       "      <td>23</td>\n",
       "      <td>78.086957</td>\n",
       "      <td>21.910435</td>\n",
       "    </tr>\n",
       "    <tr>\n",
       "      <th>1</th>\n",
       "      <td>0012 - Level I Debridement &amp; Destruction</td>\n",
       "      <td>20024</td>\n",
       "      <td>CENTRAL PENINSULA GENERAL HOSPITAL</td>\n",
       "      <td>250 HOSPITAL PLACE</td>\n",
       "      <td>SOLDOTNA</td>\n",
       "      <td>AK</td>\n",
       "      <td>99669</td>\n",
       "      <td>AK - Anchorage</td>\n",
       "      <td>994</td>\n",
       "      <td>149.589749</td>\n",
       "      <td>36.623853</td>\n",
       "    </tr>\n",
       "  </tbody>\n",
       "</table>\n",
       "</div>"
      ],
      "text/plain": [
       "                                        APC  Provider Id  \\\n",
       "0  0012 - Level I Debridement & Destruction        10029   \n",
       "1  0012 - Level I Debridement & Destruction        20024   \n",
       "\n",
       "                         Provider Name Provider Street Address Provider City  \\\n",
       "0  EAST ALABAMA MEDICAL CENTER AND SNF  2000 PEPPERELL PARKWAY       OPELIKA   \n",
       "1   CENTRAL PENINSULA GENERAL HOSPITAL      250 HOSPITAL PLACE      SOLDOTNA   \n",
       "\n",
       "  Provider State  Provider Zip Code  \\\n",
       "0             AL              36801   \n",
       "1             AK              99669   \n",
       "\n",
       "  Hospital Referral Region (HRR) Description  Outpatient Services  \\\n",
       "0                            AL - Birmingham                   23   \n",
       "1                             AK - Anchorage                  994   \n",
       "\n",
       "   Average  Estimated Submitted Charges  Average Total Payments  \n",
       "0                             78.086957               21.910435  \n",
       "1                            149.589749               36.623853  "
      ]
     },
     "execution_count": 97,
     "metadata": {},
     "output_type": "execute_result"
    }
   ],
   "source": [
    "Medi_Provider_APC30_CY2011.head(2)"
   ]
  },
  {
   "cell_type": "code",
   "execution_count": 98,
   "metadata": {},
   "outputs": [],
   "source": [
    "Med_Out_Tab=Medi_Provider_APC30_CY2011[['APC', 'Provider Name','Average  Estimated Submitted Charges', 'Average Total Payments' ]]\n",
    "Med_Out_Tab=Med_Out_Tab.copy()"
   ]
  },
  {
   "cell_type": "code",
   "execution_count": 99,
   "metadata": {},
   "outputs": [],
   "source": [
    "#Difference of claim and reimbursement\n",
    "Med_Out_Tab['CLAIM_DIFF_1']=Med_Out_Tab['Average  Estimated Submitted Charges']-Med_Out_Tab['Average Total Payments']"
   ]
  },
  {
   "cell_type": "code",
   "execution_count": 100,
   "metadata": {},
   "outputs": [
    {
     "data": {
      "text/html": [
       "<div>\n",
       "<style scoped>\n",
       "    .dataframe tbody tr th:only-of-type {\n",
       "        vertical-align: middle;\n",
       "    }\n",
       "\n",
       "    .dataframe tbody tr th {\n",
       "        vertical-align: top;\n",
       "    }\n",
       "\n",
       "    .dataframe thead th {\n",
       "        text-align: right;\n",
       "    }\n",
       "</style>\n",
       "<table border=\"1\" class=\"dataframe\">\n",
       "  <thead>\n",
       "    <tr style=\"text-align: right;\">\n",
       "      <th></th>\n",
       "      <th>APC</th>\n",
       "      <th>Provider Name</th>\n",
       "      <th>Average  Estimated Submitted Charges</th>\n",
       "      <th>Average Total Payments</th>\n",
       "      <th>CLAIM_DIFF_1</th>\n",
       "    </tr>\n",
       "  </thead>\n",
       "  <tbody>\n",
       "    <tr>\n",
       "      <th>0</th>\n",
       "      <td>0012 - Level I Debridement &amp; Destruction</td>\n",
       "      <td>EAST ALABAMA MEDICAL CENTER AND SNF</td>\n",
       "      <td>78.086957</td>\n",
       "      <td>21.910435</td>\n",
       "      <td>56.176522</td>\n",
       "    </tr>\n",
       "    <tr>\n",
       "      <th>1</th>\n",
       "      <td>0012 - Level I Debridement &amp; Destruction</td>\n",
       "      <td>CENTRAL PENINSULA GENERAL HOSPITAL</td>\n",
       "      <td>149.589749</td>\n",
       "      <td>36.623853</td>\n",
       "      <td>112.965895</td>\n",
       "    </tr>\n",
       "  </tbody>\n",
       "</table>\n",
       "</div>"
      ],
      "text/plain": [
       "                                        APC  \\\n",
       "0  0012 - Level I Debridement & Destruction   \n",
       "1  0012 - Level I Debridement & Destruction   \n",
       "\n",
       "                         Provider Name  Average  Estimated Submitted Charges  \\\n",
       "0  EAST ALABAMA MEDICAL CENTER AND SNF                             78.086957   \n",
       "1   CENTRAL PENINSULA GENERAL HOSPITAL                            149.589749   \n",
       "\n",
       "   Average Total Payments  CLAIM_DIFF_1  \n",
       "0               21.910435     56.176522  \n",
       "1               36.623853    112.965895  "
      ]
     },
     "execution_count": 100,
     "metadata": {},
     "output_type": "execute_result"
    }
   ],
   "source": [
    "Med_Out_Tab.head(2)"
   ]
  },
  {
   "cell_type": "code",
   "execution_count": 101,
   "metadata": {},
   "outputs": [],
   "source": [
    "#Finding the mean of Average Estimated Submitted Charges for Out_patient by APC  and Provider.\n",
    "Med_Out_Tab_AGG = Med_Out_Tab[['APC', 'Provider Name', 'CLAIM_DIFF_1']].groupby(['APC', 'Provider Name']).mean().add_suffix('_avg').reset_index()"
   ]
  },
  {
   "cell_type": "code",
   "execution_count": 102,
   "metadata": {},
   "outputs": [
    {
     "data": {
      "text/html": [
       "<div>\n",
       "<style scoped>\n",
       "    .dataframe tbody tr th:only-of-type {\n",
       "        vertical-align: middle;\n",
       "    }\n",
       "\n",
       "    .dataframe tbody tr th {\n",
       "        vertical-align: top;\n",
       "    }\n",
       "\n",
       "    .dataframe thead th {\n",
       "        text-align: right;\n",
       "    }\n",
       "</style>\n",
       "<table border=\"1\" class=\"dataframe\">\n",
       "  <thead>\n",
       "    <tr style=\"text-align: right;\">\n",
       "      <th></th>\n",
       "      <th>APC</th>\n",
       "      <th>Provider Name</th>\n",
       "      <th>CLAIM_DIFF_1_avg</th>\n",
       "    </tr>\n",
       "  </thead>\n",
       "  <tbody>\n",
       "    <tr>\n",
       "      <th>0</th>\n",
       "      <td>0012 - Level I Debridement &amp; Destruction</td>\n",
       "      <td>ALTON MEMORIAL HOSPITAL</td>\n",
       "      <td>91.856818</td>\n",
       "    </tr>\n",
       "    <tr>\n",
       "      <th>1</th>\n",
       "      <td>0012 - Level I Debridement &amp; Destruction</td>\n",
       "      <td>ALTRU HOSPITAL</td>\n",
       "      <td>7.259495</td>\n",
       "    </tr>\n",
       "  </tbody>\n",
       "</table>\n",
       "</div>"
      ],
      "text/plain": [
       "                                        APC            Provider Name  \\\n",
       "0  0012 - Level I Debridement & Destruction  ALTON MEMORIAL HOSPITAL   \n",
       "1  0012 - Level I Debridement & Destruction           ALTRU HOSPITAL   \n",
       "\n",
       "   CLAIM_DIFF_1_avg  \n",
       "0         91.856818  \n",
       "1          7.259495  "
      ]
     },
     "execution_count": 102,
     "metadata": {},
     "output_type": "execute_result"
    }
   ],
   "source": [
    "Med_Out_Tab_AGG.head(2)"
   ]
  },
  {
   "cell_type": "code",
   "execution_count": 103,
   "metadata": {},
   "outputs": [],
   "source": [
    "#Finding the max for Out_patient APC\n",
    "Med_Out_Tab_MAX = Med_Out_Tab_AGG[['APC', 'CLAIM_DIFF_1_avg']].groupby(['APC']).max().add_suffix('_max').reset_index()"
   ]
  },
  {
   "cell_type": "code",
   "execution_count": 104,
   "metadata": {},
   "outputs": [
    {
     "data": {
      "text/html": [
       "<div>\n",
       "<style scoped>\n",
       "    .dataframe tbody tr th:only-of-type {\n",
       "        vertical-align: middle;\n",
       "    }\n",
       "\n",
       "    .dataframe tbody tr th {\n",
       "        vertical-align: top;\n",
       "    }\n",
       "\n",
       "    .dataframe thead th {\n",
       "        text-align: right;\n",
       "    }\n",
       "</style>\n",
       "<table border=\"1\" class=\"dataframe\">\n",
       "  <thead>\n",
       "    <tr style=\"text-align: right;\">\n",
       "      <th></th>\n",
       "      <th>APC</th>\n",
       "      <th>CLAIM_DIFF_1_avg_max</th>\n",
       "    </tr>\n",
       "  </thead>\n",
       "  <tbody>\n",
       "    <tr>\n",
       "      <th>0</th>\n",
       "      <td>0012 - Level I Debridement &amp; Destruction</td>\n",
       "      <td>827.44</td>\n",
       "    </tr>\n",
       "    <tr>\n",
       "      <th>1</th>\n",
       "      <td>0013 - Level II Debridement &amp; Destruction</td>\n",
       "      <td>5175.40</td>\n",
       "    </tr>\n",
       "  </tbody>\n",
       "</table>\n",
       "</div>"
      ],
      "text/plain": [
       "                                         APC  CLAIM_DIFF_1_avg_max\n",
       "0   0012 - Level I Debridement & Destruction                827.44\n",
       "1  0013 - Level II Debridement & Destruction               5175.40"
      ]
     },
     "execution_count": 104,
     "metadata": {},
     "output_type": "execute_result"
    }
   ],
   "source": [
    "Med_Out_Tab_MAX.head(2)"
   ]
  },
  {
   "cell_type": "code",
   "execution_count": 105,
   "metadata": {},
   "outputs": [],
   "source": [
    "#Merging The mean and max - will give side by side comparison of region having highest claim difference\n",
    "Med_Out_Tab_Join = Med_Out_Tab_AGG.merge(Med_Out_Tab_MAX,on='APC', how='left')"
   ]
  },
  {
   "cell_type": "code",
   "execution_count": 106,
   "metadata": {},
   "outputs": [
    {
     "data": {
      "text/html": [
       "<div>\n",
       "<style scoped>\n",
       "    .dataframe tbody tr th:only-of-type {\n",
       "        vertical-align: middle;\n",
       "    }\n",
       "\n",
       "    .dataframe tbody tr th {\n",
       "        vertical-align: top;\n",
       "    }\n",
       "\n",
       "    .dataframe thead th {\n",
       "        text-align: right;\n",
       "    }\n",
       "</style>\n",
       "<table border=\"1\" class=\"dataframe\">\n",
       "  <thead>\n",
       "    <tr style=\"text-align: right;\">\n",
       "      <th></th>\n",
       "      <th>APC</th>\n",
       "      <th>Provider Name</th>\n",
       "      <th>CLAIM_DIFF_1_avg</th>\n",
       "      <th>CLAIM_DIFF_1_avg_max</th>\n",
       "    </tr>\n",
       "  </thead>\n",
       "  <tbody>\n",
       "    <tr>\n",
       "      <th>0</th>\n",
       "      <td>0012 - Level I Debridement &amp; Destruction</td>\n",
       "      <td>ALTON MEMORIAL HOSPITAL</td>\n",
       "      <td>91.856818</td>\n",
       "      <td>827.44</td>\n",
       "    </tr>\n",
       "    <tr>\n",
       "      <th>1</th>\n",
       "      <td>0012 - Level I Debridement &amp; Destruction</td>\n",
       "      <td>ALTRU HOSPITAL</td>\n",
       "      <td>7.259495</td>\n",
       "      <td>827.44</td>\n",
       "    </tr>\n",
       "  </tbody>\n",
       "</table>\n",
       "</div>"
      ],
      "text/plain": [
       "                                        APC            Provider Name  \\\n",
       "0  0012 - Level I Debridement & Destruction  ALTON MEMORIAL HOSPITAL   \n",
       "1  0012 - Level I Debridement & Destruction           ALTRU HOSPITAL   \n",
       "\n",
       "   CLAIM_DIFF_1_avg  CLAIM_DIFF_1_avg_max  \n",
       "0         91.856818                827.44  \n",
       "1          7.259495                827.44  "
      ]
     },
     "execution_count": 106,
     "metadata": {},
     "output_type": "execute_result"
    }
   ],
   "source": [
    "Med_Out_Tab_Join.head(2)"
   ]
  },
  {
   "cell_type": "code",
   "execution_count": 107,
   "metadata": {},
   "outputs": [],
   "source": [
    "# New column created for further process-\n",
    "Med_Out_Tab_Join['Comparison']=np.where((Med_Out_Tab_Join['CLAIM_DIFF_1_avg'])>=(Med_Out_Tab_Join['CLAIM_DIFF_1_avg_max']),1,0)"
   ]
  },
  {
   "cell_type": "code",
   "execution_count": 108,
   "metadata": {},
   "outputs": [
    {
     "data": {
      "text/html": [
       "<div>\n",
       "<style scoped>\n",
       "    .dataframe tbody tr th:only-of-type {\n",
       "        vertical-align: middle;\n",
       "    }\n",
       "\n",
       "    .dataframe tbody tr th {\n",
       "        vertical-align: top;\n",
       "    }\n",
       "\n",
       "    .dataframe thead th {\n",
       "        text-align: right;\n",
       "    }\n",
       "</style>\n",
       "<table border=\"1\" class=\"dataframe\">\n",
       "  <thead>\n",
       "    <tr style=\"text-align: right;\">\n",
       "      <th></th>\n",
       "      <th>APC</th>\n",
       "      <th>Provider Name</th>\n",
       "      <th>CLAIM_DIFF_1_avg</th>\n",
       "      <th>CLAIM_DIFF_1_avg_max</th>\n",
       "      <th>Comparison</th>\n",
       "    </tr>\n",
       "  </thead>\n",
       "  <tbody>\n",
       "    <tr>\n",
       "      <th>0</th>\n",
       "      <td>0012 - Level I Debridement &amp; Destruction</td>\n",
       "      <td>ALTON MEMORIAL HOSPITAL</td>\n",
       "      <td>91.856818</td>\n",
       "      <td>827.44</td>\n",
       "      <td>0</td>\n",
       "    </tr>\n",
       "    <tr>\n",
       "      <th>1</th>\n",
       "      <td>0012 - Level I Debridement &amp; Destruction</td>\n",
       "      <td>ALTRU HOSPITAL</td>\n",
       "      <td>7.259495</td>\n",
       "      <td>827.44</td>\n",
       "      <td>0</td>\n",
       "    </tr>\n",
       "  </tbody>\n",
       "</table>\n",
       "</div>"
      ],
      "text/plain": [
       "                                        APC            Provider Name  \\\n",
       "0  0012 - Level I Debridement & Destruction  ALTON MEMORIAL HOSPITAL   \n",
       "1  0012 - Level I Debridement & Destruction           ALTRU HOSPITAL   \n",
       "\n",
       "   CLAIM_DIFF_1_avg  CLAIM_DIFF_1_avg_max  Comparison  \n",
       "0         91.856818                827.44           0  \n",
       "1          7.259495                827.44           0  "
      ]
     },
     "execution_count": 108,
     "metadata": {},
     "output_type": "execute_result"
    }
   ],
   "source": [
    "Med_Out_Tab_Join.head(2)"
   ]
  },
  {
   "cell_type": "code",
   "execution_count": 109,
   "metadata": {},
   "outputs": [],
   "source": [
    "#Getting number of times a provider has max claim diff for max procedures\n",
    "Prov_Max_claim_diff_1 = Med_Out_Tab_Join[['Provider Name','Comparison']].groupby(['Provider Name']).sum().sort_values(['Comparison'], ascending=False)"
   ]
  },
  {
   "cell_type": "code",
   "execution_count": 110,
   "metadata": {},
   "outputs": [
    {
     "data": {
      "text/html": [
       "<div>\n",
       "<style scoped>\n",
       "    .dataframe tbody tr th:only-of-type {\n",
       "        vertical-align: middle;\n",
       "    }\n",
       "\n",
       "    .dataframe tbody tr th {\n",
       "        vertical-align: top;\n",
       "    }\n",
       "\n",
       "    .dataframe thead th {\n",
       "        text-align: right;\n",
       "    }\n",
       "</style>\n",
       "<table border=\"1\" class=\"dataframe\">\n",
       "  <thead>\n",
       "    <tr style=\"text-align: right;\">\n",
       "      <th></th>\n",
       "      <th>Comparison</th>\n",
       "    </tr>\n",
       "    <tr>\n",
       "      <th>Provider Name</th>\n",
       "      <th></th>\n",
       "    </tr>\n",
       "  </thead>\n",
       "  <tbody>\n",
       "    <tr>\n",
       "      <th>COLUMBIA HOSPITAL</th>\n",
       "      <td>2</td>\n",
       "    </tr>\n",
       "    <tr>\n",
       "      <th>FORT WALTON BEACH MEDICAL CENTER</th>\n",
       "      <td>2</td>\n",
       "    </tr>\n",
       "    <tr>\n",
       "      <th>CAPITAL HEALTH MEDICAL CENTER - HOPEWELL</th>\n",
       "      <td>2</td>\n",
       "    </tr>\n",
       "    <tr>\n",
       "      <th>FAIRVIEW DEVELOPMENTAL CENTER</th>\n",
       "      <td>1</td>\n",
       "    </tr>\n",
       "    <tr>\n",
       "      <th>BEVERLY HOSPITAL CORPORATION</th>\n",
       "      <td>1</td>\n",
       "    </tr>\n",
       "  </tbody>\n",
       "</table>\n",
       "</div>"
      ],
      "text/plain": [
       "                                          Comparison\n",
       "Provider Name                                       \n",
       "COLUMBIA HOSPITAL                                  2\n",
       "FORT WALTON BEACH MEDICAL CENTER                   2\n",
       "CAPITAL HEALTH MEDICAL CENTER - HOPEWELL           2\n",
       "FAIRVIEW DEVELOPMENTAL CENTER                      1\n",
       "BEVERLY HOSPITAL CORPORATION                       1"
      ]
     },
     "execution_count": 110,
     "metadata": {},
     "output_type": "execute_result"
    }
   ],
   "source": [
    "Prov_Max_claim_diff_1.head() ##Provider Name-number of times a provider has max claim diff for max procedures"
   ]
  },
  {
   "cell_type": "code",
   "execution_count": null,
   "metadata": {},
   "outputs": [],
   "source": []
  },
  {
   "cell_type": "markdown",
   "metadata": {},
   "source": [
    "### <a>Part 2: Identify the three providers that are least similar to other providers and the three regions that are least similar to other regions.\n",
    "##### Part 2A: Providers Least Like Others\n",
    "##### Part 2B: Regions Least Like Others"
   ]
  },
  {
   "cell_type": "markdown",
   "metadata": {},
   "source": [
    "#### <a>Part 2A: Providers Least Like Others"
   ]
  },
  {
   "cell_type": "markdown",
   "metadata": {},
   "source": [
    "###### Using the table-- Medicare_Provider_Charge_Inpatient_DRG100_FY2011"
   ]
  },
  {
   "cell_type": "code",
   "execution_count": 111,
   "metadata": {
    "scrolled": true
   },
   "outputs": [
    {
     "data": {
      "text/html": [
       "<div>\n",
       "<style scoped>\n",
       "    .dataframe tbody tr th:only-of-type {\n",
       "        vertical-align: middle;\n",
       "    }\n",
       "\n",
       "    .dataframe tbody tr th {\n",
       "        vertical-align: top;\n",
       "    }\n",
       "\n",
       "    .dataframe thead th {\n",
       "        text-align: right;\n",
       "    }\n",
       "</style>\n",
       "<table border=\"1\" class=\"dataframe\">\n",
       "  <thead>\n",
       "    <tr style=\"text-align: right;\">\n",
       "      <th></th>\n",
       "      <th>DRG Definition</th>\n",
       "      <th>Provider Id</th>\n",
       "      <th>Provider Name</th>\n",
       "      <th>Provider Street Address</th>\n",
       "      <th>Provider City</th>\n",
       "      <th>Provider State</th>\n",
       "      <th>Provider Zip Code</th>\n",
       "      <th>Hospital Referral Region (HRR) Description</th>\n",
       "      <th>Total Discharges</th>\n",
       "      <th>Average Covered Charges</th>\n",
       "      <th>Average Total Payments</th>\n",
       "      <th>Average Medicare Payments</th>\n",
       "    </tr>\n",
       "  </thead>\n",
       "  <tbody>\n",
       "    <tr>\n",
       "      <th>0</th>\n",
       "      <td>039 - EXTRACRANIAL PROCEDURES W/O CC/MCC</td>\n",
       "      <td>10001</td>\n",
       "      <td>SOUTHEAST ALABAMA MEDICAL CENTER</td>\n",
       "      <td>1108 ROSS CLARK CIRCLE</td>\n",
       "      <td>DOTHAN</td>\n",
       "      <td>AL</td>\n",
       "      <td>36301</td>\n",
       "      <td>AL - Dothan</td>\n",
       "      <td>91</td>\n",
       "      <td>32963.07692</td>\n",
       "      <td>5777.241758</td>\n",
       "      <td>4763.736264</td>\n",
       "    </tr>\n",
       "    <tr>\n",
       "      <th>1</th>\n",
       "      <td>039 - EXTRACRANIAL PROCEDURES W/O CC/MCC</td>\n",
       "      <td>10005</td>\n",
       "      <td>MARSHALL MEDICAL CENTER SOUTH</td>\n",
       "      <td>2505 U S HIGHWAY 431 NORTH</td>\n",
       "      <td>BOAZ</td>\n",
       "      <td>AL</td>\n",
       "      <td>35957</td>\n",
       "      <td>AL - Birmingham</td>\n",
       "      <td>14</td>\n",
       "      <td>15131.85714</td>\n",
       "      <td>5787.571429</td>\n",
       "      <td>4976.714286</td>\n",
       "    </tr>\n",
       "  </tbody>\n",
       "</table>\n",
       "</div>"
      ],
      "text/plain": [
       "                             DRG Definition  Provider Id  \\\n",
       "0  039 - EXTRACRANIAL PROCEDURES W/O CC/MCC        10001   \n",
       "1  039 - EXTRACRANIAL PROCEDURES W/O CC/MCC        10005   \n",
       "\n",
       "                      Provider Name     Provider Street Address Provider City  \\\n",
       "0  SOUTHEAST ALABAMA MEDICAL CENTER      1108 ROSS CLARK CIRCLE        DOTHAN   \n",
       "1     MARSHALL MEDICAL CENTER SOUTH  2505 U S HIGHWAY 431 NORTH          BOAZ   \n",
       "\n",
       "  Provider State  Provider Zip Code  \\\n",
       "0             AL              36301   \n",
       "1             AL              35957   \n",
       "\n",
       "  Hospital Referral Region (HRR) Description  Total Discharges  \\\n",
       "0                                AL - Dothan                91   \n",
       "1                            AL - Birmingham                14   \n",
       "\n",
       "   Average Covered Charges  Average Total Payments  Average Medicare Payments  \n",
       "0              32963.07692             5777.241758                4763.736264  \n",
       "1              15131.85714             5787.571429                4976.714286  "
      ]
     },
     "execution_count": 111,
     "metadata": {},
     "output_type": "execute_result"
    }
   ],
   "source": [
    "Medi_Charge_DRG100_FY2011.head(2)"
   ]
  },
  {
   "cell_type": "code",
   "execution_count": 112,
   "metadata": {},
   "outputs": [],
   "source": [
    "##Required attributes separated for getting provider least like-\n",
    "Med_In_Pro=Medi_Charge_DRG100_FY2011[['Provider Id','Provider Name','Average Covered Charges']]"
   ]
  },
  {
   "cell_type": "code",
   "execution_count": 113,
   "metadata": {},
   "outputs": [
    {
     "data": {
      "text/html": [
       "<div>\n",
       "<style scoped>\n",
       "    .dataframe tbody tr th:only-of-type {\n",
       "        vertical-align: middle;\n",
       "    }\n",
       "\n",
       "    .dataframe tbody tr th {\n",
       "        vertical-align: top;\n",
       "    }\n",
       "\n",
       "    .dataframe thead th {\n",
       "        text-align: right;\n",
       "    }\n",
       "</style>\n",
       "<table border=\"1\" class=\"dataframe\">\n",
       "  <thead>\n",
       "    <tr style=\"text-align: right;\">\n",
       "      <th></th>\n",
       "      <th>Provider Id</th>\n",
       "      <th>Provider Name</th>\n",
       "      <th>Average Covered Charges</th>\n",
       "    </tr>\n",
       "  </thead>\n",
       "  <tbody>\n",
       "    <tr>\n",
       "      <th>0</th>\n",
       "      <td>10001</td>\n",
       "      <td>SOUTHEAST ALABAMA MEDICAL CENTER</td>\n",
       "      <td>32963.07692</td>\n",
       "    </tr>\n",
       "    <tr>\n",
       "      <th>1</th>\n",
       "      <td>10005</td>\n",
       "      <td>MARSHALL MEDICAL CENTER SOUTH</td>\n",
       "      <td>15131.85714</td>\n",
       "    </tr>\n",
       "    <tr>\n",
       "      <th>2</th>\n",
       "      <td>10006</td>\n",
       "      <td>ELIZA COFFEE MEMORIAL HOSPITAL</td>\n",
       "      <td>37560.37500</td>\n",
       "    </tr>\n",
       "    <tr>\n",
       "      <th>3</th>\n",
       "      <td>10011</td>\n",
       "      <td>ST VINCENT'S EAST</td>\n",
       "      <td>13998.28000</td>\n",
       "    </tr>\n",
       "    <tr>\n",
       "      <th>4</th>\n",
       "      <td>10016</td>\n",
       "      <td>SHELBY BAPTIST MEDICAL CENTER</td>\n",
       "      <td>31633.27778</td>\n",
       "    </tr>\n",
       "  </tbody>\n",
       "</table>\n",
       "</div>"
      ],
      "text/plain": [
       "   Provider Id                     Provider Name  Average Covered Charges\n",
       "0        10001  SOUTHEAST ALABAMA MEDICAL CENTER              32963.07692\n",
       "1        10005     MARSHALL MEDICAL CENTER SOUTH              15131.85714\n",
       "2        10006    ELIZA COFFEE MEMORIAL HOSPITAL              37560.37500\n",
       "3        10011                 ST VINCENT'S EAST              13998.28000\n",
       "4        10016     SHELBY BAPTIST MEDICAL CENTER              31633.27778"
      ]
     },
     "execution_count": 113,
     "metadata": {},
     "output_type": "execute_result"
    }
   ],
   "source": [
    "Med_In_Pro.head()"
   ]
  },
  {
   "cell_type": "code",
   "execution_count": 114,
   "metadata": {},
   "outputs": [
    {
     "data": {
      "text/html": [
       "<div>\n",
       "<style scoped>\n",
       "    .dataframe tbody tr th:only-of-type {\n",
       "        vertical-align: middle;\n",
       "    }\n",
       "\n",
       "    .dataframe tbody tr th {\n",
       "        vertical-align: top;\n",
       "    }\n",
       "\n",
       "    .dataframe thead th {\n",
       "        text-align: right;\n",
       "    }\n",
       "</style>\n",
       "<table border=\"1\" class=\"dataframe\">\n",
       "  <thead>\n",
       "    <tr style=\"text-align: right;\">\n",
       "      <th></th>\n",
       "      <th>Provider Id</th>\n",
       "      <th>Average Covered Charges</th>\n",
       "    </tr>\n",
       "  </thead>\n",
       "  <tbody>\n",
       "    <tr>\n",
       "      <th>0</th>\n",
       "      <td>10001</td>\n",
       "      <td>35247.032779</td>\n",
       "    </tr>\n",
       "    <tr>\n",
       "      <th>1</th>\n",
       "      <td>10005</td>\n",
       "      <td>16451.095600</td>\n",
       "    </tr>\n",
       "  </tbody>\n",
       "</table>\n",
       "</div>"
      ],
      "text/plain": [
       "   Provider Id  Average Covered Charges\n",
       "0        10001             35247.032779\n",
       "1        10005             16451.095600"
      ]
     },
     "execution_count": 114,
     "metadata": {},
     "output_type": "execute_result"
    }
   ],
   "source": [
    "a=Med_In_Pro.groupby(['Provider Id']).mean().reset_index()\n",
    "a.head(2) ###Mean value of average cover charges by each Provider Id "
   ]
  },
  {
   "cell_type": "code",
   "execution_count": 115,
   "metadata": {},
   "outputs": [
    {
     "data": {
      "text/plain": [
       "<seaborn.axisgrid.JointGrid at 0xe9143f0>"
      ]
     },
     "execution_count": 115,
     "metadata": {},
     "output_type": "execute_result"
    },
    {
     "data": {
      "image/png": "[encoded data removed]",
      "text/plain": [
       "<Figure size 432x432 with 3 Axes>"
      ]
     },
     "metadata": {
      "needs_background": "light"
     },
     "output_type": "display_data"
    }
   ],
   "source": [
    "sns.jointplot(x='Provider Id', y='Average Covered Charges', data=a)"
   ]
  },
  {
   "cell_type": "code",
   "execution_count": 116,
   "metadata": {},
   "outputs": [
    {
     "data": {
      "text/plain": [
       "LinearRegression(copy_X=True, fit_intercept=True, n_jobs=None, normalize=False)"
      ]
     },
     "execution_count": 116,
     "metadata": {},
     "output_type": "execute_result"
    }
   ],
   "source": [
    "from sklearn.linear_model import LinearRegression\n",
    "from sklearn.preprocessing import StandardScaler\n",
    "\n",
    "model = LinearRegression()\n",
    "model.fit(a['Provider Id'].values.reshape(-1,1),a['Average Covered Charges'].values.reshape(-1,1)) ##Fitting the values in the model."
   ]
  },
  {
   "cell_type": "code",
   "execution_count": 117,
   "metadata": {},
   "outputs": [],
   "source": [
    "a['Predicted']=model.predict(a['Provider Id'].values.reshape(-1,1)) ###Predicting value on the model\n",
    "\n",
    "##predict() : given a trained model, predict the label of a new set of data. \n",
    "\n",
    "a['Residual']=abs(a['Predicted']-a['Average Covered Charges']) ## New column "
   ]
  },
  {
   "cell_type": "code",
   "execution_count": 118,
   "metadata": {},
   "outputs": [
    {
     "data": {
      "text/html": [
       "<div>\n",
       "<style scoped>\n",
       "    .dataframe tbody tr th:only-of-type {\n",
       "        vertical-align: middle;\n",
       "    }\n",
       "\n",
       "    .dataframe tbody tr th {\n",
       "        vertical-align: top;\n",
       "    }\n",
       "\n",
       "    .dataframe thead th {\n",
       "        text-align: right;\n",
       "    }\n",
       "</style>\n",
       "<table border=\"1\" class=\"dataframe\">\n",
       "  <thead>\n",
       "    <tr style=\"text-align: right;\">\n",
       "      <th></th>\n",
       "      <th>Provider Id</th>\n",
       "      <th>Average Covered Charges</th>\n",
       "      <th>Predicted</th>\n",
       "      <th>Residual</th>\n",
       "    </tr>\n",
       "  </thead>\n",
       "  <tbody>\n",
       "    <tr>\n",
       "      <th>3143</th>\n",
       "      <td>490142</td>\n",
       "      <td>211922.000000</td>\n",
       "      <td>27139.077206</td>\n",
       "      <td>184782.922794</td>\n",
       "    </tr>\n",
       "    <tr>\n",
       "      <th>1845</th>\n",
       "      <td>310025</td>\n",
       "      <td>147441.337388</td>\n",
       "      <td>30878.047679</td>\n",
       "      <td>116563.289710</td>\n",
       "    </tr>\n",
       "    <tr>\n",
       "      <th>401</th>\n",
       "      <td>50464</td>\n",
       "      <td>144695.837072</td>\n",
       "      <td>36266.161598</td>\n",
       "      <td>108429.675474</td>\n",
       "    </tr>\n",
       "  </tbody>\n",
       "</table>\n",
       "</div>"
      ],
      "text/plain": [
       "      Provider Id  Average Covered Charges     Predicted       Residual\n",
       "3143       490142            211922.000000  27139.077206  184782.922794\n",
       "1845       310025            147441.337388  30878.047679  116563.289710\n",
       "401         50464            144695.837072  36266.161598  108429.675474"
      ]
     },
     "execution_count": 118,
     "metadata": {},
     "output_type": "execute_result"
    }
   ],
   "source": [
    "#Details Concerning Required Providers\n",
    "a.sort_values('Residual',ascending=False).head(3) ##Highest Deviated points from the regression line.\n",
    "### Shows some of the point are least like others."
   ]
  },
  {
   "cell_type": "code",
   "execution_count": 119,
   "metadata": {},
   "outputs": [
    {
     "data": {
      "text/html": [
       "<div>\n",
       "<style scoped>\n",
       "    .dataframe tbody tr th:only-of-type {\n",
       "        vertical-align: middle;\n",
       "    }\n",
       "\n",
       "    .dataframe tbody tr th {\n",
       "        vertical-align: top;\n",
       "    }\n",
       "\n",
       "    .dataframe thead th {\n",
       "        text-align: right;\n",
       "    }\n",
       "</style>\n",
       "<table border=\"1\" class=\"dataframe\">\n",
       "  <thead>\n",
       "    <tr style=\"text-align: right;\">\n",
       "      <th></th>\n",
       "      <th>Provider Id</th>\n",
       "      <th>Average Covered Charges</th>\n",
       "      <th>Predicted</th>\n",
       "      <th>Residual</th>\n",
       "    </tr>\n",
       "  </thead>\n",
       "  <tbody>\n",
       "    <tr>\n",
       "      <th>3143</th>\n",
       "      <td>490142</td>\n",
       "      <td>211922.000000</td>\n",
       "      <td>27139.077206</td>\n",
       "      <td>184782.922794</td>\n",
       "    </tr>\n",
       "    <tr>\n",
       "      <th>1845</th>\n",
       "      <td>310025</td>\n",
       "      <td>147441.337388</td>\n",
       "      <td>30878.047679</td>\n",
       "      <td>116563.289710</td>\n",
       "    </tr>\n",
       "    <tr>\n",
       "      <th>401</th>\n",
       "      <td>50464</td>\n",
       "      <td>144695.837072</td>\n",
       "      <td>36266.161598</td>\n",
       "      <td>108429.675474</td>\n",
       "    </tr>\n",
       "  </tbody>\n",
       "</table>\n",
       "</div>"
      ],
      "text/plain": [
       "      Provider Id  Average Covered Charges     Predicted       Residual\n",
       "3143       490142            211922.000000  27139.077206  184782.922794\n",
       "1845       310025            147441.337388  30878.047679  116563.289710\n",
       "401         50464            144695.837072  36266.161598  108429.675474"
      ]
     },
     "execution_count": 119,
     "metadata": {},
     "output_type": "execute_result"
    }
   ],
   "source": [
    "b=a.sort_values('Residual',ascending=False)\n",
    "b.head(3)"
   ]
  },
  {
   "cell_type": "code",
   "execution_count": 120,
   "metadata": {},
   "outputs": [],
   "source": [
    "c=Med_In_Pro.groupby(['Provider Id','Provider Name']).mean().reset_index()\n",
    "\n",
    "d=b.merge(c[['Provider Id','Provider Name']],on='Provider Id', how='left')"
   ]
  },
  {
   "cell_type": "code",
   "execution_count": 121,
   "metadata": {},
   "outputs": [
    {
     "data": {
      "text/html": [
       "<div>\n",
       "<style scoped>\n",
       "    .dataframe tbody tr th:only-of-type {\n",
       "        vertical-align: middle;\n",
       "    }\n",
       "\n",
       "    .dataframe tbody tr th {\n",
       "        vertical-align: top;\n",
       "    }\n",
       "\n",
       "    .dataframe thead th {\n",
       "        text-align: right;\n",
       "    }\n",
       "</style>\n",
       "<table border=\"1\" class=\"dataframe\">\n",
       "  <thead>\n",
       "    <tr style=\"text-align: right;\">\n",
       "      <th></th>\n",
       "      <th>Provider Id</th>\n",
       "      <th>Average Covered Charges</th>\n",
       "      <th>Predicted</th>\n",
       "      <th>Residual</th>\n",
       "      <th>Provider Name</th>\n",
       "    </tr>\n",
       "  </thead>\n",
       "  <tbody>\n",
       "    <tr>\n",
       "      <th>0</th>\n",
       "      <td>490142</td>\n",
       "      <td>211922.000000</td>\n",
       "      <td>27139.077206</td>\n",
       "      <td>184782.922794</td>\n",
       "      <td>UVA HEALTH SCIENCES CENTER</td>\n",
       "    </tr>\n",
       "    <tr>\n",
       "      <th>1</th>\n",
       "      <td>310025</td>\n",
       "      <td>147441.337388</td>\n",
       "      <td>30878.047679</td>\n",
       "      <td>116563.289710</td>\n",
       "      <td>BAYONNE HOSPITAL CENTER</td>\n",
       "    </tr>\n",
       "    <tr>\n",
       "      <th>2</th>\n",
       "      <td>50464</td>\n",
       "      <td>144695.837072</td>\n",
       "      <td>36266.161598</td>\n",
       "      <td>108429.675474</td>\n",
       "      <td>DOCTORS MEDICAL CENTER</td>\n",
       "    </tr>\n",
       "  </tbody>\n",
       "</table>\n",
       "</div>"
      ],
      "text/plain": [
       "   Provider Id  Average Covered Charges     Predicted       Residual  \\\n",
       "0       490142            211922.000000  27139.077206  184782.922794   \n",
       "1       310025            147441.337388  30878.047679  116563.289710   \n",
       "2        50464            144695.837072  36266.161598  108429.675474   \n",
       "\n",
       "                Provider Name  \n",
       "0  UVA HEALTH SCIENCES CENTER  \n",
       "1     BAYONNE HOSPITAL CENTER  \n",
       "2      DOCTORS MEDICAL CENTER  "
      ]
     },
     "execution_count": 121,
     "metadata": {},
     "output_type": "execute_result"
    }
   ],
   "source": [
    "d.head(3) ### Least like other (Analysis done on the basis of average covered Charges)-Provider Name."
   ]
  },
  {
   "cell_type": "markdown",
   "metadata": {},
   "source": [
    "##### Using the table--Medicare_Provider_Charge_Outpatient_APC30_CY2011"
   ]
  },
  {
   "cell_type": "code",
   "execution_count": 122,
   "metadata": {},
   "outputs": [
    {
     "data": {
      "text/html": [
       "<div>\n",
       "<style scoped>\n",
       "    .dataframe tbody tr th:only-of-type {\n",
       "        vertical-align: middle;\n",
       "    }\n",
       "\n",
       "    .dataframe tbody tr th {\n",
       "        vertical-align: top;\n",
       "    }\n",
       "\n",
       "    .dataframe thead th {\n",
       "        text-align: right;\n",
       "    }\n",
       "</style>\n",
       "<table border=\"1\" class=\"dataframe\">\n",
       "  <thead>\n",
       "    <tr style=\"text-align: right;\">\n",
       "      <th></th>\n",
       "      <th>APC</th>\n",
       "      <th>Provider Id</th>\n",
       "      <th>Provider Name</th>\n",
       "      <th>Provider Street Address</th>\n",
       "      <th>Provider City</th>\n",
       "      <th>Provider State</th>\n",
       "      <th>Provider Zip Code</th>\n",
       "      <th>Hospital Referral Region (HRR) Description</th>\n",
       "      <th>Outpatient Services</th>\n",
       "      <th>Average  Estimated Submitted Charges</th>\n",
       "      <th>Average Total Payments</th>\n",
       "    </tr>\n",
       "  </thead>\n",
       "  <tbody>\n",
       "    <tr>\n",
       "      <th>0</th>\n",
       "      <td>0012 - Level I Debridement &amp; Destruction</td>\n",
       "      <td>10029</td>\n",
       "      <td>EAST ALABAMA MEDICAL CENTER AND SNF</td>\n",
       "      <td>2000 PEPPERELL PARKWAY</td>\n",
       "      <td>OPELIKA</td>\n",
       "      <td>AL</td>\n",
       "      <td>36801</td>\n",
       "      <td>AL - Birmingham</td>\n",
       "      <td>23</td>\n",
       "      <td>78.086957</td>\n",
       "      <td>21.910435</td>\n",
       "    </tr>\n",
       "    <tr>\n",
       "      <th>1</th>\n",
       "      <td>0012 - Level I Debridement &amp; Destruction</td>\n",
       "      <td>20024</td>\n",
       "      <td>CENTRAL PENINSULA GENERAL HOSPITAL</td>\n",
       "      <td>250 HOSPITAL PLACE</td>\n",
       "      <td>SOLDOTNA</td>\n",
       "      <td>AK</td>\n",
       "      <td>99669</td>\n",
       "      <td>AK - Anchorage</td>\n",
       "      <td>994</td>\n",
       "      <td>149.589749</td>\n",
       "      <td>36.623853</td>\n",
       "    </tr>\n",
       "  </tbody>\n",
       "</table>\n",
       "</div>"
      ],
      "text/plain": [
       "                                        APC  Provider Id  \\\n",
       "0  0012 - Level I Debridement & Destruction        10029   \n",
       "1  0012 - Level I Debridement & Destruction        20024   \n",
       "\n",
       "                         Provider Name Provider Street Address Provider City  \\\n",
       "0  EAST ALABAMA MEDICAL CENTER AND SNF  2000 PEPPERELL PARKWAY       OPELIKA   \n",
       "1   CENTRAL PENINSULA GENERAL HOSPITAL      250 HOSPITAL PLACE      SOLDOTNA   \n",
       "\n",
       "  Provider State  Provider Zip Code  \\\n",
       "0             AL              36801   \n",
       "1             AK              99669   \n",
       "\n",
       "  Hospital Referral Region (HRR) Description  Outpatient Services  \\\n",
       "0                            AL - Birmingham                   23   \n",
       "1                             AK - Anchorage                  994   \n",
       "\n",
       "   Average  Estimated Submitted Charges  Average Total Payments  \n",
       "0                             78.086957               21.910435  \n",
       "1                            149.589749               36.623853  "
      ]
     },
     "execution_count": 122,
     "metadata": {},
     "output_type": "execute_result"
    }
   ],
   "source": [
    "Medi_Provider_APC30_CY2011.head(2)"
   ]
  },
  {
   "cell_type": "code",
   "execution_count": 123,
   "metadata": {},
   "outputs": [],
   "source": [
    "##Required attributes separated for getting provider least like-\n",
    "Med_Out_Pro=Medi_Provider_APC30_CY2011[['Provider Id','Provider Name','Average  Estimated Submitted Charges']]"
   ]
  },
  {
   "cell_type": "code",
   "execution_count": 124,
   "metadata": {},
   "outputs": [
    {
     "data": {
      "text/html": [
       "<div>\n",
       "<style scoped>\n",
       "    .dataframe tbody tr th:only-of-type {\n",
       "        vertical-align: middle;\n",
       "    }\n",
       "\n",
       "    .dataframe tbody tr th {\n",
       "        vertical-align: top;\n",
       "    }\n",
       "\n",
       "    .dataframe thead th {\n",
       "        text-align: right;\n",
       "    }\n",
       "</style>\n",
       "<table border=\"1\" class=\"dataframe\">\n",
       "  <thead>\n",
       "    <tr style=\"text-align: right;\">\n",
       "      <th></th>\n",
       "      <th>Provider Id</th>\n",
       "      <th>Provider Name</th>\n",
       "      <th>Average  Estimated Submitted Charges</th>\n",
       "    </tr>\n",
       "  </thead>\n",
       "  <tbody>\n",
       "    <tr>\n",
       "      <th>0</th>\n",
       "      <td>10029</td>\n",
       "      <td>EAST ALABAMA MEDICAL CENTER AND SNF</td>\n",
       "      <td>78.086957</td>\n",
       "    </tr>\n",
       "    <tr>\n",
       "      <th>1</th>\n",
       "      <td>20024</td>\n",
       "      <td>CENTRAL PENINSULA GENERAL HOSPITAL</td>\n",
       "      <td>149.589749</td>\n",
       "    </tr>\n",
       "  </tbody>\n",
       "</table>\n",
       "</div>"
      ],
      "text/plain": [
       "   Provider Id                        Provider Name  \\\n",
       "0        10029  EAST ALABAMA MEDICAL CENTER AND SNF   \n",
       "1        20024   CENTRAL PENINSULA GENERAL HOSPITAL   \n",
       "\n",
       "   Average  Estimated Submitted Charges  \n",
       "0                             78.086957  \n",
       "1                            149.589749  "
      ]
     },
     "execution_count": 124,
     "metadata": {},
     "output_type": "execute_result"
    }
   ],
   "source": [
    "Med_Out_Pro.head(2)"
   ]
  },
  {
   "cell_type": "code",
   "execution_count": 125,
   "metadata": {},
   "outputs": [
    {
     "data": {
      "text/html": [
       "<div>\n",
       "<style scoped>\n",
       "    .dataframe tbody tr th:only-of-type {\n",
       "        vertical-align: middle;\n",
       "    }\n",
       "\n",
       "    .dataframe tbody tr th {\n",
       "        vertical-align: top;\n",
       "    }\n",
       "\n",
       "    .dataframe thead th {\n",
       "        text-align: right;\n",
       "    }\n",
       "</style>\n",
       "<table border=\"1\" class=\"dataframe\">\n",
       "  <thead>\n",
       "    <tr style=\"text-align: right;\">\n",
       "      <th></th>\n",
       "      <th>Provider Id</th>\n",
       "      <th>Average  Estimated Submitted Charges</th>\n",
       "    </tr>\n",
       "  </thead>\n",
       "  <tbody>\n",
       "    <tr>\n",
       "      <th>0</th>\n",
       "      <td>10001</td>\n",
       "      <td>1942.914036</td>\n",
       "    </tr>\n",
       "    <tr>\n",
       "      <th>1</th>\n",
       "      <td>10005</td>\n",
       "      <td>903.855812</td>\n",
       "    </tr>\n",
       "  </tbody>\n",
       "</table>\n",
       "</div>"
      ],
      "text/plain": [
       "   Provider Id  Average  Estimated Submitted Charges\n",
       "0        10001                           1942.914036\n",
       "1        10005                            903.855812"
      ]
     },
     "execution_count": 125,
     "metadata": {},
     "output_type": "execute_result"
    }
   ],
   "source": [
    "a_1=Med_Out_Pro.groupby(['Provider Id']).mean().reset_index()\n",
    "a_1.head(2) ###Mean value of average cover charges by each Provider Id "
   ]
  },
  {
   "cell_type": "code",
   "execution_count": 126,
   "metadata": {},
   "outputs": [
    {
     "data": {
      "text/plain": [
       "<seaborn.axisgrid.JointGrid at 0x1012e2f0>"
      ]
     },
     "execution_count": 126,
     "metadata": {},
     "output_type": "execute_result"
    },
    {
     "data": {
      "image/png": "[encoded data removed]",
      "text/plain": [
       "<Figure size 432x432 with 3 Axes>"
      ]
     },
     "metadata": {
      "needs_background": "light"
     },
     "output_type": "display_data"
    }
   ],
   "source": [
    "sns.jointplot(x='Provider Id', y='Average  Estimated Submitted Charges', data=a_1)"
   ]
  },
  {
   "cell_type": "code",
   "execution_count": 127,
   "metadata": {},
   "outputs": [
    {
     "data": {
      "text/plain": [
       "LinearRegression(copy_X=True, fit_intercept=True, n_jobs=None, normalize=False)"
      ]
     },
     "execution_count": 127,
     "metadata": {},
     "output_type": "execute_result"
    }
   ],
   "source": [
    "from sklearn.linear_model import LinearRegression\n",
    "from sklearn.preprocessing import StandardScaler\n",
    "\n",
    "model = LinearRegression()\n",
    "model.fit(a_1['Provider Id'].values.reshape(-1,1),a_1['Average  Estimated Submitted Charges'].values.reshape(-1,1)) ##Fitting the values in the model."
   ]
  },
  {
   "cell_type": "code",
   "execution_count": 128,
   "metadata": {},
   "outputs": [],
   "source": [
    "a_1['Predicted']=model.predict(a_1['Provider Id'].values.reshape(-1,1))\n",
    "\n",
    "##predict() : given a trained model, predict the label of a new set of data. \n",
    "\n",
    "a_1['Residual']=abs(a_1['Predicted']-a_1['Average  Estimated Submitted Charges'])"
   ]
  },
  {
   "cell_type": "code",
   "execution_count": 129,
   "metadata": {},
   "outputs": [
    {
     "data": {
      "text/html": [
       "<div>\n",
       "<style scoped>\n",
       "    .dataframe tbody tr th:only-of-type {\n",
       "        vertical-align: middle;\n",
       "    }\n",
       "\n",
       "    .dataframe tbody tr th {\n",
       "        vertical-align: top;\n",
       "    }\n",
       "\n",
       "    .dataframe thead th {\n",
       "        text-align: right;\n",
       "    }\n",
       "</style>\n",
       "<table border=\"1\" class=\"dataframe\">\n",
       "  <thead>\n",
       "    <tr style=\"text-align: right;\">\n",
       "      <th></th>\n",
       "      <th>Provider Id</th>\n",
       "      <th>Average  Estimated Submitted Charges</th>\n",
       "      <th>Predicted</th>\n",
       "      <th>Residual</th>\n",
       "    </tr>\n",
       "  </thead>\n",
       "  <tbody>\n",
       "    <tr>\n",
       "      <th>284</th>\n",
       "      <td>50205</td>\n",
       "      <td>10836.473330</td>\n",
       "      <td>1637.973664</td>\n",
       "      <td>9198.499666</td>\n",
       "    </tr>\n",
       "    <tr>\n",
       "      <th>3120</th>\n",
       "      <td>670029</td>\n",
       "      <td>9498.550769</td>\n",
       "      <td>1342.689001</td>\n",
       "      <td>8155.861768</td>\n",
       "    </tr>\n",
       "    <tr>\n",
       "      <th>2770</th>\n",
       "      <td>450683</td>\n",
       "      <td>7637.296667</td>\n",
       "      <td>1447.185616</td>\n",
       "      <td>6190.111051</td>\n",
       "    </tr>\n",
       "  </tbody>\n",
       "</table>\n",
       "</div>"
      ],
      "text/plain": [
       "      Provider Id  Average  Estimated Submitted Charges    Predicted  \\\n",
       "284         50205                          10836.473330  1637.973664   \n",
       "3120       670029                           9498.550769  1342.689001   \n",
       "2770       450683                           7637.296667  1447.185616   \n",
       "\n",
       "         Residual  \n",
       "284   9198.499666  \n",
       "3120  8155.861768  \n",
       "2770  6190.111051  "
      ]
     },
     "execution_count": 129,
     "metadata": {},
     "output_type": "execute_result"
    }
   ],
   "source": [
    "#Details Concerning Required Providers\n",
    "\n",
    "a_1.sort_values('Residual',ascending=False).head(3) ##Highest Deviated points from the regression line.\n",
    "\n",
    "### Shows some of the point are least like others."
   ]
  },
  {
   "cell_type": "code",
   "execution_count": 130,
   "metadata": {},
   "outputs": [
    {
     "data": {
      "text/html": [
       "<div>\n",
       "<style scoped>\n",
       "    .dataframe tbody tr th:only-of-type {\n",
       "        vertical-align: middle;\n",
       "    }\n",
       "\n",
       "    .dataframe tbody tr th {\n",
       "        vertical-align: top;\n",
       "    }\n",
       "\n",
       "    .dataframe thead th {\n",
       "        text-align: right;\n",
       "    }\n",
       "</style>\n",
       "<table border=\"1\" class=\"dataframe\">\n",
       "  <thead>\n",
       "    <tr style=\"text-align: right;\">\n",
       "      <th></th>\n",
       "      <th>Provider Id</th>\n",
       "      <th>Average  Estimated Submitted Charges</th>\n",
       "      <th>Predicted</th>\n",
       "      <th>Residual</th>\n",
       "    </tr>\n",
       "  </thead>\n",
       "  <tbody>\n",
       "    <tr>\n",
       "      <th>284</th>\n",
       "      <td>50205</td>\n",
       "      <td>10836.473330</td>\n",
       "      <td>1637.973664</td>\n",
       "      <td>9198.499666</td>\n",
       "    </tr>\n",
       "    <tr>\n",
       "      <th>3120</th>\n",
       "      <td>670029</td>\n",
       "      <td>9498.550769</td>\n",
       "      <td>1342.689001</td>\n",
       "      <td>8155.861768</td>\n",
       "    </tr>\n",
       "    <tr>\n",
       "      <th>2770</th>\n",
       "      <td>450683</td>\n",
       "      <td>7637.296667</td>\n",
       "      <td>1447.185616</td>\n",
       "      <td>6190.111051</td>\n",
       "    </tr>\n",
       "  </tbody>\n",
       "</table>\n",
       "</div>"
      ],
      "text/plain": [
       "      Provider Id  Average  Estimated Submitted Charges    Predicted  \\\n",
       "284         50205                          10836.473330  1637.973664   \n",
       "3120       670029                           9498.550769  1342.689001   \n",
       "2770       450683                           7637.296667  1447.185616   \n",
       "\n",
       "         Residual  \n",
       "284   9198.499666  \n",
       "3120  8155.861768  \n",
       "2770  6190.111051  "
      ]
     },
     "execution_count": 130,
     "metadata": {},
     "output_type": "execute_result"
    }
   ],
   "source": [
    "b_1=a_1.sort_values('Residual',ascending=False)\n",
    "b_1.head(3)"
   ]
  },
  {
   "cell_type": "code",
   "execution_count": 131,
   "metadata": {},
   "outputs": [],
   "source": [
    "c_1=Med_Out_Pro.groupby(['Provider Id','Provider Name']).mean().reset_index()\n",
    "\n",
    "d_1=b_1.merge(c[['Provider Id','Provider Name']],on='Provider Id', how='left')"
   ]
  },
  {
   "cell_type": "code",
   "execution_count": 132,
   "metadata": {},
   "outputs": [
    {
     "data": {
      "text/html": [
       "<div>\n",
       "<style scoped>\n",
       "    .dataframe tbody tr th:only-of-type {\n",
       "        vertical-align: middle;\n",
       "    }\n",
       "\n",
       "    .dataframe tbody tr th {\n",
       "        vertical-align: top;\n",
       "    }\n",
       "\n",
       "    .dataframe thead th {\n",
       "        text-align: right;\n",
       "    }\n",
       "</style>\n",
       "<table border=\"1\" class=\"dataframe\">\n",
       "  <thead>\n",
       "    <tr style=\"text-align: right;\">\n",
       "      <th></th>\n",
       "      <th>Provider Id</th>\n",
       "      <th>Average  Estimated Submitted Charges</th>\n",
       "      <th>Predicted</th>\n",
       "      <th>Residual</th>\n",
       "      <th>Provider Name</th>\n",
       "    </tr>\n",
       "  </thead>\n",
       "  <tbody>\n",
       "    <tr>\n",
       "      <th>0</th>\n",
       "      <td>50205</td>\n",
       "      <td>10836.473330</td>\n",
       "      <td>1637.973664</td>\n",
       "      <td>9198.499666</td>\n",
       "      <td>EAST VALLEY HOSPITAL MEDICAL CENTER</td>\n",
       "    </tr>\n",
       "    <tr>\n",
       "      <th>1</th>\n",
       "      <td>670029</td>\n",
       "      <td>9498.550769</td>\n",
       "      <td>1342.689001</td>\n",
       "      <td>8155.861768</td>\n",
       "      <td>FIRST STREET HOSPITAL LP</td>\n",
       "    </tr>\n",
       "    <tr>\n",
       "      <th>2</th>\n",
       "      <td>450683</td>\n",
       "      <td>7637.296667</td>\n",
       "      <td>1447.185616</td>\n",
       "      <td>6190.111051</td>\n",
       "      <td>RENAISSANCE HOSPITAL TERRELL</td>\n",
       "    </tr>\n",
       "  </tbody>\n",
       "</table>\n",
       "</div>"
      ],
      "text/plain": [
       "   Provider Id  Average  Estimated Submitted Charges    Predicted  \\\n",
       "0        50205                          10836.473330  1637.973664   \n",
       "1       670029                           9498.550769  1342.689001   \n",
       "2       450683                           7637.296667  1447.185616   \n",
       "\n",
       "      Residual                        Provider Name  \n",
       "0  9198.499666  EAST VALLEY HOSPITAL MEDICAL CENTER  \n",
       "1  8155.861768             FIRST STREET HOSPITAL LP  \n",
       "2  6190.111051         RENAISSANCE HOSPITAL TERRELL  "
      ]
     },
     "execution_count": 132,
     "metadata": {},
     "output_type": "execute_result"
    }
   ],
   "source": [
    "d_1.head(3) ### Least like other (Analysis done on the basis of average covered Charges)-Provider Name."
   ]
  },
  {
   "cell_type": "code",
   "execution_count": null,
   "metadata": {},
   "outputs": [],
   "source": []
  },
  {
   "cell_type": "markdown",
   "metadata": {},
   "source": [
    "#### <a>Part 2B: Regions Least Like Others"
   ]
  },
  {
   "cell_type": "markdown",
   "metadata": {},
   "source": [
    "##### Using the table-- Medicare_Provider_Charge_Inpatient_DRG100_FY2011"
   ]
  },
  {
   "cell_type": "code",
   "execution_count": 133,
   "metadata": {},
   "outputs": [
    {
     "data": {
      "text/html": [
       "<div>\n",
       "<style scoped>\n",
       "    .dataframe tbody tr th:only-of-type {\n",
       "        vertical-align: middle;\n",
       "    }\n",
       "\n",
       "    .dataframe tbody tr th {\n",
       "        vertical-align: top;\n",
       "    }\n",
       "\n",
       "    .dataframe thead th {\n",
       "        text-align: right;\n",
       "    }\n",
       "</style>\n",
       "<table border=\"1\" class=\"dataframe\">\n",
       "  <thead>\n",
       "    <tr style=\"text-align: right;\">\n",
       "      <th></th>\n",
       "      <th>DRG Definition</th>\n",
       "      <th>Provider Id</th>\n",
       "      <th>Provider Name</th>\n",
       "      <th>Provider Street Address</th>\n",
       "      <th>Provider City</th>\n",
       "      <th>Provider State</th>\n",
       "      <th>Provider Zip Code</th>\n",
       "      <th>Hospital Referral Region (HRR) Description</th>\n",
       "      <th>Total Discharges</th>\n",
       "      <th>Average Covered Charges</th>\n",
       "      <th>Average Total Payments</th>\n",
       "      <th>Average Medicare Payments</th>\n",
       "    </tr>\n",
       "  </thead>\n",
       "  <tbody>\n",
       "    <tr>\n",
       "      <th>0</th>\n",
       "      <td>039 - EXTRACRANIAL PROCEDURES W/O CC/MCC</td>\n",
       "      <td>10001</td>\n",
       "      <td>SOUTHEAST ALABAMA MEDICAL CENTER</td>\n",
       "      <td>1108 ROSS CLARK CIRCLE</td>\n",
       "      <td>DOTHAN</td>\n",
       "      <td>AL</td>\n",
       "      <td>36301</td>\n",
       "      <td>AL - Dothan</td>\n",
       "      <td>91</td>\n",
       "      <td>32963.07692</td>\n",
       "      <td>5777.241758</td>\n",
       "      <td>4763.736264</td>\n",
       "    </tr>\n",
       "    <tr>\n",
       "      <th>1</th>\n",
       "      <td>039 - EXTRACRANIAL PROCEDURES W/O CC/MCC</td>\n",
       "      <td>10005</td>\n",
       "      <td>MARSHALL MEDICAL CENTER SOUTH</td>\n",
       "      <td>2505 U S HIGHWAY 431 NORTH</td>\n",
       "      <td>BOAZ</td>\n",
       "      <td>AL</td>\n",
       "      <td>35957</td>\n",
       "      <td>AL - Birmingham</td>\n",
       "      <td>14</td>\n",
       "      <td>15131.85714</td>\n",
       "      <td>5787.571429</td>\n",
       "      <td>4976.714286</td>\n",
       "    </tr>\n",
       "  </tbody>\n",
       "</table>\n",
       "</div>"
      ],
      "text/plain": [
       "                             DRG Definition  Provider Id  \\\n",
       "0  039 - EXTRACRANIAL PROCEDURES W/O CC/MCC        10001   \n",
       "1  039 - EXTRACRANIAL PROCEDURES W/O CC/MCC        10005   \n",
       "\n",
       "                      Provider Name     Provider Street Address Provider City  \\\n",
       "0  SOUTHEAST ALABAMA MEDICAL CENTER      1108 ROSS CLARK CIRCLE        DOTHAN   \n",
       "1     MARSHALL MEDICAL CENTER SOUTH  2505 U S HIGHWAY 431 NORTH          BOAZ   \n",
       "\n",
       "  Provider State  Provider Zip Code  \\\n",
       "0             AL              36301   \n",
       "1             AL              35957   \n",
       "\n",
       "  Hospital Referral Region (HRR) Description  Total Discharges  \\\n",
       "0                                AL - Dothan                91   \n",
       "1                            AL - Birmingham                14   \n",
       "\n",
       "   Average Covered Charges  Average Total Payments  Average Medicare Payments  \n",
       "0              32963.07692             5777.241758                4763.736264  \n",
       "1              15131.85714             5787.571429                4976.714286  "
      ]
     },
     "execution_count": 133,
     "metadata": {},
     "output_type": "execute_result"
    }
   ],
   "source": [
    "Medi_Charge_DRG100_FY2011.head(2)"
   ]
  },
  {
   "cell_type": "code",
   "execution_count": 134,
   "metadata": {},
   "outputs": [],
   "source": [
    "##Required attributes separated for getting provider least like-\n",
    "Med_In_Pro_1=Medi_Charge_DRG100_FY2011[['Hospital Referral Region (HRR) Description','Average Covered Charges']]"
   ]
  },
  {
   "cell_type": "code",
   "execution_count": 135,
   "metadata": {},
   "outputs": [
    {
     "data": {
      "text/html": [
       "<div>\n",
       "<style scoped>\n",
       "    .dataframe tbody tr th:only-of-type {\n",
       "        vertical-align: middle;\n",
       "    }\n",
       "\n",
       "    .dataframe tbody tr th {\n",
       "        vertical-align: top;\n",
       "    }\n",
       "\n",
       "    .dataframe thead th {\n",
       "        text-align: right;\n",
       "    }\n",
       "</style>\n",
       "<table border=\"1\" class=\"dataframe\">\n",
       "  <thead>\n",
       "    <tr style=\"text-align: right;\">\n",
       "      <th></th>\n",
       "      <th>Hospital Referral Region (HRR) Description</th>\n",
       "      <th>Average Covered Charges</th>\n",
       "    </tr>\n",
       "  </thead>\n",
       "  <tbody>\n",
       "    <tr>\n",
       "      <th>0</th>\n",
       "      <td>AL - Dothan</td>\n",
       "      <td>32963.07692</td>\n",
       "    </tr>\n",
       "    <tr>\n",
       "      <th>1</th>\n",
       "      <td>AL - Birmingham</td>\n",
       "      <td>15131.85714</td>\n",
       "    </tr>\n",
       "  </tbody>\n",
       "</table>\n",
       "</div>"
      ],
      "text/plain": [
       "  Hospital Referral Region (HRR) Description  Average Covered Charges\n",
       "0                                AL - Dothan              32963.07692\n",
       "1                            AL - Birmingham              15131.85714"
      ]
     },
     "execution_count": 135,
     "metadata": {},
     "output_type": "execute_result"
    }
   ],
   "source": [
    "Med_In_Pro_1.head(2)"
   ]
  },
  {
   "cell_type": "code",
   "execution_count": 136,
   "metadata": {},
   "outputs": [
    {
     "data": {
      "text/html": [
       "<div>\n",
       "<style scoped>\n",
       "    .dataframe tbody tr th:only-of-type {\n",
       "        vertical-align: middle;\n",
       "    }\n",
       "\n",
       "    .dataframe tbody tr th {\n",
       "        vertical-align: top;\n",
       "    }\n",
       "\n",
       "    .dataframe thead th {\n",
       "        text-align: right;\n",
       "    }\n",
       "</style>\n",
       "<table border=\"1\" class=\"dataframe\">\n",
       "  <thead>\n",
       "    <tr style=\"text-align: right;\">\n",
       "      <th></th>\n",
       "      <th>Hospital Referral Region (HRR) Description</th>\n",
       "      <th>Average Covered Charges</th>\n",
       "      <th>State_col</th>\n",
       "    </tr>\n",
       "  </thead>\n",
       "  <tbody>\n",
       "    <tr>\n",
       "      <th>0</th>\n",
       "      <td>AK - Anchorage</td>\n",
       "      <td>40348.747302</td>\n",
       "      <td>0</td>\n",
       "    </tr>\n",
       "    <tr>\n",
       "      <th>1</th>\n",
       "      <td>AL - Birmingham</td>\n",
       "      <td>35875.134989</td>\n",
       "      <td>1</td>\n",
       "    </tr>\n",
       "  </tbody>\n",
       "</table>\n",
       "</div>"
      ],
      "text/plain": [
       "  Hospital Referral Region (HRR) Description  Average Covered Charges  \\\n",
       "0                             AK - Anchorage             40348.747302   \n",
       "1                            AL - Birmingham             35875.134989   \n",
       "\n",
       "   State_col  \n",
       "0          0  \n",
       "1          1  "
      ]
     },
     "execution_count": 136,
     "metadata": {},
     "output_type": "execute_result"
    }
   ],
   "source": [
    "aa=Med_In_Pro_1.groupby(['Hospital Referral Region (HRR) Description']).mean().reset_index()\n",
    "aa['State_col']=aa.index\n",
    "aa.head(2) ###Mean value of average cover charges by each Provider Id "
   ]
  },
  {
   "cell_type": "code",
   "execution_count": 137,
   "metadata": {},
   "outputs": [
    {
     "data": {
      "text/plain": [
       "<seaborn.axisgrid.JointGrid at 0x13a9add0>"
      ]
     },
     "execution_count": 137,
     "metadata": {},
     "output_type": "execute_result"
    },
    {
     "data": {
      "image/png": "[encoded data removed]",
      "text/plain": [
       "<Figure size 432x432 with 3 Axes>"
      ]
     },
     "metadata": {
      "needs_background": "light"
     },
     "output_type": "display_data"
    }
   ],
   "source": [
    "sns.jointplot(x='State_col', y='Average Covered Charges', data=aa)"
   ]
  },
  {
   "cell_type": "code",
   "execution_count": 138,
   "metadata": {},
   "outputs": [
    {
     "data": {
      "text/plain": [
       "LinearRegression(copy_X=True, fit_intercept=True, n_jobs=None, normalize=False)"
      ]
     },
     "execution_count": 138,
     "metadata": {},
     "output_type": "execute_result"
    }
   ],
   "source": [
    "from sklearn.linear_model import LinearRegression\n",
    "from sklearn.preprocessing import StandardScaler\n",
    "\n",
    "model = LinearRegression()\n",
    "model.fit(aa['State_col'].values.reshape(-1,1),aa['Average Covered Charges'].values.reshape(-1,1)) ##Fitting the values in the model."
   ]
  },
  {
   "cell_type": "code",
   "execution_count": 139,
   "metadata": {},
   "outputs": [],
   "source": [
    "aa['Predicted']=model.predict(aa['State_col'].values.reshape(-1,1)) ###Predicting value on the model\n",
    "\n",
    "##predict() : given a trained model, predict the label of a new set of data. \n",
    "\n",
    "aa['Residual']=abs(aa['Predicted']-aa['Average Covered Charges']) ## New column "
   ]
  },
  {
   "cell_type": "code",
   "execution_count": 140,
   "metadata": {},
   "outputs": [
    {
     "data": {
      "text/html": [
       "<div>\n",
       "<style scoped>\n",
       "    .dataframe tbody tr th:only-of-type {\n",
       "        vertical-align: middle;\n",
       "    }\n",
       "\n",
       "    .dataframe tbody tr th {\n",
       "        vertical-align: top;\n",
       "    }\n",
       "\n",
       "    .dataframe thead th {\n",
       "        text-align: right;\n",
       "    }\n",
       "</style>\n",
       "<table border=\"1\" class=\"dataframe\">\n",
       "  <thead>\n",
       "    <tr style=\"text-align: right;\">\n",
       "      <th></th>\n",
       "      <th>Hospital Referral Region (HRR) Description</th>\n",
       "      <th>Average Covered Charges</th>\n",
       "      <th>State_col</th>\n",
       "      <th>Predicted</th>\n",
       "      <th>Residual</th>\n",
       "    </tr>\n",
       "  </thead>\n",
       "  <tbody>\n",
       "    <tr>\n",
       "      <th>34</th>\n",
       "      <td>CA - San Mateo County</td>\n",
       "      <td>107043.676422</td>\n",
       "      <td>34</td>\n",
       "      <td>41093.051131</td>\n",
       "      <td>65950.625290</td>\n",
       "    </tr>\n",
       "    <tr>\n",
       "      <th>19</th>\n",
       "      <td>CA - Contra Costa County</td>\n",
       "      <td>100597.091568</td>\n",
       "      <td>19</td>\n",
       "      <td>41946.985579</td>\n",
       "      <td>58650.105989</td>\n",
       "    </tr>\n",
       "    <tr>\n",
       "      <th>32</th>\n",
       "      <td>CA - San Jose</td>\n",
       "      <td>90480.155403</td>\n",
       "      <td>32</td>\n",
       "      <td>41206.909058</td>\n",
       "      <td>49273.246345</td>\n",
       "    </tr>\n",
       "  </tbody>\n",
       "</table>\n",
       "</div>"
      ],
      "text/plain": [
       "   Hospital Referral Region (HRR) Description  Average Covered Charges  \\\n",
       "34                      CA - San Mateo County            107043.676422   \n",
       "19                   CA - Contra Costa County            100597.091568   \n",
       "32                              CA - San Jose             90480.155403   \n",
       "\n",
       "    State_col     Predicted      Residual  \n",
       "34         34  41093.051131  65950.625290  \n",
       "19         19  41946.985579  58650.105989  \n",
       "32         32  41206.909058  49273.246345  "
      ]
     },
     "execution_count": 140,
     "metadata": {},
     "output_type": "execute_result"
    }
   ],
   "source": [
    "#Details Concerning Required Providers\n",
    "aa.sort_values('Residual',ascending=False).head(3) ##Highest Deviated points from the regression line.\n",
    "### Shows some of the point are least like others."
   ]
  },
  {
   "cell_type": "code",
   "execution_count": 141,
   "metadata": {},
   "outputs": [
    {
     "data": {
      "text/html": [
       "<div>\n",
       "<style scoped>\n",
       "    .dataframe tbody tr th:only-of-type {\n",
       "        vertical-align: middle;\n",
       "    }\n",
       "\n",
       "    .dataframe tbody tr th {\n",
       "        vertical-align: top;\n",
       "    }\n",
       "\n",
       "    .dataframe thead th {\n",
       "        text-align: right;\n",
       "    }\n",
       "</style>\n",
       "<table border=\"1\" class=\"dataframe\">\n",
       "  <thead>\n",
       "    <tr style=\"text-align: right;\">\n",
       "      <th></th>\n",
       "      <th>Hospital Referral Region (HRR) Description</th>\n",
       "      <th>Average Covered Charges</th>\n",
       "      <th>State_col</th>\n",
       "      <th>Predicted</th>\n",
       "      <th>Residual</th>\n",
       "    </tr>\n",
       "  </thead>\n",
       "  <tbody>\n",
       "    <tr>\n",
       "      <th>34</th>\n",
       "      <td>CA - San Mateo County</td>\n",
       "      <td>107043.676422</td>\n",
       "      <td>34</td>\n",
       "      <td>41093.051131</td>\n",
       "      <td>65950.625290</td>\n",
       "    </tr>\n",
       "    <tr>\n",
       "      <th>19</th>\n",
       "      <td>CA - Contra Costa County</td>\n",
       "      <td>100597.091568</td>\n",
       "      <td>19</td>\n",
       "      <td>41946.985579</td>\n",
       "      <td>58650.105989</td>\n",
       "    </tr>\n",
       "    <tr>\n",
       "      <th>32</th>\n",
       "      <td>CA - San Jose</td>\n",
       "      <td>90480.155403</td>\n",
       "      <td>32</td>\n",
       "      <td>41206.909058</td>\n",
       "      <td>49273.246345</td>\n",
       "    </tr>\n",
       "  </tbody>\n",
       "</table>\n",
       "</div>"
      ],
      "text/plain": [
       "   Hospital Referral Region (HRR) Description  Average Covered Charges  \\\n",
       "34                      CA - San Mateo County            107043.676422   \n",
       "19                   CA - Contra Costa County            100597.091568   \n",
       "32                              CA - San Jose             90480.155403   \n",
       "\n",
       "    State_col     Predicted      Residual  \n",
       "34         34  41093.051131  65950.625290  \n",
       "19         19  41946.985579  58650.105989  \n",
       "32         32  41206.909058  49273.246345  "
      ]
     },
     "execution_count": 141,
     "metadata": {},
     "output_type": "execute_result"
    }
   ],
   "source": [
    "bb=aa.sort_values('Residual',ascending=False)\n",
    "bb.head(3) ### Least like other (Analysis done on the basis of average covered Charges)-Region Name."
   ]
  },
  {
   "cell_type": "code",
   "execution_count": null,
   "metadata": {},
   "outputs": [],
   "source": []
  },
  {
   "cell_type": "markdown",
   "metadata": {},
   "source": [
    "##### Using the table--Medicare_Provider_Charge_Outpatient_APC30_CY2011"
   ]
  },
  {
   "cell_type": "code",
   "execution_count": 142,
   "metadata": {},
   "outputs": [
    {
     "data": {
      "text/html": [
       "<div>\n",
       "<style scoped>\n",
       "    .dataframe tbody tr th:only-of-type {\n",
       "        vertical-align: middle;\n",
       "    }\n",
       "\n",
       "    .dataframe tbody tr th {\n",
       "        vertical-align: top;\n",
       "    }\n",
       "\n",
       "    .dataframe thead th {\n",
       "        text-align: right;\n",
       "    }\n",
       "</style>\n",
       "<table border=\"1\" class=\"dataframe\">\n",
       "  <thead>\n",
       "    <tr style=\"text-align: right;\">\n",
       "      <th></th>\n",
       "      <th>APC</th>\n",
       "      <th>Provider Id</th>\n",
       "      <th>Provider Name</th>\n",
       "      <th>Provider Street Address</th>\n",
       "      <th>Provider City</th>\n",
       "      <th>Provider State</th>\n",
       "      <th>Provider Zip Code</th>\n",
       "      <th>Hospital Referral Region (HRR) Description</th>\n",
       "      <th>Outpatient Services</th>\n",
       "      <th>Average  Estimated Submitted Charges</th>\n",
       "      <th>Average Total Payments</th>\n",
       "    </tr>\n",
       "  </thead>\n",
       "  <tbody>\n",
       "    <tr>\n",
       "      <th>0</th>\n",
       "      <td>0012 - Level I Debridement &amp; Destruction</td>\n",
       "      <td>10029</td>\n",
       "      <td>EAST ALABAMA MEDICAL CENTER AND SNF</td>\n",
       "      <td>2000 PEPPERELL PARKWAY</td>\n",
       "      <td>OPELIKA</td>\n",
       "      <td>AL</td>\n",
       "      <td>36801</td>\n",
       "      <td>AL - Birmingham</td>\n",
       "      <td>23</td>\n",
       "      <td>78.086957</td>\n",
       "      <td>21.910435</td>\n",
       "    </tr>\n",
       "    <tr>\n",
       "      <th>1</th>\n",
       "      <td>0012 - Level I Debridement &amp; Destruction</td>\n",
       "      <td>20024</td>\n",
       "      <td>CENTRAL PENINSULA GENERAL HOSPITAL</td>\n",
       "      <td>250 HOSPITAL PLACE</td>\n",
       "      <td>SOLDOTNA</td>\n",
       "      <td>AK</td>\n",
       "      <td>99669</td>\n",
       "      <td>AK - Anchorage</td>\n",
       "      <td>994</td>\n",
       "      <td>149.589749</td>\n",
       "      <td>36.623853</td>\n",
       "    </tr>\n",
       "  </tbody>\n",
       "</table>\n",
       "</div>"
      ],
      "text/plain": [
       "                                        APC  Provider Id  \\\n",
       "0  0012 - Level I Debridement & Destruction        10029   \n",
       "1  0012 - Level I Debridement & Destruction        20024   \n",
       "\n",
       "                         Provider Name Provider Street Address Provider City  \\\n",
       "0  EAST ALABAMA MEDICAL CENTER AND SNF  2000 PEPPERELL PARKWAY       OPELIKA   \n",
       "1   CENTRAL PENINSULA GENERAL HOSPITAL      250 HOSPITAL PLACE      SOLDOTNA   \n",
       "\n",
       "  Provider State  Provider Zip Code  \\\n",
       "0             AL              36801   \n",
       "1             AK              99669   \n",
       "\n",
       "  Hospital Referral Region (HRR) Description  Outpatient Services  \\\n",
       "0                            AL - Birmingham                   23   \n",
       "1                             AK - Anchorage                  994   \n",
       "\n",
       "   Average  Estimated Submitted Charges  Average Total Payments  \n",
       "0                             78.086957               21.910435  \n",
       "1                            149.589749               36.623853  "
      ]
     },
     "execution_count": 142,
     "metadata": {},
     "output_type": "execute_result"
    }
   ],
   "source": [
    "Medi_Provider_APC30_CY2011.head(2)"
   ]
  },
  {
   "cell_type": "code",
   "execution_count": 143,
   "metadata": {},
   "outputs": [],
   "source": [
    "##Required attributes separated for getting provider least like-\n",
    "Med_Out_Pro_1=Medi_Provider_APC30_CY2011[['Hospital Referral Region (HRR) Description','Average  Estimated Submitted Charges']]"
   ]
  },
  {
   "cell_type": "code",
   "execution_count": 144,
   "metadata": {},
   "outputs": [
    {
     "data": {
      "text/html": [
       "<div>\n",
       "<style scoped>\n",
       "    .dataframe tbody tr th:only-of-type {\n",
       "        vertical-align: middle;\n",
       "    }\n",
       "\n",
       "    .dataframe tbody tr th {\n",
       "        vertical-align: top;\n",
       "    }\n",
       "\n",
       "    .dataframe thead th {\n",
       "        text-align: right;\n",
       "    }\n",
       "</style>\n",
       "<table border=\"1\" class=\"dataframe\">\n",
       "  <thead>\n",
       "    <tr style=\"text-align: right;\">\n",
       "      <th></th>\n",
       "      <th>Hospital Referral Region (HRR) Description</th>\n",
       "      <th>Average  Estimated Submitted Charges</th>\n",
       "    </tr>\n",
       "  </thead>\n",
       "  <tbody>\n",
       "    <tr>\n",
       "      <th>0</th>\n",
       "      <td>AL - Birmingham</td>\n",
       "      <td>78.086957</td>\n",
       "    </tr>\n",
       "    <tr>\n",
       "      <th>1</th>\n",
       "      <td>AK - Anchorage</td>\n",
       "      <td>149.589749</td>\n",
       "    </tr>\n",
       "  </tbody>\n",
       "</table>\n",
       "</div>"
      ],
      "text/plain": [
       "  Hospital Referral Region (HRR) Description  \\\n",
       "0                            AL - Birmingham   \n",
       "1                             AK - Anchorage   \n",
       "\n",
       "   Average  Estimated Submitted Charges  \n",
       "0                             78.086957  \n",
       "1                            149.589749  "
      ]
     },
     "execution_count": 144,
     "metadata": {},
     "output_type": "execute_result"
    }
   ],
   "source": [
    "Med_Out_Pro_1.head(2)"
   ]
  },
  {
   "cell_type": "code",
   "execution_count": 145,
   "metadata": {},
   "outputs": [
    {
     "data": {
      "text/html": [
       "<div>\n",
       "<style scoped>\n",
       "    .dataframe tbody tr th:only-of-type {\n",
       "        vertical-align: middle;\n",
       "    }\n",
       "\n",
       "    .dataframe tbody tr th {\n",
       "        vertical-align: top;\n",
       "    }\n",
       "\n",
       "    .dataframe thead th {\n",
       "        text-align: right;\n",
       "    }\n",
       "</style>\n",
       "<table border=\"1\" class=\"dataframe\">\n",
       "  <thead>\n",
       "    <tr style=\"text-align: right;\">\n",
       "      <th></th>\n",
       "      <th>Hospital Referral Region (HRR) Description</th>\n",
       "      <th>Average  Estimated Submitted Charges</th>\n",
       "      <th>State_col</th>\n",
       "    </tr>\n",
       "  </thead>\n",
       "  <tbody>\n",
       "    <tr>\n",
       "      <th>0</th>\n",
       "      <td>AK - Anchorage</td>\n",
       "      <td>1272.439421</td>\n",
       "      <td>0</td>\n",
       "    </tr>\n",
       "    <tr>\n",
       "      <th>1</th>\n",
       "      <td>AL - Birmingham</td>\n",
       "      <td>1988.589815</td>\n",
       "      <td>1</td>\n",
       "    </tr>\n",
       "  </tbody>\n",
       "</table>\n",
       "</div>"
      ],
      "text/plain": [
       "  Hospital Referral Region (HRR) Description  \\\n",
       "0                             AK - Anchorage   \n",
       "1                            AL - Birmingham   \n",
       "\n",
       "   Average  Estimated Submitted Charges  State_col  \n",
       "0                           1272.439421          0  \n",
       "1                           1988.589815          1  "
      ]
     },
     "execution_count": 145,
     "metadata": {},
     "output_type": "execute_result"
    }
   ],
   "source": [
    "aa_1=Med_Out_Pro_1.groupby(['Hospital Referral Region (HRR) Description']).mean().reset_index()\n",
    "aa_1['State_col']=aa_1.index\n",
    "aa_1.head(2) ###Mean value of average cover charges by each Provider Id "
   ]
  },
  {
   "cell_type": "code",
   "execution_count": 146,
   "metadata": {},
   "outputs": [
    {
     "data": {
      "text/plain": [
       "<seaborn.axisgrid.JointGrid at 0x15257750>"
      ]
     },
     "execution_count": 146,
     "metadata": {},
     "output_type": "execute_result"
    },
    {
     "data": {
      "image/png": "[encoded data removed]",
      "text/plain": [
       "<Figure size 432x432 with 3 Axes>"
      ]
     },
     "metadata": {
      "needs_background": "light"
     },
     "output_type": "display_data"
    }
   ],
   "source": [
    "sns.jointplot(x='State_col', y='Average  Estimated Submitted Charges', data=aa_1)"
   ]
  },
  {
   "cell_type": "code",
   "execution_count": 147,
   "metadata": {},
   "outputs": [
    {
     "data": {
      "text/plain": [
       "LinearRegression(copy_X=True, fit_intercept=True, n_jobs=None, normalize=False)"
      ]
     },
     "execution_count": 147,
     "metadata": {},
     "output_type": "execute_result"
    }
   ],
   "source": [
    "from sklearn.linear_model import LinearRegression\n",
    "from sklearn.preprocessing import StandardScaler\n",
    "\n",
    "model = LinearRegression()\n",
    "model.fit(aa_1['State_col'].values.reshape(-1,1),aa_1['Average  Estimated Submitted Charges'].values.reshape(-1,1)) ##Fitting the values in the model."
   ]
  },
  {
   "cell_type": "code",
   "execution_count": 148,
   "metadata": {},
   "outputs": [],
   "source": [
    "aa_1['Predicted']=model.predict(aa_1['State_col'].values.reshape(-1,1)) ###Predicting value on the model\n",
    "\n",
    "##predict() : given a trained model, predict the label of a new set of data. \n",
    "\n",
    "aa_1['Residual']=abs(aa_1['Predicted']-aa_1['Average  Estimated Submitted Charges']) ## New column "
   ]
  },
  {
   "cell_type": "code",
   "execution_count": 149,
   "metadata": {},
   "outputs": [
    {
     "data": {
      "text/html": [
       "<div>\n",
       "<style scoped>\n",
       "    .dataframe tbody tr th:only-of-type {\n",
       "        vertical-align: middle;\n",
       "    }\n",
       "\n",
       "    .dataframe tbody tr th {\n",
       "        vertical-align: top;\n",
       "    }\n",
       "\n",
       "    .dataframe thead th {\n",
       "        text-align: right;\n",
       "    }\n",
       "</style>\n",
       "<table border=\"1\" class=\"dataframe\">\n",
       "  <thead>\n",
       "    <tr style=\"text-align: right;\">\n",
       "      <th></th>\n",
       "      <th>Hospital Referral Region (HRR) Description</th>\n",
       "      <th>Average  Estimated Submitted Charges</th>\n",
       "      <th>State_col</th>\n",
       "      <th>Predicted</th>\n",
       "      <th>Residual</th>\n",
       "    </tr>\n",
       "  </thead>\n",
       "  <tbody>\n",
       "    <tr>\n",
       "      <th>57</th>\n",
       "      <td>FL - Hudson</td>\n",
       "      <td>3267.836694</td>\n",
       "      <td>57</td>\n",
       "      <td>1570.001127</td>\n",
       "      <td>1697.835567</td>\n",
       "    </tr>\n",
       "    <tr>\n",
       "      <th>230</th>\n",
       "      <td>PA - Philadelphia</td>\n",
       "      <td>2638.394517</td>\n",
       "      <td>230</td>\n",
       "      <td>1331.698713</td>\n",
       "      <td>1306.695804</td>\n",
       "    </tr>\n",
       "    <tr>\n",
       "      <th>265</th>\n",
       "      <td>TX - McAllen</td>\n",
       "      <td>2545.273143</td>\n",
       "      <td>265</td>\n",
       "      <td>1283.487242</td>\n",
       "      <td>1261.785901</td>\n",
       "    </tr>\n",
       "  </tbody>\n",
       "</table>\n",
       "</div>"
      ],
      "text/plain": [
       "    Hospital Referral Region (HRR) Description  \\\n",
       "57                                 FL - Hudson   \n",
       "230                          PA - Philadelphia   \n",
       "265                               TX - McAllen   \n",
       "\n",
       "     Average  Estimated Submitted Charges  State_col    Predicted     Residual  \n",
       "57                            3267.836694         57  1570.001127  1697.835567  \n",
       "230                           2638.394517        230  1331.698713  1306.695804  \n",
       "265                           2545.273143        265  1283.487242  1261.785901  "
      ]
     },
     "execution_count": 149,
     "metadata": {},
     "output_type": "execute_result"
    }
   ],
   "source": [
    "#Details Concerning Required Providers\n",
    "aa_1.sort_values('Residual',ascending=False).head(3) ##Highest Deviated points from the regression line.\n",
    "### Shows some of the point are least like others."
   ]
  },
  {
   "cell_type": "code",
   "execution_count": 150,
   "metadata": {},
   "outputs": [
    {
     "data": {
      "text/html": [
       "<div>\n",
       "<style scoped>\n",
       "    .dataframe tbody tr th:only-of-type {\n",
       "        vertical-align: middle;\n",
       "    }\n",
       "\n",
       "    .dataframe tbody tr th {\n",
       "        vertical-align: top;\n",
       "    }\n",
       "\n",
       "    .dataframe thead th {\n",
       "        text-align: right;\n",
       "    }\n",
       "</style>\n",
       "<table border=\"1\" class=\"dataframe\">\n",
       "  <thead>\n",
       "    <tr style=\"text-align: right;\">\n",
       "      <th></th>\n",
       "      <th>Hospital Referral Region (HRR) Description</th>\n",
       "      <th>Average  Estimated Submitted Charges</th>\n",
       "      <th>State_col</th>\n",
       "      <th>Predicted</th>\n",
       "      <th>Residual</th>\n",
       "    </tr>\n",
       "  </thead>\n",
       "  <tbody>\n",
       "    <tr>\n",
       "      <th>57</th>\n",
       "      <td>FL - Hudson</td>\n",
       "      <td>3267.836694</td>\n",
       "      <td>57</td>\n",
       "      <td>1570.001127</td>\n",
       "      <td>1697.835567</td>\n",
       "    </tr>\n",
       "    <tr>\n",
       "      <th>230</th>\n",
       "      <td>PA - Philadelphia</td>\n",
       "      <td>2638.394517</td>\n",
       "      <td>230</td>\n",
       "      <td>1331.698713</td>\n",
       "      <td>1306.695804</td>\n",
       "    </tr>\n",
       "    <tr>\n",
       "      <th>265</th>\n",
       "      <td>TX - McAllen</td>\n",
       "      <td>2545.273143</td>\n",
       "      <td>265</td>\n",
       "      <td>1283.487242</td>\n",
       "      <td>1261.785901</td>\n",
       "    </tr>\n",
       "  </tbody>\n",
       "</table>\n",
       "</div>"
      ],
      "text/plain": [
       "    Hospital Referral Region (HRR) Description  \\\n",
       "57                                 FL - Hudson   \n",
       "230                          PA - Philadelphia   \n",
       "265                               TX - McAllen   \n",
       "\n",
       "     Average  Estimated Submitted Charges  State_col    Predicted     Residual  \n",
       "57                            3267.836694         57  1570.001127  1697.835567  \n",
       "230                           2638.394517        230  1331.698713  1306.695804  \n",
       "265                           2545.273143        265  1283.487242  1261.785901  "
      ]
     },
     "execution_count": 150,
     "metadata": {},
     "output_type": "execute_result"
    }
   ],
   "source": [
    "bb_1=aa_1.sort_values('Residual',ascending=False)\n",
    "bb_1.head(3) ### Least like other (Analysis done on the basis of average covered Charges)-Region Name."
   ]
  },
  {
   "cell_type": "code",
   "execution_count": null,
   "metadata": {},
   "outputs": [],
   "source": []
  },
  {
   "cell_type": "markdown",
   "metadata": {},
   "source": [
    "### <a>Part3: Identify 10000 Medicare patients who are involved in anomalous activities."
   ]
  },
  {
   "cell_type": "code",
   "execution_count": 151,
   "metadata": {},
   "outputs": [
    {
     "data": {
      "text/plain": [
       "(500000, 4)"
      ]
     },
     "execution_count": 151,
     "metadata": {},
     "output_type": "execute_result"
    }
   ],
   "source": [
    "Patient_history_samp.shape ###Details of customers."
   ]
  },
  {
   "cell_type": "code",
   "execution_count": 152,
   "metadata": {},
   "outputs": [
    {
     "data": {
      "text/html": [
       "<div>\n",
       "<style scoped>\n",
       "    .dataframe tbody tr th:only-of-type {\n",
       "        vertical-align: middle;\n",
       "    }\n",
       "\n",
       "    .dataframe tbody tr th {\n",
       "        vertical-align: top;\n",
       "    }\n",
       "\n",
       "    .dataframe thead th {\n",
       "        text-align: right;\n",
       "    }\n",
       "</style>\n",
       "<table border=\"1\" class=\"dataframe\">\n",
       "  <thead>\n",
       "    <tr style=\"text-align: right;\">\n",
       "      <th></th>\n",
       "      <th>id</th>\n",
       "      <th>age</th>\n",
       "      <th>gender</th>\n",
       "      <th>income</th>\n",
       "    </tr>\n",
       "  </thead>\n",
       "  <tbody>\n",
       "    <tr>\n",
       "      <th>0</th>\n",
       "      <td>306535165</td>\n",
       "      <td>65-74</td>\n",
       "      <td>F</td>\n",
       "      <td>24000-31999</td>\n",
       "    </tr>\n",
       "    <tr>\n",
       "      <th>1</th>\n",
       "      <td>742231134</td>\n",
       "      <td>65-74</td>\n",
       "      <td>F</td>\n",
       "      <td>48000+</td>\n",
       "    </tr>\n",
       "    <tr>\n",
       "      <th>2</th>\n",
       "      <td>928807201</td>\n",
       "      <td>75-84</td>\n",
       "      <td>M</td>\n",
       "      <td>24000-31999</td>\n",
       "    </tr>\n",
       "    <tr>\n",
       "      <th>3</th>\n",
       "      <td>83686538</td>\n",
       "      <td>&lt;65</td>\n",
       "      <td>F</td>\n",
       "      <td>32000-47999</td>\n",
       "    </tr>\n",
       "    <tr>\n",
       "      <th>4</th>\n",
       "      <td>755607449</td>\n",
       "      <td>65-74</td>\n",
       "      <td>F</td>\n",
       "      <td>48000+</td>\n",
       "    </tr>\n",
       "  </tbody>\n",
       "</table>\n",
       "</div>"
      ],
      "text/plain": [
       "          id    age gender       income\n",
       "0  306535165  65-74      F  24000-31999\n",
       "1  742231134  65-74      F       48000+\n",
       "2  928807201  75-84      M  24000-31999\n",
       "3   83686538    <65      F  32000-47999\n",
       "4  755607449  65-74      F       48000+"
      ]
     },
     "execution_count": 152,
     "metadata": {},
     "output_type": "execute_result"
    }
   ],
   "source": [
    "Patient_history_samp.head() ## Patient detail."
   ]
  },
  {
   "cell_type": "code",
   "execution_count": 153,
   "metadata": {},
   "outputs": [
    {
     "data": {
      "text/plain": [
       "(1514809, 3)"
      ]
     },
     "execution_count": 153,
     "metadata": {},
     "output_type": "execute_result"
    }
   ],
   "source": [
    "Transaction_coo.shape # Customer transaction detail."
   ]
  },
  {
   "cell_type": "code",
   "execution_count": 154,
   "metadata": {},
   "outputs": [
    {
     "data": {
      "text/html": [
       "<div>\n",
       "<style scoped>\n",
       "    .dataframe tbody tr th:only-of-type {\n",
       "        vertical-align: middle;\n",
       "    }\n",
       "\n",
       "    .dataframe tbody tr th {\n",
       "        vertical-align: top;\n",
       "    }\n",
       "\n",
       "    .dataframe thead th {\n",
       "        text-align: right;\n",
       "    }\n",
       "</style>\n",
       "<table border=\"1\" class=\"dataframe\">\n",
       "  <thead>\n",
       "    <tr style=\"text-align: right;\">\n",
       "      <th></th>\n",
       "      <th>id</th>\n",
       "      <th>global_proc_id</th>\n",
       "      <th>count</th>\n",
       "    </tr>\n",
       "  </thead>\n",
       "  <tbody>\n",
       "    <tr>\n",
       "      <th>0</th>\n",
       "      <td>159125</td>\n",
       "      <td>1</td>\n",
       "      <td>1</td>\n",
       "    </tr>\n",
       "    <tr>\n",
       "      <th>1</th>\n",
       "      <td>191852</td>\n",
       "      <td>1</td>\n",
       "      <td>1</td>\n",
       "    </tr>\n",
       "    <tr>\n",
       "      <th>2</th>\n",
       "      <td>321083</td>\n",
       "      <td>1</td>\n",
       "      <td>1</td>\n",
       "    </tr>\n",
       "    <tr>\n",
       "      <th>3</th>\n",
       "      <td>383037</td>\n",
       "      <td>1</td>\n",
       "      <td>1</td>\n",
       "    </tr>\n",
       "    <tr>\n",
       "      <th>4</th>\n",
       "      <td>467729</td>\n",
       "      <td>1</td>\n",
       "      <td>1</td>\n",
       "    </tr>\n",
       "  </tbody>\n",
       "</table>\n",
       "</div>"
      ],
      "text/plain": [
       "       id  global_proc_id  count\n",
       "0  159125               1      1\n",
       "1  191852               1      1\n",
       "2  321083               1      1\n",
       "3  383037               1      1\n",
       "4  467729               1      1"
      ]
     },
     "execution_count": 154,
     "metadata": {},
     "output_type": "execute_result"
    }
   ],
   "source": [
    "Transaction_coo.head() ## Transcation detail"
   ]
  },
  {
   "cell_type": "code",
   "execution_count": 155,
   "metadata": {},
   "outputs": [],
   "source": [
    "#Fixing the null values; replacing them with mode"
   ]
  },
  {
   "cell_type": "code",
   "execution_count": 156,
   "metadata": {},
   "outputs": [],
   "source": [
    "Patient_history_samp.age=Patient_history_samp.age.fillna(Patient_history_samp.age.mode()[0])\n",
    "Patient_history_samp.income=Patient_history_samp.income.fillna(Patient_history_samp.income.mode()[0])"
   ]
  },
  {
   "cell_type": "code",
   "execution_count": 157,
   "metadata": {},
   "outputs": [],
   "source": [
    "trans=Transaction_coo[['id','count']].groupby('id').sum()  ### Grouping the transaction details."
   ]
  },
  {
   "cell_type": "code",
   "execution_count": 158,
   "metadata": {},
   "outputs": [
    {
     "data": {
      "text/html": [
       "<div>\n",
       "<style scoped>\n",
       "    .dataframe tbody tr th:only-of-type {\n",
       "        vertical-align: middle;\n",
       "    }\n",
       "\n",
       "    .dataframe tbody tr th {\n",
       "        vertical-align: top;\n",
       "    }\n",
       "\n",
       "    .dataframe thead th {\n",
       "        text-align: right;\n",
       "    }\n",
       "</style>\n",
       "<table border=\"1\" class=\"dataframe\">\n",
       "  <thead>\n",
       "    <tr style=\"text-align: right;\">\n",
       "      <th></th>\n",
       "      <th>count</th>\n",
       "    </tr>\n",
       "    <tr>\n",
       "      <th>id</th>\n",
       "      <th></th>\n",
       "    </tr>\n",
       "  </thead>\n",
       "  <tbody>\n",
       "    <tr>\n",
       "      <th>7561</th>\n",
       "      <td>2</td>\n",
       "    </tr>\n",
       "    <tr>\n",
       "      <th>7619</th>\n",
       "      <td>2</td>\n",
       "    </tr>\n",
       "  </tbody>\n",
       "</table>\n",
       "</div>"
      ],
      "text/plain": [
       "      count\n",
       "id         \n",
       "7561      2\n",
       "7619      2"
      ]
     },
     "execution_count": 158,
     "metadata": {},
     "output_type": "execute_result"
    }
   ],
   "source": [
    "trans.head(2)"
   ]
  },
  {
   "cell_type": "code",
   "execution_count": 159,
   "metadata": {},
   "outputs": [
    {
     "data": {
      "text/html": [
       "<div>\n",
       "<style scoped>\n",
       "    .dataframe tbody tr th:only-of-type {\n",
       "        vertical-align: middle;\n",
       "    }\n",
       "\n",
       "    .dataframe tbody tr th {\n",
       "        vertical-align: top;\n",
       "    }\n",
       "\n",
       "    .dataframe thead th {\n",
       "        text-align: right;\n",
       "    }\n",
       "</style>\n",
       "<table border=\"1\" class=\"dataframe\">\n",
       "  <thead>\n",
       "    <tr style=\"text-align: right;\">\n",
       "      <th></th>\n",
       "      <th>id</th>\n",
       "      <th>count</th>\n",
       "    </tr>\n",
       "  </thead>\n",
       "  <tbody>\n",
       "    <tr>\n",
       "      <th>0</th>\n",
       "      <td>7561</td>\n",
       "      <td>2</td>\n",
       "    </tr>\n",
       "    <tr>\n",
       "      <th>1</th>\n",
       "      <td>7619</td>\n",
       "      <td>2</td>\n",
       "    </tr>\n",
       "    <tr>\n",
       "      <th>2</th>\n",
       "      <td>10479</td>\n",
       "      <td>4</td>\n",
       "    </tr>\n",
       "    <tr>\n",
       "      <th>3</th>\n",
       "      <td>13515</td>\n",
       "      <td>2</td>\n",
       "    </tr>\n",
       "    <tr>\n",
       "      <th>4</th>\n",
       "      <td>15213</td>\n",
       "      <td>6</td>\n",
       "    </tr>\n",
       "  </tbody>\n",
       "</table>\n",
       "</div>"
      ],
      "text/plain": [
       "      id  count\n",
       "0   7561      2\n",
       "1   7619      2\n",
       "2  10479      4\n",
       "3  13515      2\n",
       "4  15213      6"
      ]
     },
     "execution_count": 159,
     "metadata": {},
     "output_type": "execute_result"
    }
   ],
   "source": [
    "tr=trans.reset_index()\n",
    "tr.head()"
   ]
  },
  {
   "cell_type": "code",
   "execution_count": 160,
   "metadata": {},
   "outputs": [
    {
     "data": {
      "text/plain": [
       "(505000, 2)"
      ]
     },
     "execution_count": 160,
     "metadata": {},
     "output_type": "execute_result"
    }
   ],
   "source": [
    "tr.shape"
   ]
  },
  {
   "cell_type": "code",
   "execution_count": 161,
   "metadata": {},
   "outputs": [
    {
     "data": {
      "text/plain": [
       "<matplotlib.axes._subplots.AxesSubplot at 0x154c2770>"
      ]
     },
     "execution_count": 161,
     "metadata": {},
     "output_type": "execute_result"
    },
    {
     "data": {
      "image/png": "[encoded data removed]",
      "text/plain": [
       "<Figure size 720x576 with 1 Axes>"
      ]
     },
     "metadata": {
      "needs_background": "light"
     },
     "output_type": "display_data"
    }
   ],
   "source": [
    "tr.plot(kind='scatter',x='id',y='count',figsize=(10,8))"
   ]
  },
  {
   "cell_type": "code",
   "execution_count": 162,
   "metadata": {},
   "outputs": [
    {
     "data": {
      "text/plain": [
       "2.9996217821782176"
      ]
     },
     "execution_count": 162,
     "metadata": {},
     "output_type": "execute_result"
    }
   ],
   "source": [
    "tr['count'].mean() # On an average a patient is taking benifit of medicare."
   ]
  },
  {
   "cell_type": "code",
   "execution_count": 163,
   "metadata": {},
   "outputs": [
    {
     "data": {
      "text/plain": [
       "{'whiskers': [<matplotlib.lines.Line2D at 0x15773090>,\n",
       "  <matplotlib.lines.Line2D at 0x157733b0>],\n",
       " 'caps': [<matplotlib.lines.Line2D at 0x15773670>,\n",
       "  <matplotlib.lines.Line2D at 0x157738d0>],\n",
       " 'boxes': [<matplotlib.lines.Line2D at 0x15773070>],\n",
       " 'medians': [<matplotlib.lines.Line2D at 0x15773b30>],\n",
       " 'fliers': [<matplotlib.lines.Line2D at 0x15773df0>],\n",
       " 'means': []}"
      ]
     },
     "execution_count": 163,
     "metadata": {},
     "output_type": "execute_result"
    },
    {
     "data": {
      "image/png": "[encoded data removed]",
      "text/plain": [
       "<Figure size 432x288 with 1 Axes>"
      ]
     },
     "metadata": {
      "needs_background": "light"
     },
     "output_type": "display_data"
    }
   ],
   "source": [
    "plt.boxplot(tr['count'])"
   ]
  },
  {
   "cell_type": "code",
   "execution_count": 164,
   "metadata": {},
   "outputs": [
    {
     "data": {
      "text/html": [
       "<div>\n",
       "<style scoped>\n",
       "    .dataframe tbody tr th:only-of-type {\n",
       "        vertical-align: middle;\n",
       "    }\n",
       "\n",
       "    .dataframe tbody tr th {\n",
       "        vertical-align: top;\n",
       "    }\n",
       "\n",
       "    .dataframe thead th {\n",
       "        text-align: right;\n",
       "    }\n",
       "</style>\n",
       "<table border=\"1\" class=\"dataframe\">\n",
       "  <thead>\n",
       "    <tr style=\"text-align: right;\">\n",
       "      <th></th>\n",
       "      <th>id</th>\n",
       "      <th>count</th>\n",
       "    </tr>\n",
       "  </thead>\n",
       "  <tbody>\n",
       "    <tr>\n",
       "      <th>0</th>\n",
       "      <td>1552051</td>\n",
       "      <td>9</td>\n",
       "    </tr>\n",
       "    <tr>\n",
       "      <th>1</th>\n",
       "      <td>1661457</td>\n",
       "      <td>8</td>\n",
       "    </tr>\n",
       "    <tr>\n",
       "      <th>2</th>\n",
       "      <td>2385395</td>\n",
       "      <td>10</td>\n",
       "    </tr>\n",
       "    <tr>\n",
       "      <th>3</th>\n",
       "      <td>2462212</td>\n",
       "      <td>8</td>\n",
       "    </tr>\n",
       "    <tr>\n",
       "      <th>4</th>\n",
       "      <td>2488748</td>\n",
       "      <td>8</td>\n",
       "    </tr>\n",
       "    <tr>\n",
       "      <th>...</th>\n",
       "      <td>...</td>\n",
       "      <td>...</td>\n",
       "    </tr>\n",
       "    <tr>\n",
       "      <th>2299</th>\n",
       "      <td>997414065</td>\n",
       "      <td>8</td>\n",
       "    </tr>\n",
       "    <tr>\n",
       "      <th>2300</th>\n",
       "      <td>997607529</td>\n",
       "      <td>8</td>\n",
       "    </tr>\n",
       "    <tr>\n",
       "      <th>2301</th>\n",
       "      <td>997804276</td>\n",
       "      <td>8</td>\n",
       "    </tr>\n",
       "    <tr>\n",
       "      <th>2302</th>\n",
       "      <td>998120672</td>\n",
       "      <td>9</td>\n",
       "    </tr>\n",
       "    <tr>\n",
       "      <th>2303</th>\n",
       "      <td>999470224</td>\n",
       "      <td>8</td>\n",
       "    </tr>\n",
       "  </tbody>\n",
       "</table>\n",
       "<p>2304 rows × 2 columns</p>\n",
       "</div>"
      ],
      "text/plain": [
       "             id  count\n",
       "0       1552051      9\n",
       "1       1661457      8\n",
       "2       2385395     10\n",
       "3       2462212      8\n",
       "4       2488748      8\n",
       "...         ...    ...\n",
       "2299  997414065      8\n",
       "2300  997607529      8\n",
       "2301  997804276      8\n",
       "2302  998120672      9\n",
       "2303  999470224      8\n",
       "\n",
       "[2304 rows x 2 columns]"
      ]
     },
     "execution_count": 164,
     "metadata": {},
     "output_type": "execute_result"
    }
   ],
   "source": [
    "Ano=tr.loc[tr['count']>7].reset_index(drop=True) ### These ones are the real outliers\n",
    "Ano"
   ]
  },
  {
   "cell_type": "code",
   "execution_count": 165,
   "metadata": {},
   "outputs": [
    {
     "data": {
      "text/html": [
       "<div>\n",
       "<style scoped>\n",
       "    .dataframe tbody tr th:only-of-type {\n",
       "        vertical-align: middle;\n",
       "    }\n",
       "\n",
       "    .dataframe tbody tr th {\n",
       "        vertical-align: top;\n",
       "    }\n",
       "\n",
       "    .dataframe thead th {\n",
       "        text-align: right;\n",
       "    }\n",
       "</style>\n",
       "<table border=\"1\" class=\"dataframe\">\n",
       "  <thead>\n",
       "    <tr style=\"text-align: right;\">\n",
       "      <th></th>\n",
       "      <th>id</th>\n",
       "      <th>count</th>\n",
       "    </tr>\n",
       "  </thead>\n",
       "  <tbody>\n",
       "    <tr>\n",
       "      <th>0</th>\n",
       "      <td>15213</td>\n",
       "      <td>6</td>\n",
       "    </tr>\n",
       "    <tr>\n",
       "      <th>1</th>\n",
       "      <td>137960</td>\n",
       "      <td>6</td>\n",
       "    </tr>\n",
       "    <tr>\n",
       "      <th>2</th>\n",
       "      <td>291344</td>\n",
       "      <td>6</td>\n",
       "    </tr>\n",
       "    <tr>\n",
       "      <th>3</th>\n",
       "      <td>322155</td>\n",
       "      <td>7</td>\n",
       "    </tr>\n",
       "    <tr>\n",
       "      <th>4</th>\n",
       "      <td>373708</td>\n",
       "      <td>6</td>\n",
       "    </tr>\n",
       "    <tr>\n",
       "      <th>...</th>\n",
       "      <td>...</td>\n",
       "      <td>...</td>\n",
       "    </tr>\n",
       "    <tr>\n",
       "      <th>26737</th>\n",
       "      <td>999905494</td>\n",
       "      <td>6</td>\n",
       "    </tr>\n",
       "    <tr>\n",
       "      <th>26738</th>\n",
       "      <td>999909971</td>\n",
       "      <td>6</td>\n",
       "    </tr>\n",
       "    <tr>\n",
       "      <th>26739</th>\n",
       "      <td>999917672</td>\n",
       "      <td>6</td>\n",
       "    </tr>\n",
       "    <tr>\n",
       "      <th>26740</th>\n",
       "      <td>999954783</td>\n",
       "      <td>6</td>\n",
       "    </tr>\n",
       "    <tr>\n",
       "      <th>26741</th>\n",
       "      <td>999984285</td>\n",
       "      <td>6</td>\n",
       "    </tr>\n",
       "  </tbody>\n",
       "</table>\n",
       "<p>26742 rows × 2 columns</p>\n",
       "</div>"
      ],
      "text/plain": [
       "              id  count\n",
       "0          15213      6\n",
       "1         137960      6\n",
       "2         291344      6\n",
       "3         322155      7\n",
       "4         373708      6\n",
       "...          ...    ...\n",
       "26737  999905494      6\n",
       "26738  999909971      6\n",
       "26739  999917672      6\n",
       "26740  999954783      6\n",
       "26741  999984285      6\n",
       "\n",
       "[26742 rows x 2 columns]"
      ]
     },
     "execution_count": 165,
     "metadata": {},
     "output_type": "execute_result"
    }
   ],
   "source": [
    "Annomalous=tr.loc[tr['count']>=6].reset_index(drop=True) ##Medicare patients who are involved in anomalous activities\n",
    "Annomalous"
   ]
  },
  {
   "cell_type": "code",
   "execution_count": 166,
   "metadata": {},
   "outputs": [],
   "source": [
    "#Combining transactional information, trans and history data set, to form \"x\" which will form base table"
   ]
  },
  {
   "cell_type": "code",
   "execution_count": 167,
   "metadata": {},
   "outputs": [],
   "source": [
    "x=Annomalous.merge(Patient_history_samp,how='left',on='id')"
   ]
  },
  {
   "cell_type": "code",
   "execution_count": 168,
   "metadata": {},
   "outputs": [
    {
     "data": {
      "text/html": [
       "<div>\n",
       "<style scoped>\n",
       "    .dataframe tbody tr th:only-of-type {\n",
       "        vertical-align: middle;\n",
       "    }\n",
       "\n",
       "    .dataframe tbody tr th {\n",
       "        vertical-align: top;\n",
       "    }\n",
       "\n",
       "    .dataframe thead th {\n",
       "        text-align: right;\n",
       "    }\n",
       "</style>\n",
       "<table border=\"1\" class=\"dataframe\">\n",
       "  <thead>\n",
       "    <tr style=\"text-align: right;\">\n",
       "      <th></th>\n",
       "      <th>id</th>\n",
       "      <th>count</th>\n",
       "      <th>age</th>\n",
       "      <th>gender</th>\n",
       "      <th>income</th>\n",
       "    </tr>\n",
       "  </thead>\n",
       "  <tbody>\n",
       "    <tr>\n",
       "      <th>0</th>\n",
       "      <td>15213</td>\n",
       "      <td>6</td>\n",
       "      <td>85+</td>\n",
       "      <td>M</td>\n",
       "      <td>32000-47999</td>\n",
       "    </tr>\n",
       "    <tr>\n",
       "      <th>1</th>\n",
       "      <td>137960</td>\n",
       "      <td>6</td>\n",
       "      <td>65-74</td>\n",
       "      <td>M</td>\n",
       "      <td>32000-47999</td>\n",
       "    </tr>\n",
       "    <tr>\n",
       "      <th>2</th>\n",
       "      <td>291344</td>\n",
       "      <td>6</td>\n",
       "      <td>&lt;65</td>\n",
       "      <td>M</td>\n",
       "      <td>&lt;16000</td>\n",
       "    </tr>\n",
       "    <tr>\n",
       "      <th>3</th>\n",
       "      <td>322155</td>\n",
       "      <td>7</td>\n",
       "      <td>65-74</td>\n",
       "      <td>F</td>\n",
       "      <td>48000+</td>\n",
       "    </tr>\n",
       "    <tr>\n",
       "      <th>4</th>\n",
       "      <td>373708</td>\n",
       "      <td>6</td>\n",
       "      <td>65-74</td>\n",
       "      <td>F</td>\n",
       "      <td>32000-47999</td>\n",
       "    </tr>\n",
       "    <tr>\n",
       "      <th>...</th>\n",
       "      <td>...</td>\n",
       "      <td>...</td>\n",
       "      <td>...</td>\n",
       "      <td>...</td>\n",
       "      <td>...</td>\n",
       "    </tr>\n",
       "    <tr>\n",
       "      <th>26737</th>\n",
       "      <td>999905494</td>\n",
       "      <td>6</td>\n",
       "      <td>65-74</td>\n",
       "      <td>M</td>\n",
       "      <td>32000-47999</td>\n",
       "    </tr>\n",
       "    <tr>\n",
       "      <th>26738</th>\n",
       "      <td>999909971</td>\n",
       "      <td>6</td>\n",
       "      <td>85+</td>\n",
       "      <td>F</td>\n",
       "      <td>&lt;16000</td>\n",
       "    </tr>\n",
       "    <tr>\n",
       "      <th>26739</th>\n",
       "      <td>999917672</td>\n",
       "      <td>6</td>\n",
       "      <td>&lt;65</td>\n",
       "      <td>M</td>\n",
       "      <td>&lt;16000</td>\n",
       "    </tr>\n",
       "    <tr>\n",
       "      <th>26740</th>\n",
       "      <td>999954783</td>\n",
       "      <td>6</td>\n",
       "      <td>85+</td>\n",
       "      <td>F</td>\n",
       "      <td>48000+</td>\n",
       "    </tr>\n",
       "    <tr>\n",
       "      <th>26741</th>\n",
       "      <td>999984285</td>\n",
       "      <td>6</td>\n",
       "      <td>65-74</td>\n",
       "      <td>M</td>\n",
       "      <td>32000-47999</td>\n",
       "    </tr>\n",
       "  </tbody>\n",
       "</table>\n",
       "<p>26742 rows × 5 columns</p>\n",
       "</div>"
      ],
      "text/plain": [
       "              id  count    age gender       income\n",
       "0          15213      6    85+      M  32000-47999\n",
       "1         137960      6  65-74      M  32000-47999\n",
       "2         291344      6    <65      M       <16000\n",
       "3         322155      7  65-74      F       48000+\n",
       "4         373708      6  65-74      F  32000-47999\n",
       "...          ...    ...    ...    ...          ...\n",
       "26737  999905494      6  65-74      M  32000-47999\n",
       "26738  999909971      6    85+      F       <16000\n",
       "26739  999917672      6    <65      M       <16000\n",
       "26740  999954783      6    85+      F       48000+\n",
       "26741  999984285      6  65-74      M  32000-47999\n",
       "\n",
       "[26742 rows x 5 columns]"
      ]
     },
     "execution_count": 168,
     "metadata": {},
     "output_type": "execute_result"
    }
   ],
   "source": [
    "x ##Medicare patients id' swho are involved in anomalous activities"
   ]
  },
  {
   "cell_type": "code",
   "execution_count": 169,
   "metadata": {},
   "outputs": [
    {
     "data": {
      "text/html": [
       "<div>\n",
       "<style scoped>\n",
       "    .dataframe tbody tr th:only-of-type {\n",
       "        vertical-align: middle;\n",
       "    }\n",
       "\n",
       "    .dataframe tbody tr th {\n",
       "        vertical-align: top;\n",
       "    }\n",
       "\n",
       "    .dataframe thead th {\n",
       "        text-align: right;\n",
       "    }\n",
       "</style>\n",
       "<table border=\"1\" class=\"dataframe\">\n",
       "  <thead>\n",
       "    <tr style=\"text-align: right;\">\n",
       "      <th></th>\n",
       "      <th>id</th>\n",
       "      <th>count</th>\n",
       "      <th>age</th>\n",
       "      <th>gender</th>\n",
       "      <th>income</th>\n",
       "    </tr>\n",
       "  </thead>\n",
       "  <tbody>\n",
       "    <tr>\n",
       "      <th>32</th>\n",
       "      <td>1552051</td>\n",
       "      <td>9</td>\n",
       "      <td>85+</td>\n",
       "      <td>F</td>\n",
       "      <td>&lt;16000</td>\n",
       "    </tr>\n",
       "    <tr>\n",
       "      <th>38</th>\n",
       "      <td>1661457</td>\n",
       "      <td>8</td>\n",
       "      <td>75-84</td>\n",
       "      <td>F</td>\n",
       "      <td>&lt;16000</td>\n",
       "    </tr>\n",
       "    <tr>\n",
       "      <th>57</th>\n",
       "      <td>2385395</td>\n",
       "      <td>10</td>\n",
       "      <td>75-84</td>\n",
       "      <td>F</td>\n",
       "      <td>16000-23999</td>\n",
       "    </tr>\n",
       "    <tr>\n",
       "      <th>60</th>\n",
       "      <td>2462212</td>\n",
       "      <td>8</td>\n",
       "      <td>85+</td>\n",
       "      <td>M</td>\n",
       "      <td>16000-23999</td>\n",
       "    </tr>\n",
       "    <tr>\n",
       "      <th>62</th>\n",
       "      <td>2488748</td>\n",
       "      <td>8</td>\n",
       "      <td>65-74</td>\n",
       "      <td>F</td>\n",
       "      <td>&lt;16000</td>\n",
       "    </tr>\n",
       "    <tr>\n",
       "      <th>...</th>\n",
       "      <td>...</td>\n",
       "      <td>...</td>\n",
       "      <td>...</td>\n",
       "      <td>...</td>\n",
       "      <td>...</td>\n",
       "    </tr>\n",
       "    <tr>\n",
       "      <th>26679</th>\n",
       "      <td>997414065</td>\n",
       "      <td>8</td>\n",
       "      <td>85+</td>\n",
       "      <td>F</td>\n",
       "      <td>32000-47999</td>\n",
       "    </tr>\n",
       "    <tr>\n",
       "      <th>26684</th>\n",
       "      <td>997607529</td>\n",
       "      <td>8</td>\n",
       "      <td>75-84</td>\n",
       "      <td>M</td>\n",
       "      <td>48000+</td>\n",
       "    </tr>\n",
       "    <tr>\n",
       "      <th>26687</th>\n",
       "      <td>997804276</td>\n",
       "      <td>8</td>\n",
       "      <td>75-84</td>\n",
       "      <td>M</td>\n",
       "      <td>&lt;16000</td>\n",
       "    </tr>\n",
       "    <tr>\n",
       "      <th>26696</th>\n",
       "      <td>998120672</td>\n",
       "      <td>9</td>\n",
       "      <td>&lt;65</td>\n",
       "      <td>F</td>\n",
       "      <td>32000-47999</td>\n",
       "    </tr>\n",
       "    <tr>\n",
       "      <th>26726</th>\n",
       "      <td>999470224</td>\n",
       "      <td>8</td>\n",
       "      <td>65-74</td>\n",
       "      <td>F</td>\n",
       "      <td>24000-31999</td>\n",
       "    </tr>\n",
       "  </tbody>\n",
       "</table>\n",
       "<p>2304 rows × 5 columns</p>\n",
       "</div>"
      ],
      "text/plain": [
       "              id  count    age gender       income\n",
       "32       1552051      9    85+      F       <16000\n",
       "38       1661457      8  75-84      F       <16000\n",
       "57       2385395     10  75-84      F  16000-23999\n",
       "60       2462212      8    85+      M  16000-23999\n",
       "62       2488748      8  65-74      F       <16000\n",
       "...          ...    ...    ...    ...          ...\n",
       "26679  997414065      8    85+      F  32000-47999\n",
       "26684  997607529      8  75-84      M       48000+\n",
       "26687  997804276      8  75-84      M       <16000\n",
       "26696  998120672      9    <65      F  32000-47999\n",
       "26726  999470224      8  65-74      F  24000-31999\n",
       "\n",
       "[2304 rows x 5 columns]"
      ]
     },
     "execution_count": 169,
     "metadata": {},
     "output_type": "execute_result"
    }
   ],
   "source": [
    "x.loc[x['count']>7] ### These ones are the real outliers"
   ]
  },
  {
   "cell_type": "code",
   "execution_count": 211,
   "metadata": {},
   "outputs": [],
   "source": []
  },
  {
   "cell_type": "code",
   "execution_count": null,
   "metadata": {},
   "outputs": [],
   "source": []
  }
 ],
 "metadata": {
  "kernelspec": {
   "display_name": "Python 3",
   "language": "python",
   "name": "python3"
  },
  "language_info": {
   "codemirror_mode": {
    "name": "ipython",
    "version": 3
   },
   "file_extension": ".py",
   "mimetype": "text/x-python",
   "name": "python",
   "nbconvert_exporter": "python",
   "pygments_lexer": "ipython3",
   "version": "3.7.5"
  }
 },
 "nbformat": 4,
 "nbformat_minor": 2
}
