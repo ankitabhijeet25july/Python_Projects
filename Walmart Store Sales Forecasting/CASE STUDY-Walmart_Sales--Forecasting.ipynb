{
 "cells": [
  {
   "cell_type": "markdown",
   "metadata": {
    "colab_type": "text",
    "id": "fPwuz1QeECy2"
   },
   "source": [
    "\n",
    "<h2 align='center'><a>1.Understanding the business problem</h2>"
   ]
  },
  {
   "cell_type": "markdown",
   "metadata": {
    "colab_type": "text",
    "id": "cLhBUoL-ECzD"
   },
   "source": [
    "#### The objective is predicting store sales using historical markdown data"
   ]
  },
  {
   "cell_type": "markdown",
   "metadata": {
    "colab_type": "text",
    "id": "k52Pa76WECzI"
   },
   "source": [
    "<h2 align='center'><a>2.Exploratory Data Analysis(EDA)</h2>"
   ]
  },
  {
   "cell_type": "markdown",
   "metadata": {
    "colab_type": "text",
    "id": "EswE_JU8ECzM"
   },
   "source": [
    "#### <a>Importing the necessary library."
   ]
  },
  {
   "cell_type": "code",
   "execution_count": 0,
   "metadata": {
    "colab": {},
    "colab_type": "code",
    "id": "LCA3_Ns7ECzR"
   },
   "outputs": [],
   "source": [
    "import numpy as np\n",
    "import pandas as pd\n",
    "\n",
    "import matplotlib.pylab as plt\n",
    "import seaborn as sns\n",
    "sns.set()\n",
    "\n",
    "import pandas_profiling \n",
    "from datetime import datetime\n",
    "\n",
    "import matplotlib.pyplot as plt\n",
    "plt.style.use('classic')\n",
    "%matplotlib inline"
   ]
  },
  {
   "cell_type": "code",
   "execution_count": 2,
   "metadata": {
    "colab": {
     "base_uri": "https://localhost:8080/",
     "height": 210,
     "resources": {
      "http://localhost:8080/nbextensions/google.colab/files.js": {
       "data": "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",
       "headers": [
        [
         "content-type",
         "application/javascript"
        ]
       ],
       "ok": true,
       "status": 200,
       "status_text": ""
      }
     }
    },
    "colab_type": "code",
    "id": "uuw-XCCRFOhe",
    "outputId": "c3246196-ceb4-4891-ffdc-51d3f7d4709e"
   },
   "outputs": [
    {
     "data": {
      "text/html": [
       "\n",
       "     <input type=\"file\" id=\"files-105feb52-0c83-4b42-9013-ba3427264e3e\" name=\"files[]\" multiple disabled />\n",
       "     <output id=\"result-105feb52-0c83-4b42-9013-ba3427264e3e\">\n",
       "      Upload widget is only available when the cell has been executed in the\n",
       "      current browser session. Please rerun this cell to enable.\n",
       "      </output>\n",
       "      <script src=\"/nbextensions/google.colab/files.js\"></script> "
      ],
      "text/plain": [
       "<IPython.core.display.HTML object>"
      ]
     },
     "metadata": {
      "tags": []
     },
     "output_type": "display_data"
    },
    {
     "name": "stdout",
     "output_type": "stream",
     "text": [
      "Saving features.csv to features.csv\n",
      "Saving sampleSubmission.csv to sampleSubmission.csv\n",
      "Saving stores.csv to stores.csv\n",
      "Saving test.csv to test.csv\n",
      "Saving train.csv to train.csv\n"
     ]
    }
   ],
   "source": [
    "from google.colab import files\n",
    "uploaded = files.upload()"
   ]
  },
  {
   "cell_type": "markdown",
   "metadata": {
    "colab_type": "text",
    "id": "ss-Rt8A4ECzk"
   },
   "source": [
    "#### <a>Import the data"
   ]
  },
  {
   "cell_type": "code",
   "execution_count": 0,
   "metadata": {
    "colab": {},
    "colab_type": "code",
    "id": "AKKCp3SEECzo"
   },
   "outputs": [],
   "source": [
    "import io\n",
    "train = pd.read_csv(io.BytesIO(uploaded['train.csv']))\n",
    "feature = pd.read_csv(io.BytesIO(uploaded['features.csv']))\n",
    "test = pd.read_csv(io.BytesIO(uploaded['test.csv']))\n",
    "stores = pd.read_csv(io.BytesIO(uploaded['stores.csv']))\n",
    "sampleSubmission =pd.read_csv(io.BytesIO(uploaded['sampleSubmission.csv']))"
   ]
  },
  {
   "cell_type": "code",
   "execution_count": 0,
   "metadata": {
    "colab": {},
    "colab_type": "code",
    "id": "O2TflzIyECz3"
   },
   "outputs": [],
   "source": [
    "train = train.copy()\n",
    "feature = feature.copy()\n",
    "test = test.copy()\n",
    "stores =stores.copy()\n",
    "sampleSubmission = sampleSubmission.copy() "
   ]
  },
  {
   "cell_type": "markdown",
   "metadata": {
    "colab_type": "text",
    "id": "ltUyHxXhEC0F"
   },
   "source": [
    "#### Merging the DataSet \n",
    "##### -(train+Store+Feature) &  -(test+Store+Feature)"
   ]
  },
  {
   "cell_type": "code",
   "execution_count": 0,
   "metadata": {
    "colab": {},
    "colab_type": "code",
    "id": "PvO4N8mFEC0O"
   },
   "outputs": [],
   "source": [
    "train_ts = pd.merge(train,stores)  ##Merging the Dataset (train+Store+Feature)\n",
    "train = pd.merge(train_ts,feature)\n",
    "\n",
    "#############\n",
    "\n",
    "test_ts = pd.merge(test,stores)  ##Merging the Dataset (test+Store+Feature)\n",
    "test= pd.merge(test_ts,feature)"
   ]
  },
  {
   "cell_type": "code",
   "execution_count": 6,
   "metadata": {
    "colab": {
     "base_uri": "https://localhost:8080/",
     "height": 261
    },
    "colab_type": "code",
    "id": "Mxi3YxAgEC0c",
    "outputId": "2abde6fe-8b47-4895-b9a8-b6a74a24ea24"
   },
   "outputs": [
    {
     "data": {
      "text/html": [
       "<div>\n",
       "<style scoped>\n",
       "    .dataframe tbody tr th:only-of-type {\n",
       "        vertical-align: middle;\n",
       "    }\n",
       "\n",
       "    .dataframe tbody tr th {\n",
       "        vertical-align: top;\n",
       "    }\n",
       "\n",
       "    .dataframe thead th {\n",
       "        text-align: right;\n",
       "    }\n",
       "</style>\n",
       "<table border=\"1\" class=\"dataframe\">\n",
       "  <thead>\n",
       "    <tr style=\"text-align: right;\">\n",
       "      <th></th>\n",
       "      <th>Store</th>\n",
       "      <th>Dept</th>\n",
       "      <th>Date</th>\n",
       "      <th>Weekly_Sales</th>\n",
       "      <th>IsHoliday</th>\n",
       "      <th>Type</th>\n",
       "      <th>Size</th>\n",
       "      <th>Temperature</th>\n",
       "      <th>Fuel_Price</th>\n",
       "      <th>MarkDown1</th>\n",
       "      <th>MarkDown2</th>\n",
       "      <th>MarkDown3</th>\n",
       "      <th>MarkDown4</th>\n",
       "      <th>MarkDown5</th>\n",
       "      <th>CPI</th>\n",
       "      <th>Unemployment</th>\n",
       "    </tr>\n",
       "  </thead>\n",
       "  <tbody>\n",
       "    <tr>\n",
       "      <th>0</th>\n",
       "      <td>1</td>\n",
       "      <td>1</td>\n",
       "      <td>2010-02-05</td>\n",
       "      <td>24924.50</td>\n",
       "      <td>False</td>\n",
       "      <td>A</td>\n",
       "      <td>151315</td>\n",
       "      <td>42.31</td>\n",
       "      <td>2.572</td>\n",
       "      <td>NaN</td>\n",
       "      <td>NaN</td>\n",
       "      <td>NaN</td>\n",
       "      <td>NaN</td>\n",
       "      <td>NaN</td>\n",
       "      <td>211.096358</td>\n",
       "      <td>8.106</td>\n",
       "    </tr>\n",
       "    <tr>\n",
       "      <th>1</th>\n",
       "      <td>1</td>\n",
       "      <td>2</td>\n",
       "      <td>2010-02-05</td>\n",
       "      <td>50605.27</td>\n",
       "      <td>False</td>\n",
       "      <td>A</td>\n",
       "      <td>151315</td>\n",
       "      <td>42.31</td>\n",
       "      <td>2.572</td>\n",
       "      <td>NaN</td>\n",
       "      <td>NaN</td>\n",
       "      <td>NaN</td>\n",
       "      <td>NaN</td>\n",
       "      <td>NaN</td>\n",
       "      <td>211.096358</td>\n",
       "      <td>8.106</td>\n",
       "    </tr>\n",
       "    <tr>\n",
       "      <th>2</th>\n",
       "      <td>1</td>\n",
       "      <td>3</td>\n",
       "      <td>2010-02-05</td>\n",
       "      <td>13740.12</td>\n",
       "      <td>False</td>\n",
       "      <td>A</td>\n",
       "      <td>151315</td>\n",
       "      <td>42.31</td>\n",
       "      <td>2.572</td>\n",
       "      <td>NaN</td>\n",
       "      <td>NaN</td>\n",
       "      <td>NaN</td>\n",
       "      <td>NaN</td>\n",
       "      <td>NaN</td>\n",
       "      <td>211.096358</td>\n",
       "      <td>8.106</td>\n",
       "    </tr>\n",
       "    <tr>\n",
       "      <th>3</th>\n",
       "      <td>1</td>\n",
       "      <td>4</td>\n",
       "      <td>2010-02-05</td>\n",
       "      <td>39954.04</td>\n",
       "      <td>False</td>\n",
       "      <td>A</td>\n",
       "      <td>151315</td>\n",
       "      <td>42.31</td>\n",
       "      <td>2.572</td>\n",
       "      <td>NaN</td>\n",
       "      <td>NaN</td>\n",
       "      <td>NaN</td>\n",
       "      <td>NaN</td>\n",
       "      <td>NaN</td>\n",
       "      <td>211.096358</td>\n",
       "      <td>8.106</td>\n",
       "    </tr>\n",
       "  </tbody>\n",
       "</table>\n",
       "</div>"
      ],
      "text/plain": [
       "   Store  Dept        Date  ...  MarkDown5         CPI Unemployment\n",
       "0      1     1  2010-02-05  ...        NaN  211.096358        8.106\n",
       "1      1     2  2010-02-05  ...        NaN  211.096358        8.106\n",
       "2      1     3  2010-02-05  ...        NaN  211.096358        8.106\n",
       "3      1     4  2010-02-05  ...        NaN  211.096358        8.106\n",
       "\n",
       "[4 rows x 16 columns]"
      ]
     },
     "execution_count": 6,
     "metadata": {
      "tags": []
     },
     "output_type": "execute_result"
    }
   ],
   "source": [
    "train.head(4) "
   ]
  },
  {
   "cell_type": "code",
   "execution_count": 7,
   "metadata": {
    "colab": {
     "base_uri": "https://localhost:8080/",
     "height": 173
    },
    "colab_type": "code",
    "id": "llI1fBOOEC0v",
    "outputId": "e45d11ad-e0cf-432e-aae3-541eb95ca55e"
   },
   "outputs": [
    {
     "data": {
      "text/html": [
       "<div>\n",
       "<style scoped>\n",
       "    .dataframe tbody tr th:only-of-type {\n",
       "        vertical-align: middle;\n",
       "    }\n",
       "\n",
       "    .dataframe tbody tr th {\n",
       "        vertical-align: top;\n",
       "    }\n",
       "\n",
       "    .dataframe thead th {\n",
       "        text-align: right;\n",
       "    }\n",
       "</style>\n",
       "<table border=\"1\" class=\"dataframe\">\n",
       "  <thead>\n",
       "    <tr style=\"text-align: right;\">\n",
       "      <th></th>\n",
       "      <th>Store</th>\n",
       "      <th>Dept</th>\n",
       "      <th>Date</th>\n",
       "      <th>IsHoliday</th>\n",
       "      <th>Type</th>\n",
       "      <th>Size</th>\n",
       "      <th>Temperature</th>\n",
       "      <th>Fuel_Price</th>\n",
       "      <th>MarkDown1</th>\n",
       "      <th>MarkDown2</th>\n",
       "      <th>MarkDown3</th>\n",
       "      <th>MarkDown4</th>\n",
       "      <th>MarkDown5</th>\n",
       "      <th>CPI</th>\n",
       "      <th>Unemployment</th>\n",
       "    </tr>\n",
       "  </thead>\n",
       "  <tbody>\n",
       "    <tr>\n",
       "      <th>0</th>\n",
       "      <td>1</td>\n",
       "      <td>1</td>\n",
       "      <td>2012-11-02</td>\n",
       "      <td>False</td>\n",
       "      <td>A</td>\n",
       "      <td>151315</td>\n",
       "      <td>55.32</td>\n",
       "      <td>3.386</td>\n",
       "      <td>6766.44</td>\n",
       "      <td>5147.7</td>\n",
       "      <td>50.82</td>\n",
       "      <td>3639.9</td>\n",
       "      <td>2737.42</td>\n",
       "      <td>223.462779</td>\n",
       "      <td>6.573</td>\n",
       "    </tr>\n",
       "    <tr>\n",
       "      <th>1</th>\n",
       "      <td>1</td>\n",
       "      <td>2</td>\n",
       "      <td>2012-11-02</td>\n",
       "      <td>False</td>\n",
       "      <td>A</td>\n",
       "      <td>151315</td>\n",
       "      <td>55.32</td>\n",
       "      <td>3.386</td>\n",
       "      <td>6766.44</td>\n",
       "      <td>5147.7</td>\n",
       "      <td>50.82</td>\n",
       "      <td>3639.9</td>\n",
       "      <td>2737.42</td>\n",
       "      <td>223.462779</td>\n",
       "      <td>6.573</td>\n",
       "    </tr>\n",
       "    <tr>\n",
       "      <th>2</th>\n",
       "      <td>1</td>\n",
       "      <td>3</td>\n",
       "      <td>2012-11-02</td>\n",
       "      <td>False</td>\n",
       "      <td>A</td>\n",
       "      <td>151315</td>\n",
       "      <td>55.32</td>\n",
       "      <td>3.386</td>\n",
       "      <td>6766.44</td>\n",
       "      <td>5147.7</td>\n",
       "      <td>50.82</td>\n",
       "      <td>3639.9</td>\n",
       "      <td>2737.42</td>\n",
       "      <td>223.462779</td>\n",
       "      <td>6.573</td>\n",
       "    </tr>\n",
       "    <tr>\n",
       "      <th>3</th>\n",
       "      <td>1</td>\n",
       "      <td>4</td>\n",
       "      <td>2012-11-02</td>\n",
       "      <td>False</td>\n",
       "      <td>A</td>\n",
       "      <td>151315</td>\n",
       "      <td>55.32</td>\n",
       "      <td>3.386</td>\n",
       "      <td>6766.44</td>\n",
       "      <td>5147.7</td>\n",
       "      <td>50.82</td>\n",
       "      <td>3639.9</td>\n",
       "      <td>2737.42</td>\n",
       "      <td>223.462779</td>\n",
       "      <td>6.573</td>\n",
       "    </tr>\n",
       "  </tbody>\n",
       "</table>\n",
       "</div>"
      ],
      "text/plain": [
       "   Store  Dept        Date  ...  MarkDown5         CPI  Unemployment\n",
       "0      1     1  2012-11-02  ...    2737.42  223.462779         6.573\n",
       "1      1     2  2012-11-02  ...    2737.42  223.462779         6.573\n",
       "2      1     3  2012-11-02  ...    2737.42  223.462779         6.573\n",
       "3      1     4  2012-11-02  ...    2737.42  223.462779         6.573\n",
       "\n",
       "[4 rows x 15 columns]"
      ]
     },
     "execution_count": 7,
     "metadata": {
      "tags": []
     },
     "output_type": "execute_result"
    }
   ],
   "source": [
    "test.head(4)"
   ]
  },
  {
   "cell_type": "markdown",
   "metadata": {
    "colab_type": "text",
    "id": "_xIumXwEEC09"
   },
   "source": [
    "#### <a>Making friendship with data after importing."
   ]
  },
  {
   "cell_type": "code",
   "execution_count": 8,
   "metadata": {
    "colab": {
     "base_uri": "https://localhost:8080/",
     "height": 391
    },
    "colab_type": "code",
    "id": "WlhUEuX6EC1A",
    "outputId": "f1f53c87-0c61-42af-d076-7e0181c8c89c"
   },
   "outputs": [
    {
     "name": "stdout",
     "output_type": "stream",
     "text": [
      "<class 'pandas.core.frame.DataFrame'>\n",
      "Int64Index: 421570 entries, 0 to 421569\n",
      "Data columns (total 16 columns):\n",
      "Store           421570 non-null int64\n",
      "Dept            421570 non-null int64\n",
      "Date            421570 non-null object\n",
      "Weekly_Sales    421570 non-null float64\n",
      "IsHoliday       421570 non-null bool\n",
      "Type            421570 non-null object\n",
      "Size            421570 non-null int64\n",
      "Temperature     421570 non-null float64\n",
      "Fuel_Price      421570 non-null float64\n",
      "MarkDown1       150681 non-null float64\n",
      "MarkDown2       111248 non-null float64\n",
      "MarkDown3       137091 non-null float64\n",
      "MarkDown4       134967 non-null float64\n",
      "MarkDown5       151432 non-null float64\n",
      "CPI             421570 non-null float64\n",
      "Unemployment    421570 non-null float64\n",
      "dtypes: bool(1), float64(10), int64(3), object(2)\n",
      "memory usage: 51.9+ MB\n",
      "None\n"
     ]
    }
   ],
   "source": [
    "print(train.info()) ### Info of dataset-train"
   ]
  },
  {
   "cell_type": "code",
   "execution_count": 9,
   "metadata": {
    "colab": {
     "base_uri": "https://localhost:8080/",
     "height": 374
    },
    "colab_type": "code",
    "id": "cbm2nCmlEC1O",
    "outputId": "71b3ddbd-60da-42e7-ae63-c52aba83d757"
   },
   "outputs": [
    {
     "name": "stdout",
     "output_type": "stream",
     "text": [
      "<class 'pandas.core.frame.DataFrame'>\n",
      "Int64Index: 115064 entries, 0 to 115063\n",
      "Data columns (total 15 columns):\n",
      "Store           115064 non-null int64\n",
      "Dept            115064 non-null int64\n",
      "Date            115064 non-null object\n",
      "IsHoliday       115064 non-null bool\n",
      "Type            115064 non-null object\n",
      "Size            115064 non-null int64\n",
      "Temperature     115064 non-null float64\n",
      "Fuel_Price      115064 non-null float64\n",
      "MarkDown1       114915 non-null float64\n",
      "MarkDown2       86437 non-null float64\n",
      "MarkDown3       105235 non-null float64\n",
      "MarkDown4       102176 non-null float64\n",
      "MarkDown5       115064 non-null float64\n",
      "CPI             76902 non-null float64\n",
      "Unemployment    76902 non-null float64\n",
      "dtypes: bool(1), float64(9), int64(3), object(2)\n",
      "memory usage: 13.3+ MB\n",
      "None\n"
     ]
    }
   ],
   "source": [
    "print(test.info()) ### Info of dataset-test"
   ]
  },
  {
   "cell_type": "code",
   "execution_count": 10,
   "metadata": {
    "colab": {
     "base_uri": "https://localhost:8080/",
     "height": 34
    },
    "colab_type": "code",
    "id": "VIN7TWJNEC1e",
    "outputId": "4b5b5462-101e-49fe-a010-749401891efa"
   },
   "outputs": [
    {
     "name": "stdout",
     "output_type": "stream",
     "text": [
      "(115064, 15)\n"
     ]
    }
   ],
   "source": [
    "print(test.shape) ##Shape of test dataset"
   ]
  },
  {
   "cell_type": "code",
   "execution_count": 11,
   "metadata": {
    "colab": {
     "base_uri": "https://localhost:8080/",
     "height": 34
    },
    "colab_type": "code",
    "id": "UUzTinfQEC1q",
    "outputId": "64a7b9f4-6329-4354-ed81-27690030a65b"
   },
   "outputs": [
    {
     "name": "stdout",
     "output_type": "stream",
     "text": [
      "(421570, 16)\n"
     ]
    }
   ],
   "source": [
    "print(train.shape) ##Shape of train dataset"
   ]
  },
  {
   "cell_type": "code",
   "execution_count": 12,
   "metadata": {
    "colab": {
     "base_uri": "https://localhost:8080/",
     "height": 235
    },
    "colab_type": "code",
    "id": "a_z8ZILeEC15",
    "outputId": "d42f791d-aa01-4bc1-b81d-18859698615c"
   },
   "outputs": [
    {
     "data": {
      "text/html": [
       "<div>\n",
       "<style scoped>\n",
       "    .dataframe tbody tr th:only-of-type {\n",
       "        vertical-align: middle;\n",
       "    }\n",
       "\n",
       "    .dataframe tbody tr th {\n",
       "        vertical-align: top;\n",
       "    }\n",
       "\n",
       "    .dataframe thead th {\n",
       "        text-align: right;\n",
       "    }\n",
       "</style>\n",
       "<table border=\"1\" class=\"dataframe\">\n",
       "  <thead>\n",
       "    <tr style=\"text-align: right;\">\n",
       "      <th></th>\n",
       "      <th>index</th>\n",
       "      <th>0</th>\n",
       "    </tr>\n",
       "  </thead>\n",
       "  <tbody>\n",
       "    <tr>\n",
       "      <th>0</th>\n",
       "      <td>MarkDown1</td>\n",
       "      <td>149</td>\n",
       "    </tr>\n",
       "    <tr>\n",
       "      <th>1</th>\n",
       "      <td>MarkDown2</td>\n",
       "      <td>28627</td>\n",
       "    </tr>\n",
       "    <tr>\n",
       "      <th>2</th>\n",
       "      <td>MarkDown3</td>\n",
       "      <td>9829</td>\n",
       "    </tr>\n",
       "    <tr>\n",
       "      <th>3</th>\n",
       "      <td>MarkDown4</td>\n",
       "      <td>12888</td>\n",
       "    </tr>\n",
       "    <tr>\n",
       "      <th>4</th>\n",
       "      <td>CPI</td>\n",
       "      <td>38162</td>\n",
       "    </tr>\n",
       "    <tr>\n",
       "      <th>5</th>\n",
       "      <td>Unemployment</td>\n",
       "      <td>38162</td>\n",
       "    </tr>\n",
       "  </tbody>\n",
       "</table>\n",
       "</div>"
      ],
      "text/plain": [
       "          index      0\n",
       "0     MarkDown1    149\n",
       "1     MarkDown2  28627\n",
       "2     MarkDown3   9829\n",
       "3     MarkDown4  12888\n",
       "4           CPI  38162\n",
       "5  Unemployment  38162"
      ]
     },
     "execution_count": 12,
     "metadata": {
      "tags": []
     },
     "output_type": "execute_result"
    }
   ],
   "source": [
    "test_missing=test.isnull().sum()[test.isnull().sum()>0].reset_index() ## Missing value within the datasheet.\n",
    "test_missing "
   ]
  },
  {
   "cell_type": "code",
   "execution_count": 13,
   "metadata": {
    "colab": {
     "base_uri": "https://localhost:8080/",
     "height": 204
    },
    "colab_type": "code",
    "id": "qtg8KdUGEC2F",
    "outputId": "27abc1ec-0ea5-4ffb-c653-bb9a83a1476a"
   },
   "outputs": [
    {
     "data": {
      "text/html": [
       "<div>\n",
       "<style scoped>\n",
       "    .dataframe tbody tr th:only-of-type {\n",
       "        vertical-align: middle;\n",
       "    }\n",
       "\n",
       "    .dataframe tbody tr th {\n",
       "        vertical-align: top;\n",
       "    }\n",
       "\n",
       "    .dataframe thead th {\n",
       "        text-align: right;\n",
       "    }\n",
       "</style>\n",
       "<table border=\"1\" class=\"dataframe\">\n",
       "  <thead>\n",
       "    <tr style=\"text-align: right;\">\n",
       "      <th></th>\n",
       "      <th>index</th>\n",
       "      <th>0</th>\n",
       "    </tr>\n",
       "  </thead>\n",
       "  <tbody>\n",
       "    <tr>\n",
       "      <th>0</th>\n",
       "      <td>MarkDown1</td>\n",
       "      <td>270889</td>\n",
       "    </tr>\n",
       "    <tr>\n",
       "      <th>1</th>\n",
       "      <td>MarkDown2</td>\n",
       "      <td>310322</td>\n",
       "    </tr>\n",
       "    <tr>\n",
       "      <th>2</th>\n",
       "      <td>MarkDown3</td>\n",
       "      <td>284479</td>\n",
       "    </tr>\n",
       "    <tr>\n",
       "      <th>3</th>\n",
       "      <td>MarkDown4</td>\n",
       "      <td>286603</td>\n",
       "    </tr>\n",
       "    <tr>\n",
       "      <th>4</th>\n",
       "      <td>MarkDown5</td>\n",
       "      <td>270138</td>\n",
       "    </tr>\n",
       "  </tbody>\n",
       "</table>\n",
       "</div>"
      ],
      "text/plain": [
       "       index       0\n",
       "0  MarkDown1  270889\n",
       "1  MarkDown2  310322\n",
       "2  MarkDown3  284479\n",
       "3  MarkDown4  286603\n",
       "4  MarkDown5  270138"
      ]
     },
     "execution_count": 13,
     "metadata": {
      "tags": []
     },
     "output_type": "execute_result"
    }
   ],
   "source": [
    "train_missing=train.isnull().sum()[train.isnull().sum()>0].reset_index()  ## Missing value within the datasheet.\n",
    "train_missing "
   ]
  },
  {
   "cell_type": "code",
   "execution_count": 0,
   "metadata": {
    "colab": {},
    "colab_type": "code",
    "id": "TgGG1KvdEC2R"
   },
   "outputs": [],
   "source": [
    "## The missing value within the above columns is mentioned-"
   ]
  },
  {
   "cell_type": "markdown",
   "metadata": {
    "colab_type": "text",
    "id": "q-XsBEN6EC2g"
   },
   "source": [
    "#### <a>Creating Data audit Report"
   ]
  },
  {
   "cell_type": "markdown",
   "metadata": {
    "colab_type": "text",
    "id": "I7wZmjJVEC2l"
   },
   "source": [
    "#### create UDFs"
   ]
  },
  {
   "cell_type": "code",
   "execution_count": 0,
   "metadata": {
    "colab": {},
    "colab_type": "code",
    "id": "yIw8O2rpEC2o"
   },
   "outputs": [],
   "source": [
    "# Use a general function that returns multiple values-\n",
    "\n",
    "# Create Data audit Report for continuous variables\n",
    "def continuous_var_summary(x):\n",
    "    return pd.Series([x.count(), x.isnull().sum(), x.sum(), x.mean(), x.median(),  \n",
    "                        x.std(), x.var(), x.min(), x.quantile(0.01), x.quantile(0.05),\n",
    "                          x.quantile(0.10),x.quantile(0.25),x.quantile(0.50),x.quantile(0.75), \n",
    "                              x.quantile(0.90),x.quantile(0.95), x.quantile(0.99),x.max()], \n",
    "                  index = ['N', 'NMISS', 'SUM', 'MEAN','MEDIAN', 'STD', 'VAR', 'MIN', 'P1', \n",
    "                               'P5' ,'P10' ,'P25' ,'P50' ,'P75' ,'P90' ,'P95' ,'P99' ,'MAX'])"
   ]
  },
  {
   "cell_type": "code",
   "execution_count": 0,
   "metadata": {
    "colab": {},
    "colab_type": "code",
    "id": "iGpSOXFdEC24"
   },
   "outputs": [],
   "source": [
    "# Create Data audit Report for categorical variables\n",
    "def categorical_var_summary(x):\n",
    "    Mode = x.value_counts().sort_values(ascending = False)[0:1].reset_index()\n",
    "    return pd.Series([x.count(), x.isnull().sum(), Mode.iloc[0, 0], Mode.iloc[0, 1], \n",
    "                          round(Mode.iloc[0, 1] * 100/x.count(), 2)], \n",
    "                  index = ['N', 'NMISS', 'MODE', 'FREQ', 'PERCENT'])"
   ]
  },
  {
   "cell_type": "code",
   "execution_count": 0,
   "metadata": {
    "colab": {},
    "colab_type": "code",
    "id": "1boHHG-AEC3E"
   },
   "outputs": [],
   "source": [
    "# Missing value imputation for categorical and continuous variables\n",
    "def missing_imputation(x, stats = 'mean'):\n",
    "    if (x.dtypes == 'float64') | (x.dtypes == 'int64'):\n",
    "        x = x.fillna(x.mean()) if stats == 'mean' else x.fillna(x.median())\n",
    "    else:\n",
    "        x = x.fillna(x.mode().iloc[0])\n",
    "    return x"
   ]
  },
  {
   "cell_type": "markdown",
   "metadata": {
    "colab_type": "text",
    "id": "s3DzR5rBEC3Q"
   },
   "source": [
    "#### <a>Data Inspection"
   ]
  },
  {
   "cell_type": "markdown",
   "metadata": {
    "colab_type": "text",
    "id": "9tFvU1bBEC3Z"
   },
   "source": [
    "#### Training data-"
   ]
  },
  {
   "cell_type": "code",
   "execution_count": 0,
   "metadata": {
    "colab": {},
    "colab_type": "code",
    "id": "bJV_faImEC3d"
   },
   "outputs": [],
   "source": [
    "#Rearrange the columns-\n",
    "train=train[['Date','IsHoliday','Store','Dept','Type','Size','Temperature','Fuel_Price','MarkDown1','MarkDown2','MarkDown3',\n",
    "      'MarkDown4','MarkDown5','CPI','Unemployment','Weekly_Sales']]"
   ]
  },
  {
   "cell_type": "code",
   "execution_count": 19,
   "metadata": {
    "colab": {
     "base_uri": "https://localhost:8080/",
     "height": 261
    },
    "colab_type": "code",
    "id": "t1uOeAUsEC3v",
    "outputId": "d98af9b5-5477-438b-f1ba-6cd5d8dd0e81"
   },
   "outputs": [
    {
     "data": {
      "text/html": [
       "<div>\n",
       "<style scoped>\n",
       "    .dataframe tbody tr th:only-of-type {\n",
       "        vertical-align: middle;\n",
       "    }\n",
       "\n",
       "    .dataframe tbody tr th {\n",
       "        vertical-align: top;\n",
       "    }\n",
       "\n",
       "    .dataframe thead th {\n",
       "        text-align: right;\n",
       "    }\n",
       "</style>\n",
       "<table border=\"1\" class=\"dataframe\">\n",
       "  <thead>\n",
       "    <tr style=\"text-align: right;\">\n",
       "      <th></th>\n",
       "      <th>Date</th>\n",
       "      <th>IsHoliday</th>\n",
       "      <th>Store</th>\n",
       "      <th>Dept</th>\n",
       "      <th>Type</th>\n",
       "      <th>Size</th>\n",
       "      <th>Temperature</th>\n",
       "      <th>Fuel_Price</th>\n",
       "      <th>MarkDown1</th>\n",
       "      <th>MarkDown2</th>\n",
       "      <th>MarkDown3</th>\n",
       "      <th>MarkDown4</th>\n",
       "      <th>MarkDown5</th>\n",
       "      <th>CPI</th>\n",
       "      <th>Unemployment</th>\n",
       "      <th>Weekly_Sales</th>\n",
       "    </tr>\n",
       "  </thead>\n",
       "  <tbody>\n",
       "    <tr>\n",
       "      <th>0</th>\n",
       "      <td>2010-02-05</td>\n",
       "      <td>False</td>\n",
       "      <td>1</td>\n",
       "      <td>1</td>\n",
       "      <td>A</td>\n",
       "      <td>151315</td>\n",
       "      <td>42.31</td>\n",
       "      <td>2.572</td>\n",
       "      <td>NaN</td>\n",
       "      <td>NaN</td>\n",
       "      <td>NaN</td>\n",
       "      <td>NaN</td>\n",
       "      <td>NaN</td>\n",
       "      <td>211.096358</td>\n",
       "      <td>8.106</td>\n",
       "      <td>24924.50</td>\n",
       "    </tr>\n",
       "    <tr>\n",
       "      <th>1</th>\n",
       "      <td>2010-02-05</td>\n",
       "      <td>False</td>\n",
       "      <td>1</td>\n",
       "      <td>2</td>\n",
       "      <td>A</td>\n",
       "      <td>151315</td>\n",
       "      <td>42.31</td>\n",
       "      <td>2.572</td>\n",
       "      <td>NaN</td>\n",
       "      <td>NaN</td>\n",
       "      <td>NaN</td>\n",
       "      <td>NaN</td>\n",
       "      <td>NaN</td>\n",
       "      <td>211.096358</td>\n",
       "      <td>8.106</td>\n",
       "      <td>50605.27</td>\n",
       "    </tr>\n",
       "    <tr>\n",
       "      <th>2</th>\n",
       "      <td>2010-02-05</td>\n",
       "      <td>False</td>\n",
       "      <td>1</td>\n",
       "      <td>3</td>\n",
       "      <td>A</td>\n",
       "      <td>151315</td>\n",
       "      <td>42.31</td>\n",
       "      <td>2.572</td>\n",
       "      <td>NaN</td>\n",
       "      <td>NaN</td>\n",
       "      <td>NaN</td>\n",
       "      <td>NaN</td>\n",
       "      <td>NaN</td>\n",
       "      <td>211.096358</td>\n",
       "      <td>8.106</td>\n",
       "      <td>13740.12</td>\n",
       "    </tr>\n",
       "    <tr>\n",
       "      <th>3</th>\n",
       "      <td>2010-02-05</td>\n",
       "      <td>False</td>\n",
       "      <td>1</td>\n",
       "      <td>4</td>\n",
       "      <td>A</td>\n",
       "      <td>151315</td>\n",
       "      <td>42.31</td>\n",
       "      <td>2.572</td>\n",
       "      <td>NaN</td>\n",
       "      <td>NaN</td>\n",
       "      <td>NaN</td>\n",
       "      <td>NaN</td>\n",
       "      <td>NaN</td>\n",
       "      <td>211.096358</td>\n",
       "      <td>8.106</td>\n",
       "      <td>39954.04</td>\n",
       "    </tr>\n",
       "  </tbody>\n",
       "</table>\n",
       "</div>"
      ],
      "text/plain": [
       "         Date  IsHoliday  Store  ...         CPI Unemployment  Weekly_Sales\n",
       "0  2010-02-05      False      1  ...  211.096358        8.106      24924.50\n",
       "1  2010-02-05      False      1  ...  211.096358        8.106      50605.27\n",
       "2  2010-02-05      False      1  ...  211.096358        8.106      13740.12\n",
       "3  2010-02-05      False      1  ...  211.096358        8.106      39954.04\n",
       "\n",
       "[4 rows x 16 columns]"
      ]
     },
     "execution_count": 19,
     "metadata": {
      "tags": []
     },
     "output_type": "execute_result"
    }
   ],
   "source": [
    "train.head(4)"
   ]
  },
  {
   "cell_type": "code",
   "execution_count": 20,
   "metadata": {
    "colab": {
     "base_uri": "https://localhost:8080/",
     "height": 374
    },
    "colab_type": "code",
    "id": "_34rUoM8EC35",
    "outputId": "c06454c6-fd0a-42a7-def8-7508ce7efff3"
   },
   "outputs": [
    {
     "name": "stdout",
     "output_type": "stream",
     "text": [
      "<class 'pandas.core.frame.DataFrame'>\n",
      "Int64Index: 421570 entries, 0 to 421569\n",
      "Data columns (total 16 columns):\n",
      "Date            421570 non-null object\n",
      "IsHoliday       421570 non-null bool\n",
      "Store           421570 non-null int64\n",
      "Dept            421570 non-null int64\n",
      "Type            421570 non-null object\n",
      "Size            421570 non-null int64\n",
      "Temperature     421570 non-null float64\n",
      "Fuel_Price      421570 non-null float64\n",
      "MarkDown1       150681 non-null float64\n",
      "MarkDown2       111248 non-null float64\n",
      "MarkDown3       137091 non-null float64\n",
      "MarkDown4       134967 non-null float64\n",
      "MarkDown5       151432 non-null float64\n",
      "CPI             421570 non-null float64\n",
      "Unemployment    421570 non-null float64\n",
      "Weekly_Sales    421570 non-null float64\n",
      "dtypes: bool(1), float64(10), int64(3), object(2)\n",
      "memory usage: 51.9+ MB\n"
     ]
    }
   ],
   "source": [
    "train.info()"
   ]
  },
  {
   "cell_type": "code",
   "execution_count": 0,
   "metadata": {
    "colab": {},
    "colab_type": "code",
    "id": "74OotJXiEC4E"
   },
   "outputs": [],
   "source": [
    "## Converting True & False in-Isholdays columns int i.e 1 and 0\n",
    "train['IsHoliday']=train['IsHoliday'].astype('int64')"
   ]
  },
  {
   "cell_type": "code",
   "execution_count": 0,
   "metadata": {
    "colab": {},
    "colab_type": "code",
    "id": "TMSOgCqFEC4N"
   },
   "outputs": [],
   "source": [
    "### Changed the datetype to Date-\n",
    "train['Date'] = pd.to_datetime(train['Date'])"
   ]
  },
  {
   "cell_type": "code",
   "execution_count": 23,
   "metadata": {
    "colab": {
     "base_uri": "https://localhost:8080/",
     "height": 374
    },
    "colab_type": "code",
    "id": "YVpom0o_EC4Y",
    "outputId": "77a2ca7f-0b36-4801-be06-c93b026bf1c4"
   },
   "outputs": [
    {
     "name": "stdout",
     "output_type": "stream",
     "text": [
      "<class 'pandas.core.frame.DataFrame'>\n",
      "Int64Index: 421570 entries, 0 to 421569\n",
      "Data columns (total 16 columns):\n",
      "Date            421570 non-null datetime64[ns]\n",
      "IsHoliday       421570 non-null int64\n",
      "Store           421570 non-null int64\n",
      "Dept            421570 non-null int64\n",
      "Type            421570 non-null object\n",
      "Size            421570 non-null int64\n",
      "Temperature     421570 non-null float64\n",
      "Fuel_Price      421570 non-null float64\n",
      "MarkDown1       150681 non-null float64\n",
      "MarkDown2       111248 non-null float64\n",
      "MarkDown3       137091 non-null float64\n",
      "MarkDown4       134967 non-null float64\n",
      "MarkDown5       151432 non-null float64\n",
      "CPI             421570 non-null float64\n",
      "Unemployment    421570 non-null float64\n",
      "Weekly_Sales    421570 non-null float64\n",
      "dtypes: datetime64[ns](1), float64(10), int64(4), object(1)\n",
      "memory usage: 54.7+ MB\n"
     ]
    }
   ],
   "source": [
    "train.info()"
   ]
  },
  {
   "cell_type": "code",
   "execution_count": 24,
   "metadata": {
    "colab": {
     "base_uri": "https://localhost:8080/",
     "height": 309
    },
    "colab_type": "code",
    "id": "23blomVJEC4i",
    "outputId": "0097cf5f-4c37-4c16-924a-d3ce237d9154"
   },
   "outputs": [
    {
     "data": {
      "text/html": [
       "<div>\n",
       "<style scoped>\n",
       "    .dataframe tbody tr th:only-of-type {\n",
       "        vertical-align: middle;\n",
       "    }\n",
       "\n",
       "    .dataframe tbody tr th {\n",
       "        vertical-align: top;\n",
       "    }\n",
       "\n",
       "    .dataframe thead th {\n",
       "        text-align: right;\n",
       "    }\n",
       "</style>\n",
       "<table border=\"1\" class=\"dataframe\">\n",
       "  <thead>\n",
       "    <tr style=\"text-align: right;\">\n",
       "      <th></th>\n",
       "      <th>Date</th>\n",
       "      <th>IsHoliday</th>\n",
       "      <th>Store</th>\n",
       "      <th>Dept</th>\n",
       "      <th>Type</th>\n",
       "      <th>Size</th>\n",
       "      <th>Temperature</th>\n",
       "      <th>Fuel_Price</th>\n",
       "      <th>MarkDown1</th>\n",
       "      <th>MarkDown2</th>\n",
       "      <th>MarkDown3</th>\n",
       "      <th>MarkDown4</th>\n",
       "      <th>MarkDown5</th>\n",
       "      <th>CPI</th>\n",
       "      <th>Unemployment</th>\n",
       "      <th>Weekly_Sales</th>\n",
       "    </tr>\n",
       "  </thead>\n",
       "  <tbody>\n",
       "    <tr>\n",
       "      <th>0</th>\n",
       "      <td>2010-02-05</td>\n",
       "      <td>0</td>\n",
       "      <td>1</td>\n",
       "      <td>1</td>\n",
       "      <td>A</td>\n",
       "      <td>151315</td>\n",
       "      <td>42.31</td>\n",
       "      <td>2.572</td>\n",
       "      <td>NaN</td>\n",
       "      <td>NaN</td>\n",
       "      <td>NaN</td>\n",
       "      <td>NaN</td>\n",
       "      <td>NaN</td>\n",
       "      <td>211.096358</td>\n",
       "      <td>8.106</td>\n",
       "      <td>24924.50</td>\n",
       "    </tr>\n",
       "    <tr>\n",
       "      <th>1</th>\n",
       "      <td>2010-02-05</td>\n",
       "      <td>0</td>\n",
       "      <td>1</td>\n",
       "      <td>2</td>\n",
       "      <td>A</td>\n",
       "      <td>151315</td>\n",
       "      <td>42.31</td>\n",
       "      <td>2.572</td>\n",
       "      <td>NaN</td>\n",
       "      <td>NaN</td>\n",
       "      <td>NaN</td>\n",
       "      <td>NaN</td>\n",
       "      <td>NaN</td>\n",
       "      <td>211.096358</td>\n",
       "      <td>8.106</td>\n",
       "      <td>50605.27</td>\n",
       "    </tr>\n",
       "    <tr>\n",
       "      <th>2</th>\n",
       "      <td>2010-02-05</td>\n",
       "      <td>0</td>\n",
       "      <td>1</td>\n",
       "      <td>3</td>\n",
       "      <td>A</td>\n",
       "      <td>151315</td>\n",
       "      <td>42.31</td>\n",
       "      <td>2.572</td>\n",
       "      <td>NaN</td>\n",
       "      <td>NaN</td>\n",
       "      <td>NaN</td>\n",
       "      <td>NaN</td>\n",
       "      <td>NaN</td>\n",
       "      <td>211.096358</td>\n",
       "      <td>8.106</td>\n",
       "      <td>13740.12</td>\n",
       "    </tr>\n",
       "    <tr>\n",
       "      <th>3</th>\n",
       "      <td>2010-02-05</td>\n",
       "      <td>0</td>\n",
       "      <td>1</td>\n",
       "      <td>4</td>\n",
       "      <td>A</td>\n",
       "      <td>151315</td>\n",
       "      <td>42.31</td>\n",
       "      <td>2.572</td>\n",
       "      <td>NaN</td>\n",
       "      <td>NaN</td>\n",
       "      <td>NaN</td>\n",
       "      <td>NaN</td>\n",
       "      <td>NaN</td>\n",
       "      <td>211.096358</td>\n",
       "      <td>8.106</td>\n",
       "      <td>39954.04</td>\n",
       "    </tr>\n",
       "    <tr>\n",
       "      <th>4</th>\n",
       "      <td>2010-02-05</td>\n",
       "      <td>0</td>\n",
       "      <td>1</td>\n",
       "      <td>5</td>\n",
       "      <td>A</td>\n",
       "      <td>151315</td>\n",
       "      <td>42.31</td>\n",
       "      <td>2.572</td>\n",
       "      <td>NaN</td>\n",
       "      <td>NaN</td>\n",
       "      <td>NaN</td>\n",
       "      <td>NaN</td>\n",
       "      <td>NaN</td>\n",
       "      <td>211.096358</td>\n",
       "      <td>8.106</td>\n",
       "      <td>32229.38</td>\n",
       "    </tr>\n",
       "  </tbody>\n",
       "</table>\n",
       "</div>"
      ],
      "text/plain": [
       "        Date  IsHoliday  Store  ...         CPI Unemployment  Weekly_Sales\n",
       "0 2010-02-05          0      1  ...  211.096358        8.106      24924.50\n",
       "1 2010-02-05          0      1  ...  211.096358        8.106      50605.27\n",
       "2 2010-02-05          0      1  ...  211.096358        8.106      13740.12\n",
       "3 2010-02-05          0      1  ...  211.096358        8.106      39954.04\n",
       "4 2010-02-05          0      1  ...  211.096358        8.106      32229.38\n",
       "\n",
       "[5 rows x 16 columns]"
      ]
     },
     "execution_count": 24,
     "metadata": {
      "tags": []
     },
     "output_type": "execute_result"
    }
   ],
   "source": [
    "train.head()"
   ]
  },
  {
   "cell_type": "code",
   "execution_count": 0,
   "metadata": {
    "colab": {},
    "colab_type": "code",
    "id": "zTqjzAZbEC4u"
   },
   "outputs": [],
   "source": [
    "# seperate categorical and continuous variables\n",
    "train_conti_vars = train.loc[:, (train.dtypes == 'float64') | (train.dtypes == 'int64')]\n",
    "train_cat_vars = train.loc[:, (train.dtypes == 'object')]\n",
    "train_date_vars = train.loc[:, (train.dtypes == 'datetime64[ns]')]\n"
   ]
  },
  {
   "cell_type": "code",
   "execution_count": 26,
   "metadata": {
    "colab": {
     "base_uri": "https://localhost:8080/",
     "height": 503
    },
    "colab_type": "code",
    "id": "DH1FmpWQEC44",
    "outputId": "559da49e-e1b2-47ea-df02-578ed077864d"
   },
   "outputs": [
    {
     "data": {
      "text/html": [
       "<div>\n",
       "<style scoped>\n",
       "    .dataframe tbody tr th:only-of-type {\n",
       "        vertical-align: middle;\n",
       "    }\n",
       "\n",
       "    .dataframe tbody tr th {\n",
       "        vertical-align: top;\n",
       "    }\n",
       "\n",
       "    .dataframe thead th {\n",
       "        text-align: right;\n",
       "    }\n",
       "</style>\n",
       "<table border=\"1\" class=\"dataframe\">\n",
       "  <thead>\n",
       "    <tr style=\"text-align: right;\">\n",
       "      <th></th>\n",
       "      <th>N</th>\n",
       "      <th>NMISS</th>\n",
       "      <th>SUM</th>\n",
       "      <th>MEAN</th>\n",
       "      <th>MEDIAN</th>\n",
       "      <th>STD</th>\n",
       "      <th>VAR</th>\n",
       "      <th>MIN</th>\n",
       "      <th>P1</th>\n",
       "      <th>P5</th>\n",
       "      <th>P10</th>\n",
       "      <th>P25</th>\n",
       "      <th>P50</th>\n",
       "      <th>P75</th>\n",
       "      <th>P90</th>\n",
       "      <th>P95</th>\n",
       "      <th>P99</th>\n",
       "      <th>MAX</th>\n",
       "    </tr>\n",
       "  </thead>\n",
       "  <tbody>\n",
       "    <tr>\n",
       "      <th>IsHoliday</th>\n",
       "      <td>421570.0</td>\n",
       "      <td>0.0</td>\n",
       "      <td>2.966100e+04</td>\n",
       "      <td>0.07</td>\n",
       "      <td>0.00</td>\n",
       "      <td>0.26</td>\n",
       "      <td>7.000000e-02</td>\n",
       "      <td>0.00</td>\n",
       "      <td>0.00</td>\n",
       "      <td>0.00</td>\n",
       "      <td>0.00</td>\n",
       "      <td>0.00</td>\n",
       "      <td>0.00</td>\n",
       "      <td>0.00</td>\n",
       "      <td>0.00</td>\n",
       "      <td>1.00</td>\n",
       "      <td>1.00</td>\n",
       "      <td>1.00</td>\n",
       "    </tr>\n",
       "    <tr>\n",
       "      <th>Store</th>\n",
       "      <td>421570.0</td>\n",
       "      <td>0.0</td>\n",
       "      <td>9.359084e+06</td>\n",
       "      <td>22.20</td>\n",
       "      <td>22.00</td>\n",
       "      <td>12.79</td>\n",
       "      <td>1.634600e+02</td>\n",
       "      <td>1.00</td>\n",
       "      <td>1.00</td>\n",
       "      <td>3.00</td>\n",
       "      <td>5.00</td>\n",
       "      <td>11.00</td>\n",
       "      <td>22.00</td>\n",
       "      <td>33.00</td>\n",
       "      <td>40.00</td>\n",
       "      <td>43.00</td>\n",
       "      <td>45.00</td>\n",
       "      <td>45.00</td>\n",
       "    </tr>\n",
       "    <tr>\n",
       "      <th>Dept</th>\n",
       "      <td>421570.0</td>\n",
       "      <td>0.0</td>\n",
       "      <td>1.865882e+07</td>\n",
       "      <td>44.26</td>\n",
       "      <td>37.00</td>\n",
       "      <td>30.49</td>\n",
       "      <td>9.297700e+02</td>\n",
       "      <td>1.00</td>\n",
       "      <td>1.00</td>\n",
       "      <td>4.00</td>\n",
       "      <td>7.00</td>\n",
       "      <td>18.00</td>\n",
       "      <td>37.00</td>\n",
       "      <td>74.00</td>\n",
       "      <td>92.00</td>\n",
       "      <td>95.00</td>\n",
       "      <td>98.00</td>\n",
       "      <td>99.00</td>\n",
       "    </tr>\n",
       "    <tr>\n",
       "      <th>Size</th>\n",
       "      <td>421570.0</td>\n",
       "      <td>0.0</td>\n",
       "      <td>5.764039e+10</td>\n",
       "      <td>136727.92</td>\n",
       "      <td>140167.00</td>\n",
       "      <td>60980.58</td>\n",
       "      <td>3.718632e+09</td>\n",
       "      <td>34875.00</td>\n",
       "      <td>34875.00</td>\n",
       "      <td>39690.00</td>\n",
       "      <td>39910.00</td>\n",
       "      <td>93638.00</td>\n",
       "      <td>140167.00</td>\n",
       "      <td>202505.00</td>\n",
       "      <td>204184.00</td>\n",
       "      <td>206302.00</td>\n",
       "      <td>219622.00</td>\n",
       "      <td>219622.00</td>\n",
       "    </tr>\n",
       "    <tr>\n",
       "      <th>Temperature</th>\n",
       "      <td>421570.0</td>\n",
       "      <td>0.0</td>\n",
       "      <td>2.533217e+07</td>\n",
       "      <td>60.09</td>\n",
       "      <td>62.09</td>\n",
       "      <td>18.45</td>\n",
       "      <td>3.403300e+02</td>\n",
       "      <td>-2.06</td>\n",
       "      <td>18.30</td>\n",
       "      <td>27.31</td>\n",
       "      <td>33.98</td>\n",
       "      <td>46.68</td>\n",
       "      <td>62.09</td>\n",
       "      <td>74.28</td>\n",
       "      <td>83.58</td>\n",
       "      <td>87.27</td>\n",
       "      <td>92.81</td>\n",
       "      <td>100.14</td>\n",
       "    </tr>\n",
       "    <tr>\n",
       "      <th>Fuel_Price</th>\n",
       "      <td>421570.0</td>\n",
       "      <td>0.0</td>\n",
       "      <td>1.416908e+06</td>\n",
       "      <td>3.36</td>\n",
       "      <td>3.45</td>\n",
       "      <td>0.46</td>\n",
       "      <td>2.100000e-01</td>\n",
       "      <td>2.47</td>\n",
       "      <td>2.56</td>\n",
       "      <td>2.65</td>\n",
       "      <td>2.72</td>\n",
       "      <td>2.93</td>\n",
       "      <td>3.45</td>\n",
       "      <td>3.74</td>\n",
       "      <td>3.92</td>\n",
       "      <td>4.03</td>\n",
       "      <td>4.20</td>\n",
       "      <td>4.47</td>\n",
       "    </tr>\n",
       "    <tr>\n",
       "      <th>MarkDown1</th>\n",
       "      <td>150681.0</td>\n",
       "      <td>270889.0</td>\n",
       "      <td>1.091898e+09</td>\n",
       "      <td>7246.42</td>\n",
       "      <td>5347.45</td>\n",
       "      <td>8291.22</td>\n",
       "      <td>6.874435e+07</td>\n",
       "      <td>0.27</td>\n",
       "      <td>17.76</td>\n",
       "      <td>149.19</td>\n",
       "      <td>375.20</td>\n",
       "      <td>2240.27</td>\n",
       "      <td>5347.45</td>\n",
       "      <td>9210.90</td>\n",
       "      <td>15282.47</td>\n",
       "      <td>21801.35</td>\n",
       "      <td>41524.03</td>\n",
       "      <td>88646.76</td>\n",
       "    </tr>\n",
       "    <tr>\n",
       "      <th>MarkDown2</th>\n",
       "      <td>111248.0</td>\n",
       "      <td>310322.0</td>\n",
       "      <td>3.709708e+08</td>\n",
       "      <td>3334.63</td>\n",
       "      <td>192.00</td>\n",
       "      <td>9475.36</td>\n",
       "      <td>8.978240e+07</td>\n",
       "      <td>-265.76</td>\n",
       "      <td>-0.99</td>\n",
       "      <td>1.95</td>\n",
       "      <td>6.98</td>\n",
       "      <td>41.60</td>\n",
       "      <td>192.00</td>\n",
       "      <td>1926.94</td>\n",
       "      <td>8549.74</td>\n",
       "      <td>16497.47</td>\n",
       "      <td>50366.60</td>\n",
       "      <td>104519.54</td>\n",
       "    </tr>\n",
       "    <tr>\n",
       "      <th>MarkDown3</th>\n",
       "      <td>137091.0</td>\n",
       "      <td>284479.0</td>\n",
       "      <td>1.973317e+08</td>\n",
       "      <td>1439.42</td>\n",
       "      <td>24.60</td>\n",
       "      <td>9623.08</td>\n",
       "      <td>9.260364e+07</td>\n",
       "      <td>-29.10</td>\n",
       "      <td>0.06</td>\n",
       "      <td>0.65</td>\n",
       "      <td>1.65</td>\n",
       "      <td>5.08</td>\n",
       "      <td>24.60</td>\n",
       "      <td>103.99</td>\n",
       "      <td>400.09</td>\n",
       "      <td>1059.90</td>\n",
       "      <td>63143.29</td>\n",
       "      <td>141630.61</td>\n",
       "    </tr>\n",
       "    <tr>\n",
       "      <th>MarkDown4</th>\n",
       "      <td>134967.0</td>\n",
       "      <td>286603.0</td>\n",
       "      <td>4.566161e+08</td>\n",
       "      <td>3383.17</td>\n",
       "      <td>1481.31</td>\n",
       "      <td>6292.38</td>\n",
       "      <td>3.959410e+07</td>\n",
       "      <td>0.22</td>\n",
       "      <td>3.97</td>\n",
       "      <td>28.76</td>\n",
       "      <td>108.71</td>\n",
       "      <td>504.22</td>\n",
       "      <td>1481.31</td>\n",
       "      <td>3595.04</td>\n",
       "      <td>7871.42</td>\n",
       "      <td>12645.96</td>\n",
       "      <td>35785.26</td>\n",
       "      <td>67474.85</td>\n",
       "    </tr>\n",
       "    <tr>\n",
       "      <th>MarkDown5</th>\n",
       "      <td>151432.0</td>\n",
       "      <td>270138.0</td>\n",
       "      <td>7.009750e+08</td>\n",
       "      <td>4628.98</td>\n",
       "      <td>3359.45</td>\n",
       "      <td>5962.89</td>\n",
       "      <td>3.555603e+07</td>\n",
       "      <td>135.16</td>\n",
       "      <td>351.97</td>\n",
       "      <td>715.52</td>\n",
       "      <td>1070.83</td>\n",
       "      <td>1878.44</td>\n",
       "      <td>3359.45</td>\n",
       "      <td>5563.80</td>\n",
       "      <td>8337.70</td>\n",
       "      <td>11269.24</td>\n",
       "      <td>27754.23</td>\n",
       "      <td>108519.28</td>\n",
       "    </tr>\n",
       "    <tr>\n",
       "      <th>CPI</th>\n",
       "      <td>421570.0</td>\n",
       "      <td>0.0</td>\n",
       "      <td>7.217360e+07</td>\n",
       "      <td>171.20</td>\n",
       "      <td>182.32</td>\n",
       "      <td>39.16</td>\n",
       "      <td>1.533450e+03</td>\n",
       "      <td>126.06</td>\n",
       "      <td>126.11</td>\n",
       "      <td>126.50</td>\n",
       "      <td>128.82</td>\n",
       "      <td>132.02</td>\n",
       "      <td>182.32</td>\n",
       "      <td>212.42</td>\n",
       "      <td>219.44</td>\n",
       "      <td>221.94</td>\n",
       "      <td>225.47</td>\n",
       "      <td>227.23</td>\n",
       "    </tr>\n",
       "    <tr>\n",
       "      <th>Unemployment</th>\n",
       "      <td>421570.0</td>\n",
       "      <td>0.0</td>\n",
       "      <td>3.355819e+06</td>\n",
       "      <td>7.96</td>\n",
       "      <td>7.87</td>\n",
       "      <td>1.86</td>\n",
       "      <td>3.470000e+00</td>\n",
       "      <td>3.88</td>\n",
       "      <td>4.16</td>\n",
       "      <td>5.33</td>\n",
       "      <td>5.96</td>\n",
       "      <td>6.89</td>\n",
       "      <td>7.87</td>\n",
       "      <td>8.57</td>\n",
       "      <td>9.82</td>\n",
       "      <td>12.19</td>\n",
       "      <td>14.18</td>\n",
       "      <td>14.31</td>\n",
       "    </tr>\n",
       "    <tr>\n",
       "      <th>Weekly_Sales</th>\n",
       "      <td>421570.0</td>\n",
       "      <td>0.0</td>\n",
       "      <td>6.737219e+09</td>\n",
       "      <td>15981.26</td>\n",
       "      <td>7612.03</td>\n",
       "      <td>22711.18</td>\n",
       "      <td>5.157979e+08</td>\n",
       "      <td>-4988.94</td>\n",
       "      <td>5.00</td>\n",
       "      <td>59.97</td>\n",
       "      <td>291.10</td>\n",
       "      <td>2079.65</td>\n",
       "      <td>7612.03</td>\n",
       "      <td>20205.85</td>\n",
       "      <td>42845.67</td>\n",
       "      <td>61201.95</td>\n",
       "      <td>106479.59</td>\n",
       "      <td>693099.36</td>\n",
       "    </tr>\n",
       "  </tbody>\n",
       "</table>\n",
       "</div>"
      ],
      "text/plain": [
       "                     N     NMISS           SUM  ...        P95        P99        MAX\n",
       "IsHoliday     421570.0       0.0  2.966100e+04  ...       1.00       1.00       1.00\n",
       "Store         421570.0       0.0  9.359084e+06  ...      43.00      45.00      45.00\n",
       "Dept          421570.0       0.0  1.865882e+07  ...      95.00      98.00      99.00\n",
       "Size          421570.0       0.0  5.764039e+10  ...  206302.00  219622.00  219622.00\n",
       "Temperature   421570.0       0.0  2.533217e+07  ...      87.27      92.81     100.14\n",
       "Fuel_Price    421570.0       0.0  1.416908e+06  ...       4.03       4.20       4.47\n",
       "MarkDown1     150681.0  270889.0  1.091898e+09  ...   21801.35   41524.03   88646.76\n",
       "MarkDown2     111248.0  310322.0  3.709708e+08  ...   16497.47   50366.60  104519.54\n",
       "MarkDown3     137091.0  284479.0  1.973317e+08  ...    1059.90   63143.29  141630.61\n",
       "MarkDown4     134967.0  286603.0  4.566161e+08  ...   12645.96   35785.26   67474.85\n",
       "MarkDown5     151432.0  270138.0  7.009750e+08  ...   11269.24   27754.23  108519.28\n",
       "CPI           421570.0       0.0  7.217360e+07  ...     221.94     225.47     227.23\n",
       "Unemployment  421570.0       0.0  3.355819e+06  ...      12.19      14.18      14.31\n",
       "Weekly_Sales  421570.0       0.0  6.737219e+09  ...   61201.95  106479.59  693099.36\n",
       "\n",
       "[14 rows x 18 columns]"
      ]
     },
     "execution_count": 26,
     "metadata": {
      "tags": []
     },
     "output_type": "execute_result"
    }
   ],
   "source": [
    "#checking P1 & Min(Outliers),P99 & Max(Outliers),Mean Median,NMISS(for missing values).\n",
    "\n",
    "train_conti_vars.apply(continuous_var_summary).T.round(2)"
   ]
  },
  {
   "cell_type": "code",
   "execution_count": 27,
   "metadata": {
    "colab": {
     "base_uri": "https://localhost:8080/",
     "height": 80
    },
    "colab_type": "code",
    "id": "T2hhyBkREC5E",
    "outputId": "a0f65a9c-733c-412a-e2bc-cb30ae3fc6bb"
   },
   "outputs": [
    {
     "data": {
      "text/html": [
       "<div>\n",
       "<style scoped>\n",
       "    .dataframe tbody tr th:only-of-type {\n",
       "        vertical-align: middle;\n",
       "    }\n",
       "\n",
       "    .dataframe tbody tr th {\n",
       "        vertical-align: top;\n",
       "    }\n",
       "\n",
       "    .dataframe thead th {\n",
       "        text-align: right;\n",
       "    }\n",
       "</style>\n",
       "<table border=\"1\" class=\"dataframe\">\n",
       "  <thead>\n",
       "    <tr style=\"text-align: right;\">\n",
       "      <th></th>\n",
       "      <th>N</th>\n",
       "      <th>NMISS</th>\n",
       "      <th>MODE</th>\n",
       "      <th>FREQ</th>\n",
       "      <th>PERCENT</th>\n",
       "    </tr>\n",
       "  </thead>\n",
       "  <tbody>\n",
       "    <tr>\n",
       "      <th>Type</th>\n",
       "      <td>421570</td>\n",
       "      <td>0</td>\n",
       "      <td>A</td>\n",
       "      <td>215478</td>\n",
       "      <td>51.11</td>\n",
       "    </tr>\n",
       "  </tbody>\n",
       "</table>\n",
       "</div>"
      ],
      "text/plain": [
       "           N NMISS MODE    FREQ PERCENT\n",
       "Type  421570     0    A  215478   51.11"
      ]
     },
     "execution_count": 27,
     "metadata": {
      "tags": []
     },
     "output_type": "execute_result"
    }
   ],
   "source": [
    "#checking Mode,Freq,NMISS,Percent,Count.\n",
    "\n",
    "train_cat_vars.apply(categorical_var_summary).T.round(2)"
   ]
  },
  {
   "cell_type": "markdown",
   "metadata": {
    "colab_type": "text",
    "id": "RH6zmJHFEC5P"
   },
   "source": [
    "#### Testing  data-"
   ]
  },
  {
   "cell_type": "code",
   "execution_count": 0,
   "metadata": {
    "colab": {},
    "colab_type": "code",
    "id": "vvCtlpk2EC5X"
   },
   "outputs": [],
   "source": [
    "#Rearrange the columns-\n",
    "test=test[['Date', 'IsHoliday','Store', 'Dept', 'Type', 'Size', 'Temperature','Fuel_Price', 'MarkDown1', 'MarkDown2', \n",
    "           'MarkDown3', 'MarkDown4','MarkDown5', 'CPI', 'Unemployment']]"
   ]
  },
  {
   "cell_type": "code",
   "execution_count": 0,
   "metadata": {
    "colab": {},
    "colab_type": "code",
    "id": "n-5Abi1pEC5i"
   },
   "outputs": [],
   "source": [
    "## Converting True & False in-Isholdays columns int i.e 1 and 0\n",
    "test['IsHoliday']=test['IsHoliday'].astype('int64')"
   ]
  },
  {
   "cell_type": "code",
   "execution_count": 0,
   "metadata": {
    "colab": {},
    "colab_type": "code",
    "id": "Flw_23ygEC51"
   },
   "outputs": [],
   "source": [
    "### Changed the datetype to Date-\n",
    "test['Date'] = pd.to_datetime(test['Date'])"
   ]
  },
  {
   "cell_type": "code",
   "execution_count": 31,
   "metadata": {
    "colab": {
     "base_uri": "https://localhost:8080/",
     "height": 357
    },
    "colab_type": "code",
    "id": "2gE7gKp0EC6A",
    "outputId": "3f1686e6-de8b-49a8-b560-216c32b04f79"
   },
   "outputs": [
    {
     "name": "stdout",
     "output_type": "stream",
     "text": [
      "<class 'pandas.core.frame.DataFrame'>\n",
      "Int64Index: 115064 entries, 0 to 115063\n",
      "Data columns (total 15 columns):\n",
      "Date            115064 non-null datetime64[ns]\n",
      "IsHoliday       115064 non-null int64\n",
      "Store           115064 non-null int64\n",
      "Dept            115064 non-null int64\n",
      "Type            115064 non-null object\n",
      "Size            115064 non-null int64\n",
      "Temperature     115064 non-null float64\n",
      "Fuel_Price      115064 non-null float64\n",
      "MarkDown1       114915 non-null float64\n",
      "MarkDown2       86437 non-null float64\n",
      "MarkDown3       105235 non-null float64\n",
      "MarkDown4       102176 non-null float64\n",
      "MarkDown5       115064 non-null float64\n",
      "CPI             76902 non-null float64\n",
      "Unemployment    76902 non-null float64\n",
      "dtypes: datetime64[ns](1), float64(9), int64(4), object(1)\n",
      "memory usage: 14.0+ MB\n"
     ]
    }
   ],
   "source": [
    "test.info()"
   ]
  },
  {
   "cell_type": "code",
   "execution_count": 32,
   "metadata": {
    "colab": {
     "base_uri": "https://localhost:8080/",
     "height": 204
    },
    "colab_type": "code",
    "id": "P7yVNTWBEC6I",
    "outputId": "61e24d58-702d-4cf9-e8c0-11aa5639ae15"
   },
   "outputs": [
    {
     "data": {
      "text/html": [
       "<div>\n",
       "<style scoped>\n",
       "    .dataframe tbody tr th:only-of-type {\n",
       "        vertical-align: middle;\n",
       "    }\n",
       "\n",
       "    .dataframe tbody tr th {\n",
       "        vertical-align: top;\n",
       "    }\n",
       "\n",
       "    .dataframe thead th {\n",
       "        text-align: right;\n",
       "    }\n",
       "</style>\n",
       "<table border=\"1\" class=\"dataframe\">\n",
       "  <thead>\n",
       "    <tr style=\"text-align: right;\">\n",
       "      <th></th>\n",
       "      <th>Date</th>\n",
       "      <th>IsHoliday</th>\n",
       "      <th>Store</th>\n",
       "      <th>Dept</th>\n",
       "      <th>Type</th>\n",
       "      <th>Size</th>\n",
       "      <th>Temperature</th>\n",
       "      <th>Fuel_Price</th>\n",
       "      <th>MarkDown1</th>\n",
       "      <th>MarkDown2</th>\n",
       "      <th>MarkDown3</th>\n",
       "      <th>MarkDown4</th>\n",
       "      <th>MarkDown5</th>\n",
       "      <th>CPI</th>\n",
       "      <th>Unemployment</th>\n",
       "    </tr>\n",
       "  </thead>\n",
       "  <tbody>\n",
       "    <tr>\n",
       "      <th>0</th>\n",
       "      <td>2012-11-02</td>\n",
       "      <td>0</td>\n",
       "      <td>1</td>\n",
       "      <td>1</td>\n",
       "      <td>A</td>\n",
       "      <td>151315</td>\n",
       "      <td>55.32</td>\n",
       "      <td>3.386</td>\n",
       "      <td>6766.44</td>\n",
       "      <td>5147.7</td>\n",
       "      <td>50.82</td>\n",
       "      <td>3639.9</td>\n",
       "      <td>2737.42</td>\n",
       "      <td>223.462779</td>\n",
       "      <td>6.573</td>\n",
       "    </tr>\n",
       "    <tr>\n",
       "      <th>1</th>\n",
       "      <td>2012-11-02</td>\n",
       "      <td>0</td>\n",
       "      <td>1</td>\n",
       "      <td>2</td>\n",
       "      <td>A</td>\n",
       "      <td>151315</td>\n",
       "      <td>55.32</td>\n",
       "      <td>3.386</td>\n",
       "      <td>6766.44</td>\n",
       "      <td>5147.7</td>\n",
       "      <td>50.82</td>\n",
       "      <td>3639.9</td>\n",
       "      <td>2737.42</td>\n",
       "      <td>223.462779</td>\n",
       "      <td>6.573</td>\n",
       "    </tr>\n",
       "    <tr>\n",
       "      <th>2</th>\n",
       "      <td>2012-11-02</td>\n",
       "      <td>0</td>\n",
       "      <td>1</td>\n",
       "      <td>3</td>\n",
       "      <td>A</td>\n",
       "      <td>151315</td>\n",
       "      <td>55.32</td>\n",
       "      <td>3.386</td>\n",
       "      <td>6766.44</td>\n",
       "      <td>5147.7</td>\n",
       "      <td>50.82</td>\n",
       "      <td>3639.9</td>\n",
       "      <td>2737.42</td>\n",
       "      <td>223.462779</td>\n",
       "      <td>6.573</td>\n",
       "    </tr>\n",
       "    <tr>\n",
       "      <th>3</th>\n",
       "      <td>2012-11-02</td>\n",
       "      <td>0</td>\n",
       "      <td>1</td>\n",
       "      <td>4</td>\n",
       "      <td>A</td>\n",
       "      <td>151315</td>\n",
       "      <td>55.32</td>\n",
       "      <td>3.386</td>\n",
       "      <td>6766.44</td>\n",
       "      <td>5147.7</td>\n",
       "      <td>50.82</td>\n",
       "      <td>3639.9</td>\n",
       "      <td>2737.42</td>\n",
       "      <td>223.462779</td>\n",
       "      <td>6.573</td>\n",
       "    </tr>\n",
       "    <tr>\n",
       "      <th>4</th>\n",
       "      <td>2012-11-02</td>\n",
       "      <td>0</td>\n",
       "      <td>1</td>\n",
       "      <td>5</td>\n",
       "      <td>A</td>\n",
       "      <td>151315</td>\n",
       "      <td>55.32</td>\n",
       "      <td>3.386</td>\n",
       "      <td>6766.44</td>\n",
       "      <td>5147.7</td>\n",
       "      <td>50.82</td>\n",
       "      <td>3639.9</td>\n",
       "      <td>2737.42</td>\n",
       "      <td>223.462779</td>\n",
       "      <td>6.573</td>\n",
       "    </tr>\n",
       "  </tbody>\n",
       "</table>\n",
       "</div>"
      ],
      "text/plain": [
       "        Date  IsHoliday  Store  ...  MarkDown5         CPI  Unemployment\n",
       "0 2012-11-02          0      1  ...    2737.42  223.462779         6.573\n",
       "1 2012-11-02          0      1  ...    2737.42  223.462779         6.573\n",
       "2 2012-11-02          0      1  ...    2737.42  223.462779         6.573\n",
       "3 2012-11-02          0      1  ...    2737.42  223.462779         6.573\n",
       "4 2012-11-02          0      1  ...    2737.42  223.462779         6.573\n",
       "\n",
       "[5 rows x 15 columns]"
      ]
     },
     "execution_count": 32,
     "metadata": {
      "tags": []
     },
     "output_type": "execute_result"
    }
   ],
   "source": [
    "test.head()"
   ]
  },
  {
   "cell_type": "code",
   "execution_count": 0,
   "metadata": {
    "colab": {},
    "colab_type": "code",
    "id": "TrqVYxr5EC6R"
   },
   "outputs": [],
   "source": [
    "# seperate categorical and continuous variables\n",
    "test_conti_vars = test.loc[:, (test.dtypes == 'float64') | (test.dtypes == 'int64')]\n",
    "test_cat_vars = test.loc[:, (test.dtypes == 'object')]\n",
    "test_date_vars = test.loc[:, (test.dtypes == 'datetime64[ns]')]\n"
   ]
  },
  {
   "cell_type": "code",
   "execution_count": 34,
   "metadata": {
    "colab": {
     "base_uri": "https://localhost:8080/",
     "height": 472
    },
    "colab_type": "code",
    "id": "yuqHzXTTEC6Z",
    "outputId": "f81590d7-6fc9-46ad-9da0-5d63e990cd8c"
   },
   "outputs": [
    {
     "data": {
      "text/html": [
       "<div>\n",
       "<style scoped>\n",
       "    .dataframe tbody tr th:only-of-type {\n",
       "        vertical-align: middle;\n",
       "    }\n",
       "\n",
       "    .dataframe tbody tr th {\n",
       "        vertical-align: top;\n",
       "    }\n",
       "\n",
       "    .dataframe thead th {\n",
       "        text-align: right;\n",
       "    }\n",
       "</style>\n",
       "<table border=\"1\" class=\"dataframe\">\n",
       "  <thead>\n",
       "    <tr style=\"text-align: right;\">\n",
       "      <th></th>\n",
       "      <th>N</th>\n",
       "      <th>NMISS</th>\n",
       "      <th>SUM</th>\n",
       "      <th>MEAN</th>\n",
       "      <th>MEDIAN</th>\n",
       "      <th>STD</th>\n",
       "      <th>VAR</th>\n",
       "      <th>MIN</th>\n",
       "      <th>P1</th>\n",
       "      <th>P5</th>\n",
       "      <th>P10</th>\n",
       "      <th>P25</th>\n",
       "      <th>P50</th>\n",
       "      <th>P75</th>\n",
       "      <th>P90</th>\n",
       "      <th>P95</th>\n",
       "      <th>P99</th>\n",
       "      <th>MAX</th>\n",
       "    </tr>\n",
       "  </thead>\n",
       "  <tbody>\n",
       "    <tr>\n",
       "      <th>IsHoliday</th>\n",
       "      <td>115064.0</td>\n",
       "      <td>0.0</td>\n",
       "      <td>8.928000e+03</td>\n",
       "      <td>0.08</td>\n",
       "      <td>0.00</td>\n",
       "      <td>0.27</td>\n",
       "      <td>7.000000e-02</td>\n",
       "      <td>0.00</td>\n",
       "      <td>0.00</td>\n",
       "      <td>0.00</td>\n",
       "      <td>0.00</td>\n",
       "      <td>0.00</td>\n",
       "      <td>0.00</td>\n",
       "      <td>0.00</td>\n",
       "      <td>0.00</td>\n",
       "      <td>1.00</td>\n",
       "      <td>1.00</td>\n",
       "      <td>1.00</td>\n",
       "    </tr>\n",
       "    <tr>\n",
       "      <th>Store</th>\n",
       "      <td>115064.0</td>\n",
       "      <td>0.0</td>\n",
       "      <td>2.558817e+06</td>\n",
       "      <td>22.24</td>\n",
       "      <td>22.00</td>\n",
       "      <td>12.81</td>\n",
       "      <td>1.640900e+02</td>\n",
       "      <td>1.00</td>\n",
       "      <td>1.00</td>\n",
       "      <td>3.00</td>\n",
       "      <td>5.00</td>\n",
       "      <td>11.00</td>\n",
       "      <td>22.00</td>\n",
       "      <td>33.00</td>\n",
       "      <td>40.00</td>\n",
       "      <td>43.00</td>\n",
       "      <td>45.00</td>\n",
       "      <td>45.00</td>\n",
       "    </tr>\n",
       "    <tr>\n",
       "      <th>Dept</th>\n",
       "      <td>115064.0</td>\n",
       "      <td>0.0</td>\n",
       "      <td>5.101883e+06</td>\n",
       "      <td>44.34</td>\n",
       "      <td>37.00</td>\n",
       "      <td>30.66</td>\n",
       "      <td>9.398200e+02</td>\n",
       "      <td>1.00</td>\n",
       "      <td>1.00</td>\n",
       "      <td>4.00</td>\n",
       "      <td>7.00</td>\n",
       "      <td>18.00</td>\n",
       "      <td>37.00</td>\n",
       "      <td>74.00</td>\n",
       "      <td>92.00</td>\n",
       "      <td>95.00</td>\n",
       "      <td>98.00</td>\n",
       "      <td>99.00</td>\n",
       "    </tr>\n",
       "    <tr>\n",
       "      <th>Size</th>\n",
       "      <td>115064.0</td>\n",
       "      <td>0.0</td>\n",
       "      <td>1.570597e+10</td>\n",
       "      <td>136497.69</td>\n",
       "      <td>140167.00</td>\n",
       "      <td>61106.93</td>\n",
       "      <td>3.734056e+09</td>\n",
       "      <td>34875.00</td>\n",
       "      <td>34875.00</td>\n",
       "      <td>39690.00</td>\n",
       "      <td>39910.00</td>\n",
       "      <td>93638.00</td>\n",
       "      <td>140167.00</td>\n",
       "      <td>202505.00</td>\n",
       "      <td>204184.00</td>\n",
       "      <td>206302.00</td>\n",
       "      <td>219622.00</td>\n",
       "      <td>219622.00</td>\n",
       "    </tr>\n",
       "    <tr>\n",
       "      <th>Temperature</th>\n",
       "      <td>115064.0</td>\n",
       "      <td>0.0</td>\n",
       "      <td>6.206760e+06</td>\n",
       "      <td>53.94</td>\n",
       "      <td>54.47</td>\n",
       "      <td>18.72</td>\n",
       "      <td>3.505900e+02</td>\n",
       "      <td>-7.29</td>\n",
       "      <td>11.44</td>\n",
       "      <td>23.98</td>\n",
       "      <td>29.97</td>\n",
       "      <td>39.82</td>\n",
       "      <td>54.47</td>\n",
       "      <td>67.35</td>\n",
       "      <td>79.48</td>\n",
       "      <td>83.82</td>\n",
       "      <td>92.14</td>\n",
       "      <td>101.95</td>\n",
       "    </tr>\n",
       "    <tr>\n",
       "      <th>Fuel_Price</th>\n",
       "      <td>115064.0</td>\n",
       "      <td>0.0</td>\n",
       "      <td>4.121070e+05</td>\n",
       "      <td>3.58</td>\n",
       "      <td>3.61</td>\n",
       "      <td>0.24</td>\n",
       "      <td>6.000000e-02</td>\n",
       "      <td>2.87</td>\n",
       "      <td>2.96</td>\n",
       "      <td>3.16</td>\n",
       "      <td>3.23</td>\n",
       "      <td>3.43</td>\n",
       "      <td>3.61</td>\n",
       "      <td>3.77</td>\n",
       "      <td>3.87</td>\n",
       "      <td>3.95</td>\n",
       "      <td>4.08</td>\n",
       "      <td>4.12</td>\n",
       "    </tr>\n",
       "    <tr>\n",
       "      <th>MarkDown1</th>\n",
       "      <td>114915.0</td>\n",
       "      <td>149.0</td>\n",
       "      <td>8.836063e+08</td>\n",
       "      <td>7689.22</td>\n",
       "      <td>4842.29</td>\n",
       "      <td>10698.76</td>\n",
       "      <td>1.144635e+08</td>\n",
       "      <td>-2781.45</td>\n",
       "      <td>20.84</td>\n",
       "      <td>189.49</td>\n",
       "      <td>457.66</td>\n",
       "      <td>1966.46</td>\n",
       "      <td>4842.29</td>\n",
       "      <td>9439.14</td>\n",
       "      <td>15325.04</td>\n",
       "      <td>23140.88</td>\n",
       "      <td>65757.57</td>\n",
       "      <td>103184.98</td>\n",
       "    </tr>\n",
       "    <tr>\n",
       "      <th>MarkDown2</th>\n",
       "      <td>86437.0</td>\n",
       "      <td>28627.0</td>\n",
       "      <td>3.227602e+08</td>\n",
       "      <td>3734.05</td>\n",
       "      <td>742.59</td>\n",
       "      <td>8323.50</td>\n",
       "      <td>6.928057e+07</td>\n",
       "      <td>-35.74</td>\n",
       "      <td>0.02</td>\n",
       "      <td>6.14</td>\n",
       "      <td>25.77</td>\n",
       "      <td>180.35</td>\n",
       "      <td>742.59</td>\n",
       "      <td>2735.67</td>\n",
       "      <td>9277.29</td>\n",
       "      <td>22671.67</td>\n",
       "      <td>42920.21</td>\n",
       "      <td>71074.17</td>\n",
       "    </tr>\n",
       "    <tr>\n",
       "      <th>MarkDown3</th>\n",
       "      <td>105235.0</td>\n",
       "      <td>9829.0</td>\n",
       "      <td>2.528890e+08</td>\n",
       "      <td>2403.09</td>\n",
       "      <td>78.26</td>\n",
       "      <td>13767.94</td>\n",
       "      <td>1.895562e+08</td>\n",
       "      <td>-179.26</td>\n",
       "      <td>0.15</td>\n",
       "      <td>1.18</td>\n",
       "      <td>3.10</td>\n",
       "      <td>15.10</td>\n",
       "      <td>78.26</td>\n",
       "      <td>272.58</td>\n",
       "      <td>698.93</td>\n",
       "      <td>2361.57</td>\n",
       "      <td>86476.66</td>\n",
       "      <td>149483.31</td>\n",
       "    </tr>\n",
       "    <tr>\n",
       "      <th>MarkDown4</th>\n",
       "      <td>102176.0</td>\n",
       "      <td>12888.0</td>\n",
       "      <td>3.429250e+08</td>\n",
       "      <td>3356.22</td>\n",
       "      <td>840.94</td>\n",
       "      <td>7570.50</td>\n",
       "      <td>5.731249e+07</td>\n",
       "      <td>0.22</td>\n",
       "      <td>2.61</td>\n",
       "      <td>16.96</td>\n",
       "      <td>37.36</td>\n",
       "      <td>155.46</td>\n",
       "      <td>840.94</td>\n",
       "      <td>3096.92</td>\n",
       "      <td>7674.41</td>\n",
       "      <td>14191.01</td>\n",
       "      <td>44739.28</td>\n",
       "      <td>65344.64</td>\n",
       "    </tr>\n",
       "    <tr>\n",
       "      <th>MarkDown5</th>\n",
       "      <td>115064.0</td>\n",
       "      <td>0.0</td>\n",
       "      <td>4.513594e+08</td>\n",
       "      <td>3922.68</td>\n",
       "      <td>2390.43</td>\n",
       "      <td>19445.15</td>\n",
       "      <td>3.781139e+08</td>\n",
       "      <td>-185.17</td>\n",
       "      <td>269.30</td>\n",
       "      <td>540.89</td>\n",
       "      <td>770.88</td>\n",
       "      <td>1309.30</td>\n",
       "      <td>2390.43</td>\n",
       "      <td>4227.27</td>\n",
       "      <td>6966.34</td>\n",
       "      <td>9316.71</td>\n",
       "      <td>18599.30</td>\n",
       "      <td>771448.10</td>\n",
       "    </tr>\n",
       "    <tr>\n",
       "      <th>CPI</th>\n",
       "      <td>76902.0</td>\n",
       "      <td>38162.0</td>\n",
       "      <td>1.360868e+07</td>\n",
       "      <td>176.96</td>\n",
       "      <td>192.30</td>\n",
       "      <td>41.24</td>\n",
       "      <td>1.700730e+03</td>\n",
       "      <td>131.24</td>\n",
       "      <td>131.28</td>\n",
       "      <td>131.48</td>\n",
       "      <td>132.03</td>\n",
       "      <td>138.40</td>\n",
       "      <td>192.30</td>\n",
       "      <td>223.24</td>\n",
       "      <td>225.90</td>\n",
       "      <td>227.78</td>\n",
       "      <td>228.73</td>\n",
       "      <td>228.98</td>\n",
       "    </tr>\n",
       "    <tr>\n",
       "      <th>Unemployment</th>\n",
       "      <td>76902.0</td>\n",
       "      <td>38162.0</td>\n",
       "      <td>5.282193e+05</td>\n",
       "      <td>6.87</td>\n",
       "      <td>6.81</td>\n",
       "      <td>1.58</td>\n",
       "      <td>2.510000e+00</td>\n",
       "      <td>3.68</td>\n",
       "      <td>3.88</td>\n",
       "      <td>3.93</td>\n",
       "      <td>5.05</td>\n",
       "      <td>5.77</td>\n",
       "      <td>6.81</td>\n",
       "      <td>8.04</td>\n",
       "      <td>8.93</td>\n",
       "      <td>9.91</td>\n",
       "      <td>10.20</td>\n",
       "      <td>10.20</td>\n",
       "    </tr>\n",
       "  </tbody>\n",
       "</table>\n",
       "</div>"
      ],
      "text/plain": [
       "                     N    NMISS           SUM  ...        P95        P99        MAX\n",
       "IsHoliday     115064.0      0.0  8.928000e+03  ...       1.00       1.00       1.00\n",
       "Store         115064.0      0.0  2.558817e+06  ...      43.00      45.00      45.00\n",
       "Dept          115064.0      0.0  5.101883e+06  ...      95.00      98.00      99.00\n",
       "Size          115064.0      0.0  1.570597e+10  ...  206302.00  219622.00  219622.00\n",
       "Temperature   115064.0      0.0  6.206760e+06  ...      83.82      92.14     101.95\n",
       "Fuel_Price    115064.0      0.0  4.121070e+05  ...       3.95       4.08       4.12\n",
       "MarkDown1     114915.0    149.0  8.836063e+08  ...   23140.88   65757.57  103184.98\n",
       "MarkDown2      86437.0  28627.0  3.227602e+08  ...   22671.67   42920.21   71074.17\n",
       "MarkDown3     105235.0   9829.0  2.528890e+08  ...    2361.57   86476.66  149483.31\n",
       "MarkDown4     102176.0  12888.0  3.429250e+08  ...   14191.01   44739.28   65344.64\n",
       "MarkDown5     115064.0      0.0  4.513594e+08  ...    9316.71   18599.30  771448.10\n",
       "CPI            76902.0  38162.0  1.360868e+07  ...     227.78     228.73     228.98\n",
       "Unemployment   76902.0  38162.0  5.282193e+05  ...       9.91      10.20      10.20\n",
       "\n",
       "[13 rows x 18 columns]"
      ]
     },
     "execution_count": 34,
     "metadata": {
      "tags": []
     },
     "output_type": "execute_result"
    }
   ],
   "source": [
    "#checking P1 & Min(Outliers),P99 & Max(Outliers),Mean Median,NMISS(for missing values).\n",
    "\n",
    "test_conti_vars.apply(continuous_var_summary).T.round(2)"
   ]
  },
  {
   "cell_type": "code",
   "execution_count": 35,
   "metadata": {
    "colab": {
     "base_uri": "https://localhost:8080/",
     "height": 80
    },
    "colab_type": "code",
    "id": "-yeHmI99EC6h",
    "outputId": "79d5f01c-460e-406d-811b-4dd5862b2f9d"
   },
   "outputs": [
    {
     "data": {
      "text/html": [
       "<div>\n",
       "<style scoped>\n",
       "    .dataframe tbody tr th:only-of-type {\n",
       "        vertical-align: middle;\n",
       "    }\n",
       "\n",
       "    .dataframe tbody tr th {\n",
       "        vertical-align: top;\n",
       "    }\n",
       "\n",
       "    .dataframe thead th {\n",
       "        text-align: right;\n",
       "    }\n",
       "</style>\n",
       "<table border=\"1\" class=\"dataframe\">\n",
       "  <thead>\n",
       "    <tr style=\"text-align: right;\">\n",
       "      <th></th>\n",
       "      <th>N</th>\n",
       "      <th>NMISS</th>\n",
       "      <th>MODE</th>\n",
       "      <th>FREQ</th>\n",
       "      <th>PERCENT</th>\n",
       "    </tr>\n",
       "  </thead>\n",
       "  <tbody>\n",
       "    <tr>\n",
       "      <th>Type</th>\n",
       "      <td>115064</td>\n",
       "      <td>0</td>\n",
       "      <td>A</td>\n",
       "      <td>58713</td>\n",
       "      <td>51.03</td>\n",
       "    </tr>\n",
       "  </tbody>\n",
       "</table>\n",
       "</div>"
      ],
      "text/plain": [
       "           N NMISS MODE   FREQ PERCENT\n",
       "Type  115064     0    A  58713   51.03"
      ]
     },
     "execution_count": 35,
     "metadata": {
      "tags": []
     },
     "output_type": "execute_result"
    }
   ],
   "source": [
    "#checking Mode,Freq,NMISS,Percent,Count.\n",
    "\n",
    "test_cat_vars.apply(categorical_var_summary).T.round(2)"
   ]
  },
  {
   "cell_type": "markdown",
   "metadata": {
    "colab_type": "text",
    "id": "FKZvgG61EC6p"
   },
   "source": [
    "#### <a>Profiling report-"
   ]
  },
  {
   "cell_type": "code",
   "execution_count": 0,
   "metadata": {
    "colab": {},
    "colab_type": "code",
    "id": "mEfm9Vj3EC6s"
   },
   "outputs": [],
   "source": [
    "#pandas_profiling.ProfileReport(train)"
   ]
  },
  {
   "cell_type": "code",
   "execution_count": 0,
   "metadata": {
    "colab": {},
    "colab_type": "code",
    "id": "r5NDofnIEC6z"
   },
   "outputs": [],
   "source": [
    "#pandas_profiling.ProfileReport(test)"
   ]
  },
  {
   "cell_type": "markdown",
   "metadata": {
    "colab_type": "text",
    "id": "huekHZxLEC67"
   },
   "source": [
    "#### <a>Correlation"
   ]
  },
  {
   "cell_type": "code",
   "execution_count": 38,
   "metadata": {
    "colab": {
     "base_uri": "https://localhost:8080/",
     "height": 503
    },
    "colab_type": "code",
    "id": "xA6CgvqbEC69",
    "outputId": "d592f92c-75a5-47f9-e258-a57c5f2a832d"
   },
   "outputs": [
    {
     "data": {
      "text/html": [
       "<div>\n",
       "<style scoped>\n",
       "    .dataframe tbody tr th:only-of-type {\n",
       "        vertical-align: middle;\n",
       "    }\n",
       "\n",
       "    .dataframe tbody tr th {\n",
       "        vertical-align: top;\n",
       "    }\n",
       "\n",
       "    .dataframe thead th {\n",
       "        text-align: right;\n",
       "    }\n",
       "</style>\n",
       "<table border=\"1\" class=\"dataframe\">\n",
       "  <thead>\n",
       "    <tr style=\"text-align: right;\">\n",
       "      <th></th>\n",
       "      <th>IsHoliday</th>\n",
       "      <th>Store</th>\n",
       "      <th>Dept</th>\n",
       "      <th>Size</th>\n",
       "      <th>Temperature</th>\n",
       "      <th>Fuel_Price</th>\n",
       "      <th>MarkDown1</th>\n",
       "      <th>MarkDown2</th>\n",
       "      <th>MarkDown3</th>\n",
       "      <th>MarkDown4</th>\n",
       "      <th>MarkDown5</th>\n",
       "      <th>CPI</th>\n",
       "      <th>Unemployment</th>\n",
       "      <th>Weekly_Sales</th>\n",
       "    </tr>\n",
       "  </thead>\n",
       "  <tbody>\n",
       "    <tr>\n",
       "      <th>IsHoliday</th>\n",
       "      <td>1.000000</td>\n",
       "      <td>-0.000548</td>\n",
       "      <td>0.000916</td>\n",
       "      <td>0.000593</td>\n",
       "      <td>-0.155949</td>\n",
       "      <td>-0.078281</td>\n",
       "      <td>-0.035586</td>\n",
       "      <td>0.334818</td>\n",
       "      <td>0.427960</td>\n",
       "      <td>-0.000562</td>\n",
       "      <td>-0.053719</td>\n",
       "      <td>-0.001944</td>\n",
       "      <td>0.010460</td>\n",
       "      <td>0.012774</td>\n",
       "    </tr>\n",
       "    <tr>\n",
       "      <th>Store</th>\n",
       "      <td>-0.000548</td>\n",
       "      <td>1.000000</td>\n",
       "      <td>0.024004</td>\n",
       "      <td>-0.182881</td>\n",
       "      <td>-0.050097</td>\n",
       "      <td>0.065290</td>\n",
       "      <td>-0.119588</td>\n",
       "      <td>-0.035173</td>\n",
       "      <td>-0.031556</td>\n",
       "      <td>-0.009941</td>\n",
       "      <td>-0.026634</td>\n",
       "      <td>-0.211088</td>\n",
       "      <td>0.208552</td>\n",
       "      <td>-0.085195</td>\n",
       "    </tr>\n",
       "    <tr>\n",
       "      <th>Dept</th>\n",
       "      <td>0.000916</td>\n",
       "      <td>0.024004</td>\n",
       "      <td>1.000000</td>\n",
       "      <td>-0.002966</td>\n",
       "      <td>0.004437</td>\n",
       "      <td>0.003572</td>\n",
       "      <td>-0.002426</td>\n",
       "      <td>0.000290</td>\n",
       "      <td>0.001784</td>\n",
       "      <td>0.004257</td>\n",
       "      <td>0.000109</td>\n",
       "      <td>-0.007477</td>\n",
       "      <td>0.007837</td>\n",
       "      <td>0.148032</td>\n",
       "    </tr>\n",
       "    <tr>\n",
       "      <th>Size</th>\n",
       "      <td>0.000593</td>\n",
       "      <td>-0.182881</td>\n",
       "      <td>-0.002966</td>\n",
       "      <td>1.000000</td>\n",
       "      <td>-0.058313</td>\n",
       "      <td>0.003361</td>\n",
       "      <td>0.345673</td>\n",
       "      <td>0.108827</td>\n",
       "      <td>0.048913</td>\n",
       "      <td>0.168196</td>\n",
       "      <td>0.304575</td>\n",
       "      <td>-0.003314</td>\n",
       "      <td>-0.068238</td>\n",
       "      <td>0.243828</td>\n",
       "    </tr>\n",
       "    <tr>\n",
       "      <th>Temperature</th>\n",
       "      <td>-0.155949</td>\n",
       "      <td>-0.050097</td>\n",
       "      <td>0.004437</td>\n",
       "      <td>-0.058313</td>\n",
       "      <td>1.000000</td>\n",
       "      <td>0.143859</td>\n",
       "      <td>-0.040594</td>\n",
       "      <td>-0.323927</td>\n",
       "      <td>-0.096880</td>\n",
       "      <td>-0.063947</td>\n",
       "      <td>-0.017544</td>\n",
       "      <td>0.182112</td>\n",
       "      <td>0.096730</td>\n",
       "      <td>-0.002312</td>\n",
       "    </tr>\n",
       "    <tr>\n",
       "      <th>Fuel_Price</th>\n",
       "      <td>-0.078281</td>\n",
       "      <td>0.065290</td>\n",
       "      <td>0.003572</td>\n",
       "      <td>0.003361</td>\n",
       "      <td>0.143859</td>\n",
       "      <td>1.000000</td>\n",
       "      <td>0.061371</td>\n",
       "      <td>-0.220895</td>\n",
       "      <td>-0.102092</td>\n",
       "      <td>-0.044986</td>\n",
       "      <td>-0.128065</td>\n",
       "      <td>-0.164210</td>\n",
       "      <td>-0.033853</td>\n",
       "      <td>-0.000120</td>\n",
       "    </tr>\n",
       "    <tr>\n",
       "      <th>MarkDown1</th>\n",
       "      <td>-0.035586</td>\n",
       "      <td>-0.119588</td>\n",
       "      <td>-0.002426</td>\n",
       "      <td>0.345673</td>\n",
       "      <td>-0.040594</td>\n",
       "      <td>0.061371</td>\n",
       "      <td>1.000000</td>\n",
       "      <td>0.024486</td>\n",
       "      <td>-0.108115</td>\n",
       "      <td>0.819238</td>\n",
       "      <td>0.160257</td>\n",
       "      <td>-0.055558</td>\n",
       "      <td>0.050285</td>\n",
       "      <td>0.085251</td>\n",
       "    </tr>\n",
       "    <tr>\n",
       "      <th>MarkDown2</th>\n",
       "      <td>0.334818</td>\n",
       "      <td>-0.035173</td>\n",
       "      <td>0.000290</td>\n",
       "      <td>0.108827</td>\n",
       "      <td>-0.323927</td>\n",
       "      <td>-0.220895</td>\n",
       "      <td>0.024486</td>\n",
       "      <td>1.000000</td>\n",
       "      <td>-0.050108</td>\n",
       "      <td>-0.007768</td>\n",
       "      <td>-0.007440</td>\n",
       "      <td>-0.039534</td>\n",
       "      <td>0.020940</td>\n",
       "      <td>0.024130</td>\n",
       "    </tr>\n",
       "    <tr>\n",
       "      <th>MarkDown3</th>\n",
       "      <td>0.427960</td>\n",
       "      <td>-0.031556</td>\n",
       "      <td>0.001784</td>\n",
       "      <td>0.048913</td>\n",
       "      <td>-0.096880</td>\n",
       "      <td>-0.102092</td>\n",
       "      <td>-0.108115</td>\n",
       "      <td>-0.050108</td>\n",
       "      <td>1.000000</td>\n",
       "      <td>-0.071095</td>\n",
       "      <td>-0.026467</td>\n",
       "      <td>-0.023590</td>\n",
       "      <td>0.012818</td>\n",
       "      <td>0.060385</td>\n",
       "    </tr>\n",
       "    <tr>\n",
       "      <th>MarkDown4</th>\n",
       "      <td>-0.000562</td>\n",
       "      <td>-0.009941</td>\n",
       "      <td>0.004257</td>\n",
       "      <td>0.168196</td>\n",
       "      <td>-0.063947</td>\n",
       "      <td>-0.044986</td>\n",
       "      <td>0.819238</td>\n",
       "      <td>-0.007768</td>\n",
       "      <td>-0.071095</td>\n",
       "      <td>1.000000</td>\n",
       "      <td>0.107792</td>\n",
       "      <td>-0.049628</td>\n",
       "      <td>0.024963</td>\n",
       "      <td>0.045414</td>\n",
       "    </tr>\n",
       "    <tr>\n",
       "      <th>MarkDown5</th>\n",
       "      <td>-0.053719</td>\n",
       "      <td>-0.026634</td>\n",
       "      <td>0.000109</td>\n",
       "      <td>0.304575</td>\n",
       "      <td>-0.017544</td>\n",
       "      <td>-0.128065</td>\n",
       "      <td>0.160257</td>\n",
       "      <td>-0.007440</td>\n",
       "      <td>-0.026467</td>\n",
       "      <td>0.107792</td>\n",
       "      <td>1.000000</td>\n",
       "      <td>0.060630</td>\n",
       "      <td>-0.003843</td>\n",
       "      <td>0.090362</td>\n",
       "    </tr>\n",
       "    <tr>\n",
       "      <th>CPI</th>\n",
       "      <td>-0.001944</td>\n",
       "      <td>-0.211088</td>\n",
       "      <td>-0.007477</td>\n",
       "      <td>-0.003314</td>\n",
       "      <td>0.182112</td>\n",
       "      <td>-0.164210</td>\n",
       "      <td>-0.055558</td>\n",
       "      <td>-0.039534</td>\n",
       "      <td>-0.023590</td>\n",
       "      <td>-0.049628</td>\n",
       "      <td>0.060630</td>\n",
       "      <td>1.000000</td>\n",
       "      <td>-0.299953</td>\n",
       "      <td>-0.020921</td>\n",
       "    </tr>\n",
       "    <tr>\n",
       "      <th>Unemployment</th>\n",
       "      <td>0.010460</td>\n",
       "      <td>0.208552</td>\n",
       "      <td>0.007837</td>\n",
       "      <td>-0.068238</td>\n",
       "      <td>0.096730</td>\n",
       "      <td>-0.033853</td>\n",
       "      <td>0.050285</td>\n",
       "      <td>0.020940</td>\n",
       "      <td>0.012818</td>\n",
       "      <td>0.024963</td>\n",
       "      <td>-0.003843</td>\n",
       "      <td>-0.299953</td>\n",
       "      <td>1.000000</td>\n",
       "      <td>-0.025864</td>\n",
       "    </tr>\n",
       "    <tr>\n",
       "      <th>Weekly_Sales</th>\n",
       "      <td>0.012774</td>\n",
       "      <td>-0.085195</td>\n",
       "      <td>0.148032</td>\n",
       "      <td>0.243828</td>\n",
       "      <td>-0.002312</td>\n",
       "      <td>-0.000120</td>\n",
       "      <td>0.085251</td>\n",
       "      <td>0.024130</td>\n",
       "      <td>0.060385</td>\n",
       "      <td>0.045414</td>\n",
       "      <td>0.090362</td>\n",
       "      <td>-0.020921</td>\n",
       "      <td>-0.025864</td>\n",
       "      <td>1.000000</td>\n",
       "    </tr>\n",
       "  </tbody>\n",
       "</table>\n",
       "</div>"
      ],
      "text/plain": [
       "              IsHoliday     Store  ...  Unemployment  Weekly_Sales\n",
       "IsHoliday      1.000000 -0.000548  ...      0.010460      0.012774\n",
       "Store         -0.000548  1.000000  ...      0.208552     -0.085195\n",
       "Dept           0.000916  0.024004  ...      0.007837      0.148032\n",
       "Size           0.000593 -0.182881  ...     -0.068238      0.243828\n",
       "Temperature   -0.155949 -0.050097  ...      0.096730     -0.002312\n",
       "Fuel_Price    -0.078281  0.065290  ...     -0.033853     -0.000120\n",
       "MarkDown1     -0.035586 -0.119588  ...      0.050285      0.085251\n",
       "MarkDown2      0.334818 -0.035173  ...      0.020940      0.024130\n",
       "MarkDown3      0.427960 -0.031556  ...      0.012818      0.060385\n",
       "MarkDown4     -0.000562 -0.009941  ...      0.024963      0.045414\n",
       "MarkDown5     -0.053719 -0.026634  ...     -0.003843      0.090362\n",
       "CPI           -0.001944 -0.211088  ...     -0.299953     -0.020921\n",
       "Unemployment   0.010460  0.208552  ...      1.000000     -0.025864\n",
       "Weekly_Sales   0.012774 -0.085195  ...     -0.025864      1.000000\n",
       "\n",
       "[14 rows x 14 columns]"
      ]
     },
     "execution_count": 38,
     "metadata": {
      "tags": []
     },
     "output_type": "execute_result"
    }
   ],
   "source": [
    "train_corr=pd.DataFrame(train.corr())\n",
    "train_corr"
   ]
  },
  {
   "cell_type": "code",
   "execution_count": 39,
   "metadata": {
    "colab": {
     "base_uri": "https://localhost:8080/",
     "height": 452
    },
    "colab_type": "code",
    "id": "94YTe3aWEC7I",
    "outputId": "25fbb1e8-3ce0-4d4e-91dc-514c60b32a79"
   },
   "outputs": [
    {
     "data": {
      "text/html": [
       "<div>\n",
       "<style scoped>\n",
       "    .dataframe tbody tr th:only-of-type {\n",
       "        vertical-align: middle;\n",
       "    }\n",
       "\n",
       "    .dataframe tbody tr th {\n",
       "        vertical-align: top;\n",
       "    }\n",
       "\n",
       "    .dataframe thead th {\n",
       "        text-align: right;\n",
       "    }\n",
       "</style>\n",
       "<table border=\"1\" class=\"dataframe\">\n",
       "  <thead>\n",
       "    <tr style=\"text-align: right;\">\n",
       "      <th></th>\n",
       "      <th>IsHoliday</th>\n",
       "      <th>Store</th>\n",
       "      <th>Dept</th>\n",
       "      <th>Size</th>\n",
       "      <th>Temperature</th>\n",
       "      <th>Fuel_Price</th>\n",
       "      <th>MarkDown1</th>\n",
       "      <th>MarkDown2</th>\n",
       "      <th>MarkDown3</th>\n",
       "      <th>MarkDown4</th>\n",
       "      <th>MarkDown5</th>\n",
       "      <th>CPI</th>\n",
       "      <th>Unemployment</th>\n",
       "    </tr>\n",
       "  </thead>\n",
       "  <tbody>\n",
       "    <tr>\n",
       "      <th>IsHoliday</th>\n",
       "      <td>1.000000</td>\n",
       "      <td>-0.001166</td>\n",
       "      <td>0.001249</td>\n",
       "      <td>-0.000443</td>\n",
       "      <td>-0.187428</td>\n",
       "      <td>-0.126443</td>\n",
       "      <td>0.355257</td>\n",
       "      <td>0.265402</td>\n",
       "      <td>0.496062</td>\n",
       "      <td>0.289700</td>\n",
       "      <td>-0.019386</td>\n",
       "      <td>-0.001475</td>\n",
       "      <td>0.010288</td>\n",
       "    </tr>\n",
       "    <tr>\n",
       "      <th>Store</th>\n",
       "      <td>-0.001166</td>\n",
       "      <td>1.000000</td>\n",
       "      <td>0.019627</td>\n",
       "      <td>-0.186845</td>\n",
       "      <td>-0.043495</td>\n",
       "      <td>0.153425</td>\n",
       "      <td>-0.091707</td>\n",
       "      <td>-0.041370</td>\n",
       "      <td>-0.025177</td>\n",
       "      <td>0.010331</td>\n",
       "      <td>0.010419</td>\n",
       "      <td>-0.214872</td>\n",
       "      <td>0.250321</td>\n",
       "    </tr>\n",
       "    <tr>\n",
       "      <th>Dept</th>\n",
       "      <td>0.001249</td>\n",
       "      <td>0.019627</td>\n",
       "      <td>1.000000</td>\n",
       "      <td>0.001502</td>\n",
       "      <td>0.003970</td>\n",
       "      <td>0.000554</td>\n",
       "      <td>-0.002353</td>\n",
       "      <td>0.001292</td>\n",
       "      <td>0.000247</td>\n",
       "      <td>0.002510</td>\n",
       "      <td>0.000776</td>\n",
       "      <td>-0.006336</td>\n",
       "      <td>0.004087</td>\n",
       "    </tr>\n",
       "    <tr>\n",
       "      <th>Size</th>\n",
       "      <td>-0.000443</td>\n",
       "      <td>-0.186845</td>\n",
       "      <td>0.001502</td>\n",
       "      <td>1.000000</td>\n",
       "      <td>-0.061256</td>\n",
       "      <td>0.055088</td>\n",
       "      <td>0.309614</td>\n",
       "      <td>0.157526</td>\n",
       "      <td>0.050088</td>\n",
       "      <td>0.155448</td>\n",
       "      <td>0.103681</td>\n",
       "      <td>-0.002916</td>\n",
       "      <td>-0.001988</td>\n",
       "    </tr>\n",
       "    <tr>\n",
       "      <th>Temperature</th>\n",
       "      <td>-0.187428</td>\n",
       "      <td>-0.043495</td>\n",
       "      <td>0.003970</td>\n",
       "      <td>-0.061256</td>\n",
       "      <td>1.000000</td>\n",
       "      <td>0.073938</td>\n",
       "      <td>-0.168899</td>\n",
       "      <td>-0.324280</td>\n",
       "      <td>-0.049771</td>\n",
       "      <td>-0.059583</td>\n",
       "      <td>0.003937</td>\n",
       "      <td>0.280861</td>\n",
       "      <td>0.022136</td>\n",
       "    </tr>\n",
       "    <tr>\n",
       "      <th>Fuel_Price</th>\n",
       "      <td>-0.126443</td>\n",
       "      <td>0.153425</td>\n",
       "      <td>0.000554</td>\n",
       "      <td>0.055088</td>\n",
       "      <td>0.073938</td>\n",
       "      <td>1.000000</td>\n",
       "      <td>0.083320</td>\n",
       "      <td>-0.161963</td>\n",
       "      <td>-0.005827</td>\n",
       "      <td>0.034199</td>\n",
       "      <td>0.012722</td>\n",
       "      <td>-0.465721</td>\n",
       "      <td>0.417126</td>\n",
       "    </tr>\n",
       "    <tr>\n",
       "      <th>MarkDown1</th>\n",
       "      <td>0.355257</td>\n",
       "      <td>-0.091707</td>\n",
       "      <td>-0.002353</td>\n",
       "      <td>0.309614</td>\n",
       "      <td>-0.168899</td>\n",
       "      <td>0.083320</td>\n",
       "      <td>1.000000</td>\n",
       "      <td>0.001777</td>\n",
       "      <td>-0.090085</td>\n",
       "      <td>0.804449</td>\n",
       "      <td>0.061714</td>\n",
       "      <td>-0.028729</td>\n",
       "      <td>0.019241</td>\n",
       "    </tr>\n",
       "    <tr>\n",
       "      <th>MarkDown2</th>\n",
       "      <td>0.265402</td>\n",
       "      <td>-0.041370</td>\n",
       "      <td>0.001292</td>\n",
       "      <td>0.157526</td>\n",
       "      <td>-0.324280</td>\n",
       "      <td>-0.161963</td>\n",
       "      <td>0.001777</td>\n",
       "      <td>1.000000</td>\n",
       "      <td>-0.063757</td>\n",
       "      <td>-0.101784</td>\n",
       "      <td>-0.014159</td>\n",
       "      <td>-0.059350</td>\n",
       "      <td>-0.000547</td>\n",
       "    </tr>\n",
       "    <tr>\n",
       "      <th>MarkDown3</th>\n",
       "      <td>0.496062</td>\n",
       "      <td>-0.025177</td>\n",
       "      <td>0.000247</td>\n",
       "      <td>0.050088</td>\n",
       "      <td>-0.049771</td>\n",
       "      <td>-0.005827</td>\n",
       "      <td>-0.090085</td>\n",
       "      <td>-0.063757</td>\n",
       "      <td>1.000000</td>\n",
       "      <td>-0.059576</td>\n",
       "      <td>-0.015305</td>\n",
       "      <td>-0.022021</td>\n",
       "      <td>0.006298</td>\n",
       "    </tr>\n",
       "    <tr>\n",
       "      <th>MarkDown4</th>\n",
       "      <td>0.289700</td>\n",
       "      <td>0.010331</td>\n",
       "      <td>0.002510</td>\n",
       "      <td>0.155448</td>\n",
       "      <td>-0.059583</td>\n",
       "      <td>0.034199</td>\n",
       "      <td>0.804449</td>\n",
       "      <td>-0.101784</td>\n",
       "      <td>-0.059576</td>\n",
       "      <td>1.000000</td>\n",
       "      <td>0.024163</td>\n",
       "      <td>-0.056629</td>\n",
       "      <td>0.021993</td>\n",
       "    </tr>\n",
       "    <tr>\n",
       "      <th>MarkDown5</th>\n",
       "      <td>-0.019386</td>\n",
       "      <td>0.010419</td>\n",
       "      <td>0.000776</td>\n",
       "      <td>0.103681</td>\n",
       "      <td>0.003937</td>\n",
       "      <td>0.012722</td>\n",
       "      <td>0.061714</td>\n",
       "      <td>-0.014159</td>\n",
       "      <td>-0.015305</td>\n",
       "      <td>0.024163</td>\n",
       "      <td>1.000000</td>\n",
       "      <td>-0.025105</td>\n",
       "      <td>0.063864</td>\n",
       "    </tr>\n",
       "    <tr>\n",
       "      <th>CPI</th>\n",
       "      <td>-0.001475</td>\n",
       "      <td>-0.214872</td>\n",
       "      <td>-0.006336</td>\n",
       "      <td>-0.002916</td>\n",
       "      <td>0.280861</td>\n",
       "      <td>-0.465721</td>\n",
       "      <td>-0.028729</td>\n",
       "      <td>-0.059350</td>\n",
       "      <td>-0.022021</td>\n",
       "      <td>-0.056629</td>\n",
       "      <td>-0.025105</td>\n",
       "      <td>1.000000</td>\n",
       "      <td>-0.289842</td>\n",
       "    </tr>\n",
       "    <tr>\n",
       "      <th>Unemployment</th>\n",
       "      <td>0.010288</td>\n",
       "      <td>0.250321</td>\n",
       "      <td>0.004087</td>\n",
       "      <td>-0.001988</td>\n",
       "      <td>0.022136</td>\n",
       "      <td>0.417126</td>\n",
       "      <td>0.019241</td>\n",
       "      <td>-0.000547</td>\n",
       "      <td>0.006298</td>\n",
       "      <td>0.021993</td>\n",
       "      <td>0.063864</td>\n",
       "      <td>-0.289842</td>\n",
       "      <td>1.000000</td>\n",
       "    </tr>\n",
       "  </tbody>\n",
       "</table>\n",
       "</div>"
      ],
      "text/plain": [
       "              IsHoliday     Store      Dept  ...  MarkDown5       CPI  Unemployment\n",
       "IsHoliday      1.000000 -0.001166  0.001249  ...  -0.019386 -0.001475      0.010288\n",
       "Store         -0.001166  1.000000  0.019627  ...   0.010419 -0.214872      0.250321\n",
       "Dept           0.001249  0.019627  1.000000  ...   0.000776 -0.006336      0.004087\n",
       "Size          -0.000443 -0.186845  0.001502  ...   0.103681 -0.002916     -0.001988\n",
       "Temperature   -0.187428 -0.043495  0.003970  ...   0.003937  0.280861      0.022136\n",
       "Fuel_Price    -0.126443  0.153425  0.000554  ...   0.012722 -0.465721      0.417126\n",
       "MarkDown1      0.355257 -0.091707 -0.002353  ...   0.061714 -0.028729      0.019241\n",
       "MarkDown2      0.265402 -0.041370  0.001292  ...  -0.014159 -0.059350     -0.000547\n",
       "MarkDown3      0.496062 -0.025177  0.000247  ...  -0.015305 -0.022021      0.006298\n",
       "MarkDown4      0.289700  0.010331  0.002510  ...   0.024163 -0.056629      0.021993\n",
       "MarkDown5     -0.019386  0.010419  0.000776  ...   1.000000 -0.025105      0.063864\n",
       "CPI           -0.001475 -0.214872 -0.006336  ...  -0.025105  1.000000     -0.289842\n",
       "Unemployment   0.010288  0.250321  0.004087  ...   0.063864 -0.289842      1.000000\n",
       "\n",
       "[13 rows x 13 columns]"
      ]
     },
     "execution_count": 39,
     "metadata": {
      "tags": []
     },
     "output_type": "execute_result"
    }
   ],
   "source": [
    "test_corr=pd.DataFrame(test.corr())\n",
    "test_corr"
   ]
  },
  {
   "cell_type": "code",
   "execution_count": 40,
   "metadata": {
    "colab": {
     "base_uri": "https://localhost:8080/",
     "height": 686
    },
    "colab_type": "code",
    "id": "D1HRnRR1EC7d",
    "outputId": "b09a4fc2-ccef-4829-a7ad-d4a22c131b54"
   },
   "outputs": [
    {
     "data": {
      "text/plain": [
       "<matplotlib.axes._subplots.AxesSubplot at 0x7f865c6ce668>"
      ]
     },
     "execution_count": 40,
     "metadata": {
      "tags": []
     },
     "output_type": "execute_result"
    },
    {
     "data": {
      "image/png": "[encoded data removed]",
      "text/plain": [
       "<Figure size 1080x720 with 2 Axes>"
      ]
     },
     "metadata": {
      "tags": []
     },
     "output_type": "display_data"
    }
   ],
   "source": [
    "# visualize correlation matrix in Seaborn using a heatmap\n",
    "import matplotlib.pyplot as plt\n",
    "\n",
    "fig, ax = plt.subplots(figsize=(15,10))\n",
    "sns.heatmap(train.corr(),annot=True,ax=ax)"
   ]
  },
  {
   "cell_type": "code",
   "execution_count": 41,
   "metadata": {
    "colab": {
     "base_uri": "https://localhost:8080/",
     "height": 691
    },
    "colab_type": "code",
    "id": "Rxl_wJm7EC7l",
    "outputId": "acb0ae00-1731-4761-b794-7fdf5d9c110b"
   },
   "outputs": [
    {
     "data": {
      "text/plain": [
       "<matplotlib.axes._subplots.AxesSubplot at 0x7f86584fa1d0>"
      ]
     },
     "execution_count": 41,
     "metadata": {
      "tags": []
     },
     "output_type": "execute_result"
    },
    {
     "data": {
      "image/png": "[encoded data removed]",
      "text/plain": [
       "<Figure size 1080x720 with 2 Axes>"
      ]
     },
     "metadata": {
      "tags": []
     },
     "output_type": "display_data"
    }
   ],
   "source": [
    "# visualize correlation matrix in Seaborn using a heatmap\n",
    "import matplotlib.pyplot as plt\n",
    "\n",
    "fig, ax = plt.subplots(figsize=(15,10))\n",
    "sns.heatmap(test.corr(),annot=True,ax=ax)"
   ]
  },
  {
   "cell_type": "markdown",
   "metadata": {
    "colab_type": "text",
    "id": "k0ynjZafEC7u"
   },
   "source": [
    "### <a>Visualisation- of dataset-"
   ]
  },
  {
   "cell_type": "code",
   "execution_count": 42,
   "metadata": {
    "colab": {
     "base_uri": "https://localhost:8080/",
     "height": 293
    },
    "colab_type": "code",
    "id": "fwjvpqYYEC7z",
    "outputId": "729c3006-49d8-4f77-a955-f02ad189cda0"
   },
   "outputs": [
    {
     "data": {
      "text/plain": [
       "<matplotlib.axes._subplots.AxesSubplot at 0x7f8656b47588>"
      ]
     },
     "execution_count": 42,
     "metadata": {
      "tags": []
     },
     "output_type": "execute_result"
    },
    {
     "data": {
      "image/png": "[encoded data removed]",
      "text/plain": [
       "<Figure size 432x288 with 1 Axes>"
      ]
     },
     "metadata": {
      "tags": []
     },
     "output_type": "display_data"
    }
   ],
   "source": [
    "### Visualisation of train data on the bases of columns store -\n",
    "train['Store'].value_counts(normalize=True).plot(kind = 'bar',fig=(15,10))"
   ]
  },
  {
   "cell_type": "code",
   "execution_count": 43,
   "metadata": {
    "colab": {
     "base_uri": "https://localhost:8080/",
     "height": 305
    },
    "colab_type": "code",
    "id": "RTQPGM_kEC77",
    "outputId": "4ca2713a-0a78-4d99-f794-a441601375bb"
   },
   "outputs": [
    {
     "data": {
      "text/plain": [
       "<matplotlib.axes._subplots.AxesSubplot at 0x7f8656a4e780>"
      ]
     },
     "execution_count": 43,
     "metadata": {
      "tags": []
     },
     "output_type": "execute_result"
    },
    {
     "data": {
      "image/png": "[encoded data removed]",
      "text/plain": [
       "<Figure size 432x288 with 1 Axes>"
      ]
     },
     "metadata": {
      "tags": []
     },
     "output_type": "display_data"
    }
   ],
   "source": [
    "### Store Size vs Sales\n",
    "\n",
    "train.plot(kind='line', y='Weekly_Sales', x='Store', alpha=0.5)"
   ]
  },
  {
   "cell_type": "code",
   "execution_count": 44,
   "metadata": {
    "colab": {
     "base_uri": "https://localhost:8080/",
     "height": 305
    },
    "colab_type": "code",
    "id": "eQMSw5rQEC8G",
    "outputId": "d75b13b1-cd79-4e6a-94b4-1e3661372fe5"
   },
   "outputs": [
    {
     "data": {
      "text/plain": [
       "<matplotlib.axes._subplots.AxesSubplot at 0x7f86569a8710>"
      ]
     },
     "execution_count": 44,
     "metadata": {
      "tags": []
     },
     "output_type": "execute_result"
    },
    {
     "data": {
      "image/png": "[encoded data removed]",
      "text/plain": [
       "<Figure size 432x288 with 1 Axes>"
      ]
     },
     "metadata": {
      "tags": []
     },
     "output_type": "display_data"
    }
   ],
   "source": [
    "## Sales vs Type \n",
    "\n",
    "#tips = sns.load_dataset('train')\n",
    "sns.barplot(y=train[\"Weekly_Sales\"],x=train[\"Type\"])"
   ]
  },
  {
   "cell_type": "code",
   "execution_count": 0,
   "metadata": {
    "colab": {},
    "colab_type": "code",
    "id": "vby93eOnEC8O"
   },
   "outputs": [],
   "source": [
    "###Sales vs Deptartment\n",
    "\n",
    "# train.plot(kind='line', x='Dept', y='Weekly_Sales', alpha=1.5)"
   ]
  },
  {
   "cell_type": "code",
   "execution_count": 48,
   "metadata": {
    "colab": {
     "base_uri": "https://localhost:8080/",
     "height": 306
    },
    "colab_type": "code",
    "id": "NopI5YGIEC8V",
    "outputId": "136188e5-e7a0-44ad-fc15-b474c52185ee"
   },
   "outputs": [
    {
     "data": {
      "text/plain": [
       "<matplotlib.axes._subplots.AxesSubplot at 0x7f86567062b0>"
      ]
     },
     "execution_count": 48,
     "metadata": {
      "tags": []
     },
     "output_type": "execute_result"
    },
    {
     "data": {
      "image/png": "[encoded data removed]",
      "text/plain": [
       "<Figure size 432x288 with 1 Axes>"
      ]
     },
     "metadata": {
      "tags": []
     },
     "output_type": "display_data"
    }
   ],
   "source": [
    "## 'Y' should be normal.\n",
    "sns.distplot(train.Weekly_Sales)"
   ]
  },
  {
   "cell_type": "code",
   "execution_count": 49,
   "metadata": {
    "colab": {
     "base_uri": "https://localhost:8080/",
     "height": 298
    },
    "colab_type": "code",
    "id": "cd8Ev8JBEC8d",
    "outputId": "f114aa8b-c864-4209-9b1d-66fc905b3096"
   },
   "outputs": [
    {
     "data": {
      "image/png": "[encoded data removed]",
      "text/plain": [
       "<Figure size 432x288 with 1 Axes>"
      ]
     },
     "metadata": {
      "tags": []
     },
     "output_type": "display_data"
    }
   ],
   "source": [
    "from scipy import stats\n",
    "import pylab\n",
    "\n",
    "stats.probplot(train.Weekly_Sales, dist=\"norm\", plot=pylab )\n",
    "pylab.show()"
   ]
  },
  {
   "cell_type": "markdown",
   "metadata": {
    "colab_type": "text",
    "id": "kkin0kC9EC8k"
   },
   "source": [
    "<h1 align='center'> <a>3.Treatment of Data</h1>"
   ]
  },
  {
   "cell_type": "code",
   "execution_count": 0,
   "metadata": {
    "colab": {},
    "colab_type": "code",
    "id": "ZJADDY37EC8n"
   },
   "outputs": [],
   "source": [
    "###Outlier Treatment\n",
    "train_conti_vars= train_conti_vars.apply(lambda x: x.clip(lower = x.dropna().quantile(0.01), upper = x.dropna().quantile(0.99)))\n",
    "\n",
    "test_conti_vars= test_conti_vars.apply(lambda x: x.clip(lower = x.dropna().quantile(0.01), upper = x.dropna().quantile(0.99)))"
   ]
  },
  {
   "cell_type": "code",
   "execution_count": 51,
   "metadata": {
    "colab": {
     "base_uri": "https://localhost:8080/",
     "height": 503
    },
    "colab_type": "code",
    "id": "aQUNdiqdEC8y",
    "outputId": "f73b4383-58d1-4325-abbb-15b29f58511f"
   },
   "outputs": [
    {
     "data": {
      "text/html": [
       "<div>\n",
       "<style scoped>\n",
       "    .dataframe tbody tr th:only-of-type {\n",
       "        vertical-align: middle;\n",
       "    }\n",
       "\n",
       "    .dataframe tbody tr th {\n",
       "        vertical-align: top;\n",
       "    }\n",
       "\n",
       "    .dataframe thead th {\n",
       "        text-align: right;\n",
       "    }\n",
       "</style>\n",
       "<table border=\"1\" class=\"dataframe\">\n",
       "  <thead>\n",
       "    <tr style=\"text-align: right;\">\n",
       "      <th></th>\n",
       "      <th>N</th>\n",
       "      <th>NMISS</th>\n",
       "      <th>SUM</th>\n",
       "      <th>MEAN</th>\n",
       "      <th>MEDIAN</th>\n",
       "      <th>STD</th>\n",
       "      <th>VAR</th>\n",
       "      <th>MIN</th>\n",
       "      <th>P1</th>\n",
       "      <th>P5</th>\n",
       "      <th>P10</th>\n",
       "      <th>P25</th>\n",
       "      <th>P50</th>\n",
       "      <th>P75</th>\n",
       "      <th>P90</th>\n",
       "      <th>P95</th>\n",
       "      <th>P99</th>\n",
       "      <th>MAX</th>\n",
       "    </tr>\n",
       "  </thead>\n",
       "  <tbody>\n",
       "    <tr>\n",
       "      <th>IsHoliday</th>\n",
       "      <td>421570.0</td>\n",
       "      <td>0.0</td>\n",
       "      <td>2.966100e+04</td>\n",
       "      <td>0.0</td>\n",
       "      <td>0.0</td>\n",
       "      <td>0.0</td>\n",
       "      <td>0.000000e+00</td>\n",
       "      <td>0.0</td>\n",
       "      <td>0.0</td>\n",
       "      <td>0.0</td>\n",
       "      <td>0.0</td>\n",
       "      <td>0.0</td>\n",
       "      <td>0.0</td>\n",
       "      <td>0.0</td>\n",
       "      <td>0.0</td>\n",
       "      <td>1.0</td>\n",
       "      <td>1.0</td>\n",
       "      <td>1.0</td>\n",
       "    </tr>\n",
       "    <tr>\n",
       "      <th>Store</th>\n",
       "      <td>421570.0</td>\n",
       "      <td>0.0</td>\n",
       "      <td>9.359084e+06</td>\n",
       "      <td>22.0</td>\n",
       "      <td>22.0</td>\n",
       "      <td>13.0</td>\n",
       "      <td>1.630000e+02</td>\n",
       "      <td>1.0</td>\n",
       "      <td>1.0</td>\n",
       "      <td>3.0</td>\n",
       "      <td>5.0</td>\n",
       "      <td>11.0</td>\n",
       "      <td>22.0</td>\n",
       "      <td>33.0</td>\n",
       "      <td>40.0</td>\n",
       "      <td>43.0</td>\n",
       "      <td>45.0</td>\n",
       "      <td>45.0</td>\n",
       "    </tr>\n",
       "    <tr>\n",
       "      <th>Dept</th>\n",
       "      <td>421570.0</td>\n",
       "      <td>0.0</td>\n",
       "      <td>1.865796e+07</td>\n",
       "      <td>44.0</td>\n",
       "      <td>37.0</td>\n",
       "      <td>30.0</td>\n",
       "      <td>9.300000e+02</td>\n",
       "      <td>1.0</td>\n",
       "      <td>1.0</td>\n",
       "      <td>4.0</td>\n",
       "      <td>7.0</td>\n",
       "      <td>18.0</td>\n",
       "      <td>37.0</td>\n",
       "      <td>74.0</td>\n",
       "      <td>92.0</td>\n",
       "      <td>95.0</td>\n",
       "      <td>98.0</td>\n",
       "      <td>98.0</td>\n",
       "    </tr>\n",
       "    <tr>\n",
       "      <th>Size</th>\n",
       "      <td>421570.0</td>\n",
       "      <td>0.0</td>\n",
       "      <td>5.764039e+10</td>\n",
       "      <td>136728.0</td>\n",
       "      <td>140167.0</td>\n",
       "      <td>60981.0</td>\n",
       "      <td>3.718632e+09</td>\n",
       "      <td>34875.0</td>\n",
       "      <td>34875.0</td>\n",
       "      <td>39690.0</td>\n",
       "      <td>39910.0</td>\n",
       "      <td>93638.0</td>\n",
       "      <td>140167.0</td>\n",
       "      <td>202505.0</td>\n",
       "      <td>204184.0</td>\n",
       "      <td>206302.0</td>\n",
       "      <td>219622.0</td>\n",
       "      <td>219622.0</td>\n",
       "    </tr>\n",
       "    <tr>\n",
       "      <th>Temperature</th>\n",
       "      <td>421570.0</td>\n",
       "      <td>0.0</td>\n",
       "      <td>2.533977e+07</td>\n",
       "      <td>60.0</td>\n",
       "      <td>62.0</td>\n",
       "      <td>18.0</td>\n",
       "      <td>3.350000e+02</td>\n",
       "      <td>18.0</td>\n",
       "      <td>18.0</td>\n",
       "      <td>27.0</td>\n",
       "      <td>34.0</td>\n",
       "      <td>47.0</td>\n",
       "      <td>62.0</td>\n",
       "      <td>74.0</td>\n",
       "      <td>84.0</td>\n",
       "      <td>87.0</td>\n",
       "      <td>93.0</td>\n",
       "      <td>93.0</td>\n",
       "    </tr>\n",
       "    <tr>\n",
       "      <th>Fuel_Price</th>\n",
       "      <td>421570.0</td>\n",
       "      <td>0.0</td>\n",
       "      <td>1.416587e+06</td>\n",
       "      <td>3.0</td>\n",
       "      <td>3.0</td>\n",
       "      <td>0.0</td>\n",
       "      <td>0.000000e+00</td>\n",
       "      <td>3.0</td>\n",
       "      <td>3.0</td>\n",
       "      <td>3.0</td>\n",
       "      <td>3.0</td>\n",
       "      <td>3.0</td>\n",
       "      <td>3.0</td>\n",
       "      <td>4.0</td>\n",
       "      <td>4.0</td>\n",
       "      <td>4.0</td>\n",
       "      <td>4.0</td>\n",
       "      <td>4.0</td>\n",
       "    </tr>\n",
       "    <tr>\n",
       "      <th>MarkDown1</th>\n",
       "      <td>150681.0</td>\n",
       "      <td>270889.0</td>\n",
       "      <td>1.069989e+09</td>\n",
       "      <td>7101.0</td>\n",
       "      <td>5347.0</td>\n",
       "      <td>7421.0</td>\n",
       "      <td>5.507651e+07</td>\n",
       "      <td>18.0</td>\n",
       "      <td>18.0</td>\n",
       "      <td>149.0</td>\n",
       "      <td>375.0</td>\n",
       "      <td>2240.0</td>\n",
       "      <td>5347.0</td>\n",
       "      <td>9211.0</td>\n",
       "      <td>15282.0</td>\n",
       "      <td>21801.0</td>\n",
       "      <td>41524.0</td>\n",
       "      <td>41524.0</td>\n",
       "    </tr>\n",
       "    <tr>\n",
       "      <th>MarkDown2</th>\n",
       "      <td>111248.0</td>\n",
       "      <td>310322.0</td>\n",
       "      <td>3.498977e+08</td>\n",
       "      <td>3145.0</td>\n",
       "      <td>192.0</td>\n",
       "      <td>8060.0</td>\n",
       "      <td>6.495681e+07</td>\n",
       "      <td>-1.0</td>\n",
       "      <td>-1.0</td>\n",
       "      <td>2.0</td>\n",
       "      <td>7.0</td>\n",
       "      <td>42.0</td>\n",
       "      <td>192.0</td>\n",
       "      <td>1927.0</td>\n",
       "      <td>8550.0</td>\n",
       "      <td>16497.0</td>\n",
       "      <td>50367.0</td>\n",
       "      <td>50367.0</td>\n",
       "    </tr>\n",
       "    <tr>\n",
       "      <th>MarkDown3</th>\n",
       "      <td>137091.0</td>\n",
       "      <td>284479.0</td>\n",
       "      <td>1.690173e+08</td>\n",
       "      <td>1233.0</td>\n",
       "      <td>25.0</td>\n",
       "      <td>7697.0</td>\n",
       "      <td>5.924192e+07</td>\n",
       "      <td>0.0</td>\n",
       "      <td>0.0</td>\n",
       "      <td>1.0</td>\n",
       "      <td>2.0</td>\n",
       "      <td>5.0</td>\n",
       "      <td>25.0</td>\n",
       "      <td>104.0</td>\n",
       "      <td>400.0</td>\n",
       "      <td>1060.0</td>\n",
       "      <td>63143.0</td>\n",
       "      <td>63143.0</td>\n",
       "    </tr>\n",
       "    <tr>\n",
       "      <th>MarkDown4</th>\n",
       "      <td>134967.0</td>\n",
       "      <td>286603.0</td>\n",
       "      <td>4.408980e+08</td>\n",
       "      <td>3267.0</td>\n",
       "      <td>1481.0</td>\n",
       "      <td>5487.0</td>\n",
       "      <td>3.010277e+07</td>\n",
       "      <td>4.0</td>\n",
       "      <td>4.0</td>\n",
       "      <td>29.0</td>\n",
       "      <td>109.0</td>\n",
       "      <td>504.0</td>\n",
       "      <td>1481.0</td>\n",
       "      <td>3595.0</td>\n",
       "      <td>7871.0</td>\n",
       "      <td>12646.0</td>\n",
       "      <td>35785.0</td>\n",
       "      <td>35785.0</td>\n",
       "    </tr>\n",
       "    <tr>\n",
       "      <th>MarkDown5</th>\n",
       "      <td>151432.0</td>\n",
       "      <td>270138.0</td>\n",
       "      <td>6.733077e+08</td>\n",
       "      <td>4446.0</td>\n",
       "      <td>3359.0</td>\n",
       "      <td>4232.0</td>\n",
       "      <td>1.791161e+07</td>\n",
       "      <td>352.0</td>\n",
       "      <td>352.0</td>\n",
       "      <td>716.0</td>\n",
       "      <td>1071.0</td>\n",
       "      <td>1878.0</td>\n",
       "      <td>3359.0</td>\n",
       "      <td>5564.0</td>\n",
       "      <td>8338.0</td>\n",
       "      <td>11269.0</td>\n",
       "      <td>27754.0</td>\n",
       "      <td>27754.0</td>\n",
       "    </tr>\n",
       "    <tr>\n",
       "      <th>CPI</th>\n",
       "      <td>421570.0</td>\n",
       "      <td>0.0</td>\n",
       "      <td>7.217089e+07</td>\n",
       "      <td>171.0</td>\n",
       "      <td>182.0</td>\n",
       "      <td>39.0</td>\n",
       "      <td>1.533000e+03</td>\n",
       "      <td>126.0</td>\n",
       "      <td>126.0</td>\n",
       "      <td>126.0</td>\n",
       "      <td>129.0</td>\n",
       "      <td>132.0</td>\n",
       "      <td>182.0</td>\n",
       "      <td>212.0</td>\n",
       "      <td>219.0</td>\n",
       "      <td>222.0</td>\n",
       "      <td>225.0</td>\n",
       "      <td>225.0</td>\n",
       "    </tr>\n",
       "    <tr>\n",
       "      <th>Unemployment</th>\n",
       "      <td>421570.0</td>\n",
       "      <td>0.0</td>\n",
       "      <td>3.355685e+06</td>\n",
       "      <td>8.0</td>\n",
       "      <td>8.0</td>\n",
       "      <td>2.0</td>\n",
       "      <td>3.000000e+00</td>\n",
       "      <td>4.0</td>\n",
       "      <td>4.0</td>\n",
       "      <td>5.0</td>\n",
       "      <td>6.0</td>\n",
       "      <td>7.0</td>\n",
       "      <td>8.0</td>\n",
       "      <td>9.0</td>\n",
       "      <td>10.0</td>\n",
       "      <td>12.0</td>\n",
       "      <td>14.0</td>\n",
       "      <td>14.0</td>\n",
       "    </tr>\n",
       "    <tr>\n",
       "      <th>Weekly_Sales</th>\n",
       "      <td>421570.0</td>\n",
       "      <td>0.0</td>\n",
       "      <td>6.599483e+09</td>\n",
       "      <td>15655.0</td>\n",
       "      <td>7612.0</td>\n",
       "      <td>20782.0</td>\n",
       "      <td>4.318778e+08</td>\n",
       "      <td>5.0</td>\n",
       "      <td>5.0</td>\n",
       "      <td>60.0</td>\n",
       "      <td>291.0</td>\n",
       "      <td>2080.0</td>\n",
       "      <td>7612.0</td>\n",
       "      <td>20206.0</td>\n",
       "      <td>42846.0</td>\n",
       "      <td>61202.0</td>\n",
       "      <td>106478.0</td>\n",
       "      <td>106480.0</td>\n",
       "    </tr>\n",
       "  </tbody>\n",
       "</table>\n",
       "</div>"
      ],
      "text/plain": [
       "                     N     NMISS           SUM  ...       P95       P99       MAX\n",
       "IsHoliday     421570.0       0.0  2.966100e+04  ...       1.0       1.0       1.0\n",
       "Store         421570.0       0.0  9.359084e+06  ...      43.0      45.0      45.0\n",
       "Dept          421570.0       0.0  1.865796e+07  ...      95.0      98.0      98.0\n",
       "Size          421570.0       0.0  5.764039e+10  ...  206302.0  219622.0  219622.0\n",
       "Temperature   421570.0       0.0  2.533977e+07  ...      87.0      93.0      93.0\n",
       "Fuel_Price    421570.0       0.0  1.416587e+06  ...       4.0       4.0       4.0\n",
       "MarkDown1     150681.0  270889.0  1.069989e+09  ...   21801.0   41524.0   41524.0\n",
       "MarkDown2     111248.0  310322.0  3.498977e+08  ...   16497.0   50367.0   50367.0\n",
       "MarkDown3     137091.0  284479.0  1.690173e+08  ...    1060.0   63143.0   63143.0\n",
       "MarkDown4     134967.0  286603.0  4.408980e+08  ...   12646.0   35785.0   35785.0\n",
       "MarkDown5     151432.0  270138.0  6.733077e+08  ...   11269.0   27754.0   27754.0\n",
       "CPI           421570.0       0.0  7.217089e+07  ...     222.0     225.0     225.0\n",
       "Unemployment  421570.0       0.0  3.355685e+06  ...      12.0      14.0      14.0\n",
       "Weekly_Sales  421570.0       0.0  6.599483e+09  ...   61202.0  106478.0  106480.0\n",
       "\n",
       "[14 rows x 18 columns]"
      ]
     },
     "execution_count": 51,
     "metadata": {
      "tags": []
     },
     "output_type": "execute_result"
    }
   ],
   "source": [
    "train_conti_vars.apply(continuous_var_summary).T.round()"
   ]
  },
  {
   "cell_type": "code",
   "execution_count": 52,
   "metadata": {
    "colab": {
     "base_uri": "https://localhost:8080/",
     "height": 472
    },
    "colab_type": "code",
    "id": "Lk5dMhWVEC87",
    "outputId": "1c820bf6-2a49-42e9-b498-f32c4a5a7b10"
   },
   "outputs": [
    {
     "data": {
      "text/html": [
       "<div>\n",
       "<style scoped>\n",
       "    .dataframe tbody tr th:only-of-type {\n",
       "        vertical-align: middle;\n",
       "    }\n",
       "\n",
       "    .dataframe tbody tr th {\n",
       "        vertical-align: top;\n",
       "    }\n",
       "\n",
       "    .dataframe thead th {\n",
       "        text-align: right;\n",
       "    }\n",
       "</style>\n",
       "<table border=\"1\" class=\"dataframe\">\n",
       "  <thead>\n",
       "    <tr style=\"text-align: right;\">\n",
       "      <th></th>\n",
       "      <th>N</th>\n",
       "      <th>NMISS</th>\n",
       "      <th>SUM</th>\n",
       "      <th>MEAN</th>\n",
       "      <th>MEDIAN</th>\n",
       "      <th>STD</th>\n",
       "      <th>VAR</th>\n",
       "      <th>MIN</th>\n",
       "      <th>P1</th>\n",
       "      <th>P5</th>\n",
       "      <th>P10</th>\n",
       "      <th>P25</th>\n",
       "      <th>P50</th>\n",
       "      <th>P75</th>\n",
       "      <th>P90</th>\n",
       "      <th>P95</th>\n",
       "      <th>P99</th>\n",
       "      <th>MAX</th>\n",
       "    </tr>\n",
       "  </thead>\n",
       "  <tbody>\n",
       "    <tr>\n",
       "      <th>IsHoliday</th>\n",
       "      <td>115064.0</td>\n",
       "      <td>0.0</td>\n",
       "      <td>8.928000e+03</td>\n",
       "      <td>0.0</td>\n",
       "      <td>0.0</td>\n",
       "      <td>0.0</td>\n",
       "      <td>0.000000e+00</td>\n",
       "      <td>0.0</td>\n",
       "      <td>0.0</td>\n",
       "      <td>0.0</td>\n",
       "      <td>0.0</td>\n",
       "      <td>0.0</td>\n",
       "      <td>0.0</td>\n",
       "      <td>0.0</td>\n",
       "      <td>0.0</td>\n",
       "      <td>1.0</td>\n",
       "      <td>1.0</td>\n",
       "      <td>1.0</td>\n",
       "    </tr>\n",
       "    <tr>\n",
       "      <th>Store</th>\n",
       "      <td>115064.0</td>\n",
       "      <td>0.0</td>\n",
       "      <td>2.558817e+06</td>\n",
       "      <td>22.0</td>\n",
       "      <td>22.0</td>\n",
       "      <td>13.0</td>\n",
       "      <td>1.640000e+02</td>\n",
       "      <td>1.0</td>\n",
       "      <td>1.0</td>\n",
       "      <td>3.0</td>\n",
       "      <td>5.0</td>\n",
       "      <td>11.0</td>\n",
       "      <td>22.0</td>\n",
       "      <td>33.0</td>\n",
       "      <td>40.0</td>\n",
       "      <td>43.0</td>\n",
       "      <td>45.0</td>\n",
       "      <td>45.0</td>\n",
       "    </tr>\n",
       "    <tr>\n",
       "      <th>Dept</th>\n",
       "      <td>115064.0</td>\n",
       "      <td>0.0</td>\n",
       "      <td>5.101270e+06</td>\n",
       "      <td>44.0</td>\n",
       "      <td>37.0</td>\n",
       "      <td>31.0</td>\n",
       "      <td>9.390000e+02</td>\n",
       "      <td>1.0</td>\n",
       "      <td>1.0</td>\n",
       "      <td>4.0</td>\n",
       "      <td>7.0</td>\n",
       "      <td>18.0</td>\n",
       "      <td>37.0</td>\n",
       "      <td>74.0</td>\n",
       "      <td>92.0</td>\n",
       "      <td>95.0</td>\n",
       "      <td>98.0</td>\n",
       "      <td>98.0</td>\n",
       "    </tr>\n",
       "    <tr>\n",
       "      <th>Size</th>\n",
       "      <td>115064.0</td>\n",
       "      <td>0.0</td>\n",
       "      <td>1.570597e+10</td>\n",
       "      <td>136498.0</td>\n",
       "      <td>140167.0</td>\n",
       "      <td>61107.0</td>\n",
       "      <td>3.734056e+09</td>\n",
       "      <td>34875.0</td>\n",
       "      <td>34875.0</td>\n",
       "      <td>39690.0</td>\n",
       "      <td>39910.0</td>\n",
       "      <td>93638.0</td>\n",
       "      <td>140167.0</td>\n",
       "      <td>202505.0</td>\n",
       "      <td>204184.0</td>\n",
       "      <td>206302.0</td>\n",
       "      <td>219622.0</td>\n",
       "      <td>219622.0</td>\n",
       "    </tr>\n",
       "    <tr>\n",
       "      <th>Temperature</th>\n",
       "      <td>115064.0</td>\n",
       "      <td>0.0</td>\n",
       "      <td>6.210784e+06</td>\n",
       "      <td>54.0</td>\n",
       "      <td>54.0</td>\n",
       "      <td>18.0</td>\n",
       "      <td>3.420000e+02</td>\n",
       "      <td>11.0</td>\n",
       "      <td>11.0</td>\n",
       "      <td>24.0</td>\n",
       "      <td>30.0</td>\n",
       "      <td>40.0</td>\n",
       "      <td>54.0</td>\n",
       "      <td>67.0</td>\n",
       "      <td>79.0</td>\n",
       "      <td>84.0</td>\n",
       "      <td>92.0</td>\n",
       "      <td>92.0</td>\n",
       "    </tr>\n",
       "    <tr>\n",
       "      <th>Fuel_Price</th>\n",
       "      <td>115064.0</td>\n",
       "      <td>0.0</td>\n",
       "      <td>4.121380e+05</td>\n",
       "      <td>4.0</td>\n",
       "      <td>4.0</td>\n",
       "      <td>0.0</td>\n",
       "      <td>0.000000e+00</td>\n",
       "      <td>3.0</td>\n",
       "      <td>3.0</td>\n",
       "      <td>3.0</td>\n",
       "      <td>3.0</td>\n",
       "      <td>3.0</td>\n",
       "      <td>4.0</td>\n",
       "      <td>4.0</td>\n",
       "      <td>4.0</td>\n",
       "      <td>4.0</td>\n",
       "      <td>4.0</td>\n",
       "      <td>4.0</td>\n",
       "    </tr>\n",
       "    <tr>\n",
       "      <th>MarkDown1</th>\n",
       "      <td>114915.0</td>\n",
       "      <td>149.0</td>\n",
       "      <td>8.708615e+08</td>\n",
       "      <td>7578.0</td>\n",
       "      <td>4842.0</td>\n",
       "      <td>9947.0</td>\n",
       "      <td>9.894828e+07</td>\n",
       "      <td>21.0</td>\n",
       "      <td>21.0</td>\n",
       "      <td>189.0</td>\n",
       "      <td>458.0</td>\n",
       "      <td>1966.0</td>\n",
       "      <td>4842.0</td>\n",
       "      <td>9439.0</td>\n",
       "      <td>15325.0</td>\n",
       "      <td>23141.0</td>\n",
       "      <td>65758.0</td>\n",
       "      <td>65758.0</td>\n",
       "    </tr>\n",
       "    <tr>\n",
       "      <th>MarkDown2</th>\n",
       "      <td>86437.0</td>\n",
       "      <td>28627.0</td>\n",
       "      <td>3.150426e+08</td>\n",
       "      <td>3645.0</td>\n",
       "      <td>743.0</td>\n",
       "      <td>7806.0</td>\n",
       "      <td>6.093963e+07</td>\n",
       "      <td>0.0</td>\n",
       "      <td>0.0</td>\n",
       "      <td>6.0</td>\n",
       "      <td>26.0</td>\n",
       "      <td>180.0</td>\n",
       "      <td>743.0</td>\n",
       "      <td>2736.0</td>\n",
       "      <td>9277.0</td>\n",
       "      <td>22672.0</td>\n",
       "      <td>42920.0</td>\n",
       "      <td>42920.0</td>\n",
       "    </tr>\n",
       "    <tr>\n",
       "      <th>MarkDown3</th>\n",
       "      <td>105235.0</td>\n",
       "      <td>9829.0</td>\n",
       "      <td>2.260320e+08</td>\n",
       "      <td>2148.0</td>\n",
       "      <td>78.0</td>\n",
       "      <td>11663.0</td>\n",
       "      <td>1.360269e+08</td>\n",
       "      <td>0.0</td>\n",
       "      <td>0.0</td>\n",
       "      <td>1.0</td>\n",
       "      <td>3.0</td>\n",
       "      <td>15.0</td>\n",
       "      <td>78.0</td>\n",
       "      <td>273.0</td>\n",
       "      <td>699.0</td>\n",
       "      <td>2362.0</td>\n",
       "      <td>86477.0</td>\n",
       "      <td>86477.0</td>\n",
       "    </tr>\n",
       "    <tr>\n",
       "      <th>MarkDown4</th>\n",
       "      <td>102176.0</td>\n",
       "      <td>12888.0</td>\n",
       "      <td>3.338188e+08</td>\n",
       "      <td>3267.0</td>\n",
       "      <td>841.0</td>\n",
       "      <td>6975.0</td>\n",
       "      <td>4.865428e+07</td>\n",
       "      <td>3.0</td>\n",
       "      <td>3.0</td>\n",
       "      <td>17.0</td>\n",
       "      <td>37.0</td>\n",
       "      <td>155.0</td>\n",
       "      <td>841.0</td>\n",
       "      <td>3097.0</td>\n",
       "      <td>7674.0</td>\n",
       "      <td>14191.0</td>\n",
       "      <td>44739.0</td>\n",
       "      <td>44739.0</td>\n",
       "    </tr>\n",
       "    <tr>\n",
       "      <th>MarkDown5</th>\n",
       "      <td>115064.0</td>\n",
       "      <td>0.0</td>\n",
       "      <td>3.885614e+08</td>\n",
       "      <td>3377.0</td>\n",
       "      <td>2390.0</td>\n",
       "      <td>3230.0</td>\n",
       "      <td>1.043181e+07</td>\n",
       "      <td>269.0</td>\n",
       "      <td>269.0</td>\n",
       "      <td>541.0</td>\n",
       "      <td>771.0</td>\n",
       "      <td>1309.0</td>\n",
       "      <td>2390.0</td>\n",
       "      <td>4227.0</td>\n",
       "      <td>6966.0</td>\n",
       "      <td>9317.0</td>\n",
       "      <td>18599.0</td>\n",
       "      <td>18599.0</td>\n",
       "    </tr>\n",
       "    <tr>\n",
       "      <th>CPI</th>\n",
       "      <td>76902.0</td>\n",
       "      <td>38162.0</td>\n",
       "      <td>1.360864e+07</td>\n",
       "      <td>177.0</td>\n",
       "      <td>192.0</td>\n",
       "      <td>41.0</td>\n",
       "      <td>1.701000e+03</td>\n",
       "      <td>131.0</td>\n",
       "      <td>131.0</td>\n",
       "      <td>131.0</td>\n",
       "      <td>132.0</td>\n",
       "      <td>138.0</td>\n",
       "      <td>192.0</td>\n",
       "      <td>223.0</td>\n",
       "      <td>226.0</td>\n",
       "      <td>228.0</td>\n",
       "      <td>229.0</td>\n",
       "      <td>229.0</td>\n",
       "    </tr>\n",
       "    <tr>\n",
       "      <th>Unemployment</th>\n",
       "      <td>76902.0</td>\n",
       "      <td>38162.0</td>\n",
       "      <td>5.283280e+05</td>\n",
       "      <td>7.0</td>\n",
       "      <td>7.0</td>\n",
       "      <td>2.0</td>\n",
       "      <td>2.000000e+00</td>\n",
       "      <td>4.0</td>\n",
       "      <td>4.0</td>\n",
       "      <td>4.0</td>\n",
       "      <td>5.0</td>\n",
       "      <td>6.0</td>\n",
       "      <td>7.0</td>\n",
       "      <td>8.0</td>\n",
       "      <td>9.0</td>\n",
       "      <td>10.0</td>\n",
       "      <td>10.0</td>\n",
       "      <td>10.0</td>\n",
       "    </tr>\n",
       "  </tbody>\n",
       "</table>\n",
       "</div>"
      ],
      "text/plain": [
       "                     N    NMISS           SUM  ...       P95       P99       MAX\n",
       "IsHoliday     115064.0      0.0  8.928000e+03  ...       1.0       1.0       1.0\n",
       "Store         115064.0      0.0  2.558817e+06  ...      43.0      45.0      45.0\n",
       "Dept          115064.0      0.0  5.101270e+06  ...      95.0      98.0      98.0\n",
       "Size          115064.0      0.0  1.570597e+10  ...  206302.0  219622.0  219622.0\n",
       "Temperature   115064.0      0.0  6.210784e+06  ...      84.0      92.0      92.0\n",
       "Fuel_Price    115064.0      0.0  4.121380e+05  ...       4.0       4.0       4.0\n",
       "MarkDown1     114915.0    149.0  8.708615e+08  ...   23141.0   65758.0   65758.0\n",
       "MarkDown2      86437.0  28627.0  3.150426e+08  ...   22672.0   42920.0   42920.0\n",
       "MarkDown3     105235.0   9829.0  2.260320e+08  ...    2362.0   86477.0   86477.0\n",
       "MarkDown4     102176.0  12888.0  3.338188e+08  ...   14191.0   44739.0   44739.0\n",
       "MarkDown5     115064.0      0.0  3.885614e+08  ...    9317.0   18599.0   18599.0\n",
       "CPI            76902.0  38162.0  1.360864e+07  ...     228.0     229.0     229.0\n",
       "Unemployment   76902.0  38162.0  5.283280e+05  ...      10.0      10.0      10.0\n",
       "\n",
       "[13 rows x 18 columns]"
      ]
     },
     "execution_count": 52,
     "metadata": {
      "tags": []
     },
     "output_type": "execute_result"
    }
   ],
   "source": [
    "test_conti_vars.apply(continuous_var_summary).T.round()"
   ]
  },
  {
   "cell_type": "markdown",
   "metadata": {
    "colab_type": "text",
    "id": "G-ZItPpVEC9C"
   },
   "source": [
    "#### <a>MISSING IMPUTATION(Filling the missing values with appropriate value)"
   ]
  },
  {
   "cell_type": "code",
   "execution_count": 0,
   "metadata": {
    "colab": {},
    "colab_type": "code",
    "id": "vHZLXC1tEC9E"
   },
   "outputs": [],
   "source": [
    "#### Missing Imputing it with its mean-i.e-CPI & Unemployment.\n",
    "test_conti_vars=test_conti_vars.copy()\n",
    "test_conti_vars[['CPI','Unemployment']] = test_conti_vars[['CPI','Unemployment']].apply(missing_imputation)"
   ]
  },
  {
   "cell_type": "code",
   "execution_count": 54,
   "metadata": {
    "colab": {
     "base_uri": "https://localhost:8080/",
     "height": 255
    },
    "colab_type": "code",
    "id": "RD3uZYT1EC9M",
    "outputId": "61741765-0a74-48ac-e38a-d6616f6d1a59"
   },
   "outputs": [
    {
     "data": {
      "text/plain": [
       "IsHoliday           0\n",
       "Store               0\n",
       "Dept                0\n",
       "Size                0\n",
       "Temperature         0\n",
       "Fuel_Price          0\n",
       "MarkDown1         149\n",
       "MarkDown2       28627\n",
       "MarkDown3        9829\n",
       "MarkDown4       12888\n",
       "MarkDown5           0\n",
       "CPI                 0\n",
       "Unemployment        0\n",
       "dtype: int64"
      ]
     },
     "execution_count": 54,
     "metadata": {
      "tags": []
     },
     "output_type": "execute_result"
    }
   ],
   "source": [
    "test_conti_vars.isna().sum()"
   ]
  },
  {
   "cell_type": "code",
   "execution_count": 0,
   "metadata": {
    "colab": {},
    "colab_type": "code",
    "id": "3Qi-WZTLEC9U"
   },
   "outputs": [],
   "source": [
    "#### Missing Imputing the Markdown with zero.\n",
    "test_conti_vars = test_conti_vars.fillna(0)\n",
    "train_conti_vars  =train_conti_vars.fillna(0)"
   ]
  },
  {
   "cell_type": "code",
   "execution_count": 56,
   "metadata": {
    "colab": {
     "base_uri": "https://localhost:8080/",
     "height": 255
    },
    "colab_type": "code",
    "id": "rg_f3q-ZEC9b",
    "outputId": "3485fb9d-f901-4c08-e8bb-076c2d7f5624"
   },
   "outputs": [
    {
     "data": {
      "text/plain": [
       "IsHoliday       0\n",
       "Store           0\n",
       "Dept            0\n",
       "Size            0\n",
       "Temperature     0\n",
       "Fuel_Price      0\n",
       "MarkDown1       0\n",
       "MarkDown2       0\n",
       "MarkDown3       0\n",
       "MarkDown4       0\n",
       "MarkDown5       0\n",
       "CPI             0\n",
       "Unemployment    0\n",
       "dtype: int64"
      ]
     },
     "execution_count": 56,
     "metadata": {
      "tags": []
     },
     "output_type": "execute_result"
    }
   ],
   "source": [
    "test_conti_vars.isna().sum()"
   ]
  },
  {
   "cell_type": "code",
   "execution_count": 57,
   "metadata": {
    "colab": {
     "base_uri": "https://localhost:8080/",
     "height": 272
    },
    "colab_type": "code",
    "id": "Xm9rIYytEC9i",
    "outputId": "2bf67545-256f-443b-8384-21e93c5721b7"
   },
   "outputs": [
    {
     "data": {
      "text/plain": [
       "IsHoliday       0\n",
       "Store           0\n",
       "Dept            0\n",
       "Size            0\n",
       "Temperature     0\n",
       "Fuel_Price      0\n",
       "MarkDown1       0\n",
       "MarkDown2       0\n",
       "MarkDown3       0\n",
       "MarkDown4       0\n",
       "MarkDown5       0\n",
       "CPI             0\n",
       "Unemployment    0\n",
       "Weekly_Sales    0\n",
       "dtype: int64"
      ]
     },
     "execution_count": 57,
     "metadata": {
      "tags": []
     },
     "output_type": "execute_result"
    }
   ],
   "source": [
    "train_conti_vars.isna().sum()"
   ]
  },
  {
   "cell_type": "code",
   "execution_count": 0,
   "metadata": {
    "colab": {},
    "colab_type": "code",
    "id": "6-isl1k0EC9o"
   },
   "outputs": [],
   "source": [
    "from datetime import datetime  \n",
    "from datetime import timedelta\n",
    "\n",
    "\n",
    "train_date_vars=train_date_vars.copy()\n",
    "test_date_vars=test_date_vars.copy()\n",
    "\n",
    "##Finding dates in no. of weeks,months,years & days.\n",
    "\n",
    "train_date_vars['Date_Week']=train_date_vars.Date.dt.week\n",
    "train_date_vars['Date_Month'] =train_date_vars['Date'].dt.month \n",
    "train_date_vars['Date_Year'] =train_date_vars['Date'].dt.year\n",
    "train_date_vars['Date_Day'] =train_date_vars['Date'].dt.day \n",
    "\n",
    "test_date_vars['Date_Week']=test_date_vars.Date.dt.week\n",
    "test_date_vars['Date_Month'] =test_date_vars['Date'].dt.month \n",
    "test_date_vars['Date_Year'] =test_date_vars['Date'].dt.year\n",
    "test_date_vars['Date_Day'] =test_date_vars['Date'].dt.day\n",
    "\n",
    "# Making New Holiday-\n",
    "\n",
    "train_date_vars['Super_Bowl'] = np.where((train_date_vars['Date'] == datetime(2010, 2, 12)) | (train_date_vars['Date'] == datetime(2011, 2, 11)) | (train_date_vars['Date'] == datetime(2012, 2, 10)) | (train_date_vars['Date'] == datetime(2013, 2, 8)), 1, 0)\n",
    "train_date_vars['Labour_Day'] = np.where((train_date_vars['Date'] == datetime(2010, 9, 10)) | (train_date_vars['Date'] == datetime(2011, 9, 9)) | (train_date_vars['Date'] == datetime(2012, 9, 7)) | (train_date_vars['Date'] == datetime(2013, 9, 6)), 1, 0)\n",
    "train_date_vars['Thanks_giving'] = np.where((train_date_vars['Date'] == datetime(2010, 11, 26)) | (train_date_vars['Date'] == datetime(2011, 11, 25)) | (train_date_vars['Date'] == datetime(2012, 11, 23)) | (train_date_vars['Date'] == datetime(2013, 11, 29)), 1, 0)\n",
    "train_date_vars['Christmas'] = np.where((train_date_vars['Date'] == datetime(2010, 12, 31)) | (train_date_vars['Date'] == datetime(2011, 12, 30)) | (train_date_vars['Date'] == datetime(2012, 12, 28)) | (train_date_vars['Date'] == datetime(2013, 12, 27)), 1, 0)\n",
    "\n",
    "###########################\n",
    "\n",
    "test_date_vars['Super_Bowl'] = np.where((test_date_vars['Date'] == datetime(2010, 2, 12)) | (test_date_vars['Date'] == datetime(2011, 2, 11)) | (test_date_vars['Date'] == datetime(2012, 2, 10)) | (test_date_vars['Date'] == datetime(2013, 2, 8)), 1, 0)\n",
    "test_date_vars['Labour_Day'] = np.where((test_date_vars['Date'] == datetime(2010, 9, 10)) | (test_date_vars['Date'] == datetime(2011, 9, 9)) | (test_date_vars['Date'] == datetime(2012, 9, 7)) | (test_date_vars['Date'] == datetime(2013, 9, 6)), 1, 0)\n",
    "test_date_vars['Thanks_giving'] = np.where((test_date_vars['Date'] == datetime(2010, 11, 26)) | (test_date_vars['Date'] == datetime(2011, 11, 25)) | (test_date_vars['Date'] == datetime(2012, 11, 23)) | (test_date_vars['Date'] == datetime(2013, 11, 29)), 1, 0)\n",
    "test_date_vars['Christmas'] = np.where((test_date_vars['Date'] == datetime(2010, 12, 31)) | (test_date_vars['Date'] == datetime(2011, 12, 30)) | (test_date_vars['Date'] == datetime(2012, 12, 28)) | (test_date_vars['Date'] == datetime(2013, 12, 27)), 1, 0)\n",
    "\n"
   ]
  },
  {
   "cell_type": "code",
   "execution_count": 0,
   "metadata": {
    "colab": {},
    "colab_type": "code",
    "id": "yIXm9Mq-EC90"
   },
   "outputs": [],
   "source": [
    "# Getting one final consolidated table to build our model on\n",
    "\n",
    "train_final = pd.concat([train_date_vars, train_cat_vars,train_conti_vars], axis = 1)\n",
    "\n",
    "test_final = pd.concat([test_date_vars, test_cat_vars,test_conti_vars], axis = 1)"
   ]
  },
  {
   "cell_type": "code",
   "execution_count": 0,
   "metadata": {
    "colab": {},
    "colab_type": "code",
    "id": "gfhL4KqGEC9-"
   },
   "outputs": [],
   "source": [
    "## Altering the isHoliday value depending on these new holidays...\n",
    "train_final['IsHoliday']=train_final['IsHoliday']|train_final['Super_Bowl']|train_final['Labour_Day']|train_final['Thanks_giving']|train_final['Christmas']\n",
    "\n",
    "test_final['IsHoliday']=test_final['IsHoliday']|test_final['Super_Bowl']|test_final['Labour_Day']|test_final['Thanks_giving']|test_final['Christmas']\n",
    "\n",
    "# Since we have Imputed IsHoliday according to Extra holidays-\n",
    "\n",
    "## These extra holiday variable has redundant-\n",
    "# Droping the Extra holiday variables because its redundant-\n",
    "dp=['Super_Bowl','Labour_Day','Thanks_giving','Christmas']\n",
    "train_final.drop(dp,axis=1,inplace=True)\n",
    "test_final.drop(dp,axis=1,inplace=True)"
   ]
  },
  {
   "cell_type": "code",
   "execution_count": 0,
   "metadata": {
    "colab": {},
    "colab_type": "code",
    "id": "an6CV0k6EC-G"
   },
   "outputs": [],
   "source": [
    "train_final[[ 'Temperature', 'Fuel_Price','MarkDown1', 'MarkDown2', 'MarkDown3', 'MarkDown4', 'MarkDown5', 'CPI',\n",
    "       'Unemployment', 'Weekly_Sales']]=train_final[['Temperature', 'Fuel_Price','MarkDown1', 'MarkDown2', 'MarkDown3', 'MarkDown4', 'MarkDown5', 'CPI',\n",
    "       'Unemployment', 'Weekly_Sales']].astype('int64')\n",
    "\n",
    "test_final[[ 'Temperature', 'Fuel_Price','MarkDown1', 'MarkDown2', 'MarkDown3', 'MarkDown4', 'MarkDown5', 'CPI',\n",
    "       'Unemployment']]=test_final[[ 'Temperature', 'Fuel_Price','MarkDown1', 'MarkDown2', 'MarkDown3', 'MarkDown4', 'MarkDown5', 'CPI',\n",
    "       'Unemployment']].astype('int64')"
   ]
  },
  {
   "cell_type": "code",
   "execution_count": 62,
   "metadata": {
    "colab": {
     "base_uri": "https://localhost:8080/",
     "height": 442
    },
    "colab_type": "code",
    "id": "OVQbLfDMEC-O",
    "outputId": "c8c59421-6dcc-431b-f263-563bf58fbc5c"
   },
   "outputs": [
    {
     "name": "stdout",
     "output_type": "stream",
     "text": [
      "<class 'pandas.core.frame.DataFrame'>\n",
      "Int64Index: 421570 entries, 0 to 421569\n",
      "Data columns (total 20 columns):\n",
      "Date            421570 non-null datetime64[ns]\n",
      "Date_Week       421570 non-null int64\n",
      "Date_Month      421570 non-null int64\n",
      "Date_Year       421570 non-null int64\n",
      "Date_Day        421570 non-null int64\n",
      "Type            421570 non-null object\n",
      "IsHoliday       421570 non-null int64\n",
      "Store           421570 non-null int64\n",
      "Dept            421570 non-null int64\n",
      "Size            421570 non-null int64\n",
      "Temperature     421570 non-null int64\n",
      "Fuel_Price      421570 non-null int64\n",
      "MarkDown1       421570 non-null int64\n",
      "MarkDown2       421570 non-null int64\n",
      "MarkDown3       421570 non-null int64\n",
      "MarkDown4       421570 non-null int64\n",
      "MarkDown5       421570 non-null int64\n",
      "CPI             421570 non-null int64\n",
      "Unemployment    421570 non-null int64\n",
      "Weekly_Sales    421570 non-null int64\n",
      "dtypes: datetime64[ns](1), int64(18), object(1)\n",
      "memory usage: 67.5+ MB\n"
     ]
    }
   ],
   "source": [
    "train_final.info()"
   ]
  },
  {
   "cell_type": "code",
   "execution_count": 63,
   "metadata": {
    "colab": {
     "base_uri": "https://localhost:8080/",
     "height": 425
    },
    "colab_type": "code",
    "id": "wsyttzTyEC-U",
    "outputId": "152c250b-399e-491d-daf9-db74e841c136"
   },
   "outputs": [
    {
     "name": "stdout",
     "output_type": "stream",
     "text": [
      "<class 'pandas.core.frame.DataFrame'>\n",
      "Int64Index: 115064 entries, 0 to 115063\n",
      "Data columns (total 19 columns):\n",
      "Date            115064 non-null datetime64[ns]\n",
      "Date_Week       115064 non-null int64\n",
      "Date_Month      115064 non-null int64\n",
      "Date_Year       115064 non-null int64\n",
      "Date_Day        115064 non-null int64\n",
      "Type            115064 non-null object\n",
      "IsHoliday       115064 non-null int64\n",
      "Store           115064 non-null int64\n",
      "Dept            115064 non-null int64\n",
      "Size            115064 non-null int64\n",
      "Temperature     115064 non-null int64\n",
      "Fuel_Price      115064 non-null int64\n",
      "MarkDown1       115064 non-null int64\n",
      "MarkDown2       115064 non-null int64\n",
      "MarkDown3       115064 non-null int64\n",
      "MarkDown4       115064 non-null int64\n",
      "MarkDown5       115064 non-null int64\n",
      "CPI             115064 non-null int64\n",
      "Unemployment    115064 non-null int64\n",
      "dtypes: datetime64[ns](1), int64(17), object(1)\n",
      "memory usage: 17.6+ MB\n"
     ]
    }
   ],
   "source": [
    "test_final.info()"
   ]
  },
  {
   "cell_type": "markdown",
   "metadata": {
    "colab_type": "text",
    "id": "ObpT2NDfEC-c"
   },
   "source": [
    "#### Dummy Variables-\n",
    "    I have tried alot but error is showing after concatenating the dummy variable,\n",
    "    The memory based error hindered my further approach as well as my system is 32 bit operating.\n",
    "    Hence I have changed the process and without making dummies proceeding further.Please accept it. \n"
   ]
  },
  {
   "cell_type": "code",
   "execution_count": 0,
   "metadata": {
    "colab": {},
    "colab_type": "code",
    "id": "yqy_1ROmEC-g"
   },
   "outputs": [],
   "source": [
    "dummy_1 = ['Type','Store', 'Dept']\n",
    "dummy_2 = ['Type','Store', 'Dept']\n",
    "dummy_11 = train_final[dummy_1].astype('category')\n",
    "dummy_22 = test_final[dummy_2].astype('category')\n",
    "\n",
    "\n",
    "df=pd.get_dummies(dummy_11,drop_first=True)  \n",
    "df_2=pd.get_dummies(dummy_22,drop_first=True)  \n",
    "train_final= train_final.drop(columns = ['Type','Store', 'Dept'])\n",
    "test_final= test_final.drop(columns = ['Type','Store', 'Dept'])\n",
    "\n",
    "# Getting one final consolidated table to build our model on\n",
    "train_final = pd.concat([train_final,df], axis = 1)\n",
    "test_final = pd.concat([test_final,df_2], axis = 1)"
   ]
  },
  {
   "cell_type": "code",
   "execution_count": 0,
   "metadata": {
    "colab": {},
    "colab_type": "code",
    "id": "kq8QY6WPEOki"
   },
   "outputs": [],
   "source": [
    "#Converting Categorical Variable 'Type' into Numerical Variable¶\n",
    "# For A=1 , B=2, C=3"
   ]
  },
  {
   "cell_type": "code",
   "execution_count": 0,
   "metadata": {
    "colab": {},
    "colab_type": "code",
    "id": "IneSyKI8EOck"
   },
   "outputs": [],
   "source": [
    "# train_final['Type'] = np.where((train_final['Type']=='A'),1,\n",
    "#                         np.where((train_final['Type']=='B'),2,\n",
    "#                             np.where((train_final['Type']=='C'),3,0))).astype('int64')\n",
    "# test_final['Type'] = np.where((test_final['Type']=='A'),1,\n",
    "#                         np.where((test_final['Type']=='B'),2,\n",
    "#                             np.where((test_final['Type']=='C'),3,0))).astype('int64')"
   ]
  },
  {
   "cell_type": "code",
   "execution_count": 67,
   "metadata": {
    "colab": {
     "base_uri": "https://localhost:8080/",
     "height": 290
    },
    "colab_type": "code",
    "id": "UkCSTr6zEN4Y",
    "outputId": "78a8e21e-b166-45fa-ad1d-df6f4cc86a43"
   },
   "outputs": [
    {
     "data": {
      "text/plain": [
       "<matplotlib.axes._subplots.AxesSubplot at 0x7f8656473550>"
      ]
     },
     "execution_count": 67,
     "metadata": {
      "tags": []
     },
     "output_type": "execute_result"
    },
    {
     "data": {
      "image/png": "[encoded data removed]",
      "text/plain": [
       "<Figure size 432x288 with 1 Axes>"
      ]
     },
     "metadata": {
      "tags": []
     },
     "output_type": "display_data"
    }
   ],
   "source": [
    "train_final.Weekly_Sales.plot.hist(bins=25)"
   ]
  },
  {
   "cell_type": "code",
   "execution_count": 0,
   "metadata": {
    "colab": {},
    "colab_type": "code",
    "id": "JomVhl84EvJd"
   },
   "outputs": [],
   "source": [
    "# train_final.Type.value_counts()"
   ]
  },
  {
   "cell_type": "code",
   "execution_count": 0,
   "metadata": {
    "colab": {},
    "colab_type": "code",
    "id": "dpkuvsNyEvBK"
   },
   "outputs": [],
   "source": [
    "# train_final.Type.value_counts()"
   ]
  },
  {
   "cell_type": "code",
   "execution_count": 71,
   "metadata": {
    "colab": {
     "base_uri": "https://localhost:8080/",
     "height": 68
    },
    "colab_type": "code",
    "id": "UUYiaOipEu0o",
    "outputId": "57988a3c-6c0c-4aa4-c677-1b2ecc670a4b"
   },
   "outputs": [
    {
     "data": {
      "text/plain": [
       "0    391909\n",
       "1     29661\n",
       "Name: IsHoliday, dtype: int64"
      ]
     },
     "execution_count": 71,
     "metadata": {
      "tags": []
     },
     "output_type": "execute_result"
    }
   ],
   "source": [
    "train_final.IsHoliday.value_counts()"
   ]
  },
  {
   "cell_type": "code",
   "execution_count": 72,
   "metadata": {
    "colab": {
     "base_uri": "https://localhost:8080/",
     "height": 68
    },
    "colab_type": "code",
    "id": "RoHRv9IpE4oF",
    "outputId": "938037b1-4cb0-4b85-d788-71005623c51a"
   },
   "outputs": [
    {
     "data": {
      "text/plain": [
       "0    391909\n",
       "1     29661\n",
       "Name: IsHoliday, dtype: int64"
      ]
     },
     "execution_count": 72,
     "metadata": {
      "tags": []
     },
     "output_type": "execute_result"
    }
   ],
   "source": [
    "train_final.IsHoliday.value_counts()"
   ]
  },
  {
   "cell_type": "code",
   "execution_count": 73,
   "metadata": {
    "colab": {
     "base_uri": "https://localhost:8080/",
     "height": 102
    },
    "colab_type": "code",
    "id": "-ZC8m8M-s19T",
    "outputId": "95a7b1a7-ed37-4d39-c4ba-32e7dafc812c"
   },
   "outputs": [
    {
     "name": "stdout",
     "output_type": "stream",
     "text": [
      "<class 'pandas.core.frame.DataFrame'>\n",
      "Int64Index: 421570 entries, 0 to 421569\n",
      "Columns: 142 entries, Date to Dept_98\n",
      "dtypes: datetime64[ns](1), int64(16), uint8(125)\n",
      "memory usage: 108.1 MB\n"
     ]
    }
   ],
   "source": [
    "train_final.info()"
   ]
  },
  {
   "cell_type": "code",
   "execution_count": 74,
   "metadata": {
    "colab": {
     "base_uri": "https://localhost:8080/",
     "height": 102
    },
    "colab_type": "code",
    "id": "UAwYp5evEC_G",
    "outputId": "38c81218-24ec-4bdd-ce5d-f2260695cb57"
   },
   "outputs": [
    {
     "name": "stdout",
     "output_type": "stream",
     "text": [
      "<class 'pandas.core.frame.DataFrame'>\n",
      "Int64Index: 115064 entries, 0 to 115063\n",
      "Columns: 141 entries, Date to Dept_98\n",
      "dtypes: datetime64[ns](1), int64(15), uint8(125)\n",
      "memory usage: 28.6 MB\n"
     ]
    }
   ],
   "source": [
    "test_final.info()"
   ]
  },
  {
   "cell_type": "code",
   "execution_count": 75,
   "metadata": {
    "colab": {
     "base_uri": "https://localhost:8080/",
     "height": 68
    },
    "colab_type": "code",
    "id": "98OLc7bNH4gY",
    "outputId": "f59c9d4a-1077-4693-949a-b8c43b3a3dcf"
   },
   "outputs": [
    {
     "data": {
      "text/plain": [
       "0    106136\n",
       "1      8928\n",
       "Name: IsHoliday, dtype: int64"
      ]
     },
     "execution_count": 75,
     "metadata": {
      "tags": []
     },
     "output_type": "execute_result"
    }
   ],
   "source": [
    "test_final.IsHoliday.value_counts()"
   ]
  },
  {
   "cell_type": "markdown",
   "metadata": {
    "colab_type": "text",
    "id": "yPIur4_IEC_u"
   },
   "source": [
    "### ASSUMPTIONS"
   ]
  },
  {
   "cell_type": "code",
   "execution_count": 76,
   "metadata": {
    "colab": {
     "base_uri": "https://localhost:8080/",
     "height": 306
    },
    "colab_type": "code",
    "id": "OGaTdJEREC_w",
    "outputId": "eb3ba584-3194-44d7-c358-ff7cfc0561ef"
   },
   "outputs": [
    {
     "data": {
      "text/plain": [
       "<matplotlib.axes._subplots.AxesSubplot at 0x7f8656368ac8>"
      ]
     },
     "execution_count": 76,
     "metadata": {
      "tags": []
     },
     "output_type": "execute_result"
    },
    {
     "data": {
      "image/png": "[encoded data removed]",
      "text/plain": [
       "<Figure size 432x288 with 1 Axes>"
      ]
     },
     "metadata": {
      "tags": []
     },
     "output_type": "display_data"
    }
   ],
   "source": [
    "# #Y SHOULD BE NORMAL\n",
    "\n",
    "sns.distplot(train_final.Weekly_Sales)\n",
    "# # To check whether Y normal or not we can plot a distance plot which gives me a histogram with a line."
   ]
  },
  {
   "cell_type": "code",
   "execution_count": 0,
   "metadata": {
    "colab": {},
    "colab_type": "code",
    "id": "OvYhT1EqEC_7"
   },
   "outputs": [],
   "source": [
    "# # Here i can clearly see that my Y variable i.e. dependent variable is not normally distributed.\n",
    "# # to make it normal i will take log of this\n",
    "\n",
    "train_final['ln_Weekly_Sales'] = np.log(train_final.Weekly_Sales)"
   ]
  },
  {
   "cell_type": "code",
   "execution_count": 78,
   "metadata": {
    "colab": {
     "base_uri": "https://localhost:8080/",
     "height": 306
    },
    "colab_type": "code",
    "id": "qO015r-aEDAD",
    "outputId": "bcc211a2-1980-4c1a-a88e-15d5091409b6"
   },
   "outputs": [
    {
     "data": {
      "text/plain": [
       "<matplotlib.axes._subplots.AxesSubplot at 0x7f86563af4e0>"
      ]
     },
     "execution_count": 78,
     "metadata": {
      "tags": []
     },
     "output_type": "execute_result"
    },
    {
     "data": {
      "image/png": "[encoded data removed]",
      "text/plain": [
       "<Figure size 432x288 with 1 Axes>"
      ]
     },
     "metadata": {
      "tags": []
     },
     "output_type": "display_data"
    }
   ],
   "source": [
    "sns.distplot(train_final.ln_Weekly_Sales)"
   ]
  },
  {
   "cell_type": "code",
   "execution_count": 79,
   "metadata": {
    "colab": {
     "base_uri": "https://localhost:8080/",
     "height": 34
    },
    "colab_type": "code",
    "id": "SLU87gvyEDAJ",
    "outputId": "726defbc-a794-4c53-ac36-12bc122513c9"
   },
   "outputs": [
    {
     "data": {
      "text/plain": [
       "0"
      ]
     },
     "execution_count": 79,
     "metadata": {
      "tags": []
     },
     "output_type": "execute_result"
    }
   ],
   "source": [
    "train_final.ln_Weekly_Sales.isna().sum()\n",
    "# # There are no missing values in the y variable now"
   ]
  },
  {
   "cell_type": "code",
   "execution_count": 80,
   "metadata": {
    "colab": {
     "base_uri": "https://localhost:8080/",
     "height": 345
    },
    "colab_type": "code",
    "id": "dWkqivHgEDAX",
    "outputId": "57b69270-c345-42f6-f972-ede0dac9cbcd"
   },
   "outputs": [
    {
     "data": {
      "text/plain": [
       "<matplotlib.axes._subplots.AxesSubplot at 0x7f86561af630>"
      ]
     },
     "execution_count": 80,
     "metadata": {
      "tags": []
     },
     "output_type": "execute_result"
    },
    {
     "data": {
      "image/png": "[encoded data removed]",
      "text/plain": [
       "<Figure size 432x288 with 2 Axes>"
      ]
     },
     "metadata": {
      "tags": []
     },
     "output_type": "display_data"
    }
   ],
   "source": [
    "#train_final.corr()\n",
    "sns.heatmap(train_final.corr()[abs(train_final.corr())>0.5],annot=True)"
   ]
  },
  {
   "cell_type": "code",
   "execution_count": 81,
   "metadata": {
    "colab": {
     "base_uri": "https://localhost:8080/",
     "height": 345
    },
    "colab_type": "code",
    "id": "X66TJZYjEDAh",
    "outputId": "00dfdca5-243e-4fe3-b342-91bc4f8dd00e"
   },
   "outputs": [
    {
     "data": {
      "text/plain": [
       "<matplotlib.axes._subplots.AxesSubplot at 0x7f86564ee7b8>"
      ]
     },
     "execution_count": 81,
     "metadata": {
      "tags": []
     },
     "output_type": "execute_result"
    },
    {
     "data": {
      "image/png": "[encoded data removed]",
      "text/plain": [
       "<Figure size 432x288 with 2 Axes>"
      ]
     },
     "metadata": {
      "tags": []
     },
     "output_type": "display_data"
    }
   ],
   "source": [
    "#test_final.corr()\n",
    "sns.heatmap(test_final.corr()[abs(test_final.corr())>0.5],annot=True)"
   ]
  },
  {
   "cell_type": "code",
   "execution_count": 82,
   "metadata": {
    "colab": {
     "base_uri": "https://localhost:8080/",
     "height": 419
    },
    "colab_type": "code",
    "id": "F1YmUDL0S6sf",
    "outputId": "b16023ce-c8ee-4799-a8c6-194f22fe199c"
   },
   "outputs": [
    {
     "data": {
      "text/html": [
       "<div>\n",
       "<style scoped>\n",
       "    .dataframe tbody tr th:only-of-type {\n",
       "        vertical-align: middle;\n",
       "    }\n",
       "\n",
       "    .dataframe tbody tr th {\n",
       "        vertical-align: top;\n",
       "    }\n",
       "\n",
       "    .dataframe thead th {\n",
       "        text-align: right;\n",
       "    }\n",
       "</style>\n",
       "<table border=\"1\" class=\"dataframe\">\n",
       "  <thead>\n",
       "    <tr style=\"text-align: right;\">\n",
       "      <th></th>\n",
       "      <th>level_0</th>\n",
       "      <th>level_1</th>\n",
       "      <th>0</th>\n",
       "    </tr>\n",
       "  </thead>\n",
       "  <tbody>\n",
       "    <tr>\n",
       "      <th>0</th>\n",
       "      <td>Date_Week</td>\n",
       "      <td>Date_Week</td>\n",
       "      <td>1.000000</td>\n",
       "    </tr>\n",
       "    <tr>\n",
       "      <th>1</th>\n",
       "      <td>Date_Week</td>\n",
       "      <td>Date_Month</td>\n",
       "      <td>0.995999</td>\n",
       "    </tr>\n",
       "    <tr>\n",
       "      <th>2</th>\n",
       "      <td>Date_Week</td>\n",
       "      <td>Date_Year</td>\n",
       "      <td>NaN</td>\n",
       "    </tr>\n",
       "    <tr>\n",
       "      <th>3</th>\n",
       "      <td>Date_Week</td>\n",
       "      <td>Date_Day</td>\n",
       "      <td>NaN</td>\n",
       "    </tr>\n",
       "    <tr>\n",
       "      <th>4</th>\n",
       "      <td>Date_Week</td>\n",
       "      <td>IsHoliday</td>\n",
       "      <td>NaN</td>\n",
       "    </tr>\n",
       "    <tr>\n",
       "      <th>...</th>\n",
       "      <td>...</td>\n",
       "      <td>...</td>\n",
       "      <td>...</td>\n",
       "    </tr>\n",
       "    <tr>\n",
       "      <th>20159</th>\n",
       "      <td>ln_Weekly_Sales</td>\n",
       "      <td>Dept_95</td>\n",
       "      <td>NaN</td>\n",
       "    </tr>\n",
       "    <tr>\n",
       "      <th>20160</th>\n",
       "      <td>ln_Weekly_Sales</td>\n",
       "      <td>Dept_96</td>\n",
       "      <td>NaN</td>\n",
       "    </tr>\n",
       "    <tr>\n",
       "      <th>20161</th>\n",
       "      <td>ln_Weekly_Sales</td>\n",
       "      <td>Dept_97</td>\n",
       "      <td>NaN</td>\n",
       "    </tr>\n",
       "    <tr>\n",
       "      <th>20162</th>\n",
       "      <td>ln_Weekly_Sales</td>\n",
       "      <td>Dept_98</td>\n",
       "      <td>NaN</td>\n",
       "    </tr>\n",
       "    <tr>\n",
       "      <th>20163</th>\n",
       "      <td>ln_Weekly_Sales</td>\n",
       "      <td>ln_Weekly_Sales</td>\n",
       "      <td>1.000000</td>\n",
       "    </tr>\n",
       "  </tbody>\n",
       "</table>\n",
       "<p>20164 rows × 3 columns</p>\n",
       "</div>"
      ],
      "text/plain": [
       "               level_0          level_1         0\n",
       "0            Date_Week        Date_Week  1.000000\n",
       "1            Date_Week       Date_Month  0.995999\n",
       "2            Date_Week        Date_Year       NaN\n",
       "3            Date_Week         Date_Day       NaN\n",
       "4            Date_Week        IsHoliday       NaN\n",
       "...                ...              ...       ...\n",
       "20159  ln_Weekly_Sales          Dept_95       NaN\n",
       "20160  ln_Weekly_Sales          Dept_96       NaN\n",
       "20161  ln_Weekly_Sales          Dept_97       NaN\n",
       "20162  ln_Weekly_Sales          Dept_98       NaN\n",
       "20163  ln_Weekly_Sales  ln_Weekly_Sales  1.000000\n",
       "\n",
       "[20164 rows x 3 columns]"
      ]
     },
     "execution_count": 82,
     "metadata": {
      "tags": []
     },
     "output_type": "execute_result"
    }
   ],
   "source": [
    "cor=train_final.corr()[abs(train_final.corr())>0.5].unstack().reset_index()\n",
    "cor"
   ]
  },
  {
   "cell_type": "code",
   "execution_count": 83,
   "metadata": {
    "colab": {
     "base_uri": "https://localhost:8080/",
     "height": 419
    },
    "colab_type": "code",
    "id": "fV4U8L4qS7xp",
    "outputId": "06d49388-77cd-48b9-fd01-ace87244fbaa"
   },
   "outputs": [
    {
     "data": {
      "text/html": [
       "<div>\n",
       "<style scoped>\n",
       "    .dataframe tbody tr th:only-of-type {\n",
       "        vertical-align: middle;\n",
       "    }\n",
       "\n",
       "    .dataframe tbody tr th {\n",
       "        vertical-align: top;\n",
       "    }\n",
       "\n",
       "    .dataframe thead th {\n",
       "        text-align: right;\n",
       "    }\n",
       "</style>\n",
       "<table border=\"1\" class=\"dataframe\">\n",
       "  <thead>\n",
       "    <tr style=\"text-align: right;\">\n",
       "      <th></th>\n",
       "      <th>level_0</th>\n",
       "      <th>level_1</th>\n",
       "      <th>0</th>\n",
       "    </tr>\n",
       "  </thead>\n",
       "  <tbody>\n",
       "    <tr>\n",
       "      <th>1</th>\n",
       "      <td>Date_Week</td>\n",
       "      <td>Date_Month</td>\n",
       "      <td>0.995999</td>\n",
       "    </tr>\n",
       "    <tr>\n",
       "      <th>2</th>\n",
       "      <td>Date_Week</td>\n",
       "      <td>Date_Year</td>\n",
       "      <td>NaN</td>\n",
       "    </tr>\n",
       "    <tr>\n",
       "      <th>3</th>\n",
       "      <td>Date_Week</td>\n",
       "      <td>Date_Day</td>\n",
       "      <td>NaN</td>\n",
       "    </tr>\n",
       "    <tr>\n",
       "      <th>4</th>\n",
       "      <td>Date_Week</td>\n",
       "      <td>IsHoliday</td>\n",
       "      <td>NaN</td>\n",
       "    </tr>\n",
       "    <tr>\n",
       "      <th>5</th>\n",
       "      <td>Date_Week</td>\n",
       "      <td>Size</td>\n",
       "      <td>NaN</td>\n",
       "    </tr>\n",
       "    <tr>\n",
       "      <th>...</th>\n",
       "      <td>...</td>\n",
       "      <td>...</td>\n",
       "      <td>...</td>\n",
       "    </tr>\n",
       "    <tr>\n",
       "      <th>20158</th>\n",
       "      <td>ln_Weekly_Sales</td>\n",
       "      <td>Dept_94</td>\n",
       "      <td>NaN</td>\n",
       "    </tr>\n",
       "    <tr>\n",
       "      <th>20159</th>\n",
       "      <td>ln_Weekly_Sales</td>\n",
       "      <td>Dept_95</td>\n",
       "      <td>NaN</td>\n",
       "    </tr>\n",
       "    <tr>\n",
       "      <th>20160</th>\n",
       "      <td>ln_Weekly_Sales</td>\n",
       "      <td>Dept_96</td>\n",
       "      <td>NaN</td>\n",
       "    </tr>\n",
       "    <tr>\n",
       "      <th>20161</th>\n",
       "      <td>ln_Weekly_Sales</td>\n",
       "      <td>Dept_97</td>\n",
       "      <td>NaN</td>\n",
       "    </tr>\n",
       "    <tr>\n",
       "      <th>20162</th>\n",
       "      <td>ln_Weekly_Sales</td>\n",
       "      <td>Dept_98</td>\n",
       "      <td>NaN</td>\n",
       "    </tr>\n",
       "  </tbody>\n",
       "</table>\n",
       "<p>20022 rows × 3 columns</p>\n",
       "</div>"
      ],
      "text/plain": [
       "               level_0     level_1         0\n",
       "1            Date_Week  Date_Month  0.995999\n",
       "2            Date_Week   Date_Year       NaN\n",
       "3            Date_Week    Date_Day       NaN\n",
       "4            Date_Week   IsHoliday       NaN\n",
       "5            Date_Week        Size       NaN\n",
       "...                ...         ...       ...\n",
       "20158  ln_Weekly_Sales     Dept_94       NaN\n",
       "20159  ln_Weekly_Sales     Dept_95       NaN\n",
       "20160  ln_Weekly_Sales     Dept_96       NaN\n",
       "20161  ln_Weekly_Sales     Dept_97       NaN\n",
       "20162  ln_Weekly_Sales     Dept_98       NaN\n",
       "\n",
       "[20022 rows x 3 columns]"
      ]
     },
     "execution_count": 83,
     "metadata": {
      "tags": []
     },
     "output_type": "execute_result"
    }
   ],
   "source": [
    "cor_1=cor.loc[cor['level_0']!=cor['level_1']]\n",
    "cor_1"
   ]
  },
  {
   "cell_type": "code",
   "execution_count": 84,
   "metadata": {
    "colab": {
     "base_uri": "https://localhost:8080/",
     "height": 421
    },
    "colab_type": "code",
    "id": "KnbP1APFWrgF",
    "outputId": "1daa0ad2-7e62-4a45-9a1b-ea00440b2bbe"
   },
   "outputs": [
    {
     "data": {
      "text/html": [
       "<div>\n",
       "<style scoped>\n",
       "    .dataframe tbody tr th:only-of-type {\n",
       "        vertical-align: middle;\n",
       "    }\n",
       "\n",
       "    .dataframe tbody tr th {\n",
       "        vertical-align: top;\n",
       "    }\n",
       "\n",
       "    .dataframe thead th {\n",
       "        text-align: right;\n",
       "    }\n",
       "</style>\n",
       "<table border=\"1\" class=\"dataframe\">\n",
       "  <thead>\n",
       "    <tr style=\"text-align: right;\">\n",
       "      <th></th>\n",
       "      <th>level_0</th>\n",
       "      <th>level_1</th>\n",
       "      <th>0</th>\n",
       "    </tr>\n",
       "  </thead>\n",
       "  <tbody>\n",
       "    <tr>\n",
       "      <th>1</th>\n",
       "      <td>Date_Week</td>\n",
       "      <td>Date_Month</td>\n",
       "      <td>0.995999</td>\n",
       "    </tr>\n",
       "    <tr>\n",
       "      <th>142</th>\n",
       "      <td>Date_Month</td>\n",
       "      <td>Date_Week</td>\n",
       "      <td>0.995999</td>\n",
       "    </tr>\n",
       "    <tr>\n",
       "      <th>291</th>\n",
       "      <td>Date_Year</td>\n",
       "      <td>Fuel_Price</td>\n",
       "      <td>0.722214</td>\n",
       "    </tr>\n",
       "    <tr>\n",
       "      <th>292</th>\n",
       "      <td>Date_Year</td>\n",
       "      <td>MarkDown1</td>\n",
       "      <td>0.530269</td>\n",
       "    </tr>\n",
       "    <tr>\n",
       "      <th>996</th>\n",
       "      <td>Fuel_Price</td>\n",
       "      <td>Date_Year</td>\n",
       "      <td>0.722214</td>\n",
       "    </tr>\n",
       "    <tr>\n",
       "      <th>1138</th>\n",
       "      <td>MarkDown1</td>\n",
       "      <td>Date_Year</td>\n",
       "      <td>0.530269</td>\n",
       "    </tr>\n",
       "    <tr>\n",
       "      <th>1147</th>\n",
       "      <td>MarkDown1</td>\n",
       "      <td>MarkDown4</td>\n",
       "      <td>0.826712</td>\n",
       "    </tr>\n",
       "    <tr>\n",
       "      <th>1148</th>\n",
       "      <td>MarkDown1</td>\n",
       "      <td>MarkDown5</td>\n",
       "      <td>0.534392</td>\n",
       "    </tr>\n",
       "    <tr>\n",
       "      <th>1570</th>\n",
       "      <td>MarkDown4</td>\n",
       "      <td>MarkDown1</td>\n",
       "      <td>0.826712</td>\n",
       "    </tr>\n",
       "    <tr>\n",
       "      <th>1712</th>\n",
       "      <td>MarkDown5</td>\n",
       "      <td>MarkDown1</td>\n",
       "      <td>0.534392</td>\n",
       "    </tr>\n",
       "    <tr>\n",
       "      <th>2271</th>\n",
       "      <td>Weekly_Sales</td>\n",
       "      <td>ln_Weekly_Sales</td>\n",
       "      <td>0.675031</td>\n",
       "    </tr>\n",
       "    <tr>\n",
       "      <th>20037</th>\n",
       "      <td>ln_Weekly_Sales</td>\n",
       "      <td>Weekly_Sales</td>\n",
       "      <td>0.675031</td>\n",
       "    </tr>\n",
       "  </tbody>\n",
       "</table>\n",
       "</div>"
      ],
      "text/plain": [
       "               level_0          level_1         0\n",
       "1            Date_Week       Date_Month  0.995999\n",
       "142         Date_Month        Date_Week  0.995999\n",
       "291          Date_Year       Fuel_Price  0.722214\n",
       "292          Date_Year        MarkDown1  0.530269\n",
       "996         Fuel_Price        Date_Year  0.722214\n",
       "1138         MarkDown1        Date_Year  0.530269\n",
       "1147         MarkDown1        MarkDown4  0.826712\n",
       "1148         MarkDown1        MarkDown5  0.534392\n",
       "1570         MarkDown4        MarkDown1  0.826712\n",
       "1712         MarkDown5        MarkDown1  0.534392\n",
       "2271      Weekly_Sales  ln_Weekly_Sales  0.675031\n",
       "20037  ln_Weekly_Sales     Weekly_Sales  0.675031"
      ]
     },
     "execution_count": 84,
     "metadata": {
      "tags": []
     },
     "output_type": "execute_result"
    }
   ],
   "source": [
    "cor_2=cor_1.loc[cor_1[0]>0]\n",
    "cor_2"
   ]
  },
  {
   "cell_type": "code",
   "execution_count": 0,
   "metadata": {
    "colab": {},
    "colab_type": "code",
    "id": "hkQiHnvbWsAc"
   },
   "outputs": [],
   "source": []
  },
  {
   "cell_type": "code",
   "execution_count": 0,
   "metadata": {
    "colab": {},
    "colab_type": "code",
    "id": "gl6ZqGlBEDAs"
   },
   "outputs": [],
   "source": [
    "#### LINEAR REGRESSION MODEL"
   ]
  },
  {
   "cell_type": "code",
   "execution_count": 0,
   "metadata": {
    "colab": {},
    "colab_type": "code",
    "id": "iCYn4qLDEDA1"
   },
   "outputs": [],
   "source": [
    "# import statsmodels.api as sm\n",
    "# from sklearn import metrics\n",
    "# from sklearn.model_selection import train_test_split\n",
    "# from sklearn.linear_model import LinearRegression\n",
    "# from sklearn.ensemble import RandomForestRegressor\n",
    "# from sklearn.tree import DecisionTreeRegressor\n",
    "# from sklearn.ensemble import AdaBoostRegressor\n",
    "# from sklearn.ensemble import GradientBoostingRegressor\n",
    "# from sklearn.svm import SVC, LinearSVC\n",
    "# from sklearn.metrics import mean_squared_error as mse\n",
    "# from sklearn.metrics import mean_absolute_error, mean_squared_error"
   ]
  },
  {
   "cell_type": "code",
   "execution_count": 87,
   "metadata": {
    "colab": {
     "base_uri": "https://localhost:8080/",
     "height": 54
    },
    "colab_type": "code",
    "id": "1nkF8JjAt4OC",
    "outputId": "a1a8c944-d134-456e-97f9-7b29f7fae8e1"
   },
   "outputs": [
    {
     "name": "stdout",
     "output_type": "stream",
     "text": [
      "['Date', 'Date_Week', 'Date_Month', 'Date_Year', 'Date_Day', 'IsHoliday', 'Size', 'Temperature', 'Fuel_Price', 'MarkDown1', 'MarkDown2', 'MarkDown3', 'MarkDown4', 'MarkDown5', 'CPI', 'Unemployment', 'Weekly_Sales', 'Type_B', 'Type_C', 'Store_2', 'Store_3', 'Store_4', 'Store_5', 'Store_6', 'Store_7', 'Store_8', 'Store_9', 'Store_10', 'Store_11', 'Store_12', 'Store_13', 'Store_14', 'Store_15', 'Store_16', 'Store_17', 'Store_18', 'Store_19', 'Store_20', 'Store_21', 'Store_22', 'Store_23', 'Store_24', 'Store_25', 'Store_26', 'Store_27', 'Store_28', 'Store_29', 'Store_30', 'Store_31', 'Store_32', 'Store_33', 'Store_34', 'Store_35', 'Store_36', 'Store_37', 'Store_38', 'Store_39', 'Store_40', 'Store_41', 'Store_42', 'Store_43', 'Store_44', 'Store_45', 'Dept_2', 'Dept_3', 'Dept_4', 'Dept_5', 'Dept_6', 'Dept_7', 'Dept_8', 'Dept_9', 'Dept_10', 'Dept_11', 'Dept_12', 'Dept_13', 'Dept_14', 'Dept_16', 'Dept_17', 'Dept_18', 'Dept_19', 'Dept_20', 'Dept_21', 'Dept_22', 'Dept_23', 'Dept_24', 'Dept_25', 'Dept_26', 'Dept_27', 'Dept_28', 'Dept_29', 'Dept_30', 'Dept_31', 'Dept_32', 'Dept_33', 'Dept_34', 'Dept_35', 'Dept_36', 'Dept_37', 'Dept_38', 'Dept_39', 'Dept_40', 'Dept_41', 'Dept_42', 'Dept_43', 'Dept_44', 'Dept_45', 'Dept_46', 'Dept_47', 'Dept_48', 'Dept_49', 'Dept_50', 'Dept_51', 'Dept_52', 'Dept_54', 'Dept_55', 'Dept_56', 'Dept_58', 'Dept_59', 'Dept_60', 'Dept_65', 'Dept_67', 'Dept_71', 'Dept_72', 'Dept_74', 'Dept_77', 'Dept_78', 'Dept_79', 'Dept_80', 'Dept_81', 'Dept_82', 'Dept_83', 'Dept_85', 'Dept_87', 'Dept_90', 'Dept_91', 'Dept_92', 'Dept_93', 'Dept_94', 'Dept_95', 'Dept_96', 'Dept_97', 'Dept_98', 'ln_Weekly_Sales']\n"
     ]
    }
   ],
   "source": [
    "print(train_final.columns.to_list())"
   ]
  },
  {
   "cell_type": "code",
   "execution_count": 0,
   "metadata": {
    "colab": {},
    "colab_type": "code",
    "id": "mbEBPobYvIer"
   },
   "outputs": [],
   "source": [
    "'Type_C','Store_3','Store_5',"
   ]
  },
  {
   "cell_type": "code",
   "execution_count": 123,
   "metadata": {
    "colab": {
     "base_uri": "https://localhost:8080/",
     "height": 253
    },
    "colab_type": "code",
    "id": "m7sFcUl4EDA9",
    "outputId": "5cf8d321-2563-4ebf-db88-f7239e3a03ce"
   },
   "outputs": [
    {
     "data": {
      "text/html": [
       "<div>\n",
       "<style scoped>\n",
       "    .dataframe tbody tr th:only-of-type {\n",
       "        vertical-align: middle;\n",
       "    }\n",
       "\n",
       "    .dataframe tbody tr th {\n",
       "        vertical-align: top;\n",
       "    }\n",
       "\n",
       "    .dataframe thead th {\n",
       "        text-align: right;\n",
       "    }\n",
       "</style>\n",
       "<table border=\"1\" class=\"dataframe\">\n",
       "  <thead>\n",
       "    <tr style=\"text-align: right;\">\n",
       "      <th></th>\n",
       "      <th>Date_Month</th>\n",
       "      <th>Date_Year</th>\n",
       "      <th>Size</th>\n",
       "      <th>Temperature</th>\n",
       "      <th>MarkDown1</th>\n",
       "      <th>MarkDown2</th>\n",
       "      <th>MarkDown3</th>\n",
       "      <th>MarkDown5</th>\n",
       "      <th>CPI</th>\n",
       "      <th>Type_B</th>\n",
       "      <th>Store_2</th>\n",
       "      <th>Store_4</th>\n",
       "      <th>Store_6</th>\n",
       "      <th>Store_7</th>\n",
       "      <th>Store_8</th>\n",
       "      <th>Store_9</th>\n",
       "      <th>Store_11</th>\n",
       "      <th>Store_13</th>\n",
       "      <th>Store_14</th>\n",
       "      <th>Store_15</th>\n",
       "      <th>Store_16</th>\n",
       "      <th>Store_17</th>\n",
       "      <th>Store_18</th>\n",
       "      <th>Store_19</th>\n",
       "      <th>Store_20</th>\n",
       "      <th>Store_21</th>\n",
       "      <th>Store_22</th>\n",
       "      <th>Store_23</th>\n",
       "      <th>Store_24</th>\n",
       "      <th>Store_25</th>\n",
       "      <th>Store_27</th>\n",
       "      <th>Store_28</th>\n",
       "      <th>Store_29</th>\n",
       "      <th>Store_31</th>\n",
       "      <th>Store_32</th>\n",
       "      <th>Store_33</th>\n",
       "      <th>Store_34</th>\n",
       "      <th>Store_35</th>\n",
       "      <th>Store_36</th>\n",
       "      <th>Store_37</th>\n",
       "      <th>...</th>\n",
       "      <th>Dept_42</th>\n",
       "      <th>Dept_43</th>\n",
       "      <th>Dept_44</th>\n",
       "      <th>Dept_45</th>\n",
       "      <th>Dept_47</th>\n",
       "      <th>Dept_48</th>\n",
       "      <th>Dept_49</th>\n",
       "      <th>Dept_50</th>\n",
       "      <th>Dept_51</th>\n",
       "      <th>Dept_52</th>\n",
       "      <th>Dept_54</th>\n",
       "      <th>Dept_55</th>\n",
       "      <th>Dept_56</th>\n",
       "      <th>Dept_58</th>\n",
       "      <th>Dept_59</th>\n",
       "      <th>Dept_60</th>\n",
       "      <th>Dept_65</th>\n",
       "      <th>Dept_67</th>\n",
       "      <th>Dept_71</th>\n",
       "      <th>Dept_72</th>\n",
       "      <th>Dept_74</th>\n",
       "      <th>Dept_77</th>\n",
       "      <th>Dept_78</th>\n",
       "      <th>Dept_79</th>\n",
       "      <th>Dept_80</th>\n",
       "      <th>Dept_81</th>\n",
       "      <th>Dept_82</th>\n",
       "      <th>Dept_83</th>\n",
       "      <th>Dept_85</th>\n",
       "      <th>Dept_87</th>\n",
       "      <th>Dept_90</th>\n",
       "      <th>Dept_91</th>\n",
       "      <th>Dept_92</th>\n",
       "      <th>Dept_93</th>\n",
       "      <th>Dept_94</th>\n",
       "      <th>Dept_95</th>\n",
       "      <th>Dept_96</th>\n",
       "      <th>Dept_97</th>\n",
       "      <th>Dept_98</th>\n",
       "      <th>ln_Weekly_Sales</th>\n",
       "    </tr>\n",
       "  </thead>\n",
       "  <tbody>\n",
       "    <tr>\n",
       "      <th>0</th>\n",
       "      <td>2</td>\n",
       "      <td>2010</td>\n",
       "      <td>151315</td>\n",
       "      <td>42</td>\n",
       "      <td>0</td>\n",
       "      <td>0</td>\n",
       "      <td>0</td>\n",
       "      <td>0</td>\n",
       "      <td>211</td>\n",
       "      <td>0</td>\n",
       "      <td>0</td>\n",
       "      <td>0</td>\n",
       "      <td>0</td>\n",
       "      <td>0</td>\n",
       "      <td>0</td>\n",
       "      <td>0</td>\n",
       "      <td>0</td>\n",
       "      <td>0</td>\n",
       "      <td>0</td>\n",
       "      <td>0</td>\n",
       "      <td>0</td>\n",
       "      <td>0</td>\n",
       "      <td>0</td>\n",
       "      <td>0</td>\n",
       "      <td>0</td>\n",
       "      <td>0</td>\n",
       "      <td>0</td>\n",
       "      <td>0</td>\n",
       "      <td>0</td>\n",
       "      <td>0</td>\n",
       "      <td>0</td>\n",
       "      <td>0</td>\n",
       "      <td>0</td>\n",
       "      <td>0</td>\n",
       "      <td>0</td>\n",
       "      <td>0</td>\n",
       "      <td>0</td>\n",
       "      <td>0</td>\n",
       "      <td>0</td>\n",
       "      <td>0</td>\n",
       "      <td>...</td>\n",
       "      <td>0</td>\n",
       "      <td>0</td>\n",
       "      <td>0</td>\n",
       "      <td>0</td>\n",
       "      <td>0</td>\n",
       "      <td>0</td>\n",
       "      <td>0</td>\n",
       "      <td>0</td>\n",
       "      <td>0</td>\n",
       "      <td>0</td>\n",
       "      <td>0</td>\n",
       "      <td>0</td>\n",
       "      <td>0</td>\n",
       "      <td>0</td>\n",
       "      <td>0</td>\n",
       "      <td>0</td>\n",
       "      <td>0</td>\n",
       "      <td>0</td>\n",
       "      <td>0</td>\n",
       "      <td>0</td>\n",
       "      <td>0</td>\n",
       "      <td>0</td>\n",
       "      <td>0</td>\n",
       "      <td>0</td>\n",
       "      <td>0</td>\n",
       "      <td>0</td>\n",
       "      <td>0</td>\n",
       "      <td>0</td>\n",
       "      <td>0</td>\n",
       "      <td>0</td>\n",
       "      <td>0</td>\n",
       "      <td>0</td>\n",
       "      <td>0</td>\n",
       "      <td>0</td>\n",
       "      <td>0</td>\n",
       "      <td>0</td>\n",
       "      <td>0</td>\n",
       "      <td>0</td>\n",
       "      <td>0</td>\n",
       "      <td>10.123586</td>\n",
       "    </tr>\n",
       "    <tr>\n",
       "      <th>1</th>\n",
       "      <td>2</td>\n",
       "      <td>2010</td>\n",
       "      <td>151315</td>\n",
       "      <td>42</td>\n",
       "      <td>0</td>\n",
       "      <td>0</td>\n",
       "      <td>0</td>\n",
       "      <td>0</td>\n",
       "      <td>211</td>\n",
       "      <td>0</td>\n",
       "      <td>0</td>\n",
       "      <td>0</td>\n",
       "      <td>0</td>\n",
       "      <td>0</td>\n",
       "      <td>0</td>\n",
       "      <td>0</td>\n",
       "      <td>0</td>\n",
       "      <td>0</td>\n",
       "      <td>0</td>\n",
       "      <td>0</td>\n",
       "      <td>0</td>\n",
       "      <td>0</td>\n",
       "      <td>0</td>\n",
       "      <td>0</td>\n",
       "      <td>0</td>\n",
       "      <td>0</td>\n",
       "      <td>0</td>\n",
       "      <td>0</td>\n",
       "      <td>0</td>\n",
       "      <td>0</td>\n",
       "      <td>0</td>\n",
       "      <td>0</td>\n",
       "      <td>0</td>\n",
       "      <td>0</td>\n",
       "      <td>0</td>\n",
       "      <td>0</td>\n",
       "      <td>0</td>\n",
       "      <td>0</td>\n",
       "      <td>0</td>\n",
       "      <td>0</td>\n",
       "      <td>...</td>\n",
       "      <td>0</td>\n",
       "      <td>0</td>\n",
       "      <td>0</td>\n",
       "      <td>0</td>\n",
       "      <td>0</td>\n",
       "      <td>0</td>\n",
       "      <td>0</td>\n",
       "      <td>0</td>\n",
       "      <td>0</td>\n",
       "      <td>0</td>\n",
       "      <td>0</td>\n",
       "      <td>0</td>\n",
       "      <td>0</td>\n",
       "      <td>0</td>\n",
       "      <td>0</td>\n",
       "      <td>0</td>\n",
       "      <td>0</td>\n",
       "      <td>0</td>\n",
       "      <td>0</td>\n",
       "      <td>0</td>\n",
       "      <td>0</td>\n",
       "      <td>0</td>\n",
       "      <td>0</td>\n",
       "      <td>0</td>\n",
       "      <td>0</td>\n",
       "      <td>0</td>\n",
       "      <td>0</td>\n",
       "      <td>0</td>\n",
       "      <td>0</td>\n",
       "      <td>0</td>\n",
       "      <td>0</td>\n",
       "      <td>0</td>\n",
       "      <td>0</td>\n",
       "      <td>0</td>\n",
       "      <td>0</td>\n",
       "      <td>0</td>\n",
       "      <td>0</td>\n",
       "      <td>0</td>\n",
       "      <td>0</td>\n",
       "      <td>10.831806</td>\n",
       "    </tr>\n",
       "    <tr>\n",
       "      <th>2</th>\n",
       "      <td>2</td>\n",
       "      <td>2010</td>\n",
       "      <td>151315</td>\n",
       "      <td>42</td>\n",
       "      <td>0</td>\n",
       "      <td>0</td>\n",
       "      <td>0</td>\n",
       "      <td>0</td>\n",
       "      <td>211</td>\n",
       "      <td>0</td>\n",
       "      <td>0</td>\n",
       "      <td>0</td>\n",
       "      <td>0</td>\n",
       "      <td>0</td>\n",
       "      <td>0</td>\n",
       "      <td>0</td>\n",
       "      <td>0</td>\n",
       "      <td>0</td>\n",
       "      <td>0</td>\n",
       "      <td>0</td>\n",
       "      <td>0</td>\n",
       "      <td>0</td>\n",
       "      <td>0</td>\n",
       "      <td>0</td>\n",
       "      <td>0</td>\n",
       "      <td>0</td>\n",
       "      <td>0</td>\n",
       "      <td>0</td>\n",
       "      <td>0</td>\n",
       "      <td>0</td>\n",
       "      <td>0</td>\n",
       "      <td>0</td>\n",
       "      <td>0</td>\n",
       "      <td>0</td>\n",
       "      <td>0</td>\n",
       "      <td>0</td>\n",
       "      <td>0</td>\n",
       "      <td>0</td>\n",
       "      <td>0</td>\n",
       "      <td>0</td>\n",
       "      <td>...</td>\n",
       "      <td>0</td>\n",
       "      <td>0</td>\n",
       "      <td>0</td>\n",
       "      <td>0</td>\n",
       "      <td>0</td>\n",
       "      <td>0</td>\n",
       "      <td>0</td>\n",
       "      <td>0</td>\n",
       "      <td>0</td>\n",
       "      <td>0</td>\n",
       "      <td>0</td>\n",
       "      <td>0</td>\n",
       "      <td>0</td>\n",
       "      <td>0</td>\n",
       "      <td>0</td>\n",
       "      <td>0</td>\n",
       "      <td>0</td>\n",
       "      <td>0</td>\n",
       "      <td>0</td>\n",
       "      <td>0</td>\n",
       "      <td>0</td>\n",
       "      <td>0</td>\n",
       "      <td>0</td>\n",
       "      <td>0</td>\n",
       "      <td>0</td>\n",
       "      <td>0</td>\n",
       "      <td>0</td>\n",
       "      <td>0</td>\n",
       "      <td>0</td>\n",
       "      <td>0</td>\n",
       "      <td>0</td>\n",
       "      <td>0</td>\n",
       "      <td>0</td>\n",
       "      <td>0</td>\n",
       "      <td>0</td>\n",
       "      <td>0</td>\n",
       "      <td>0</td>\n",
       "      <td>0</td>\n",
       "      <td>0</td>\n",
       "      <td>9.528067</td>\n",
       "    </tr>\n",
       "    <tr>\n",
       "      <th>3</th>\n",
       "      <td>2</td>\n",
       "      <td>2010</td>\n",
       "      <td>151315</td>\n",
       "      <td>42</td>\n",
       "      <td>0</td>\n",
       "      <td>0</td>\n",
       "      <td>0</td>\n",
       "      <td>0</td>\n",
       "      <td>211</td>\n",
       "      <td>0</td>\n",
       "      <td>0</td>\n",
       "      <td>0</td>\n",
       "      <td>0</td>\n",
       "      <td>0</td>\n",
       "      <td>0</td>\n",
       "      <td>0</td>\n",
       "      <td>0</td>\n",
       "      <td>0</td>\n",
       "      <td>0</td>\n",
       "      <td>0</td>\n",
       "      <td>0</td>\n",
       "      <td>0</td>\n",
       "      <td>0</td>\n",
       "      <td>0</td>\n",
       "      <td>0</td>\n",
       "      <td>0</td>\n",
       "      <td>0</td>\n",
       "      <td>0</td>\n",
       "      <td>0</td>\n",
       "      <td>0</td>\n",
       "      <td>0</td>\n",
       "      <td>0</td>\n",
       "      <td>0</td>\n",
       "      <td>0</td>\n",
       "      <td>0</td>\n",
       "      <td>0</td>\n",
       "      <td>0</td>\n",
       "      <td>0</td>\n",
       "      <td>0</td>\n",
       "      <td>0</td>\n",
       "      <td>...</td>\n",
       "      <td>0</td>\n",
       "      <td>0</td>\n",
       "      <td>0</td>\n",
       "      <td>0</td>\n",
       "      <td>0</td>\n",
       "      <td>0</td>\n",
       "      <td>0</td>\n",
       "      <td>0</td>\n",
       "      <td>0</td>\n",
       "      <td>0</td>\n",
       "      <td>0</td>\n",
       "      <td>0</td>\n",
       "      <td>0</td>\n",
       "      <td>0</td>\n",
       "      <td>0</td>\n",
       "      <td>0</td>\n",
       "      <td>0</td>\n",
       "      <td>0</td>\n",
       "      <td>0</td>\n",
       "      <td>0</td>\n",
       "      <td>0</td>\n",
       "      <td>0</td>\n",
       "      <td>0</td>\n",
       "      <td>0</td>\n",
       "      <td>0</td>\n",
       "      <td>0</td>\n",
       "      <td>0</td>\n",
       "      <td>0</td>\n",
       "      <td>0</td>\n",
       "      <td>0</td>\n",
       "      <td>0</td>\n",
       "      <td>0</td>\n",
       "      <td>0</td>\n",
       "      <td>0</td>\n",
       "      <td>0</td>\n",
       "      <td>0</td>\n",
       "      <td>0</td>\n",
       "      <td>0</td>\n",
       "      <td>0</td>\n",
       "      <td>10.595484</td>\n",
       "    </tr>\n",
       "    <tr>\n",
       "      <th>4</th>\n",
       "      <td>2</td>\n",
       "      <td>2010</td>\n",
       "      <td>151315</td>\n",
       "      <td>42</td>\n",
       "      <td>0</td>\n",
       "      <td>0</td>\n",
       "      <td>0</td>\n",
       "      <td>0</td>\n",
       "      <td>211</td>\n",
       "      <td>0</td>\n",
       "      <td>0</td>\n",
       "      <td>0</td>\n",
       "      <td>0</td>\n",
       "      <td>0</td>\n",
       "      <td>0</td>\n",
       "      <td>0</td>\n",
       "      <td>0</td>\n",
       "      <td>0</td>\n",
       "      <td>0</td>\n",
       "      <td>0</td>\n",
       "      <td>0</td>\n",
       "      <td>0</td>\n",
       "      <td>0</td>\n",
       "      <td>0</td>\n",
       "      <td>0</td>\n",
       "      <td>0</td>\n",
       "      <td>0</td>\n",
       "      <td>0</td>\n",
       "      <td>0</td>\n",
       "      <td>0</td>\n",
       "      <td>0</td>\n",
       "      <td>0</td>\n",
       "      <td>0</td>\n",
       "      <td>0</td>\n",
       "      <td>0</td>\n",
       "      <td>0</td>\n",
       "      <td>0</td>\n",
       "      <td>0</td>\n",
       "      <td>0</td>\n",
       "      <td>0</td>\n",
       "      <td>...</td>\n",
       "      <td>0</td>\n",
       "      <td>0</td>\n",
       "      <td>0</td>\n",
       "      <td>0</td>\n",
       "      <td>0</td>\n",
       "      <td>0</td>\n",
       "      <td>0</td>\n",
       "      <td>0</td>\n",
       "      <td>0</td>\n",
       "      <td>0</td>\n",
       "      <td>0</td>\n",
       "      <td>0</td>\n",
       "      <td>0</td>\n",
       "      <td>0</td>\n",
       "      <td>0</td>\n",
       "      <td>0</td>\n",
       "      <td>0</td>\n",
       "      <td>0</td>\n",
       "      <td>0</td>\n",
       "      <td>0</td>\n",
       "      <td>0</td>\n",
       "      <td>0</td>\n",
       "      <td>0</td>\n",
       "      <td>0</td>\n",
       "      <td>0</td>\n",
       "      <td>0</td>\n",
       "      <td>0</td>\n",
       "      <td>0</td>\n",
       "      <td>0</td>\n",
       "      <td>0</td>\n",
       "      <td>0</td>\n",
       "      <td>0</td>\n",
       "      <td>0</td>\n",
       "      <td>0</td>\n",
       "      <td>0</td>\n",
       "      <td>0</td>\n",
       "      <td>0</td>\n",
       "      <td>0</td>\n",
       "      <td>0</td>\n",
       "      <td>10.380622</td>\n",
       "    </tr>\n",
       "  </tbody>\n",
       "</table>\n",
       "<p>5 rows × 127 columns</p>\n",
       "</div>"
      ],
      "text/plain": [
       "   Date_Month  Date_Year    Size  ...  Dept_97  Dept_98  ln_Weekly_Sales\n",
       "0           2       2010  151315  ...        0        0        10.123586\n",
       "1           2       2010  151315  ...        0        0        10.831806\n",
       "2           2       2010  151315  ...        0        0         9.528067\n",
       "3           2       2010  151315  ...        0        0        10.595484\n",
       "4           2       2010  151315  ...        0        0        10.380622\n",
       "\n",
       "[5 rows x 127 columns]"
      ]
     },
     "execution_count": 123,
     "metadata": {
      "tags": []
     },
     "output_type": "execute_result"
    }
   ],
   "source": [
    "New_Select=['Date_Month', 'Date_Year', 'Size', 'Temperature', 'MarkDown1', 'MarkDown2', \n",
    "            'MarkDown3', 'MarkDown5', 'CPI', 'Type_B',\n",
    "            'Store_2', 'Store_4',  'Store_6', 'Store_7', 'Store_8', 'Store_9', 'Store_11',  'Store_13', \n",
    "            'Store_14', 'Store_15', 'Store_16', 'Store_17', 'Store_18', 'Store_19', 'Store_20', 'Store_21', 'Store_22', 'Store_23', 'Store_24',\n",
    "            'Store_25', 'Store_27', 'Store_28', 'Store_29',  'Store_31', 'Store_32', 'Store_33', 'Store_34', 'Store_35',\n",
    "            'Store_36', 'Store_37', 'Store_38', 'Store_39', 'Store_40', 'Store_41', 'Store_42', 'Store_43', 'Store_44', 'Store_45', \n",
    "            'Dept_2', 'Dept_3', 'Dept_4', 'Dept_5', 'Dept_6', 'Dept_7', 'Dept_8', 'Dept_9', 'Dept_10', 'Dept_11', 'Dept_12', 'Dept_13', \n",
    "            'Dept_14', 'Dept_16', 'Dept_17', 'Dept_18', 'Dept_19', 'Dept_20', 'Dept_21', 'Dept_22', 'Dept_23', 'Dept_24', 'Dept_25', 'Dept_26',\n",
    "            'Dept_27', 'Dept_28', 'Dept_29', 'Dept_30', 'Dept_31', 'Dept_32', 'Dept_33', 'Dept_34', 'Dept_35', 'Dept_36', 'Dept_37', 'Dept_38', \n",
    "            'Dept_39', 'Dept_40', 'Dept_41', 'Dept_42', 'Dept_43', 'Dept_44', 'Dept_45', 'Dept_47', 'Dept_48', 'Dept_49', 'Dept_50',\n",
    "            'Dept_51', 'Dept_52', 'Dept_54', 'Dept_55', 'Dept_56', 'Dept_58', 'Dept_59', 'Dept_60', 'Dept_65', 'Dept_67', 'Dept_71', 'Dept_72', \n",
    "            'Dept_74', 'Dept_77', 'Dept_78', 'Dept_79', 'Dept_80', 'Dept_81', 'Dept_82', 'Dept_83', 'Dept_85', 'Dept_87', 'Dept_90', 'Dept_91', \n",
    "            'Dept_92', 'Dept_93', 'Dept_94', 'Dept_95', 'Dept_96', 'Dept_97', 'Dept_98']\n",
    "New_Select.append('ln_Weekly_Sales')\n",
    "\n",
    "N_r=train_final[New_Select]\n",
    "\n",
    "N_r.head()"
   ]
  },
  {
   "cell_type": "code",
   "execution_count": 0,
   "metadata": {
    "colab": {},
    "colab_type": "code",
    "id": "OrWSbfN9EDBG"
   },
   "outputs": [],
   "source": [
    "# # Splitting the dataset into training and testing dataset to build our model-\n",
    "\n",
    "from sklearn.model_selection import train_test_split \n",
    "\n",
    "train, test = train_test_split(N_r, test_size = 0.25, random_state = 0)"
   ]
  },
  {
   "cell_type": "code",
   "execution_count": 0,
   "metadata": {
    "colab": {},
    "colab_type": "code",
    "id": "yM1vD2L6EDBS"
   },
   "outputs": [],
   "source": []
  },
  {
   "cell_type": "code",
   "execution_count": 0,
   "metadata": {
    "colab": {},
    "colab_type": "code",
    "id": "SrYb5yFjEDBt"
   },
   "outputs": [],
   "source": []
  },
  {
   "cell_type": "code",
   "execution_count": 125,
   "metadata": {
    "colab": {
     "base_uri": "https://localhost:8080/",
     "height": 421
    },
    "colab_type": "code",
    "id": "0n4r0Os1EDBz",
    "outputId": "26c4d479-1d26-4364-89ce-c894f2b99448"
   },
   "outputs": [
    {
     "data": {
      "text/html": [
       "<div>\n",
       "<style scoped>\n",
       "    .dataframe tbody tr th:only-of-type {\n",
       "        vertical-align: middle;\n",
       "    }\n",
       "\n",
       "    .dataframe tbody tr th {\n",
       "        vertical-align: top;\n",
       "    }\n",
       "\n",
       "    .dataframe thead th {\n",
       "        text-align: right;\n",
       "    }\n",
       "</style>\n",
       "<table border=\"1\" class=\"dataframe\">\n",
       "  <thead>\n",
       "    <tr style=\"text-align: right;\">\n",
       "      <th></th>\n",
       "      <th>level_0</th>\n",
       "      <th>level_1</th>\n",
       "      <th>0</th>\n",
       "    </tr>\n",
       "  </thead>\n",
       "  <tbody>\n",
       "    <tr>\n",
       "      <th>1</th>\n",
       "      <td>Date_Week</td>\n",
       "      <td>Date_Month</td>\n",
       "      <td>0.995999</td>\n",
       "    </tr>\n",
       "    <tr>\n",
       "      <th>142</th>\n",
       "      <td>Date_Month</td>\n",
       "      <td>Date_Week</td>\n",
       "      <td>0.995999</td>\n",
       "    </tr>\n",
       "    <tr>\n",
       "      <th>291</th>\n",
       "      <td>Date_Year</td>\n",
       "      <td>Fuel_Price</td>\n",
       "      <td>0.722214</td>\n",
       "    </tr>\n",
       "    <tr>\n",
       "      <th>292</th>\n",
       "      <td>Date_Year</td>\n",
       "      <td>MarkDown1</td>\n",
       "      <td>0.530269</td>\n",
       "    </tr>\n",
       "    <tr>\n",
       "      <th>996</th>\n",
       "      <td>Fuel_Price</td>\n",
       "      <td>Date_Year</td>\n",
       "      <td>0.722214</td>\n",
       "    </tr>\n",
       "    <tr>\n",
       "      <th>1138</th>\n",
       "      <td>MarkDown1</td>\n",
       "      <td>Date_Year</td>\n",
       "      <td>0.530269</td>\n",
       "    </tr>\n",
       "    <tr>\n",
       "      <th>1147</th>\n",
       "      <td>MarkDown1</td>\n",
       "      <td>MarkDown4</td>\n",
       "      <td>0.826712</td>\n",
       "    </tr>\n",
       "    <tr>\n",
       "      <th>1148</th>\n",
       "      <td>MarkDown1</td>\n",
       "      <td>MarkDown5</td>\n",
       "      <td>0.534392</td>\n",
       "    </tr>\n",
       "    <tr>\n",
       "      <th>1570</th>\n",
       "      <td>MarkDown4</td>\n",
       "      <td>MarkDown1</td>\n",
       "      <td>0.826712</td>\n",
       "    </tr>\n",
       "    <tr>\n",
       "      <th>1712</th>\n",
       "      <td>MarkDown5</td>\n",
       "      <td>MarkDown1</td>\n",
       "      <td>0.534392</td>\n",
       "    </tr>\n",
       "    <tr>\n",
       "      <th>2271</th>\n",
       "      <td>Weekly_Sales</td>\n",
       "      <td>ln_Weekly_Sales</td>\n",
       "      <td>0.675031</td>\n",
       "    </tr>\n",
       "    <tr>\n",
       "      <th>20037</th>\n",
       "      <td>ln_Weekly_Sales</td>\n",
       "      <td>Weekly_Sales</td>\n",
       "      <td>0.675031</td>\n",
       "    </tr>\n",
       "  </tbody>\n",
       "</table>\n",
       "</div>"
      ],
      "text/plain": [
       "               level_0          level_1         0\n",
       "1            Date_Week       Date_Month  0.995999\n",
       "142         Date_Month        Date_Week  0.995999\n",
       "291          Date_Year       Fuel_Price  0.722214\n",
       "292          Date_Year        MarkDown1  0.530269\n",
       "996         Fuel_Price        Date_Year  0.722214\n",
       "1138         MarkDown1        Date_Year  0.530269\n",
       "1147         MarkDown1        MarkDown4  0.826712\n",
       "1148         MarkDown1        MarkDown5  0.534392\n",
       "1570         MarkDown4        MarkDown1  0.826712\n",
       "1712         MarkDown5        MarkDown1  0.534392\n",
       "2271      Weekly_Sales  ln_Weekly_Sales  0.675031\n",
       "20037  ln_Weekly_Sales     Weekly_Sales  0.675031"
      ]
     },
     "execution_count": 125,
     "metadata": {
      "tags": []
     },
     "output_type": "execute_result"
    }
   ],
   "source": [
    "cor_2"
   ]
  },
  {
   "cell_type": "code",
   "execution_count": 126,
   "metadata": {
    "colab": {
     "base_uri": "https://localhost:8080/",
     "height": 54
    },
    "colab_type": "code",
    "id": "T01QMH76EDCB",
    "outputId": "0349c0cd-5a0f-4275-c1e2-906485c029b5"
   },
   "outputs": [
    {
     "data": {
      "text/plain": [
       "'ln_Weekly_Sales ~CPI+Date_Month+Date_Year+Dept_10+Dept_11+Dept_12+Dept_13+Dept_14+Dept_16+Dept_17+Dept_18+Dept_19+Dept_2+Dept_20+Dept_21+Dept_22+Dept_23+Dept_24+Dept_25+Dept_26+Dept_27+Dept_28+Dept_29+Dept_3+Dept_30+Dept_31+Dept_32+Dept_33+Dept_34+Dept_35+Dept_36+Dept_37+Dept_38+Dept_39+Dept_4+Dept_40+Dept_41+Dept_42+Dept_43+Dept_44+Dept_45+Dept_47+Dept_48+Dept_49+Dept_5+Dept_50+Dept_51+Dept_52+Dept_54+Dept_55+Dept_56+Dept_58+Dept_59+Dept_6+Dept_60+Dept_65+Dept_67+Dept_7+Dept_71+Dept_72+Dept_74+Dept_77+Dept_78+Dept_79+Dept_8+Dept_80+Dept_81+Dept_82+Dept_83+Dept_85+Dept_87+Dept_9+Dept_90+Dept_91+Dept_92+Dept_93+Dept_94+Dept_95+Dept_96+Dept_97+Dept_98+MarkDown1+MarkDown2+MarkDown3+MarkDown5+Size+Store_11+Store_13+Store_14+Store_15+Store_16+Store_17+Store_18+Store_19+Store_2+Store_20+Store_21+Store_22+Store_23+Store_24+Store_25+Store_27+Store_28+Store_29+Store_31+Store_32+Store_33+Store_34+Store_35+Store_36+Store_37+Store_38+Store_39+Store_4+Store_40+Store_41+Store_42+Store_43+Store_44+Store_45+Store_6+Store_7+Store_8+Store_9+Temperature+Type_B'"
      ]
     },
     "execution_count": 126,
     "metadata": {
      "tags": []
     },
     "output_type": "execute_result"
    }
   ],
   "source": [
    "import statsmodels.formula.api as smf\n",
    "\n",
    "stats=\"+\".join(N_r.columns.difference(['ln_Weekly_Sales']))\n",
    "'ln_Weekly_Sales ~' + stats"
   ]
  },
  {
   "cell_type": "code",
   "execution_count": 127,
   "metadata": {
    "colab": {
     "base_uri": "https://localhost:8080/",
     "height": 1000
    },
    "colab_type": "code",
    "id": "sbOxnBPKH3IV",
    "outputId": "82422167-6f18-4dd7-d24e-927c7aeb3a7e"
   },
   "outputs": [
    {
     "name": "stdout",
     "output_type": "stream",
     "text": [
      "                            OLS Regression Results                            \n",
      "==============================================================================\n",
      "Dep. Variable:        ln_Weekly_Sales   R-squared:                       0.676\n",
      "Model:                            OLS   Adj. R-squared:                  0.676\n",
      "Method:                 Least Squares   F-statistic:                     5244.\n",
      "Date:                Fri, 13 Mar 2020   Prob (F-statistic):               0.00\n",
      "Time:                        16:40:58   Log-Likelihood:            -4.9726e+05\n",
      "No. Observations:              316177   AIC:                         9.948e+05\n",
      "Df Residuals:                  316050   BIC:                         9.961e+05\n",
      "Df Model:                         126                                         \n",
      "Covariance Type:            nonrobust                                         \n",
      "===============================================================================\n",
      "                  coef    std err          t      P>|t|      [0.025      0.975]\n",
      "-------------------------------------------------------------------------------\n",
      "Intercept     188.3705      7.000     26.912      0.000     174.652     202.089\n",
      "CPI             0.0071      0.000     36.566      0.000       0.007       0.007\n",
      "Date_Month      0.0097      0.001     13.662      0.000       0.008       0.011\n",
      "Date_Year      -0.0910      0.003    -26.119      0.000      -0.098      -0.084\n",
      "Dept_10        -0.5397      0.021    -26.155      0.000      -0.580      -0.499\n",
      "Dept_11        -0.5597      0.021    -27.110      0.000      -0.600      -0.519\n",
      "Dept_12        -1.9793      0.021    -96.181      0.000      -2.020      -1.939\n",
      "Dept_13         0.5388      0.021     26.202      0.000       0.499       0.579\n",
      "Dept_14        -0.4647      0.021    -22.594      0.000      -0.505      -0.424\n",
      "Dept_16        -0.7865      0.020    -38.378      0.000      -0.827      -0.746\n",
      "Dept_17        -0.9810      0.021    -47.470      0.000      -1.021      -0.940\n",
      "Dept_18        -3.2027      0.022   -142.370      0.000      -3.247      -3.159\n",
      "Dept_19        -3.4880      0.024   -143.761      0.000      -3.536      -3.440\n",
      "Dept_2          0.8462      0.021     41.048      0.000       0.806       0.887\n",
      "Dept_20        -1.7701      0.021    -84.218      0.000      -1.811      -1.729\n",
      "Dept_21        -1.4287      0.021    -69.592      0.000      -1.469      -1.388\n",
      "Dept_22        -0.9830      0.022    -45.464      0.000      -1.025      -0.941\n",
      "Dept_23        -0.4109      0.021    -19.321      0.000      -0.453      -0.369\n",
      "Dept_24        -1.5356      0.022    -70.287      0.000      -1.578      -1.493\n",
      "Dept_25        -1.4397      0.021    -69.614      0.000      -1.480      -1.399\n",
      "Dept_26        -1.3718      0.021    -64.114      0.000      -1.414      -1.330\n",
      "Dept_27        -2.9275      0.022   -135.600      0.000      -2.970      -2.885\n",
      "Dept_28        -3.6928      0.021   -177.256      0.000      -3.734      -3.652\n",
      "Dept_29        -1.5914      0.022    -72.273      0.000      -1.635      -1.548\n",
      "Dept_3         -0.8453      0.021    -41.053      0.000      -0.886      -0.805\n",
      "Dept_30        -1.8797      0.022    -85.539      0.000      -1.923      -1.837\n",
      "Dept_31        -2.6365      0.021   -125.453      0.000      -2.678      -2.595\n",
      "Dept_32        -1.5984      0.021    -75.614      0.000      -1.640      -1.557\n",
      "Dept_33        -1.4816      0.022    -67.709      0.000      -1.524      -1.439\n",
      "Dept_34        -0.5586      0.022    -25.457      0.000      -0.602      -0.516\n",
      "Dept_35        -2.2301      0.022   -101.718      0.000      -2.273      -2.187\n",
      "Dept_36        -2.7964      0.022   -126.883      0.000      -2.840      -2.753\n",
      "Dept_37        -2.3253      0.029    -79.803      0.000      -2.382      -2.268\n",
      "Dept_38         1.2786      0.021     62.140      0.000       1.238       1.319\n",
      "Dept_39        -8.1635      0.369    -22.115      0.000      -8.887      -7.440\n",
      "Dept_4          0.3800      0.021     18.407      0.000       0.340       0.420\n",
      "Dept_40         0.9330      0.021     45.353      0.000       0.893       0.973\n",
      "Dept_41        -3.0416      0.022   -139.366      0.000      -3.084      -2.999\n",
      "Dept_42        -1.7070      0.021    -82.955      0.000      -1.747      -1.667\n",
      "Dept_43        -7.8553      0.441    -17.807      0.000      -8.720      -6.991\n",
      "Dept_44        -1.8120      0.022    -83.346      0.000      -1.855      -1.769\n",
      "Dept_45        -7.3438      0.033   -225.108      0.000      -7.408      -7.280\n",
      "Dept_47        -7.0196      0.055   -127.473      0.000      -7.128      -6.912\n",
      "Dept_48        -3.4704      0.035    -99.244      0.000      -3.539      -3.402\n",
      "Dept_49        -2.1951      0.023    -93.634      0.000      -2.241      -2.149\n",
      "Dept_5         -0.3678      0.021    -17.769      0.000      -0.408      -0.327\n",
      "Dept_50        -2.6871      0.036    -74.992      0.000      -2.757      -2.617\n",
      "Dept_51        -7.4322      0.038   -196.148      0.000      -7.506      -7.358\n",
      "Dept_52        -2.8329      0.021   -136.403      0.000      -2.874      -2.792\n",
      "Dept_54        -6.0360      0.023   -264.759      0.000      -6.081      -5.991\n",
      "Dept_55        -1.0549      0.022    -48.865      0.000      -1.097      -1.013\n",
      "Dept_56        -2.6323      0.021   -123.793      0.000      -2.674      -2.591\n",
      "Dept_58        -2.3912      0.024   -100.929      0.000      -2.438      -2.345\n",
      "Dept_59        -4.1228      0.021   -196.986      0.000      -4.164      -4.082\n",
      "Dept_6         -1.9742      0.021    -93.955      0.000      -2.015      -1.933\n",
      "Dept_60        -4.0975      0.021   -192.685      0.000      -4.139      -4.056\n",
      "Dept_65         0.9017      0.116      7.752      0.000       0.674       1.130\n",
      "Dept_67        -1.0792      0.021    -52.258      0.000      -1.120      -1.039\n",
      "Dept_7         -0.3183      0.021    -15.497      0.000      -0.359      -0.278\n",
      "Dept_71        -1.6427      0.022    -74.591      0.000      -1.686      -1.600\n",
      "Dept_72         0.2171      0.021     10.337      0.000       0.176       0.258\n",
      "Dept_74        -0.7083      0.021    -34.479      0.000      -0.749      -0.668\n",
      "Dept_77        -5.3133      0.110    -48.263      0.000      -5.529      -5.097\n",
      "Dept_78        -8.0060      0.088    -90.953      0.000      -8.179      -7.833\n",
      "Dept_79         0.1408      0.021      6.861      0.000       0.101       0.181\n",
      "Dept_8          0.4682      0.021     22.808      0.000       0.428       0.508\n",
      "Dept_80        -1.5894      0.021    -74.740      0.000      -1.631      -1.548\n",
      "Dept_81        -0.2244      0.021    -10.915      0.000      -0.265      -0.184\n",
      "Dept_82        -0.1810      0.021     -8.813      0.000      -0.221      -0.141\n",
      "Dept_83        -2.0683      0.021    -97.746      0.000      -2.110      -2.027\n",
      "Dept_85        -2.4928      0.021   -118.905      0.000      -2.534      -2.452\n",
      "Dept_87        -0.8219      0.021    -39.830      0.000      -0.862      -0.781\n",
      "Dept_9         -0.6934      0.021    -33.463      0.000      -0.734      -0.653\n",
      "Dept_90         0.6739      0.021     32.751      0.000       0.634       0.714\n",
      "Dept_91         0.2584      0.021     12.565      0.000       0.218       0.299\n",
      "Dept_92         1.2490      0.021     60.778      0.000       1.209       1.289\n",
      "Dept_93        -0.3183      0.021    -14.970      0.000      -0.360      -0.277\n",
      "Dept_94        -0.6609      0.022    -30.705      0.000      -0.703      -0.619\n",
      "Dept_95         1.3233      0.021     64.330      0.000       1.283       1.364\n",
      "Dept_96        -0.5183      0.023    -22.872      0.000      -0.563      -0.474\n",
      "Dept_97        -0.5025      0.021    -24.246      0.000      -0.543      -0.462\n",
      "Dept_98        -2.4545      0.020   -121.421      0.000      -2.494      -2.415\n",
      "MarkDown1    1.635e-06   4.85e-07      3.369      0.001    6.84e-07    2.59e-06\n",
      "MarkDown2   -2.762e-06   5.04e-07     -5.485      0.000   -3.75e-06   -1.78e-06\n",
      "MarkDown3    4.042e-06   4.78e-07      8.453      0.000     3.1e-06    4.98e-06\n",
      "MarkDown5    3.833e-06   8.25e-07      4.645      0.000    2.22e-06    5.45e-06\n",
      "Size          2.42e-05   1.83e-07    132.004      0.000    2.38e-05    2.46e-05\n",
      "Store_11       -1.3657      0.026    -52.842      0.000      -1.416      -1.315\n",
      "Store_13       -0.7670      0.019    -39.545      0.000      -0.805      -0.729\n",
      "Store_14       -0.7598      0.021    -35.917      0.000      -0.801      -0.718\n",
      "Store_15       -0.9317      0.016    -57.295      0.000      -0.964      -0.900\n",
      "Store_16       -0.0360      0.016     -2.202      0.028      -0.068      -0.004\n",
      "Store_17        0.1430      0.017      8.513      0.000       0.110       0.176\n",
      "Store_18       -0.2975      0.016    -18.453      0.000      -0.329      -0.266\n",
      "Store_19       -0.7375      0.018    -40.014      0.000      -0.774      -0.701\n",
      "Store_2        -0.9844      0.025    -40.061      0.000      -1.033      -0.936\n",
      "Store_20       -0.9185      0.024    -38.201      0.000      -0.966      -0.871\n",
      "Store_21       -1.6398      0.024    -68.277      0.000      -1.687      -1.593\n",
      "Store_22       -0.3618      0.016    -22.446      0.000      -0.393      -0.330\n",
      "Store_23        0.1277      0.016      7.955      0.000       0.096       0.159\n",
      "Store_24       -0.8915      0.018    -48.562      0.000      -0.927      -0.856\n",
      "Store_25       -1.4299      0.022    -65.547      0.000      -1.473      -1.387\n",
      "Store_27       -0.6290      0.018    -34.131      0.000      -0.665      -0.593\n",
      "Store_28       -0.8210      0.019    -44.167      0.000      -0.857      -0.785\n",
      "Store_29       -0.3612      0.016    -22.019      0.000      -0.393      -0.329\n",
      "Store_31       -1.5697      0.025    -63.272      0.000      -1.618      -1.521\n",
      "Store_32       -1.3805      0.022    -62.352      0.000      -1.424      -1.337\n",
      "Store_33        0.3283      0.031     10.496      0.000       0.267       0.390\n",
      "Store_34       -0.1488      0.017     -8.522      0.000      -0.183      -0.115\n",
      "Store_35       -0.2090      0.016    -13.036      0.000      -0.240      -0.178\n",
      "Store_36        0.1724      0.022      7.765      0.000       0.129       0.216\n",
      "Store_37        0.5867      0.021     27.594      0.000       0.545       0.628\n",
      "Store_38        0.5951      0.031     19.422      0.000       0.535       0.655\n",
      "Store_39       -0.9013      0.022    -40.329      0.000      -0.945      -0.858\n",
      "Store_4        -0.3956      0.018    -21.409      0.000      -0.432      -0.359\n",
      "Store_40       -0.1129      0.017     -6.591      0.000      -0.146      -0.079\n",
      "Store_41       -1.1669      0.021    -54.382      0.000      -1.209      -1.125\n",
      "Store_42        1.1225      0.031     36.314      0.000       1.062       1.183\n",
      "Store_43        0.5769      0.022     26.158      0.000       0.534       0.620\n",
      "Store_44        0.4798      0.031     15.713      0.000       0.420       0.540\n",
      "Store_45       -0.9083      0.018    -49.912      0.000      -0.944      -0.873\n",
      "Store_6        -1.1015      0.025    -44.340      0.000      -1.150      -1.053\n",
      "Store_7        -0.2884      0.016    -17.641      0.000      -0.320      -0.256\n",
      "Store_8        -0.5899      0.019    -30.316      0.000      -0.628      -0.552\n",
      "Store_9        -1.7086      0.023    -73.966      0.000      -1.754      -1.663\n",
      "Temperature    -0.0022      0.000    -15.008      0.000      -0.002      -0.002\n",
      "Type_B          1.2319      0.015     81.549      0.000       1.202       1.262\n",
      "==============================================================================\n",
      "Omnibus:                   115391.331   Durbin-Watson:                   2.000\n",
      "Prob(Omnibus):                  0.000   Jarque-Bera (JB):           814640.951\n",
      "Skew:                          -1.585   Prob(JB):                         0.00\n",
      "Kurtosis:                      10.197   Cond. No.                     5.05e+08\n",
      "==============================================================================\n",
      "\n",
      "Warnings:\n",
      "[1] Standard Errors assume that the covariance matrix of the errors is correctly specified.\n",
      "[2] The condition number is large, 5.05e+08. This might indicate that there are\n",
      "strong multicollinearity or other numerical problems.\n"
     ]
    }
   ],
   "source": [
    "lm1 = smf.ols('''ln_Weekly_Sales ~CPI+Date_Month+Date_Year+Dept_10+Dept_11+Dept_12+Dept_13+Dept_14+Dept_16+Dept_17+Dept_18+Dept_19+Dept_2+Dept_20+Dept_21+Dept_22+Dept_23+Dept_24+Dept_25+Dept_26+Dept_27+Dept_28+Dept_29+Dept_3+Dept_30+Dept_31+Dept_32+Dept_33+Dept_34+Dept_35+Dept_36+Dept_37+Dept_38+Dept_39+Dept_4+Dept_40+Dept_41+Dept_42+Dept_43+Dept_44+Dept_45+Dept_47+Dept_48+Dept_49+Dept_5+Dept_50+Dept_51+Dept_52+Dept_54+Dept_55+Dept_56+Dept_58+Dept_59+Dept_6+Dept_60+Dept_65+Dept_67+Dept_7+Dept_71+Dept_72+Dept_74+Dept_77+Dept_78+Dept_79+Dept_8+Dept_80+Dept_81+Dept_82+Dept_83+Dept_85+Dept_87+Dept_9+Dept_90+Dept_91+Dept_92+Dept_93+Dept_94+Dept_95+Dept_96+Dept_97+Dept_98+MarkDown1+MarkDown2+MarkDown3+MarkDown5+Size+Store_11+Store_13+Store_14+Store_15+Store_16+Store_17+Store_18+Store_19+Store_2+Store_20+Store_21+Store_22+Store_23+Store_24+Store_25+Store_27+Store_28+Store_29+Store_31+Store_32+Store_33+Store_34+Store_35+Store_36+Store_37+Store_38+Store_39+Store_4+Store_40+Store_41+Store_42+Store_43+Store_44+Store_45+Store_6+Store_7+Store_8+Store_9+Temperature+Type_B''', train).fit()\n",
    "print(lm1.summary())"
   ]
  },
  {
   "cell_type": "code",
   "execution_count": 128,
   "metadata": {
    "colab": {
     "base_uri": "https://localhost:8080/",
     "height": 34
    },
    "colab_type": "code",
    "id": "1AWAWd_PddgY",
    "outputId": "0abc8176-9136-474e-bdb0-07cceb0ecf01"
   },
   "outputs": [
    {
     "data": {
      "text/plain": [
       "Series([], dtype: float64)"
      ]
     },
     "execution_count": 128,
     "metadata": {
      "tags": []
     },
     "output_type": "execute_result"
    }
   ],
   "source": [
    "lm1.pvalues[(lm1.pvalues>0.05)].sort_values(ascending=False)"
   ]
  },
  {
   "cell_type": "code",
   "execution_count": 0,
   "metadata": {
    "colab": {},
    "colab_type": "code",
    "id": "XnSHxt1Bdd2L"
   },
   "outputs": [],
   "source": []
  },
  {
   "cell_type": "code",
   "execution_count": 133,
   "metadata": {
    "colab": {
     "base_uri": "https://localhost:8080/",
     "height": 1000
    },
    "colab_type": "code",
    "id": "Pf4XzbtaRTSk",
    "outputId": "02ef85bd-2688-47f1-f343-bcd839d7b1a2"
   },
   "outputs": [
    {
     "name": "stdout",
     "output_type": "stream",
     "text": [
      "                            OLS Regression Results                            \n",
      "==============================================================================\n",
      "Dep. Variable:        ln_Weekly_Sales   R-squared:                       0.677\n",
      "Model:                            OLS   Adj. R-squared:                  0.677\n",
      "Method:                 Least Squares   F-statistic:                     1751.\n",
      "Date:                Fri, 13 Mar 2020   Prob (F-statistic):               0.00\n",
      "Time:                        17:16:16   Log-Likelihood:            -1.6540e+05\n",
      "No. Observations:              105393   AIC:                         3.311e+05\n",
      "Df Residuals:                  105266   BIC:                         3.323e+05\n",
      "Df Model:                         126                                         \n",
      "Covariance Type:            nonrobust                                         \n",
      "===============================================================================\n",
      "                  coef    std err          t      P>|t|      [0.025      0.975]\n",
      "-------------------------------------------------------------------------------\n",
      "Intercept     184.4530     12.127     15.210      0.000     160.685     208.221\n",
      "CPI             0.0071      0.000     21.220      0.000       0.006       0.008\n",
      "Date_Month      0.0095      0.001      7.778      0.000       0.007       0.012\n",
      "Date_Year      -0.0891      0.006    -14.757      0.000      -0.101      -0.077\n",
      "Dept_10        -0.5241      0.035    -14.898      0.000      -0.593      -0.455\n",
      "Dept_11        -0.5781      0.035    -16.456      0.000      -0.647      -0.509\n",
      "Dept_12        -1.9729      0.036    -55.355      0.000      -2.043      -1.903\n",
      "Dept_13         0.5256      0.036     14.796      0.000       0.456       0.595\n",
      "Dept_14        -0.4735      0.036    -13.333      0.000      -0.543      -0.404\n",
      "Dept_16        -0.7917      0.036    -22.051      0.000      -0.862      -0.721\n",
      "Dept_17        -0.9760      0.035    -27.742      0.000      -1.045      -0.907\n",
      "Dept_18        -3.2110      0.038    -83.905      0.000      -3.286      -3.136\n",
      "Dept_19        -3.4176      0.041    -82.972      0.000      -3.498      -3.337\n",
      "Dept_2          0.8433      0.035     23.911      0.000       0.774       0.912\n",
      "Dept_20        -1.8016      0.036    -49.597      0.000      -1.873      -1.730\n",
      "Dept_21        -1.4296      0.036    -40.035      0.000      -1.500      -1.360\n",
      "Dept_22        -1.0435      0.038    -27.764      0.000      -1.117      -0.970\n",
      "Dept_23        -0.3649      0.037     -9.786      0.000      -0.438      -0.292\n",
      "Dept_24        -1.5363      0.038    -40.680      0.000      -1.610      -1.462\n",
      "Dept_25        -1.4623      0.036    -41.164      0.000      -1.532      -1.393\n",
      "Dept_26        -1.4276      0.037    -38.662      0.000      -1.500      -1.355\n",
      "Dept_27        -2.9362      0.037    -79.284      0.000      -3.009      -2.864\n",
      "Dept_28        -3.6716      0.037   -100.358      0.000      -3.743      -3.600\n",
      "Dept_29        -1.6028      0.038    -42.297      0.000      -1.677      -1.529\n",
      "Dept_3         -0.8612      0.035    -24.335      0.000      -0.931      -0.792\n",
      "Dept_30        -1.8915      0.038    -49.383      0.000      -1.967      -1.816\n",
      "Dept_31        -2.6253      0.036    -72.800      0.000      -2.696      -2.555\n",
      "Dept_32        -1.6683      0.036    -45.887      0.000      -1.740      -1.597\n",
      "Dept_33        -1.5399      0.038    -40.792      0.000      -1.614      -1.466\n",
      "Dept_34        -0.5687      0.038    -14.930      0.000      -0.643      -0.494\n",
      "Dept_35        -2.2478      0.039    -58.362      0.000      -2.323      -2.172\n",
      "Dept_36        -2.8358      0.038    -74.775      0.000      -2.910      -2.761\n",
      "Dept_37        -2.2996      0.051    -45.457      0.000      -2.399      -2.200\n",
      "Dept_38         1.3245      0.035     37.348      0.000       1.255       1.394\n",
      "Dept_39        -8.2773      0.476    -17.406      0.000      -9.209      -7.345\n",
      "Dept_4          0.4034      0.035     11.483      0.000       0.335       0.472\n",
      "Dept_40         0.9121      0.035     25.705      0.000       0.843       0.982\n",
      "Dept_41        -3.0160      0.038    -79.319      0.000      -3.090      -2.941\n",
      "Dept_42        -1.7327      0.036    -48.524      0.000      -1.803      -1.663\n",
      "Dept_43        -8.5092      0.521    -16.340      0.000      -9.530      -7.489\n",
      "Dept_44        -1.8038      0.038    -47.885      0.000      -1.878      -1.730\n",
      "Dept_45        -7.2343      0.058   -124.244      0.000      -7.348      -7.120\n",
      "Dept_47        -7.0320      0.090    -77.852      0.000      -7.209      -6.855\n",
      "Dept_48        -3.5618      0.057    -62.030      0.000      -3.674      -3.449\n",
      "Dept_49        -2.2448      0.040    -55.921      0.000      -2.324      -2.166\n",
      "Dept_5         -0.3414      0.035     -9.623      0.000      -0.411      -0.272\n",
      "Dept_50        -2.6345      0.065    -40.529      0.000      -2.762      -2.507\n",
      "Dept_51        -7.4404      0.067   -111.639      0.000      -7.571      -7.310\n",
      "Dept_52        -2.8371      0.036    -79.388      0.000      -2.907      -2.767\n",
      "Dept_54        -6.0464      0.040   -151.696      0.000      -6.125      -5.968\n",
      "Dept_55        -1.0747      0.037    -28.839      0.000      -1.148      -1.002\n",
      "Dept_56        -2.5791      0.036    -70.809      0.000      -2.651      -2.508\n",
      "Dept_58        -2.3731      0.040    -59.072      0.000      -2.452      -2.294\n",
      "Dept_59        -4.1544      0.036   -114.838      0.000      -4.225      -4.083\n",
      "Dept_6         -2.0504      0.037    -55.744      0.000      -2.122      -1.978\n",
      "Dept_60        -4.1346      0.037   -110.932      0.000      -4.208      -4.062\n",
      "Dept_65         0.8490      0.186      4.554      0.000       0.484       1.214\n",
      "Dept_67        -1.1074      0.035    -31.563      0.000      -1.176      -1.039\n",
      "Dept_7         -0.3092      0.036     -8.671      0.000      -0.379      -0.239\n",
      "Dept_71        -1.6375      0.038    -43.250      0.000      -1.712      -1.563\n",
      "Dept_72         0.1899      0.036      5.227      0.000       0.119       0.261\n",
      "Dept_74        -0.7297      0.036    -20.451      0.000      -0.800      -0.660\n",
      "Dept_77        -4.7315      0.196    -24.186      0.000      -5.115      -4.348\n",
      "Dept_78        -8.1011      0.157    -51.654      0.000      -8.409      -7.794\n",
      "Dept_79         0.1308      0.036      3.662      0.000       0.061       0.201\n",
      "Dept_8          0.4538      0.036     12.705      0.000       0.384       0.524\n",
      "Dept_80        -1.4669      0.036    -40.468      0.000      -1.538      -1.396\n",
      "Dept_81        -0.2364      0.036     -6.653      0.000      -0.306      -0.167\n",
      "Dept_82        -0.1982      0.036     -5.553      0.000      -0.268      -0.128\n",
      "Dept_83        -2.0682      0.037    -56.431      0.000      -2.140      -1.996\n",
      "Dept_85        -2.4935      0.036    -68.403      0.000      -2.565      -2.422\n",
      "Dept_87        -0.8444      0.035    -23.794      0.000      -0.914      -0.775\n",
      "Dept_9         -0.6657      0.035    -18.847      0.000      -0.735      -0.596\n",
      "Dept_90         0.6928      0.035     19.535      0.000       0.623       0.762\n",
      "Dept_91         0.1968      0.036      5.541      0.000       0.127       0.266\n",
      "Dept_92         1.2410      0.036     34.860      0.000       1.171       1.311\n",
      "Dept_93        -0.2402      0.036     -6.656      0.000      -0.311      -0.169\n",
      "Dept_94        -0.6508      0.037    -17.736      0.000      -0.723      -0.579\n",
      "Dept_95         1.3019      0.035     36.680      0.000       1.232       1.371\n",
      "Dept_96        -0.4919      0.040    -12.448      0.000      -0.569      -0.414\n",
      "Dept_97        -0.5665      0.036    -15.788      0.000      -0.637      -0.496\n",
      "Dept_98        -2.5520      0.036    -71.768      0.000      -2.622      -2.482\n",
      "MarkDown1    1.162e-07   8.43e-07      0.138      0.890   -1.54e-06    1.77e-06\n",
      "MarkDown2   -2.121e-06   8.59e-07     -2.468      0.014    -3.8e-06   -4.36e-07\n",
      "MarkDown3    4.004e-06   8.21e-07      4.878      0.000     2.4e-06    5.61e-06\n",
      "MarkDown5    5.273e-06   1.42e-06      3.703      0.000    2.48e-06    8.06e-06\n",
      "Size         2.462e-05   3.17e-07     77.776      0.000     2.4e-05    2.52e-05\n",
      "Store_11       -1.4129      0.045    -31.660      0.000      -1.500      -1.325\n",
      "Store_13       -0.7830      0.033    -23.503      0.000      -0.848      -0.718\n",
      "Store_14       -0.7753      0.036    -21.256      0.000      -0.847      -0.704\n",
      "Store_15       -0.9308      0.028    -32.889      0.000      -0.986      -0.875\n",
      "Store_16        0.0681      0.028      2.447      0.014       0.014       0.123\n",
      "Store_17        0.1561      0.029      5.417      0.000       0.100       0.213\n",
      "Store_18       -0.2889      0.028    -10.276      0.000      -0.344      -0.234\n",
      "Store_19       -0.7460      0.032    -23.550      0.000      -0.808      -0.684\n",
      "Store_2        -1.0070      0.042    -23.753      0.000      -1.090      -0.924\n",
      "Store_20       -0.9526      0.041    -23.090      0.000      -1.033      -0.872\n",
      "Store_21       -1.6174      0.042    -38.857      0.000      -1.699      -1.536\n",
      "Store_22       -0.3467      0.028    -12.320      0.000      -0.402      -0.292\n",
      "Store_23        0.1890      0.028      6.866      0.000       0.135       0.243\n",
      "Store_24       -0.9217      0.032    -29.074      0.000      -0.984      -0.860\n",
      "Store_25       -1.4580      0.038    -38.502      0.000      -1.532      -1.384\n",
      "Store_27       -0.6443      0.032    -20.148      0.000      -0.707      -0.582\n",
      "Store_28       -0.8641      0.032    -26.658      0.000      -0.928      -0.801\n",
      "Store_29       -0.3845      0.029    -13.423      0.000      -0.441      -0.328\n",
      "Store_31       -1.5761      0.043    -36.758      0.000      -1.660      -1.492\n",
      "Store_32       -1.4190      0.038    -37.053      0.000      -1.494      -1.344\n",
      "Store_33        0.4735      0.054      8.754      0.000       0.367       0.580\n",
      "Store_34       -0.1591      0.030     -5.307      0.000      -0.218      -0.100\n",
      "Store_35       -0.1322      0.028     -4.793      0.000      -0.186      -0.078\n",
      "Store_36        0.2853      0.039      7.303      0.000       0.209       0.362\n",
      "Store_37        0.5168      0.038     13.762      0.000       0.443       0.590\n",
      "Store_38        0.7377      0.053     13.964      0.000       0.634       0.841\n",
      "Store_39       -0.9072      0.038    -23.626      0.000      -0.983      -0.832\n",
      "Store_4        -0.4255      0.032    -13.444      0.000      -0.488      -0.363\n",
      "Store_40       -0.0969      0.030     -3.280      0.001      -0.155      -0.039\n",
      "Store_41       -1.1627      0.037    -31.605      0.000      -1.235      -1.091\n",
      "Store_42        1.1357      0.053     21.308      0.000       1.031       1.240\n",
      "Store_43        0.5036      0.038     13.204      0.000       0.429       0.578\n",
      "Store_44        0.5096      0.053      9.695      0.000       0.407       0.613\n",
      "Store_45       -0.8792      0.031    -27.958      0.000      -0.941      -0.818\n",
      "Store_6        -1.1148      0.043    -25.952      0.000      -1.199      -1.031\n",
      "Store_7        -0.2514      0.028     -8.869      0.000      -0.307      -0.196\n",
      "Store_8        -0.5957      0.034    -17.760      0.000      -0.661      -0.530\n",
      "Store_9        -1.6732      0.040    -42.059      0.000      -1.751      -1.595\n",
      "Temperature    -0.0024      0.000     -9.678      0.000      -0.003      -0.002\n",
      "Type_B          1.2467      0.026     47.555      0.000       1.195       1.298\n",
      "==============================================================================\n",
      "Omnibus:                    37374.921   Durbin-Watson:                   1.999\n",
      "Prob(Omnibus):                  0.000   Jarque-Bera (JB):           254218.317\n",
      "Skew:                          -1.544   Prob(JB):                         0.00\n",
      "Kurtosis:                       9.954   Cond. No.                     5.07e+08\n",
      "==============================================================================\n",
      "\n",
      "Warnings:\n",
      "[1] Standard Errors assume that the covariance matrix of the errors is correctly specified.\n",
      "[2] The condition number is large, 5.07e+08. This might indicate that there are\n",
      "strong multicollinearity or other numerical problems.\n"
     ]
    }
   ],
   "source": [
    "lm1 = smf.ols('''ln_Weekly_Sales ~CPI+Date_Month+Date_Year+Dept_10+Dept_11+Dept_12+Dept_13+Dept_14+Dept_16+Dept_17+Dept_18+Dept_19+Dept_2+Dept_20+Dept_21+Dept_22+Dept_23+Dept_24+Dept_25+Dept_26+Dept_27+Dept_28+Dept_29+Dept_3+Dept_30+Dept_31+Dept_32+Dept_33+Dept_34+Dept_35+Dept_36+Dept_37+Dept_38+Dept_39+Dept_4+Dept_40+Dept_41+Dept_42+Dept_43+Dept_44+Dept_45+Dept_47+Dept_48+Dept_49+Dept_5+Dept_50+Dept_51+Dept_52+Dept_54+Dept_55+Dept_56+Dept_58+Dept_59+Dept_6+Dept_60+Dept_65+Dept_67+Dept_7+Dept_71+Dept_72+Dept_74+Dept_77+Dept_78+Dept_79+Dept_8+Dept_80+Dept_81+Dept_82+Dept_83+Dept_85+Dept_87+Dept_9+Dept_90+Dept_91+Dept_92+Dept_93+Dept_94+Dept_95+Dept_96+Dept_97+Dept_98+MarkDown1+MarkDown2+MarkDown3+MarkDown5+Size+Store_11+Store_13+Store_14+Store_15+Store_16+Store_17+Store_18+Store_19+Store_2+Store_20+Store_21+Store_22+Store_23+Store_24+Store_25+Store_27+Store_28+Store_29+Store_31+Store_32+Store_33+Store_34+Store_35+Store_36+Store_37+Store_38+Store_39+Store_4+Store_40+Store_41+Store_42+Store_43+Store_44+Store_45+Store_6+Store_7+Store_8+Store_9+Temperature+Type_B''', test).fit()\n",
    "print(lm1.summary())"
   ]
  },
  {
   "cell_type": "code",
   "execution_count": 0,
   "metadata": {
    "colab": {},
    "colab_type": "code",
    "id": "TkBpKCI_RTl0"
   },
   "outputs": [],
   "source": []
  },
  {
   "cell_type": "code",
   "execution_count": 134,
   "metadata": {
    "colab": {
     "base_uri": "https://localhost:8080/",
     "height": 221
    },
    "colab_type": "code",
    "id": "UNL-VWRPzuta",
    "outputId": "b17a0731-adec-40e1-facc-62b5749b5f82"
   },
   "outputs": [
    {
     "name": "stderr",
     "output_type": "stream",
     "text": [
      "/usr/local/lib/python3.6/dist-packages/ipykernel_launcher.py:1: SettingWithCopyWarning: \n",
      "A value is trying to be set on a copy of a slice from a DataFrame.\n",
      "Try using .loc[row_indexer,col_indexer] = value instead\n",
      "\n",
      "See the caveats in the documentation: http://pandas.pydata.org/pandas-docs/stable/user_guide/indexing.html#returning-a-view-versus-a-copy\n",
      "  \"\"\"Entry point for launching an IPython kernel.\n",
      "/usr/local/lib/python3.6/dist-packages/ipykernel_launcher.py:2: SettingWithCopyWarning: \n",
      "A value is trying to be set on a copy of a slice from a DataFrame.\n",
      "Try using .loc[row_indexer,col_indexer] = value instead\n",
      "\n",
      "See the caveats in the documentation: http://pandas.pydata.org/pandas-docs/stable/user_guide/indexing.html#returning-a-view-versus-a-copy\n",
      "  \n"
     ]
    }
   ],
   "source": [
    "# Predict the values on training and testing dataset\n",
    "train['y_pred'] = lm1.predict(train)\n",
    "test['y_pred_test'] = lm1.predict(test)"
   ]
  },
  {
   "cell_type": "code",
   "execution_count": 135,
   "metadata": {
    "colab": {
     "base_uri": "https://localhost:8080/",
     "height": 68
    },
    "colab_type": "code",
    "id": "170ndwgkzvNk",
    "outputId": "015ad202-d1fe-4ed6-cdb8-cd71c9679f3d"
   },
   "outputs": [
    {
     "name": "stdout",
     "output_type": "stream",
     "text": [
      "RMSE_train: 1.1675491534417477\n",
      "\n",
      "RMSE_test: 1.162342124070064\n"
     ]
    }
   ],
   "source": [
    "from sklearn.metrics import mean_absolute_error, mean_squared_error, r2_score\n",
    "\n",
    "RMSE_train = np.sqrt(mean_squared_error(train.ln_Weekly_Sales, train.y_pred))\n",
    "print('RMSE_train:', RMSE_train)\n",
    "\n",
    "RMSE_test = np.sqrt(mean_squared_error(test.ln_Weekly_Sales, test.y_pred_test))\n",
    "print('\\nRMSE_test:', RMSE_test)"
   ]
  },
  {
   "cell_type": "code",
   "execution_count": 136,
   "metadata": {
    "colab": {
     "base_uri": "https://localhost:8080/",
     "height": 68
    },
    "colab_type": "code",
    "id": "yrebTMgjzvel",
    "outputId": "3aa88403-eafe-4537-a96c-fce53af26ddb"
   },
   "outputs": [
    {
     "name": "stdout",
     "output_type": "stream",
     "text": [
      "MAPE_train: 13.825023352025287\n",
      "\n",
      "MAPE_test: 13.683949267413485\n"
     ]
    }
   ],
   "source": [
    "# The mean absolute percentage error is a measure of prediction accuracy of a forecasting method in statistics.\n",
    "\n",
    "MAPE_train = np.mean(abs(train.ln_Weekly_Sales - train.y_pred)*100 / train.ln_Weekly_Sales)\n",
    "print('MAPE_train:', MAPE_train)\n",
    "\n",
    "MAPE_test = np.mean(abs(test.ln_Weekly_Sales - test.y_pred_test)*100 / test.ln_Weekly_Sales)\n",
    "print('\\nMAPE_test:', MAPE_test)"
   ]
  },
  {
   "cell_type": "code",
   "execution_count": 0,
   "metadata": {
    "colab": {},
    "colab_type": "code",
    "id": "nKReIqUdzv23"
   },
   "outputs": [],
   "source": []
  },
  {
   "cell_type": "code",
   "execution_count": 0,
   "metadata": {
    "colab": {},
    "colab_type": "code",
    "id": "VxSR0qrmtUxp"
   },
   "outputs": [],
   "source": [
    "##VIF"
   ]
  },
  {
   "cell_type": "code",
   "execution_count": 0,
   "metadata": {
    "colab": {},
    "colab_type": "code",
    "id": "mGBdSMvktLZw"
   },
   "outputs": [],
   "source": [
    "from statsmodels.stats.outliers_influence import variance_inflation_factor\n",
    "from patsy import dmatrices\n",
    "\n",
    "\n",
    "#gather features\n",
    "Features_ = \"+\".join(N_r.columns.difference(['ln_Weekly_Sales']))\n",
    "\n",
    "# # get y and X dataframes based on this regression:\n",
    "a, b = dmatrices('ln_Weekly_Sales ~' + Features_, N_r, return_type='dataframe')"
   ]
  },
  {
   "cell_type": "code",
   "execution_count": 0,
   "metadata": {
    "colab": {},
    "colab_type": "code",
    "id": "DH_XHx9ttLSS"
   },
   "outputs": [],
   "source": [
    "# # For each X, calculate VIF and save in dataframe\n",
    "vif = pd.DataFrame()\n",
    "vif[\"VIF Factor\"] = [variance_inflation_factor(b.values, i) for i in range(b.shape[1])]\n",
    "vif[\"features\"] = b.columns"
   ]
  },
  {
   "cell_type": "code",
   "execution_count": 131,
   "metadata": {
    "colab": {
     "base_uri": "https://localhost:8080/",
     "height": 1000
    },
    "colab_type": "code",
    "id": "r3ByUvIMtLKY",
    "outputId": "18bcdfc4-fd0e-443f-c933-2a6e5a4bc22a"
   },
   "outputs": [
    {
     "data": {
      "text/html": [
       "<div>\n",
       "<style scoped>\n",
       "    .dataframe tbody tr th:only-of-type {\n",
       "        vertical-align: middle;\n",
       "    }\n",
       "\n",
       "    .dataframe tbody tr th {\n",
       "        vertical-align: top;\n",
       "    }\n",
       "\n",
       "    .dataframe thead th {\n",
       "        text-align: right;\n",
       "    }\n",
       "</style>\n",
       "<table border=\"1\" class=\"dataframe\">\n",
       "  <thead>\n",
       "    <tr style=\"text-align: right;\">\n",
       "      <th></th>\n",
       "      <th>VIF Factor</th>\n",
       "      <th>features</th>\n",
       "    </tr>\n",
       "  </thead>\n",
       "  <tbody>\n",
       "    <tr>\n",
       "      <th>0</th>\n",
       "      <td>1.139981e+07</td>\n",
       "      <td>Intercept</td>\n",
       "    </tr>\n",
       "    <tr>\n",
       "      <th>86</th>\n",
       "      <td>2.902820e+01</td>\n",
       "      <td>Size</td>\n",
       "    </tr>\n",
       "    <tr>\n",
       "      <th>1</th>\n",
       "      <td>1.324640e+01</td>\n",
       "      <td>CPI</td>\n",
       "    </tr>\n",
       "    <tr>\n",
       "      <th>126</th>\n",
       "      <td>1.261683e+01</td>\n",
       "      <td>Type_B</td>\n",
       "    </tr>\n",
       "    <tr>\n",
       "      <th>112</th>\n",
       "      <td>3.738597e+00</td>\n",
       "      <td>Store_38</td>\n",
       "    </tr>\n",
       "    <tr>\n",
       "      <th>87</th>\n",
       "      <td>3.615321e+00</td>\n",
       "      <td>Store_11</td>\n",
       "    </tr>\n",
       "    <tr>\n",
       "      <th>119</th>\n",
       "      <td>3.615269e+00</td>\n",
       "      <td>Store_44</td>\n",
       "    </tr>\n",
       "    <tr>\n",
       "      <th>117</th>\n",
       "      <td>3.597744e+00</td>\n",
       "      <td>Store_42</td>\n",
       "    </tr>\n",
       "    <tr>\n",
       "      <th>107</th>\n",
       "      <td>3.445236e+00</td>\n",
       "      <td>Store_33</td>\n",
       "    </tr>\n",
       "    <tr>\n",
       "      <th>121</th>\n",
       "      <td>3.390428e+00</td>\n",
       "      <td>Store_6</td>\n",
       "    </tr>\n",
       "    <tr>\n",
       "      <th>105</th>\n",
       "      <td>3.358347e+00</td>\n",
       "      <td>Store_31</td>\n",
       "    </tr>\n",
       "    <tr>\n",
       "      <th>95</th>\n",
       "      <td>3.322189e+00</td>\n",
       "      <td>Store_2</td>\n",
       "    </tr>\n",
       "    <tr>\n",
       "      <th>96</th>\n",
       "      <td>3.164689e+00</td>\n",
       "      <td>Store_20</td>\n",
       "    </tr>\n",
       "    <tr>\n",
       "      <th>97</th>\n",
       "      <td>2.981776e+00</td>\n",
       "      <td>Store_21</td>\n",
       "    </tr>\n",
       "    <tr>\n",
       "      <th>106</th>\n",
       "      <td>2.691329e+00</td>\n",
       "      <td>Store_32</td>\n",
       "    </tr>\n",
       "    <tr>\n",
       "      <th>113</th>\n",
       "      <td>2.648523e+00</td>\n",
       "      <td>Store_39</td>\n",
       "    </tr>\n",
       "    <tr>\n",
       "      <th>124</th>\n",
       "      <td>2.548813e+00</td>\n",
       "      <td>Store_9</td>\n",
       "    </tr>\n",
       "    <tr>\n",
       "      <th>101</th>\n",
       "      <td>2.517687e+00</td>\n",
       "      <td>Store_25</td>\n",
       "    </tr>\n",
       "    <tr>\n",
       "      <th>116</th>\n",
       "      <td>2.489235e+00</td>\n",
       "      <td>Store_41</td>\n",
       "    </tr>\n",
       "    <tr>\n",
       "      <th>89</th>\n",
       "      <td>2.415111e+00</td>\n",
       "      <td>Store_14</td>\n",
       "    </tr>\n",
       "    <tr>\n",
       "      <th>88</th>\n",
       "      <td>2.111522e+00</td>\n",
       "      <td>Store_13</td>\n",
       "    </tr>\n",
       "    <tr>\n",
       "      <th>123</th>\n",
       "      <td>2.014248e+00</td>\n",
       "      <td>Store_8</td>\n",
       "    </tr>\n",
       "    <tr>\n",
       "      <th>103</th>\n",
       "      <td>1.888378e+00</td>\n",
       "      <td>Store_28</td>\n",
       "    </tr>\n",
       "    <tr>\n",
       "      <th>114</th>\n",
       "      <td>1.877516e+00</td>\n",
       "      <td>Store_4</td>\n",
       "    </tr>\n",
       "    <tr>\n",
       "      <th>102</th>\n",
       "      <td>1.871666e+00</td>\n",
       "      <td>Store_27</td>\n",
       "    </tr>\n",
       "    <tr>\n",
       "      <th>100</th>\n",
       "      <td>1.853349e+00</td>\n",
       "      <td>Store_24</td>\n",
       "    </tr>\n",
       "    <tr>\n",
       "      <th>94</th>\n",
       "      <td>1.849355e+00</td>\n",
       "      <td>Store_19</td>\n",
       "    </tr>\n",
       "    <tr>\n",
       "      <th>3</th>\n",
       "      <td>1.794994e+00</td>\n",
       "      <td>Date_Year</td>\n",
       "    </tr>\n",
       "    <tr>\n",
       "      <th>111</th>\n",
       "      <td>1.783729e+00</td>\n",
       "      <td>Store_37</td>\n",
       "    </tr>\n",
       "    <tr>\n",
       "      <th>118</th>\n",
       "      <td>1.781769e+00</td>\n",
       "      <td>Store_43</td>\n",
       "    </tr>\n",
       "    <tr>\n",
       "      <th>85</th>\n",
       "      <td>1.736697e+00</td>\n",
       "      <td>MarkDown5</td>\n",
       "    </tr>\n",
       "    <tr>\n",
       "      <th>120</th>\n",
       "      <td>1.718988e+00</td>\n",
       "      <td>Store_45</td>\n",
       "    </tr>\n",
       "    <tr>\n",
       "      <th>82</th>\n",
       "      <td>1.715995e+00</td>\n",
       "      <td>MarkDown1</td>\n",
       "    </tr>\n",
       "    <tr>\n",
       "      <th>110</th>\n",
       "      <td>1.681462e+00</td>\n",
       "      <td>Store_36</td>\n",
       "    </tr>\n",
       "    <tr>\n",
       "      <th>108</th>\n",
       "      <td>1.670416e+00</td>\n",
       "      <td>Store_34</td>\n",
       "    </tr>\n",
       "    <tr>\n",
       "      <th>125</th>\n",
       "      <td>1.617888e+00</td>\n",
       "      <td>Temperature</td>\n",
       "    </tr>\n",
       "    <tr>\n",
       "      <th>115</th>\n",
       "      <td>1.579091e+00</td>\n",
       "      <td>Store_40</td>\n",
       "    </tr>\n",
       "    <tr>\n",
       "      <th>81</th>\n",
       "      <td>1.497880e+00</td>\n",
       "      <td>Dept_98</td>\n",
       "    </tr>\n",
       "    <tr>\n",
       "      <th>92</th>\n",
       "      <td>1.492350e+00</td>\n",
       "      <td>Store_17</td>\n",
       "    </tr>\n",
       "    <tr>\n",
       "      <th>58</th>\n",
       "      <td>1.477103e+00</td>\n",
       "      <td>Dept_7</td>\n",
       "    </tr>\n",
       "    <tr>\n",
       "      <th>13</th>\n",
       "      <td>1.477103e+00</td>\n",
       "      <td>Dept_2</td>\n",
       "    </tr>\n",
       "    <tr>\n",
       "      <th>73</th>\n",
       "      <td>1.477103e+00</td>\n",
       "      <td>Dept_90</td>\n",
       "    </tr>\n",
       "    <tr>\n",
       "      <th>4</th>\n",
       "      <td>1.477103e+00</td>\n",
       "      <td>Dept_10</td>\n",
       "    </tr>\n",
       "    <tr>\n",
       "      <th>7</th>\n",
       "      <td>1.477103e+00</td>\n",
       "      <td>Dept_13</td>\n",
       "    </tr>\n",
       "    <tr>\n",
       "      <th>24</th>\n",
       "      <td>1.477103e+00</td>\n",
       "      <td>Dept_3</td>\n",
       "    </tr>\n",
       "    <tr>\n",
       "      <th>35</th>\n",
       "      <td>1.477103e+00</td>\n",
       "      <td>Dept_4</td>\n",
       "    </tr>\n",
       "    <tr>\n",
       "      <th>33</th>\n",
       "      <td>1.477103e+00</td>\n",
       "      <td>Dept_38</td>\n",
       "    </tr>\n",
       "    <tr>\n",
       "      <th>78</th>\n",
       "      <td>1.477103e+00</td>\n",
       "      <td>Dept_95</td>\n",
       "    </tr>\n",
       "    <tr>\n",
       "      <th>75</th>\n",
       "      <td>1.477103e+00</td>\n",
       "      <td>Dept_92</td>\n",
       "    </tr>\n",
       "    <tr>\n",
       "      <th>65</th>\n",
       "      <td>1.477103e+00</td>\n",
       "      <td>Dept_8</td>\n",
       "    </tr>\n",
       "    <tr>\n",
       "      <th>64</th>\n",
       "      <td>1.477103e+00</td>\n",
       "      <td>Dept_79</td>\n",
       "    </tr>\n",
       "    <tr>\n",
       "      <th>36</th>\n",
       "      <td>1.477103e+00</td>\n",
       "      <td>Dept_40</td>\n",
       "    </tr>\n",
       "    <tr>\n",
       "      <th>8</th>\n",
       "      <td>1.477103e+00</td>\n",
       "      <td>Dept_14</td>\n",
       "    </tr>\n",
       "    <tr>\n",
       "      <th>57</th>\n",
       "      <td>1.477103e+00</td>\n",
       "      <td>Dept_67</td>\n",
       "    </tr>\n",
       "    <tr>\n",
       "      <th>9</th>\n",
       "      <td>1.477103e+00</td>\n",
       "      <td>Dept_16</td>\n",
       "    </tr>\n",
       "    <tr>\n",
       "      <th>67</th>\n",
       "      <td>1.477103e+00</td>\n",
       "      <td>Dept_81</td>\n",
       "    </tr>\n",
       "    <tr>\n",
       "      <th>15</th>\n",
       "      <td>1.477103e+00</td>\n",
       "      <td>Dept_21</td>\n",
       "    </tr>\n",
       "    <tr>\n",
       "      <th>74</th>\n",
       "      <td>1.477103e+00</td>\n",
       "      <td>Dept_91</td>\n",
       "    </tr>\n",
       "    <tr>\n",
       "      <th>68</th>\n",
       "      <td>1.477103e+00</td>\n",
       "      <td>Dept_82</td>\n",
       "    </tr>\n",
       "    <tr>\n",
       "      <th>5</th>\n",
       "      <td>1.477031e+00</td>\n",
       "      <td>Dept_11</td>\n",
       "    </tr>\n",
       "  </tbody>\n",
       "</table>\n",
       "</div>"
      ],
      "text/plain": [
       "       VIF Factor     features\n",
       "0    1.139981e+07    Intercept\n",
       "86   2.902820e+01         Size\n",
       "1    1.324640e+01          CPI\n",
       "126  1.261683e+01       Type_B\n",
       "112  3.738597e+00     Store_38\n",
       "87   3.615321e+00     Store_11\n",
       "119  3.615269e+00     Store_44\n",
       "117  3.597744e+00     Store_42\n",
       "107  3.445236e+00     Store_33\n",
       "121  3.390428e+00      Store_6\n",
       "105  3.358347e+00     Store_31\n",
       "95   3.322189e+00      Store_2\n",
       "96   3.164689e+00     Store_20\n",
       "97   2.981776e+00     Store_21\n",
       "106  2.691329e+00     Store_32\n",
       "113  2.648523e+00     Store_39\n",
       "124  2.548813e+00      Store_9\n",
       "101  2.517687e+00     Store_25\n",
       "116  2.489235e+00     Store_41\n",
       "89   2.415111e+00     Store_14\n",
       "88   2.111522e+00     Store_13\n",
       "123  2.014248e+00      Store_8\n",
       "103  1.888378e+00     Store_28\n",
       "114  1.877516e+00      Store_4\n",
       "102  1.871666e+00     Store_27\n",
       "100  1.853349e+00     Store_24\n",
       "94   1.849355e+00     Store_19\n",
       "3    1.794994e+00    Date_Year\n",
       "111  1.783729e+00     Store_37\n",
       "118  1.781769e+00     Store_43\n",
       "85   1.736697e+00    MarkDown5\n",
       "120  1.718988e+00     Store_45\n",
       "82   1.715995e+00    MarkDown1\n",
       "110  1.681462e+00     Store_36\n",
       "108  1.670416e+00     Store_34\n",
       "125  1.617888e+00  Temperature\n",
       "115  1.579091e+00     Store_40\n",
       "81   1.497880e+00      Dept_98\n",
       "92   1.492350e+00     Store_17\n",
       "58   1.477103e+00       Dept_7\n",
       "13   1.477103e+00       Dept_2\n",
       "73   1.477103e+00      Dept_90\n",
       "4    1.477103e+00      Dept_10\n",
       "7    1.477103e+00      Dept_13\n",
       "24   1.477103e+00       Dept_3\n",
       "35   1.477103e+00       Dept_4\n",
       "33   1.477103e+00      Dept_38\n",
       "78   1.477103e+00      Dept_95\n",
       "75   1.477103e+00      Dept_92\n",
       "65   1.477103e+00       Dept_8\n",
       "64   1.477103e+00      Dept_79\n",
       "36   1.477103e+00      Dept_40\n",
       "8    1.477103e+00      Dept_14\n",
       "57   1.477103e+00      Dept_67\n",
       "9    1.477103e+00      Dept_16\n",
       "67   1.477103e+00      Dept_81\n",
       "15   1.477103e+00      Dept_21\n",
       "74   1.477103e+00      Dept_91\n",
       "68   1.477103e+00      Dept_82\n",
       "5    1.477031e+00      Dept_11"
      ]
     },
     "execution_count": 131,
     "metadata": {
      "tags": []
     },
     "output_type": "execute_result"
    }
   ],
   "source": [
    "vif.sort_values(by=['VIF Factor'],ascending=False).head(60)"
   ]
  },
  {
   "cell_type": "code",
   "execution_count": 0,
   "metadata": {
    "colab": {},
    "colab_type": "code",
    "id": "_jYeBjT8tK_X"
   },
   "outputs": [],
   "source": [
    "### Residual Plot-"
   ]
  },
  {
   "cell_type": "code",
   "execution_count": 137,
   "metadata": {
    "colab": {
     "base_uri": "https://localhost:8080/",
     "height": 221
    },
    "colab_type": "code",
    "id": "My3hL_0ltiuF",
    "outputId": "524e513a-bc03-4147-f0b9-156bfc5f0bb2"
   },
   "outputs": [
    {
     "data": {
      "text/plain": [
       "233571   -0.290202\n",
       "88992    -0.308223\n",
       "367842   -0.541340\n",
       "184359   -0.540439\n",
       "26175     0.396039\n",
       "            ...   \n",
       "117461    0.227795\n",
       "392851    0.918438\n",
       "35553     0.313802\n",
       "212138    1.158917\n",
       "199427   -0.282020\n",
       "Length: 105393, dtype: float64"
      ]
     },
     "execution_count": 137,
     "metadata": {
      "tags": []
     },
     "output_type": "execute_result"
    }
   ],
   "source": [
    "lm1.resid"
   ]
  },
  {
   "cell_type": "code",
   "execution_count": 138,
   "metadata": {
    "colab": {
     "base_uri": "https://localhost:8080/",
     "height": 290
    },
    "colab_type": "code",
    "id": "G8Np-yJcRzIZ",
    "outputId": "ecb43ba3-5b51-4119-cc62-23f381fa83e4"
   },
   "outputs": [
    {
     "data": {
      "text/plain": [
       "<matplotlib.axes._subplots.AxesSubplot at 0x7f864ef44438>"
      ]
     },
     "execution_count": 138,
     "metadata": {
      "tags": []
     },
     "output_type": "execute_result"
    },
    {
     "data": {
      "image/png": "[encoded data removed]",
      "text/plain": [
       "<Figure size 432x288 with 1 Axes>"
      ]
     },
     "metadata": {
      "tags": []
     },
     "output_type": "display_data"
    }
   ],
   "source": [
    "sns.distplot(lm1.resid) ###Residual is normal."
   ]
  },
  {
   "cell_type": "code",
   "execution_count": 139,
   "metadata": {
    "colab": {
     "base_uri": "https://localhost:8080/",
     "height": 298
    },
    "colab_type": "code",
    "id": "sKg_XORURzwa",
    "outputId": "d8a3234e-3392-4ba3-8047-cc1f26413e2d"
   },
   "outputs": [
    {
     "data": {
      "image/png": "[encoded data removed]",
      "text/plain": [
       "<Figure size 432x288 with 1 Axes>"
      ]
     },
     "metadata": {
      "tags": []
     },
     "output_type": "display_data"
    }
   ],
   "source": [
    "from scipy import stats\n",
    "import pylab\n",
    "\n",
    "stats.probplot(lm1.resid, dist=\"norm\", plot=pylab )\n",
    "pylab.show()"
   ]
  },
  {
   "cell_type": "code",
   "execution_count": 0,
   "metadata": {
    "colab": {},
    "colab_type": "code",
    "id": "duRj_81vtjhi"
   },
   "outputs": [],
   "source": []
  },
  {
   "cell_type": "code",
   "execution_count": 0,
   "metadata": {
    "colab": {},
    "colab_type": "code",
    "id": "zsCRMUkREDDL"
   },
   "outputs": [],
   "source": [
    "## Testing Dataset"
   ]
  },
  {
   "cell_type": "code",
   "execution_count": 0,
   "metadata": {
    "colab": {},
    "colab_type": "code",
    "id": "7nV6UCXSEDDU"
   },
   "outputs": [],
   "source": [
    "# predicting Weekly_sales on the testing dataset\n",
    "\n",
    "test_final['Weekly_sales'] = np.exp(lm1.predict(test_final))"
   ]
  },
  {
   "cell_type": "code",
   "execution_count": 142,
   "metadata": {
    "colab": {
     "base_uri": "https://localhost:8080/",
     "height": 338
    },
    "colab_type": "code",
    "id": "XT6UmM9FEDDY",
    "outputId": "db540eac-c26a-4f38-9acc-60bfb8f4f369"
   },
   "outputs": [
    {
     "data": {
      "text/html": [
       "<div>\n",
       "<style scoped>\n",
       "    .dataframe tbody tr th:only-of-type {\n",
       "        vertical-align: middle;\n",
       "    }\n",
       "\n",
       "    .dataframe tbody tr th {\n",
       "        vertical-align: top;\n",
       "    }\n",
       "\n",
       "    .dataframe thead th {\n",
       "        text-align: right;\n",
       "    }\n",
       "</style>\n",
       "<table border=\"1\" class=\"dataframe\">\n",
       "  <thead>\n",
       "    <tr style=\"text-align: right;\">\n",
       "      <th></th>\n",
       "      <th>Date</th>\n",
       "      <th>Date_Week</th>\n",
       "      <th>Date_Month</th>\n",
       "      <th>Date_Year</th>\n",
       "      <th>Date_Day</th>\n",
       "      <th>IsHoliday</th>\n",
       "      <th>Size</th>\n",
       "      <th>Temperature</th>\n",
       "      <th>Fuel_Price</th>\n",
       "      <th>MarkDown1</th>\n",
       "      <th>MarkDown2</th>\n",
       "      <th>MarkDown3</th>\n",
       "      <th>MarkDown4</th>\n",
       "      <th>MarkDown5</th>\n",
       "      <th>CPI</th>\n",
       "      <th>Unemployment</th>\n",
       "      <th>Type_B</th>\n",
       "      <th>Type_C</th>\n",
       "      <th>Store_2</th>\n",
       "      <th>Store_3</th>\n",
       "      <th>Store_4</th>\n",
       "      <th>Store_5</th>\n",
       "      <th>Store_6</th>\n",
       "      <th>Store_7</th>\n",
       "      <th>Store_8</th>\n",
       "      <th>Store_9</th>\n",
       "      <th>Store_10</th>\n",
       "      <th>Store_11</th>\n",
       "      <th>Store_12</th>\n",
       "      <th>Store_13</th>\n",
       "      <th>Store_14</th>\n",
       "      <th>Store_15</th>\n",
       "      <th>Store_16</th>\n",
       "      <th>Store_17</th>\n",
       "      <th>Store_18</th>\n",
       "      <th>Store_19</th>\n",
       "      <th>Store_20</th>\n",
       "      <th>Store_21</th>\n",
       "      <th>Store_22</th>\n",
       "      <th>Store_23</th>\n",
       "      <th>...</th>\n",
       "      <th>Dept_43</th>\n",
       "      <th>Dept_44</th>\n",
       "      <th>Dept_45</th>\n",
       "      <th>Dept_46</th>\n",
       "      <th>Dept_47</th>\n",
       "      <th>Dept_48</th>\n",
       "      <th>Dept_49</th>\n",
       "      <th>Dept_50</th>\n",
       "      <th>Dept_51</th>\n",
       "      <th>Dept_52</th>\n",
       "      <th>Dept_54</th>\n",
       "      <th>Dept_55</th>\n",
       "      <th>Dept_56</th>\n",
       "      <th>Dept_58</th>\n",
       "      <th>Dept_59</th>\n",
       "      <th>Dept_60</th>\n",
       "      <th>Dept_65</th>\n",
       "      <th>Dept_67</th>\n",
       "      <th>Dept_71</th>\n",
       "      <th>Dept_72</th>\n",
       "      <th>Dept_74</th>\n",
       "      <th>Dept_77</th>\n",
       "      <th>Dept_78</th>\n",
       "      <th>Dept_79</th>\n",
       "      <th>Dept_80</th>\n",
       "      <th>Dept_81</th>\n",
       "      <th>Dept_82</th>\n",
       "      <th>Dept_83</th>\n",
       "      <th>Dept_85</th>\n",
       "      <th>Dept_87</th>\n",
       "      <th>Dept_90</th>\n",
       "      <th>Dept_91</th>\n",
       "      <th>Dept_92</th>\n",
       "      <th>Dept_93</th>\n",
       "      <th>Dept_94</th>\n",
       "      <th>Dept_95</th>\n",
       "      <th>Dept_96</th>\n",
       "      <th>Dept_97</th>\n",
       "      <th>Dept_98</th>\n",
       "      <th>Weekly_sales</th>\n",
       "    </tr>\n",
       "  </thead>\n",
       "  <tbody>\n",
       "    <tr>\n",
       "      <th>0</th>\n",
       "      <td>2012-11-02</td>\n",
       "      <td>44</td>\n",
       "      <td>11</td>\n",
       "      <td>2012</td>\n",
       "      <td>2</td>\n",
       "      <td>0</td>\n",
       "      <td>151315</td>\n",
       "      <td>55</td>\n",
       "      <td>3</td>\n",
       "      <td>6766</td>\n",
       "      <td>5147</td>\n",
       "      <td>50</td>\n",
       "      <td>3639</td>\n",
       "      <td>2737</td>\n",
       "      <td>223</td>\n",
       "      <td>6</td>\n",
       "      <td>0</td>\n",
       "      <td>0</td>\n",
       "      <td>0</td>\n",
       "      <td>0</td>\n",
       "      <td>0</td>\n",
       "      <td>0</td>\n",
       "      <td>0</td>\n",
       "      <td>0</td>\n",
       "      <td>0</td>\n",
       "      <td>0</td>\n",
       "      <td>0</td>\n",
       "      <td>0</td>\n",
       "      <td>0</td>\n",
       "      <td>0</td>\n",
       "      <td>0</td>\n",
       "      <td>0</td>\n",
       "      <td>0</td>\n",
       "      <td>0</td>\n",
       "      <td>0</td>\n",
       "      <td>0</td>\n",
       "      <td>0</td>\n",
       "      <td>0</td>\n",
       "      <td>0</td>\n",
       "      <td>0</td>\n",
       "      <td>...</td>\n",
       "      <td>0</td>\n",
       "      <td>0</td>\n",
       "      <td>0</td>\n",
       "      <td>0</td>\n",
       "      <td>0</td>\n",
       "      <td>0</td>\n",
       "      <td>0</td>\n",
       "      <td>0</td>\n",
       "      <td>0</td>\n",
       "      <td>0</td>\n",
       "      <td>0</td>\n",
       "      <td>0</td>\n",
       "      <td>0</td>\n",
       "      <td>0</td>\n",
       "      <td>0</td>\n",
       "      <td>0</td>\n",
       "      <td>0</td>\n",
       "      <td>0</td>\n",
       "      <td>0</td>\n",
       "      <td>0</td>\n",
       "      <td>0</td>\n",
       "      <td>0</td>\n",
       "      <td>0</td>\n",
       "      <td>0</td>\n",
       "      <td>0</td>\n",
       "      <td>0</td>\n",
       "      <td>0</td>\n",
       "      <td>0</td>\n",
       "      <td>0</td>\n",
       "      <td>0</td>\n",
       "      <td>0</td>\n",
       "      <td>0</td>\n",
       "      <td>0</td>\n",
       "      <td>0</td>\n",
       "      <td>0</td>\n",
       "      <td>0</td>\n",
       "      <td>0</td>\n",
       "      <td>0</td>\n",
       "      <td>0</td>\n",
       "      <td>34195.565312</td>\n",
       "    </tr>\n",
       "    <tr>\n",
       "      <th>1</th>\n",
       "      <td>2012-11-02</td>\n",
       "      <td>44</td>\n",
       "      <td>11</td>\n",
       "      <td>2012</td>\n",
       "      <td>2</td>\n",
       "      <td>0</td>\n",
       "      <td>151315</td>\n",
       "      <td>55</td>\n",
       "      <td>3</td>\n",
       "      <td>6766</td>\n",
       "      <td>5147</td>\n",
       "      <td>50</td>\n",
       "      <td>3639</td>\n",
       "      <td>2737</td>\n",
       "      <td>223</td>\n",
       "      <td>6</td>\n",
       "      <td>0</td>\n",
       "      <td>0</td>\n",
       "      <td>0</td>\n",
       "      <td>0</td>\n",
       "      <td>0</td>\n",
       "      <td>0</td>\n",
       "      <td>0</td>\n",
       "      <td>0</td>\n",
       "      <td>0</td>\n",
       "      <td>0</td>\n",
       "      <td>0</td>\n",
       "      <td>0</td>\n",
       "      <td>0</td>\n",
       "      <td>0</td>\n",
       "      <td>0</td>\n",
       "      <td>0</td>\n",
       "      <td>0</td>\n",
       "      <td>0</td>\n",
       "      <td>0</td>\n",
       "      <td>0</td>\n",
       "      <td>0</td>\n",
       "      <td>0</td>\n",
       "      <td>0</td>\n",
       "      <td>0</td>\n",
       "      <td>...</td>\n",
       "      <td>0</td>\n",
       "      <td>0</td>\n",
       "      <td>0</td>\n",
       "      <td>0</td>\n",
       "      <td>0</td>\n",
       "      <td>0</td>\n",
       "      <td>0</td>\n",
       "      <td>0</td>\n",
       "      <td>0</td>\n",
       "      <td>0</td>\n",
       "      <td>0</td>\n",
       "      <td>0</td>\n",
       "      <td>0</td>\n",
       "      <td>0</td>\n",
       "      <td>0</td>\n",
       "      <td>0</td>\n",
       "      <td>0</td>\n",
       "      <td>0</td>\n",
       "      <td>0</td>\n",
       "      <td>0</td>\n",
       "      <td>0</td>\n",
       "      <td>0</td>\n",
       "      <td>0</td>\n",
       "      <td>0</td>\n",
       "      <td>0</td>\n",
       "      <td>0</td>\n",
       "      <td>0</td>\n",
       "      <td>0</td>\n",
       "      <td>0</td>\n",
       "      <td>0</td>\n",
       "      <td>0</td>\n",
       "      <td>0</td>\n",
       "      <td>0</td>\n",
       "      <td>0</td>\n",
       "      <td>0</td>\n",
       "      <td>0</td>\n",
       "      <td>0</td>\n",
       "      <td>0</td>\n",
       "      <td>0</td>\n",
       "      <td>79468.902045</td>\n",
       "    </tr>\n",
       "    <tr>\n",
       "      <th>2</th>\n",
       "      <td>2012-11-02</td>\n",
       "      <td>44</td>\n",
       "      <td>11</td>\n",
       "      <td>2012</td>\n",
       "      <td>2</td>\n",
       "      <td>0</td>\n",
       "      <td>151315</td>\n",
       "      <td>55</td>\n",
       "      <td>3</td>\n",
       "      <td>6766</td>\n",
       "      <td>5147</td>\n",
       "      <td>50</td>\n",
       "      <td>3639</td>\n",
       "      <td>2737</td>\n",
       "      <td>223</td>\n",
       "      <td>6</td>\n",
       "      <td>0</td>\n",
       "      <td>0</td>\n",
       "      <td>0</td>\n",
       "      <td>0</td>\n",
       "      <td>0</td>\n",
       "      <td>0</td>\n",
       "      <td>0</td>\n",
       "      <td>0</td>\n",
       "      <td>0</td>\n",
       "      <td>0</td>\n",
       "      <td>0</td>\n",
       "      <td>0</td>\n",
       "      <td>0</td>\n",
       "      <td>0</td>\n",
       "      <td>0</td>\n",
       "      <td>0</td>\n",
       "      <td>0</td>\n",
       "      <td>0</td>\n",
       "      <td>0</td>\n",
       "      <td>0</td>\n",
       "      <td>0</td>\n",
       "      <td>0</td>\n",
       "      <td>0</td>\n",
       "      <td>0</td>\n",
       "      <td>...</td>\n",
       "      <td>0</td>\n",
       "      <td>0</td>\n",
       "      <td>0</td>\n",
       "      <td>0</td>\n",
       "      <td>0</td>\n",
       "      <td>0</td>\n",
       "      <td>0</td>\n",
       "      <td>0</td>\n",
       "      <td>0</td>\n",
       "      <td>0</td>\n",
       "      <td>0</td>\n",
       "      <td>0</td>\n",
       "      <td>0</td>\n",
       "      <td>0</td>\n",
       "      <td>0</td>\n",
       "      <td>0</td>\n",
       "      <td>0</td>\n",
       "      <td>0</td>\n",
       "      <td>0</td>\n",
       "      <td>0</td>\n",
       "      <td>0</td>\n",
       "      <td>0</td>\n",
       "      <td>0</td>\n",
       "      <td>0</td>\n",
       "      <td>0</td>\n",
       "      <td>0</td>\n",
       "      <td>0</td>\n",
       "      <td>0</td>\n",
       "      <td>0</td>\n",
       "      <td>0</td>\n",
       "      <td>0</td>\n",
       "      <td>0</td>\n",
       "      <td>0</td>\n",
       "      <td>0</td>\n",
       "      <td>0</td>\n",
       "      <td>0</td>\n",
       "      <td>0</td>\n",
       "      <td>0</td>\n",
       "      <td>0</td>\n",
       "      <td>14453.012732</td>\n",
       "    </tr>\n",
       "    <tr>\n",
       "      <th>3</th>\n",
       "      <td>2012-11-02</td>\n",
       "      <td>44</td>\n",
       "      <td>11</td>\n",
       "      <td>2012</td>\n",
       "      <td>2</td>\n",
       "      <td>0</td>\n",
       "      <td>151315</td>\n",
       "      <td>55</td>\n",
       "      <td>3</td>\n",
       "      <td>6766</td>\n",
       "      <td>5147</td>\n",
       "      <td>50</td>\n",
       "      <td>3639</td>\n",
       "      <td>2737</td>\n",
       "      <td>223</td>\n",
       "      <td>6</td>\n",
       "      <td>0</td>\n",
       "      <td>0</td>\n",
       "      <td>0</td>\n",
       "      <td>0</td>\n",
       "      <td>0</td>\n",
       "      <td>0</td>\n",
       "      <td>0</td>\n",
       "      <td>0</td>\n",
       "      <td>0</td>\n",
       "      <td>0</td>\n",
       "      <td>0</td>\n",
       "      <td>0</td>\n",
       "      <td>0</td>\n",
       "      <td>0</td>\n",
       "      <td>0</td>\n",
       "      <td>0</td>\n",
       "      <td>0</td>\n",
       "      <td>0</td>\n",
       "      <td>0</td>\n",
       "      <td>0</td>\n",
       "      <td>0</td>\n",
       "      <td>0</td>\n",
       "      <td>0</td>\n",
       "      <td>0</td>\n",
       "      <td>...</td>\n",
       "      <td>0</td>\n",
       "      <td>0</td>\n",
       "      <td>0</td>\n",
       "      <td>0</td>\n",
       "      <td>0</td>\n",
       "      <td>0</td>\n",
       "      <td>0</td>\n",
       "      <td>0</td>\n",
       "      <td>0</td>\n",
       "      <td>0</td>\n",
       "      <td>0</td>\n",
       "      <td>0</td>\n",
       "      <td>0</td>\n",
       "      <td>0</td>\n",
       "      <td>0</td>\n",
       "      <td>0</td>\n",
       "      <td>0</td>\n",
       "      <td>0</td>\n",
       "      <td>0</td>\n",
       "      <td>0</td>\n",
       "      <td>0</td>\n",
       "      <td>0</td>\n",
       "      <td>0</td>\n",
       "      <td>0</td>\n",
       "      <td>0</td>\n",
       "      <td>0</td>\n",
       "      <td>0</td>\n",
       "      <td>0</td>\n",
       "      <td>0</td>\n",
       "      <td>0</td>\n",
       "      <td>0</td>\n",
       "      <td>0</td>\n",
       "      <td>0</td>\n",
       "      <td>0</td>\n",
       "      <td>0</td>\n",
       "      <td>0</td>\n",
       "      <td>0</td>\n",
       "      <td>0</td>\n",
       "      <td>0</td>\n",
       "      <td>51186.391663</td>\n",
       "    </tr>\n",
       "    <tr>\n",
       "      <th>4</th>\n",
       "      <td>2012-11-02</td>\n",
       "      <td>44</td>\n",
       "      <td>11</td>\n",
       "      <td>2012</td>\n",
       "      <td>2</td>\n",
       "      <td>0</td>\n",
       "      <td>151315</td>\n",
       "      <td>55</td>\n",
       "      <td>3</td>\n",
       "      <td>6766</td>\n",
       "      <td>5147</td>\n",
       "      <td>50</td>\n",
       "      <td>3639</td>\n",
       "      <td>2737</td>\n",
       "      <td>223</td>\n",
       "      <td>6</td>\n",
       "      <td>0</td>\n",
       "      <td>0</td>\n",
       "      <td>0</td>\n",
       "      <td>0</td>\n",
       "      <td>0</td>\n",
       "      <td>0</td>\n",
       "      <td>0</td>\n",
       "      <td>0</td>\n",
       "      <td>0</td>\n",
       "      <td>0</td>\n",
       "      <td>0</td>\n",
       "      <td>0</td>\n",
       "      <td>0</td>\n",
       "      <td>0</td>\n",
       "      <td>0</td>\n",
       "      <td>0</td>\n",
       "      <td>0</td>\n",
       "      <td>0</td>\n",
       "      <td>0</td>\n",
       "      <td>0</td>\n",
       "      <td>0</td>\n",
       "      <td>0</td>\n",
       "      <td>0</td>\n",
       "      <td>0</td>\n",
       "      <td>...</td>\n",
       "      <td>0</td>\n",
       "      <td>0</td>\n",
       "      <td>0</td>\n",
       "      <td>0</td>\n",
       "      <td>0</td>\n",
       "      <td>0</td>\n",
       "      <td>0</td>\n",
       "      <td>0</td>\n",
       "      <td>0</td>\n",
       "      <td>0</td>\n",
       "      <td>0</td>\n",
       "      <td>0</td>\n",
       "      <td>0</td>\n",
       "      <td>0</td>\n",
       "      <td>0</td>\n",
       "      <td>0</td>\n",
       "      <td>0</td>\n",
       "      <td>0</td>\n",
       "      <td>0</td>\n",
       "      <td>0</td>\n",
       "      <td>0</td>\n",
       "      <td>0</td>\n",
       "      <td>0</td>\n",
       "      <td>0</td>\n",
       "      <td>0</td>\n",
       "      <td>0</td>\n",
       "      <td>0</td>\n",
       "      <td>0</td>\n",
       "      <td>0</td>\n",
       "      <td>0</td>\n",
       "      <td>0</td>\n",
       "      <td>0</td>\n",
       "      <td>0</td>\n",
       "      <td>0</td>\n",
       "      <td>0</td>\n",
       "      <td>0</td>\n",
       "      <td>0</td>\n",
       "      <td>0</td>\n",
       "      <td>0</td>\n",
       "      <td>24304.538773</td>\n",
       "    </tr>\n",
       "  </tbody>\n",
       "</table>\n",
       "<p>5 rows × 142 columns</p>\n",
       "</div>"
      ],
      "text/plain": [
       "        Date  Date_Week  Date_Month  ...  Dept_97  Dept_98  Weekly_sales\n",
       "0 2012-11-02         44          11  ...        0        0  34195.565312\n",
       "1 2012-11-02         44          11  ...        0        0  79468.902045\n",
       "2 2012-11-02         44          11  ...        0        0  14453.012732\n",
       "3 2012-11-02         44          11  ...        0        0  51186.391663\n",
       "4 2012-11-02         44          11  ...        0        0  24304.538773\n",
       "\n",
       "[5 rows x 142 columns]"
      ]
     },
     "execution_count": 142,
     "metadata": {
      "tags": []
     },
     "output_type": "execute_result"
    }
   ],
   "source": [
    "test_final.head()"
   ]
  },
  {
   "cell_type": "code",
   "execution_count": 0,
   "metadata": {
    "colab": {},
    "colab_type": "code",
    "id": "HX2oHcq8EDDc"
   },
   "outputs": [],
   "source": []
  },
  {
   "cell_type": "code",
   "execution_count": 0,
   "metadata": {
    "colab": {},
    "colab_type": "code",
    "id": "tPHhaSLqEDDj"
   },
   "outputs": [],
   "source": [
    "# Adding date column to the testing dataset\n",
    "\n",
    "test_final['Store'] = test_conti_vars['Store']\n",
    "test_final['Dept'] = train_conti_vars['Dept']"
   ]
  },
  {
   "cell_type": "code",
   "execution_count": 0,
   "metadata": {
    "colab": {},
    "colab_type": "code",
    "id": "rrQiyCUnEDDn"
   },
   "outputs": [],
   "source": [
    "submission = pd.concat([test_final.Store, test_final.Dept, test_date_vars.Date, test_final.Weekly_sales], axis = 1)"
   ]
  },
  {
   "cell_type": "code",
   "execution_count": 0,
   "metadata": {
    "colab": {},
    "colab_type": "code",
    "id": "g63mR0IuEDDu"
   },
   "outputs": [],
   "source": [
    "ID = submission.Store.astype(str) + '_' + submission.Dept.astype(str) + '_' + submission.Date.astype(str)"
   ]
  },
  {
   "cell_type": "code",
   "execution_count": 0,
   "metadata": {
    "colab": {},
    "colab_type": "code",
    "id": "xQJmdPCdEDDy"
   },
   "outputs": [],
   "source": [
    "submission = pd.concat([ID, submission.Weekly_sales], axis = 1)\n",
    "submission.columns = ['ID', 'Weekly_sales']"
   ]
  },
  {
   "cell_type": "code",
   "execution_count": 147,
   "metadata": {
    "colab": {
     "base_uri": "https://localhost:8080/",
     "height": 419
    },
    "colab_type": "code",
    "id": "WoQ0nvlGEDD2",
    "outputId": "44f9ad6e-2ba6-4b3a-b05c-cf4158cdd574"
   },
   "outputs": [
    {
     "data": {
      "text/html": [
       "<div>\n",
       "<style scoped>\n",
       "    .dataframe tbody tr th:only-of-type {\n",
       "        vertical-align: middle;\n",
       "    }\n",
       "\n",
       "    .dataframe tbody tr th {\n",
       "        vertical-align: top;\n",
       "    }\n",
       "\n",
       "    .dataframe thead th {\n",
       "        text-align: right;\n",
       "    }\n",
       "</style>\n",
       "<table border=\"1\" class=\"dataframe\">\n",
       "  <thead>\n",
       "    <tr style=\"text-align: right;\">\n",
       "      <th></th>\n",
       "      <th>ID</th>\n",
       "      <th>Weekly_sales</th>\n",
       "    </tr>\n",
       "  </thead>\n",
       "  <tbody>\n",
       "    <tr>\n",
       "      <th>0</th>\n",
       "      <td>1_1_2012-11-02</td>\n",
       "      <td>34195.565312</td>\n",
       "    </tr>\n",
       "    <tr>\n",
       "      <th>1</th>\n",
       "      <td>1_2_2012-11-02</td>\n",
       "      <td>79468.902045</td>\n",
       "    </tr>\n",
       "    <tr>\n",
       "      <th>2</th>\n",
       "      <td>1_3_2012-11-02</td>\n",
       "      <td>14453.012732</td>\n",
       "    </tr>\n",
       "    <tr>\n",
       "      <th>3</th>\n",
       "      <td>1_4_2012-11-02</td>\n",
       "      <td>51186.391663</td>\n",
       "    </tr>\n",
       "    <tr>\n",
       "      <th>4</th>\n",
       "      <td>1_5_2012-11-02</td>\n",
       "      <td>24304.538773</td>\n",
       "    </tr>\n",
       "    <tr>\n",
       "      <th>...</th>\n",
       "      <td>...</td>\n",
       "      <td>...</td>\n",
       "    </tr>\n",
       "    <tr>\n",
       "      <th>115059</th>\n",
       "      <td>45_71_2013-07-26</td>\n",
       "      <td>10357.863141</td>\n",
       "    </tr>\n",
       "    <tr>\n",
       "      <th>115060</th>\n",
       "      <td>45_72_2013-07-26</td>\n",
       "      <td>6869.840623</td>\n",
       "    </tr>\n",
       "    <tr>\n",
       "      <th>115061</th>\n",
       "      <td>45_74_2013-07-26</td>\n",
       "      <td>48418.699993</td>\n",
       "    </tr>\n",
       "    <tr>\n",
       "      <th>115062</th>\n",
       "      <td>45_77_2013-07-26</td>\n",
       "      <td>7473.983561</td>\n",
       "    </tr>\n",
       "    <tr>\n",
       "      <th>115063</th>\n",
       "      <td>45_79_2013-07-26</td>\n",
       "      <td>1026.267771</td>\n",
       "    </tr>\n",
       "  </tbody>\n",
       "</table>\n",
       "<p>115064 rows × 2 columns</p>\n",
       "</div>"
      ],
      "text/plain": [
       "                      ID  Weekly_sales\n",
       "0         1_1_2012-11-02  34195.565312\n",
       "1         1_2_2012-11-02  79468.902045\n",
       "2         1_3_2012-11-02  14453.012732\n",
       "3         1_4_2012-11-02  51186.391663\n",
       "4         1_5_2012-11-02  24304.538773\n",
       "...                  ...           ...\n",
       "115059  45_71_2013-07-26  10357.863141\n",
       "115060  45_72_2013-07-26   6869.840623\n",
       "115061  45_74_2013-07-26  48418.699993\n",
       "115062  45_77_2013-07-26   7473.983561\n",
       "115063  45_79_2013-07-26   1026.267771\n",
       "\n",
       "[115064 rows x 2 columns]"
      ]
     },
     "execution_count": 147,
     "metadata": {
      "tags": []
     },
     "output_type": "execute_result"
    }
   ],
   "source": [
    "# Predicted sales\n",
    "\n",
    "submission"
   ]
  },
  {
   "cell_type": "code",
   "execution_count": 0,
   "metadata": {
    "colab": {},
    "colab_type": "code",
    "id": "01xHt6VLEDD6"
   },
   "outputs": [],
   "source": [
    "# Expoting the submission file\n",
    "submission.to_csv('Submission_file.csv')"
   ]
  },
  {
   "cell_type": "code",
   "execution_count": 0,
   "metadata": {
    "colab": {},
    "colab_type": "code",
    "id": "c4fHbX9WEDEA"
   },
   "outputs": [],
   "source": []
  },
  {
   "cell_type": "code",
   "execution_count": 0,
   "metadata": {
    "colab": {},
    "colab_type": "code",
    "id": "7n7J0BKvEDEE"
   },
   "outputs": [],
   "source": []
  },
  {
   "cell_type": "code",
   "execution_count": 0,
   "metadata": {
    "colab": {},
    "colab_type": "code",
    "id": "6j3Twpk9EDEJ"
   },
   "outputs": [],
   "source": []
  },
  {
   "cell_type": "code",
   "execution_count": 0,
   "metadata": {
    "colab": {},
    "colab_type": "code",
    "id": "wUBWXMwVEDEN"
   },
   "outputs": [],
   "source": []
  },
  {
   "cell_type": "code",
   "execution_count": 0,
   "metadata": {
    "colab": {},
    "colab_type": "code",
    "id": "Sj8FVkQLEDES"
   },
   "outputs": [],
   "source": []
  },
  {
   "cell_type": "code",
   "execution_count": 0,
   "metadata": {
    "colab": {},
    "colab_type": "code",
    "id": "cd9xKKTOEDEW"
   },
   "outputs": [],
   "source": []
  },
  {
   "cell_type": "code",
   "execution_count": 0,
   "metadata": {
    "colab": {},
    "colab_type": "code",
    "id": "3hsGW5WeEDEb"
   },
   "outputs": [],
   "source": []
  },
  {
   "cell_type": "code",
   "execution_count": 0,
   "metadata": {
    "colab": {},
    "colab_type": "code",
    "id": "1dKn1u1KEDEg"
   },
   "outputs": [],
   "source": []
  },
  {
   "cell_type": "code",
   "execution_count": 0,
   "metadata": {
    "colab": {},
    "colab_type": "code",
    "id": "3QpEldWOEDEl"
   },
   "outputs": [],
   "source": []
  },
  {
   "cell_type": "code",
   "execution_count": 0,
   "metadata": {
    "colab": {},
    "colab_type": "code",
    "id": "lcVlza4lEDEv"
   },
   "outputs": [],
   "source": []
  },
  {
   "cell_type": "code",
   "execution_count": 0,
   "metadata": {
    "colab": {},
    "colab_type": "code",
    "id": "V61ajPXkEDE4"
   },
   "outputs": [],
   "source": []
  },
  {
   "cell_type": "code",
   "execution_count": 0,
   "metadata": {
    "colab": {},
    "colab_type": "code",
    "id": "MOOqeVJoEDE8"
   },
   "outputs": [],
   "source": []
  },
  {
   "cell_type": "code",
   "execution_count": 0,
   "metadata": {
    "colab": {},
    "colab_type": "code",
    "id": "VNkGyHmDEDFE"
   },
   "outputs": [],
   "source": []
  },
  {
   "cell_type": "code",
   "execution_count": 0,
   "metadata": {
    "colab": {},
    "colab_type": "code",
    "id": "IhiYTYe8EDFJ"
   },
   "outputs": [],
   "source": []
  },
  {
   "cell_type": "code",
   "execution_count": 0,
   "metadata": {
    "colab": {},
    "colab_type": "code",
    "id": "vozYcKoXEDFQ"
   },
   "outputs": [],
   "source": []
  },
  {
   "cell_type": "code",
   "execution_count": 0,
   "metadata": {
    "colab": {},
    "colab_type": "code",
    "id": "yF0EwxcUEDFW"
   },
   "outputs": [],
   "source": []
  },
  {
   "cell_type": "code",
   "execution_count": 0,
   "metadata": {
    "colab": {},
    "colab_type": "code",
    "id": "XaVNkPOyEDFc"
   },
   "outputs": [],
   "source": []
  },
  {
   "cell_type": "code",
   "execution_count": 0,
   "metadata": {
    "colab": {},
    "colab_type": "code",
    "id": "RKnXCrl1EDFh"
   },
   "outputs": [],
   "source": []
  },
  {
   "cell_type": "code",
   "execution_count": 0,
   "metadata": {
    "colab": {},
    "colab_type": "code",
    "id": "-MzGTlVZEDFl"
   },
   "outputs": [],
   "source": []
  },
  {
   "cell_type": "code",
   "execution_count": 0,
   "metadata": {
    "colab": {},
    "colab_type": "code",
    "id": "bEBQ9rWiEDFr"
   },
   "outputs": [],
   "source": []
  },
  {
   "cell_type": "code",
   "execution_count": 0,
   "metadata": {
    "colab": {},
    "colab_type": "code",
    "id": "GjkUrOdmEDFw"
   },
   "outputs": [],
   "source": []
  },
  {
   "cell_type": "code",
   "execution_count": 0,
   "metadata": {
    "colab": {},
    "colab_type": "code",
    "id": "_AIBIFiKEDF0"
   },
   "outputs": [],
   "source": []
  },
  {
   "cell_type": "code",
   "execution_count": 0,
   "metadata": {
    "colab": {},
    "colab_type": "code",
    "id": "1-MJKSSyEDF5"
   },
   "outputs": [],
   "source": []
  },
  {
   "cell_type": "code",
   "execution_count": 0,
   "metadata": {
    "colab": {},
    "colab_type": "code",
    "id": "tI0GJ01AEDGA"
   },
   "outputs": [],
   "source": []
  },
  {
   "cell_type": "code",
   "execution_count": 0,
   "metadata": {
    "colab": {},
    "colab_type": "code",
    "id": "ymcY3LtLEDGG"
   },
   "outputs": [],
   "source": []
  },
  {
   "cell_type": "code",
   "execution_count": 0,
   "metadata": {
    "colab": {},
    "colab_type": "code",
    "id": "unDYGz8bEDGK"
   },
   "outputs": [],
   "source": []
  },
  {
   "cell_type": "code",
   "execution_count": 0,
   "metadata": {
    "colab": {},
    "colab_type": "code",
    "id": "i9x1aPeoEDGQ"
   },
   "outputs": [],
   "source": []
  },
  {
   "cell_type": "code",
   "execution_count": 0,
   "metadata": {
    "colab": {},
    "colab_type": "code",
    "id": "9j5OO3GSEDGW"
   },
   "outputs": [],
   "source": []
  },
  {
   "cell_type": "code",
   "execution_count": 0,
   "metadata": {
    "colab": {},
    "colab_type": "code",
    "id": "74vbYUCaEDGa"
   },
   "outputs": [],
   "source": []
  },
  {
   "cell_type": "code",
   "execution_count": 0,
   "metadata": {
    "colab": {},
    "colab_type": "code",
    "id": "-zx3u43AEDGe"
   },
   "outputs": [],
   "source": []
  },
  {
   "cell_type": "code",
   "execution_count": 0,
   "metadata": {
    "colab": {},
    "colab_type": "code",
    "id": "_ltUdub4EDGi"
   },
   "outputs": [],
   "source": []
  },
  {
   "cell_type": "code",
   "execution_count": 0,
   "metadata": {
    "colab": {},
    "colab_type": "code",
    "id": "-UZT8OKHEDGu"
   },
   "outputs": [],
   "source": []
  },
  {
   "cell_type": "code",
   "execution_count": 0,
   "metadata": {
    "colab": {},
    "colab_type": "code",
    "id": "8nNPDmgZEDG6"
   },
   "outputs": [],
   "source": []
  },
  {
   "cell_type": "code",
   "execution_count": 0,
   "metadata": {
    "colab": {},
    "colab_type": "code",
    "id": "IC5Nk5-bEDG-"
   },
   "outputs": [],
   "source": []
  },
  {
   "cell_type": "code",
   "execution_count": 0,
   "metadata": {
    "colab": {},
    "colab_type": "code",
    "id": "91kh63jUEDHC"
   },
   "outputs": [],
   "source": []
  },
  {
   "cell_type": "code",
   "execution_count": 0,
   "metadata": {
    "colab": {},
    "colab_type": "code",
    "id": "awGIjlZUEDHK"
   },
   "outputs": [],
   "source": []
  },
  {
   "cell_type": "code",
   "execution_count": 0,
   "metadata": {
    "colab": {},
    "colab_type": "code",
    "id": "IEhUlwOMEDHO"
   },
   "outputs": [],
   "source": []
  },
  {
   "cell_type": "code",
   "execution_count": 0,
   "metadata": {
    "colab": {},
    "colab_type": "code",
    "id": "Unawsb_8EDHS"
   },
   "outputs": [],
   "source": []
  },
  {
   "cell_type": "code",
   "execution_count": 0,
   "metadata": {
    "colab": {},
    "colab_type": "code",
    "id": "fLYXBBoCEDHX"
   },
   "outputs": [],
   "source": []
  },
  {
   "cell_type": "code",
   "execution_count": 0,
   "metadata": {
    "colab": {},
    "colab_type": "code",
    "id": "v07CcgCJEDHi"
   },
   "outputs": [],
   "source": []
  },
  {
   "cell_type": "code",
   "execution_count": 0,
   "metadata": {
    "colab": {},
    "colab_type": "code",
    "id": "_gQ0CpKGEDHn"
   },
   "outputs": [],
   "source": []
  },
  {
   "cell_type": "code",
   "execution_count": 0,
   "metadata": {
    "colab": {},
    "colab_type": "code",
    "id": "j9ZjJOFcEDHs"
   },
   "outputs": [],
   "source": []
  },
  {
   "cell_type": "code",
   "execution_count": 0,
   "metadata": {
    "colab": {},
    "colab_type": "code",
    "id": "nC10UmSAEDHv"
   },
   "outputs": [],
   "source": []
  },
  {
   "cell_type": "code",
   "execution_count": 0,
   "metadata": {
    "colab": {},
    "colab_type": "code",
    "id": "onASAmykEDHy"
   },
   "outputs": [],
   "source": []
  },
  {
   "cell_type": "code",
   "execution_count": 0,
   "metadata": {
    "colab": {},
    "colab_type": "code",
    "id": "ZQychdzsEDH1"
   },
   "outputs": [],
   "source": []
  },
  {
   "cell_type": "code",
   "execution_count": 0,
   "metadata": {
    "colab": {},
    "colab_type": "code",
    "id": "JGDeCudXEDH6"
   },
   "outputs": [],
   "source": []
  },
  {
   "cell_type": "code",
   "execution_count": 0,
   "metadata": {
    "colab": {},
    "colab_type": "code",
    "id": "faPjuVKXEDII"
   },
   "outputs": [],
   "source": []
  },
  {
   "cell_type": "code",
   "execution_count": 0,
   "metadata": {
    "colab": {},
    "colab_type": "code",
    "id": "IJxOuH26EDIb"
   },
   "outputs": [],
   "source": []
  },
  {
   "cell_type": "code",
   "execution_count": 0,
   "metadata": {
    "colab": {},
    "colab_type": "code",
    "id": "sJtW90cNEDIf"
   },
   "outputs": [],
   "source": []
  },
  {
   "cell_type": "code",
   "execution_count": 0,
   "metadata": {
    "colab": {},
    "colab_type": "code",
    "id": "uYonZfQoEDIj"
   },
   "outputs": [],
   "source": []
  },
  {
   "cell_type": "code",
   "execution_count": 0,
   "metadata": {
    "colab": {},
    "colab_type": "code",
    "id": "PN0PiynAEDIr"
   },
   "outputs": [],
   "source": []
  },
  {
   "cell_type": "code",
   "execution_count": 0,
   "metadata": {
    "colab": {},
    "colab_type": "code",
    "id": "wHaBKNNcEDI2"
   },
   "outputs": [],
   "source": []
  },
  {
   "cell_type": "code",
   "execution_count": 0,
   "metadata": {
    "colab": {},
    "colab_type": "code",
    "id": "MAAHIJDBEDI9"
   },
   "outputs": [],
   "source": []
  },
  {
   "cell_type": "code",
   "execution_count": 0,
   "metadata": {
    "colab": {},
    "colab_type": "code",
    "id": "P2e53eQoEDJB"
   },
   "outputs": [],
   "source": []
  },
  {
   "cell_type": "code",
   "execution_count": 0,
   "metadata": {
    "colab": {},
    "colab_type": "code",
    "id": "TXLd1ZGQEDJI"
   },
   "outputs": [],
   "source": []
  },
  {
   "cell_type": "code",
   "execution_count": 0,
   "metadata": {
    "colab": {},
    "colab_type": "code",
    "id": "UuATZGWlEDJN"
   },
   "outputs": [],
   "source": []
  },
  {
   "cell_type": "code",
   "execution_count": 0,
   "metadata": {
    "colab": {},
    "colab_type": "code",
    "id": "2xbQZvquEDJU"
   },
   "outputs": [],
   "source": []
  },
  {
   "cell_type": "code",
   "execution_count": 0,
   "metadata": {
    "colab": {},
    "colab_type": "code",
    "id": "JoJz5ykhEDJa"
   },
   "outputs": [],
   "source": []
  },
  {
   "cell_type": "code",
   "execution_count": 0,
   "metadata": {
    "colab": {},
    "colab_type": "code",
    "id": "MImTdQ4GEDJj"
   },
   "outputs": [],
   "source": []
  },
  {
   "cell_type": "code",
   "execution_count": 0,
   "metadata": {
    "colab": {},
    "colab_type": "code",
    "id": "cTfCTAgnEDJm"
   },
   "outputs": [],
   "source": []
  },
  {
   "cell_type": "code",
   "execution_count": 0,
   "metadata": {
    "colab": {},
    "colab_type": "code",
    "id": "uOzLkHj_EDJp"
   },
   "outputs": [],
   "source": []
  },
  {
   "cell_type": "code",
   "execution_count": 0,
   "metadata": {
    "colab": {},
    "colab_type": "code",
    "id": "TNy-ZSFkEDJu"
   },
   "outputs": [],
   "source": []
  },
  {
   "cell_type": "code",
   "execution_count": 0,
   "metadata": {
    "colab": {},
    "colab_type": "code",
    "id": "zNvRADJPEDJy"
   },
   "outputs": [],
   "source": []
  },
  {
   "cell_type": "code",
   "execution_count": 0,
   "metadata": {
    "colab": {},
    "colab_type": "code",
    "id": "X2NOdz2mEDJ1"
   },
   "outputs": [],
   "source": []
  },
  {
   "cell_type": "code",
   "execution_count": 0,
   "metadata": {
    "colab": {},
    "colab_type": "code",
    "id": "sk-aJAolEDJ9"
   },
   "outputs": [],
   "source": []
  },
  {
   "cell_type": "code",
   "execution_count": 0,
   "metadata": {
    "colab": {},
    "colab_type": "code",
    "id": "obv7q8RNEDJ_"
   },
   "outputs": [],
   "source": []
  },
  {
   "cell_type": "code",
   "execution_count": 0,
   "metadata": {
    "colab": {},
    "colab_type": "code",
    "id": "iS3o47DkEDKI"
   },
   "outputs": [],
   "source": []
  },
  {
   "cell_type": "code",
   "execution_count": 0,
   "metadata": {
    "colab": {},
    "colab_type": "code",
    "id": "bl5eteWnEDKL"
   },
   "outputs": [],
   "source": []
  },
  {
   "cell_type": "code",
   "execution_count": 0,
   "metadata": {
    "colab": {},
    "colab_type": "code",
    "id": "6AHnR8UUEDKP"
   },
   "outputs": [],
   "source": []
  },
  {
   "cell_type": "code",
   "execution_count": 0,
   "metadata": {
    "colab": {},
    "colab_type": "code",
    "id": "l1rb0v6iEDKS"
   },
   "outputs": [],
   "source": []
  },
  {
   "cell_type": "code",
   "execution_count": 0,
   "metadata": {
    "colab": {},
    "colab_type": "code",
    "id": "eoHQIt2rEDKU"
   },
   "outputs": [],
   "source": []
  },
  {
   "cell_type": "code",
   "execution_count": 0,
   "metadata": {
    "colab": {},
    "colab_type": "code",
    "id": "5lMnQnSnEDKX"
   },
   "outputs": [],
   "source": []
  },
  {
   "cell_type": "code",
   "execution_count": 0,
   "metadata": {
    "colab": {},
    "colab_type": "code",
    "id": "3-2AWKg4EDKb"
   },
   "outputs": [],
   "source": []
  },
  {
   "cell_type": "code",
   "execution_count": 0,
   "metadata": {
    "colab": {},
    "colab_type": "code",
    "id": "gXJZy3WXEDKi"
   },
   "outputs": [],
   "source": []
  },
  {
   "cell_type": "code",
   "execution_count": 0,
   "metadata": {
    "colab": {},
    "colab_type": "code",
    "id": "VfIoxirMEDKn"
   },
   "outputs": [],
   "source": []
  },
  {
   "cell_type": "code",
   "execution_count": 0,
   "metadata": {
    "colab": {},
    "colab_type": "code",
    "id": "Mn_jbB5pEDKr"
   },
   "outputs": [],
   "source": []
  },
  {
   "cell_type": "code",
   "execution_count": 0,
   "metadata": {
    "colab": {},
    "colab_type": "code",
    "id": "pavHM3FuEDKu"
   },
   "outputs": [],
   "source": []
  },
  {
   "cell_type": "code",
   "execution_count": 0,
   "metadata": {
    "colab": {},
    "colab_type": "code",
    "id": "7OmxzB8KEDKx"
   },
   "outputs": [],
   "source": []
  },
  {
   "cell_type": "code",
   "execution_count": 0,
   "metadata": {
    "colab": {},
    "colab_type": "code",
    "id": "DshYkgPkEDK2"
   },
   "outputs": [],
   "source": []
  },
  {
   "cell_type": "code",
   "execution_count": 0,
   "metadata": {
    "colab": {},
    "colab_type": "code",
    "id": "b1912Wy7EDK5"
   },
   "outputs": [],
   "source": []
  },
  {
   "cell_type": "code",
   "execution_count": 0,
   "metadata": {
    "colab": {},
    "colab_type": "code",
    "id": "Fu_cprPeEDK8"
   },
   "outputs": [],
   "source": []
  },
  {
   "cell_type": "code",
   "execution_count": 0,
   "metadata": {
    "colab": {},
    "colab_type": "code",
    "id": "WvxzgIjnEDK_"
   },
   "outputs": [],
   "source": []
  },
  {
   "cell_type": "code",
   "execution_count": 0,
   "metadata": {
    "colab": {},
    "colab_type": "code",
    "id": "3O1GpJT5EDLD"
   },
   "outputs": [],
   "source": []
  },
  {
   "cell_type": "code",
   "execution_count": 0,
   "metadata": {
    "colab": {},
    "colab_type": "code",
    "id": "lbVCWd7oEDLF"
   },
   "outputs": [],
   "source": []
  },
  {
   "cell_type": "code",
   "execution_count": 0,
   "metadata": {
    "colab": {},
    "colab_type": "code",
    "id": "ZfUF4iptEDLT"
   },
   "outputs": [],
   "source": []
  },
  {
   "cell_type": "code",
   "execution_count": 0,
   "metadata": {
    "colab": {},
    "colab_type": "code",
    "id": "Z9CKubfAEDLb"
   },
   "outputs": [],
   "source": []
  },
  {
   "cell_type": "code",
   "execution_count": 0,
   "metadata": {
    "colab": {},
    "colab_type": "code",
    "id": "PcnsljqPEDLg"
   },
   "outputs": [],
   "source": []
  },
  {
   "cell_type": "code",
   "execution_count": 0,
   "metadata": {
    "colab": {},
    "colab_type": "code",
    "id": "vVcLax7GEDLk"
   },
   "outputs": [],
   "source": []
  },
  {
   "cell_type": "code",
   "execution_count": 0,
   "metadata": {
    "colab": {},
    "colab_type": "code",
    "id": "hMHw62AQEDLn"
   },
   "outputs": [],
   "source": []
  },
  {
   "cell_type": "code",
   "execution_count": 0,
   "metadata": {
    "colab": {},
    "colab_type": "code",
    "id": "cAI5kXtyEDLp"
   },
   "outputs": [],
   "source": []
  },
  {
   "cell_type": "code",
   "execution_count": 0,
   "metadata": {
    "colab": {},
    "colab_type": "code",
    "id": "EUTW8yOpEDLs"
   },
   "outputs": [],
   "source": []
  },
  {
   "cell_type": "code",
   "execution_count": 0,
   "metadata": {
    "colab": {},
    "colab_type": "code",
    "id": "_UyAxGTVEDLv"
   },
   "outputs": [],
   "source": []
  },
  {
   "cell_type": "code",
   "execution_count": 0,
   "metadata": {
    "colab": {},
    "colab_type": "code",
    "id": "td_CzcHBEDLx"
   },
   "outputs": [],
   "source": []
  },
  {
   "cell_type": "code",
   "execution_count": 0,
   "metadata": {
    "colab": {},
    "colab_type": "code",
    "id": "JzF94_ZTEDL1"
   },
   "outputs": [],
   "source": []
  },
  {
   "cell_type": "code",
   "execution_count": 0,
   "metadata": {
    "colab": {},
    "colab_type": "code",
    "id": "cVUA3bI8EDL7"
   },
   "outputs": [],
   "source": []
  },
  {
   "cell_type": "code",
   "execution_count": 0,
   "metadata": {
    "colab": {},
    "colab_type": "code",
    "id": "QnbnRM99EDL-"
   },
   "outputs": [],
   "source": []
  },
  {
   "cell_type": "code",
   "execution_count": 0,
   "metadata": {
    "colab": {},
    "colab_type": "code",
    "id": "G_EwNcdJEDMA"
   },
   "outputs": [],
   "source": []
  },
  {
   "cell_type": "code",
   "execution_count": 0,
   "metadata": {
    "colab": {},
    "colab_type": "code",
    "id": "70TOM8rJEDMD"
   },
   "outputs": [],
   "source": []
  },
  {
   "cell_type": "code",
   "execution_count": 0,
   "metadata": {
    "colab": {},
    "colab_type": "code",
    "id": "wcE6lHjKEDMF"
   },
   "outputs": [],
   "source": []
  },
  {
   "cell_type": "code",
   "execution_count": 0,
   "metadata": {
    "colab": {},
    "colab_type": "code",
    "id": "042sAlpFEDMI"
   },
   "outputs": [],
   "source": []
  },
  {
   "cell_type": "code",
   "execution_count": 0,
   "metadata": {
    "colab": {},
    "colab_type": "code",
    "id": "0ZPp66YGEDMM"
   },
   "outputs": [],
   "source": []
  },
  {
   "cell_type": "code",
   "execution_count": 0,
   "metadata": {
    "colab": {},
    "colab_type": "code",
    "id": "l84KDFQmEDMO"
   },
   "outputs": [],
   "source": []
  },
  {
   "cell_type": "code",
   "execution_count": 0,
   "metadata": {
    "colab": {},
    "colab_type": "code",
    "id": "TZ4iYaWuEDMS"
   },
   "outputs": [],
   "source": []
  },
  {
   "cell_type": "code",
   "execution_count": 0,
   "metadata": {
    "colab": {},
    "colab_type": "code",
    "id": "hrHLTZ42EDMU"
   },
   "outputs": [],
   "source": []
  },
  {
   "cell_type": "code",
   "execution_count": 0,
   "metadata": {
    "colab": {},
    "colab_type": "code",
    "id": "PYeVXub3EDMX"
   },
   "outputs": [],
   "source": []
  },
  {
   "cell_type": "code",
   "execution_count": 0,
   "metadata": {
    "colab": {},
    "colab_type": "code",
    "id": "ZawkqanxEDMd"
   },
   "outputs": [],
   "source": []
  },
  {
   "cell_type": "code",
   "execution_count": 0,
   "metadata": {
    "colab": {},
    "colab_type": "code",
    "id": "73C433A8EDMg"
   },
   "outputs": [],
   "source": []
  },
  {
   "cell_type": "code",
   "execution_count": 0,
   "metadata": {
    "colab": {},
    "colab_type": "code",
    "id": "xbCRoBKbEDMi"
   },
   "outputs": [],
   "source": []
  },
  {
   "cell_type": "code",
   "execution_count": 0,
   "metadata": {
    "colab": {},
    "colab_type": "code",
    "id": "ZimGfNy7EDMl"
   },
   "outputs": [],
   "source": []
  },
  {
   "cell_type": "code",
   "execution_count": 0,
   "metadata": {
    "colab": {},
    "colab_type": "code",
    "id": "UWQLIS6oEDMn"
   },
   "outputs": [],
   "source": []
  },
  {
   "cell_type": "code",
   "execution_count": 0,
   "metadata": {
    "colab": {},
    "colab_type": "code",
    "id": "wddUwBQBEDMq"
   },
   "outputs": [],
   "source": []
  },
  {
   "cell_type": "code",
   "execution_count": 0,
   "metadata": {
    "colab": {},
    "colab_type": "code",
    "id": "_1dfyqHUEDMs"
   },
   "outputs": [],
   "source": []
  },
  {
   "cell_type": "code",
   "execution_count": 0,
   "metadata": {
    "colab": {},
    "colab_type": "code",
    "id": "T31RdXdaEDMv"
   },
   "outputs": [],
   "source": []
  },
  {
   "cell_type": "code",
   "execution_count": 0,
   "metadata": {
    "colab": {},
    "colab_type": "code",
    "id": "SSqHidmjEDMx"
   },
   "outputs": [],
   "source": []
  },
  {
   "cell_type": "code",
   "execution_count": 0,
   "metadata": {
    "colab": {},
    "colab_type": "code",
    "id": "v8GWhFBtEDM0"
   },
   "outputs": [],
   "source": []
  },
  {
   "cell_type": "code",
   "execution_count": 0,
   "metadata": {
    "colab": {},
    "colab_type": "code",
    "id": "59uPcHpbEDM2"
   },
   "outputs": [],
   "source": []
  },
  {
   "cell_type": "code",
   "execution_count": 0,
   "metadata": {
    "colab": {},
    "colab_type": "code",
    "id": "WQNG6zmUEDM5"
   },
   "outputs": [],
   "source": []
  },
  {
   "cell_type": "code",
   "execution_count": 0,
   "metadata": {
    "colab": {},
    "colab_type": "code",
    "id": "hOJuyLNzEDM7"
   },
   "outputs": [],
   "source": []
  },
  {
   "cell_type": "code",
   "execution_count": 0,
   "metadata": {
    "colab": {},
    "colab_type": "code",
    "id": "vrsVHhafEDM-"
   },
   "outputs": [],
   "source": []
  },
  {
   "cell_type": "code",
   "execution_count": 0,
   "metadata": {
    "colab": {},
    "colab_type": "code",
    "id": "-cMaeIpbEDNB"
   },
   "outputs": [],
   "source": []
  },
  {
   "cell_type": "code",
   "execution_count": 0,
   "metadata": {
    "colab": {},
    "colab_type": "code",
    "id": "Kp8Wi1YzEDND"
   },
   "outputs": [],
   "source": []
  },
  {
   "cell_type": "code",
   "execution_count": 0,
   "metadata": {
    "colab": {},
    "colab_type": "code",
    "id": "DW_MnxVtEDNG"
   },
   "outputs": [],
   "source": []
  },
  {
   "cell_type": "code",
   "execution_count": 0,
   "metadata": {
    "colab": {},
    "colab_type": "code",
    "id": "S-3fe-HAEDNI"
   },
   "outputs": [],
   "source": []
  },
  {
   "cell_type": "code",
   "execution_count": 0,
   "metadata": {
    "colab": {},
    "colab_type": "code",
    "id": "A40AlEIREDNL"
   },
   "outputs": [],
   "source": []
  },
  {
   "cell_type": "code",
   "execution_count": 0,
   "metadata": {
    "colab": {},
    "colab_type": "code",
    "id": "P-N21vXQEDNP"
   },
   "outputs": [],
   "source": []
  },
  {
   "cell_type": "code",
   "execution_count": 0,
   "metadata": {
    "colab": {},
    "colab_type": "code",
    "id": "0DpvG-e1EDNR"
   },
   "outputs": [],
   "source": []
  },
  {
   "cell_type": "code",
   "execution_count": 0,
   "metadata": {
    "colab": {},
    "colab_type": "code",
    "id": "SanOH2BsEDNU"
   },
   "outputs": [],
   "source": []
  },
  {
   "cell_type": "code",
   "execution_count": 0,
   "metadata": {
    "colab": {},
    "colab_type": "code",
    "id": "ZUrbuik-EDNW"
   },
   "outputs": [],
   "source": []
  },
  {
   "cell_type": "code",
   "execution_count": 0,
   "metadata": {
    "colab": {},
    "colab_type": "code",
    "id": "O32Xn-AREDNe"
   },
   "outputs": [],
   "source": []
  },
  {
   "cell_type": "code",
   "execution_count": 0,
   "metadata": {
    "colab": {},
    "colab_type": "code",
    "id": "laPAwzNTEDNg"
   },
   "outputs": [],
   "source": []
  },
  {
   "cell_type": "code",
   "execution_count": 0,
   "metadata": {
    "colab": {},
    "colab_type": "code",
    "id": "SlB62KdqEDNj"
   },
   "outputs": [],
   "source": []
  },
  {
   "cell_type": "code",
   "execution_count": 0,
   "metadata": {
    "colab": {},
    "colab_type": "code",
    "id": "j3TN0qdgEDNm"
   },
   "outputs": [],
   "source": []
  },
  {
   "cell_type": "code",
   "execution_count": 0,
   "metadata": {
    "colab": {},
    "colab_type": "code",
    "id": "YWXZjh6gEDNp"
   },
   "outputs": [],
   "source": []
  },
  {
   "cell_type": "code",
   "execution_count": 0,
   "metadata": {
    "colab": {},
    "colab_type": "code",
    "id": "3xULJ6zQEDNr"
   },
   "outputs": [],
   "source": []
  },
  {
   "cell_type": "code",
   "execution_count": 0,
   "metadata": {
    "colab": {},
    "colab_type": "code",
    "id": "-OcwASrVEDNu"
   },
   "outputs": [],
   "source": []
  },
  {
   "cell_type": "code",
   "execution_count": 0,
   "metadata": {
    "colab": {},
    "colab_type": "code",
    "id": "55q8X5WlEDNw"
   },
   "outputs": [],
   "source": []
  },
  {
   "cell_type": "code",
   "execution_count": 0,
   "metadata": {
    "colab": {},
    "colab_type": "code",
    "id": "GVcSybY6EDNy"
   },
   "outputs": [],
   "source": []
  },
  {
   "cell_type": "code",
   "execution_count": 0,
   "metadata": {
    "colab": {},
    "colab_type": "code",
    "id": "SYCGOAWXEDN9"
   },
   "outputs": [],
   "source": []
  },
  {
   "cell_type": "code",
   "execution_count": 0,
   "metadata": {
    "colab": {},
    "colab_type": "code",
    "id": "tI4f_0asEDOA"
   },
   "outputs": [],
   "source": []
  },
  {
   "cell_type": "code",
   "execution_count": 0,
   "metadata": {
    "colab": {},
    "colab_type": "code",
    "id": "2ZJEOJsgEDOG"
   },
   "outputs": [],
   "source": []
  },
  {
   "cell_type": "code",
   "execution_count": 0,
   "metadata": {
    "colab": {},
    "colab_type": "code",
    "id": "2SSZ3vD9EDOK"
   },
   "outputs": [],
   "source": []
  },
  {
   "cell_type": "code",
   "execution_count": 0,
   "metadata": {
    "colab": {},
    "colab_type": "code",
    "id": "zHfytfQWEDON"
   },
   "outputs": [],
   "source": []
  },
  {
   "cell_type": "code",
   "execution_count": 0,
   "metadata": {
    "colab": {},
    "colab_type": "code",
    "id": "5EP-PLvZEDOP"
   },
   "outputs": [],
   "source": []
  },
  {
   "cell_type": "code",
   "execution_count": 0,
   "metadata": {
    "colab": {},
    "colab_type": "code",
    "id": "4jElMc2QEDOV"
   },
   "outputs": [],
   "source": []
  },
  {
   "cell_type": "code",
   "execution_count": 0,
   "metadata": {
    "colab": {},
    "colab_type": "code",
    "id": "fIM8gsYwEDOY"
   },
   "outputs": [],
   "source": []
  },
  {
   "cell_type": "code",
   "execution_count": 0,
   "metadata": {
    "colab": {},
    "colab_type": "code",
    "id": "vPdHGE_SEDOb"
   },
   "outputs": [],
   "source": []
  },
  {
   "cell_type": "code",
   "execution_count": 0,
   "metadata": {
    "colab": {},
    "colab_type": "code",
    "id": "iP_MmvNLEDOd"
   },
   "outputs": [],
   "source": []
  },
  {
   "cell_type": "code",
   "execution_count": 0,
   "metadata": {
    "colab": {},
    "colab_type": "code",
    "id": "7IDJ1xPYEDOg"
   },
   "outputs": [],
   "source": []
  },
  {
   "cell_type": "code",
   "execution_count": 0,
   "metadata": {
    "colab": {},
    "colab_type": "code",
    "id": "xISXQl7_EDOi"
   },
   "outputs": [],
   "source": []
  },
  {
   "cell_type": "code",
   "execution_count": 0,
   "metadata": {
    "colab": {},
    "colab_type": "code",
    "id": "h4MAneW8EDOl"
   },
   "outputs": [],
   "source": []
  },
  {
   "cell_type": "code",
   "execution_count": 0,
   "metadata": {
    "colab": {},
    "colab_type": "code",
    "id": "aeUJDQl8EDOn"
   },
   "outputs": [],
   "source": []
  },
  {
   "cell_type": "code",
   "execution_count": 0,
   "metadata": {
    "colab": {},
    "colab_type": "code",
    "id": "IGeqjBe7EDOp"
   },
   "outputs": [],
   "source": []
  },
  {
   "cell_type": "code",
   "execution_count": 0,
   "metadata": {
    "colab": {},
    "colab_type": "code",
    "id": "UtFhPqv1EDOs"
   },
   "outputs": [],
   "source": []
  },
  {
   "cell_type": "code",
   "execution_count": 0,
   "metadata": {
    "colab": {},
    "colab_type": "code",
    "id": "TtHmim2TEDOu"
   },
   "outputs": [],
   "source": []
  },
  {
   "cell_type": "code",
   "execution_count": 0,
   "metadata": {
    "colab": {},
    "colab_type": "code",
    "id": "RbWWzeI5EDOz"
   },
   "outputs": [],
   "source": []
  },
  {
   "cell_type": "code",
   "execution_count": 0,
   "metadata": {
    "colab": {},
    "colab_type": "code",
    "id": "4JWf9alTEDO1"
   },
   "outputs": [],
   "source": []
  },
  {
   "cell_type": "code",
   "execution_count": 0,
   "metadata": {
    "colab": {},
    "colab_type": "code",
    "id": "9CkEdHJnEDO4"
   },
   "outputs": [],
   "source": []
  },
  {
   "cell_type": "code",
   "execution_count": 0,
   "metadata": {
    "colab": {},
    "colab_type": "code",
    "id": "c2ClxwcZEDO8"
   },
   "outputs": [],
   "source": []
  },
  {
   "cell_type": "code",
   "execution_count": 0,
   "metadata": {
    "colab": {},
    "colab_type": "code",
    "id": "U8YOaKxoEDO_"
   },
   "outputs": [],
   "source": []
  },
  {
   "cell_type": "code",
   "execution_count": 0,
   "metadata": {
    "colab": {},
    "colab_type": "code",
    "id": "RhgPkSugEDPB"
   },
   "outputs": [],
   "source": []
  },
  {
   "cell_type": "code",
   "execution_count": 0,
   "metadata": {
    "colab": {},
    "colab_type": "code",
    "id": "s86XVdqhEDPD"
   },
   "outputs": [],
   "source": []
  },
  {
   "cell_type": "code",
   "execution_count": 0,
   "metadata": {
    "colab": {},
    "colab_type": "code",
    "id": "kUg_jESKEDPG"
   },
   "outputs": [],
   "source": []
  },
  {
   "cell_type": "code",
   "execution_count": 0,
   "metadata": {
    "colab": {},
    "colab_type": "code",
    "id": "j7qnsceIEDPI"
   },
   "outputs": [],
   "source": []
  },
  {
   "cell_type": "code",
   "execution_count": 0,
   "metadata": {
    "colab": {},
    "colab_type": "code",
    "id": "5MrfDuhzEDPL"
   },
   "outputs": [],
   "source": []
  },
  {
   "cell_type": "code",
   "execution_count": 0,
   "metadata": {
    "colab": {},
    "colab_type": "code",
    "id": "2j_LO0_4EDPO"
   },
   "outputs": [],
   "source": []
  },
  {
   "cell_type": "code",
   "execution_count": 0,
   "metadata": {
    "colab": {},
    "colab_type": "code",
    "id": "JEc2HxYtEDPQ"
   },
   "outputs": [],
   "source": []
  },
  {
   "cell_type": "code",
   "execution_count": 0,
   "metadata": {
    "colab": {},
    "colab_type": "code",
    "id": "ViGFIPNfEDPS"
   },
   "outputs": [],
   "source": []
  },
  {
   "cell_type": "code",
   "execution_count": 0,
   "metadata": {
    "colab": {},
    "colab_type": "code",
    "id": "x2u2hyd3EDPV"
   },
   "outputs": [],
   "source": []
  },
  {
   "cell_type": "code",
   "execution_count": 0,
   "metadata": {
    "colab": {},
    "colab_type": "code",
    "id": "9mJXfGBaEDPX"
   },
   "outputs": [],
   "source": []
  },
  {
   "cell_type": "code",
   "execution_count": 0,
   "metadata": {
    "colab": {},
    "colab_type": "code",
    "id": "4hrNmygREDPZ"
   },
   "outputs": [],
   "source": []
  },
  {
   "cell_type": "code",
   "execution_count": 0,
   "metadata": {
    "colab": {},
    "colab_type": "code",
    "id": "T0o6xUIVEDPh"
   },
   "outputs": [],
   "source": []
  },
  {
   "cell_type": "code",
   "execution_count": 0,
   "metadata": {
    "colab": {},
    "colab_type": "code",
    "id": "JElEH6spEDPj"
   },
   "outputs": [],
   "source": []
  },
  {
   "cell_type": "code",
   "execution_count": 0,
   "metadata": {
    "colab": {},
    "colab_type": "code",
    "id": "J5qzJlfrEDPl"
   },
   "outputs": [],
   "source": []
  },
  {
   "cell_type": "code",
   "execution_count": 0,
   "metadata": {
    "colab": {},
    "colab_type": "code",
    "id": "jisMWIZgEDPo"
   },
   "outputs": [],
   "source": []
  },
  {
   "cell_type": "code",
   "execution_count": 0,
   "metadata": {
    "colab": {},
    "colab_type": "code",
    "id": "LfjUcumAEDPq"
   },
   "outputs": [],
   "source": []
  },
  {
   "cell_type": "code",
   "execution_count": 0,
   "metadata": {
    "colab": {},
    "colab_type": "code",
    "id": "k6qf63lrEDPt"
   },
   "outputs": [],
   "source": []
  },
  {
   "cell_type": "code",
   "execution_count": 0,
   "metadata": {
    "colab": {},
    "colab_type": "code",
    "id": "H14PRgU1EDPv"
   },
   "outputs": [],
   "source": []
  },
  {
   "cell_type": "code",
   "execution_count": 0,
   "metadata": {
    "colab": {},
    "colab_type": "code",
    "id": "wtnt6pp_EDPx"
   },
   "outputs": [],
   "source": []
  },
  {
   "cell_type": "code",
   "execution_count": 0,
   "metadata": {
    "colab": {},
    "colab_type": "code",
    "id": "Gr4WbjmQEDPz"
   },
   "outputs": [],
   "source": []
  },
  {
   "cell_type": "code",
   "execution_count": 0,
   "metadata": {
    "colab": {},
    "colab_type": "code",
    "id": "Fv7AHY6JEDP2"
   },
   "outputs": [],
   "source": []
  },
  {
   "cell_type": "code",
   "execution_count": 0,
   "metadata": {
    "colab": {},
    "colab_type": "code",
    "id": "D1XOTQSMEDP4"
   },
   "outputs": [],
   "source": []
  },
  {
   "cell_type": "code",
   "execution_count": 0,
   "metadata": {
    "colab": {},
    "colab_type": "code",
    "id": "R9q_cnGbEDP6"
   },
   "outputs": [],
   "source": []
  },
  {
   "cell_type": "code",
   "execution_count": 0,
   "metadata": {
    "colab": {},
    "colab_type": "code",
    "id": "2QpfqtXSEDP_"
   },
   "outputs": [],
   "source": []
  },
  {
   "cell_type": "code",
   "execution_count": 0,
   "metadata": {
    "colab": {},
    "colab_type": "code",
    "id": "E7ouZzUvEDQB"
   },
   "outputs": [],
   "source": []
  },
  {
   "cell_type": "code",
   "execution_count": 0,
   "metadata": {
    "colab": {},
    "colab_type": "code",
    "id": "pCJBLp7VEDQE"
   },
   "outputs": [],
   "source": []
  },
  {
   "cell_type": "code",
   "execution_count": 0,
   "metadata": {
    "colab": {},
    "colab_type": "code",
    "id": "teBPc0w2EDQG"
   },
   "outputs": [],
   "source": []
  },
  {
   "cell_type": "code",
   "execution_count": 0,
   "metadata": {
    "colab": {},
    "colab_type": "code",
    "id": "BNInSKOREDQI"
   },
   "outputs": [],
   "source": []
  },
  {
   "cell_type": "code",
   "execution_count": 0,
   "metadata": {
    "colab": {},
    "colab_type": "code",
    "id": "ne6dn06cEDQK"
   },
   "outputs": [],
   "source": []
  },
  {
   "cell_type": "code",
   "execution_count": 0,
   "metadata": {
    "colab": {},
    "colab_type": "code",
    "id": "fhQZOc_qEDQN"
   },
   "outputs": [],
   "source": []
  },
  {
   "cell_type": "code",
   "execution_count": 0,
   "metadata": {
    "colab": {},
    "colab_type": "code",
    "id": "gX6hft-hEDQP"
   },
   "outputs": [],
   "source": []
  },
  {
   "cell_type": "code",
   "execution_count": 0,
   "metadata": {
    "colab": {},
    "colab_type": "code",
    "id": "pwF12mPAEDQR"
   },
   "outputs": [],
   "source": []
  },
  {
   "cell_type": "code",
   "execution_count": 0,
   "metadata": {
    "colab": {},
    "colab_type": "code",
    "id": "XZBtNi_sEDQc"
   },
   "outputs": [],
   "source": []
  },
  {
   "cell_type": "code",
   "execution_count": 0,
   "metadata": {
    "colab": {},
    "colab_type": "code",
    "id": "sYpdwYSvEDQg"
   },
   "outputs": [],
   "source": []
  }
 ],
 "metadata": {
  "colab": {
   "collapsed_sections": [
    "q-XsBEN6EC2g",
    "s3DzR5rBEC3Q"
   ],
   "name": "2.Walmart-SalesForecasting.ipynb",
   "provenance": []
  },
  "kernelspec": {
   "display_name": "Python 3",
   "language": "python",
   "name": "python3"
  },
  "language_info": {
   "codemirror_mode": {
    "name": "ipython",
    "version": 3
   },
   "file_extension": ".py",
   "mimetype": "text/x-python",
   "name": "python",
   "nbconvert_exporter": "python",
   "pygments_lexer": "ipython3",
   "version": "3.7.5"
  }
 },
 "nbformat": 4,
 "nbformat_minor": 1
}
